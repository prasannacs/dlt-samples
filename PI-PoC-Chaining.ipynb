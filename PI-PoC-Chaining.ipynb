{
 "cells": [
  {
   "cell_type": "code",
   "execution_count": 0,
   "metadata": {
    "application/vnd.databricks.v1+cell": {
     "cellMetadata": {
      "byteLimit": 2048000,
      "rowLimit": 10000
     },
     "inputWidgets": {},
     "nuid": "a1e2aa6f-61ea-415d-85ef-7403158e9f2e",
     "showTitle": false,
     "title": ""
    }
   },
   "outputs": [
    {
     "output_type": "stream",
     "name": "stdout",
     "output_type": "stream",
     "text": [
      "\u001B[43mNote: you may need to restart the kernel using dbutils.library.restartPython() to use updated packages.\u001B[0m\nCollecting mlflow==2.10.1\n  Using cached mlflow-2.10.1-py3-none-any.whl (19.5 MB)\nCollecting lxml==4.9.3\n  Downloading lxml-4.9.3-cp310-cp310-manylinux_2_28_x86_64.whl (7.9 MB)\n     ━━━━━━━━━━━━━━━━━━━━━━━━━━━━━━━━━━━━━━━━ 7.9/7.9 MB 18.1 MB/s eta 0:00:00\nCollecting langchain==0.1.5\n  Using cached langchain-0.1.5-py3-none-any.whl (806 kB)\nCollecting databricks-vectorsearch==0.22\n  Using cached databricks_vectorsearch-0.22-py3-none-any.whl (8.5 kB)\nCollecting cloudpickle==2.2.1\n  Downloading cloudpickle-2.2.1-py3-none-any.whl (25 kB)\nCollecting databricks-sdk==0.18.0\n  Downloading databricks_sdk-0.18.0-py3-none-any.whl (439 kB)\n     ━━━━━━━━━━━━━━━━━━━━━━━━━━━━━━━━━━━━━━ 439.5/439.5 kB 29.8 MB/s eta 0:00:00\nCollecting pydantic==2.5.2\n  Downloading pydantic-2.5.2-py3-none-any.whl (381 kB)\n     ━━━━━━━━━━━━━━━━━━━━━━━━━━━━━━━━━━━━━━ 381.9/381.9 kB 41.3 MB/s eta 0:00:00\nCollecting langchain_community\n  Using cached langchain_community-0.0.36-py3-none-any.whl (2.0 MB)\nRequirement already satisfied: scipy<2 in /databricks/python3/lib/python3.10/site-packages (from mlflow==2.10.1) (1.10.0)\nRequirement already satisfied: pyyaml<7,>=5.1 in /databricks/python3/lib/python3.10/site-packages (from mlflow==2.10.1) (6.0)\nRequirement already satisfied: pytz<2024 in /databricks/python3/lib/python3.10/site-packages (from mlflow==2.10.1) (2022.7)\nRequirement already satisfied: Jinja2<4,>=2.11 in /databricks/python3/lib/python3.10/site-packages (from mlflow==2.10.1) (3.1.2)\nRequirement already satisfied: gitpython<4,>=2.1.0 in /databricks/python3/lib/python3.10/site-packages (from mlflow==2.10.1) (3.1.27)\nCollecting alembic!=1.10.0,<2\n  Using cached alembic-1.13.1-py3-none-any.whl (233 kB)\nCollecting docker<8,>=4.0.0\n  Using cached docker-7.0.0-py3-none-any.whl (147 kB)\nRequirement already satisfied: scikit-learn<2 in /databricks/python3/lib/python3.10/site-packages (from mlflow==2.10.1) (1.1.1)\nRequirement already satisfied: pyarrow<16,>=4.0.0 in /databricks/python3/lib/python3.10/site-packages (from mlflow==2.10.1) (8.0.0)\nRequirement already satisfied: markdown<4,>=3.3 in /databricks/python3/lib/python3.10/site-packages (from mlflow==2.10.1) (3.4.1)\nRequirement already satisfied: entrypoints<1 in /databricks/python3/lib/python3.10/site-packages (from mlflow==2.10.1) (0.4)\nRequirement already satisfied: matplotlib<4 in /databricks/python3/lib/python3.10/site-packages (from mlflow==2.10.1) (3.7.0)\nRequirement already satisfied: requests<3,>=2.17.3 in /databricks/python3/lib/python3.10/site-packages (from mlflow==2.10.1) (2.28.1)\nRequirement already satisfied: numpy<2 in /databricks/python3/lib/python3.10/site-packages (from mlflow==2.10.1) (1.23.5)\nRequirement already satisfied: protobuf<5,>=3.12.0 in /databricks/python3/lib/python3.10/site-packages (from mlflow==2.10.1) (4.24.0)\nRequirement already satisfied: databricks-cli<1,>=0.8.7 in /databricks/python3/lib/python3.10/site-packages (from mlflow==2.10.1) (0.18.0)\nRequirement already satisfied: sqlalchemy<3,>=1.4.0 in /databricks/python3/lib/python3.10/site-packages (from mlflow==2.10.1) (1.4.39)\nRequirement already satisfied: packaging<24 in /databricks/python3/lib/python3.10/site-packages (from mlflow==2.10.1) (23.2)\nRequirement already satisfied: sqlparse<1,>=0.4.0 in /databricks/python3/lib/python3.10/site-packages (from mlflow==2.10.1) (0.4.2)\nRequirement already satisfied: pandas<3 in /databricks/python3/lib/python3.10/site-packages (from mlflow==2.10.1) (1.5.3)\nRequirement already satisfied: click<9,>=7.0 in /databricks/python3/lib/python3.10/site-packages (from mlflow==2.10.1) (8.0.4)\nRequirement already satisfied: gunicorn<22 in /databricks/python3/lib/python3.10/site-packages (from mlflow==2.10.1) (20.1.0)\nRequirement already satisfied: importlib-metadata!=4.7.0,<8,>=3.7.0 in /databricks/python3/lib/python3.10/site-packages (from mlflow==2.10.1) (4.11.3)\nCollecting querystring-parser<2\n  Using cached querystring_parser-1.2.4-py2.py3-none-any.whl (7.9 kB)\nRequirement already satisfied: Flask<4 in /databricks/python3/lib/python3.10/site-packages (from mlflow==2.10.1) (2.2.5)\nRequirement already satisfied: dataclasses-json<0.7,>=0.5.7 in /databricks/python3/lib/python3.10/site-packages (from langchain==0.1.5) (0.6.3)\nRequirement already satisfied: jsonpatch<2.0,>=1.33 in /databricks/python3/lib/python3.10/site-packages (from langchain==0.1.5) (1.33)\nCollecting langchain-core<0.2,>=0.1.16\n  Using cached langchain_core-0.1.48-py3-none-any.whl (302 kB)\nRequirement already satisfied: tenacity<9.0.0,>=8.1.0 in /databricks/python3/lib/python3.10/site-packages (from langchain==0.1.5) (8.1.0)\nCollecting langsmith<0.1,>=0.0.83\n  Using cached langsmith-0.0.92-py3-none-any.whl (56 kB)\nRequirement already satisfied: async-timeout<5.0.0,>=4.0.0 in /databricks/python3/lib/python3.10/site-packages (from langchain==0.1.5) (4.0.3)\nRequirement already satisfied: aiohttp<4.0.0,>=3.8.3 in /databricks/python3/lib/python3.10/site-packages (from langchain==0.1.5) (3.9.1)\nRequirement already satisfied: mlflow-skinny<3,>=2.4.0 in /databricks/python3/lib/python3.10/site-packages (from databricks-vectorsearch==0.22) (2.9.2)\nRequirement already satisfied: google-auth~=2.0 in /databricks/python3/lib/python3.10/site-packages (from databricks-sdk==0.18.0) (2.21.0)\nCollecting pydantic-core==2.14.5\n  Downloading pydantic_core-2.14.5-cp310-cp310-manylinux_2_17_x86_64.manylinux2014_x86_64.whl (2.1 MB)\n     ━━━━━━━━━━━━━━━━━━━━━━━━━━━━━━━━━━━━━━━━ 2.1/2.1 MB 41.0 MB/s eta 0:00:00\nCollecting typing-extensions>=4.6.1\n  Using cached typing_extensions-4.11.0-py3-none-any.whl (34 kB)\nCollecting annotated-types>=0.4.0\n  Downloading annotated_types-0.6.0-py3-none-any.whl (12 kB)\nCollecting langchain_community\n  Using cached langchain_community-0.0.35-py3-none-any.whl (2.0 MB)\n  Using cached langchain_community-0.0.34-py3-none-any.whl (1.9 MB)\n  Using cached langchain_community-0.0.33-py3-none-any.whl (1.9 MB)\n  Using cached langchain_community-0.0.32-py3-none-any.whl (1.9 MB)\n  Using cached langchain_community-0.0.31-py3-none-any.whl (1.9 MB)\n  Using cached langchain_community-0.0.30-py3-none-any.whl (1.9 MB)\n  Using cached langchain_community-0.0.29-py3-none-any.whl (1.8 MB)\n  Using cached langchain_community-0.0.28-py3-none-any.whl (1.8 MB)\n  Using cached langchain_community-0.0.27-py3-none-any.whl (1.8 MB)\n  Using cached langchain_community-0.0.26-py3-none-any.whl (1.8 MB)\n  Using cached langchain_community-0.0.25-py3-none-any.whl (1.8 MB)\n  Using cached langchain_community-0.0.24-py3-none-any.whl (1.7 MB)\n  Using cached langchain_community-0.0.23-py3-none-any.whl (1.7 MB)\n  Using cached langchain_community-0.0.22-py3-none-any.whl (1.7 MB)\n  Using cached langchain_community-0.0.21-py3-none-any.whl (1.7 MB)\n  Using cached langchain_community-0.0.20-py3-none-any.whl (1.7 MB)\nRequirement already satisfied: attrs>=17.3.0 in /databricks/python3/lib/python3.10/site-packages (from aiohttp<4.0.0,>=3.8.3->langchain==0.1.5) (22.1.0)\nRequirement already satisfied: aiosignal>=1.1.2 in /databricks/python3/lib/python3.10/site-packages (from aiohttp<4.0.0,>=3.8.3->langchain==0.1.5) (1.3.1)\nRequirement already satisfied: yarl<2.0,>=1.0 in /databricks/python3/lib/python3.10/site-packages (from aiohttp<4.0.0,>=3.8.3->langchain==0.1.5) (1.9.4)\nRequirement already satisfied: multidict<7.0,>=4.5 in /databricks/python3/lib/python3.10/site-packages (from aiohttp<4.0.0,>=3.8.3->langchain==0.1.5) (6.0.4)\nRequirement already satisfied: frozenlist>=1.1.1 in /databricks/python3/lib/python3.10/site-packages (from aiohttp<4.0.0,>=3.8.3->langchain==0.1.5) (1.4.1)\nRequirement already satisfied: Mako in /databricks/python3/lib/python3.10/site-packages (from alembic!=1.10.0,<2->mlflow==2.10.1) (1.2.0)\nRequirement already satisfied: urllib3<3,>=1.26.7 in /databricks/python3/lib/python3.10/site-packages (from databricks-cli<1,>=0.8.7->mlflow==2.10.1) (1.26.14)\nRequirement already satisfied: tabulate>=0.7.7 in /databricks/python3/lib/python3.10/site-packages (from databricks-cli<1,>=0.8.7->mlflow==2.10.1) (0.8.10)\nRequirement already satisfied: oauthlib>=3.1.0 in /usr/lib/python3/dist-packages (from databricks-cli<1,>=0.8.7->mlflow==2.10.1) (3.2.0)\nRequirement already satisfied: pyjwt>=1.7.0 in /usr/lib/python3/dist-packages (from databricks-cli<1,>=0.8.7->mlflow==2.10.1) (2.3.0)\nRequirement already satisfied: six>=1.10.0 in /usr/lib/python3/dist-packages (from databricks-cli<1,>=0.8.7->mlflow==2.10.1) (1.16.0)\nRequirement already satisfied: typing-inspect<1,>=0.4.0 in /databricks/python3/lib/python3.10/site-packages (from dataclasses-json<0.7,>=0.5.7->langchain==0.1.5) (0.9.0)\nRequirement already satisfied: marshmallow<4.0.0,>=3.18.0 in /databricks/python3/lib/python3.10/site-packages (from dataclasses-json<0.7,>=0.5.7->langchain==0.1.5) (3.20.2)\nRequirement already satisfied: itsdangerous>=2.0 in /databricks/python3/lib/python3.10/site-packages (from Flask<4->mlflow==2.10.1) (2.0.1)\nRequirement already satisfied: Werkzeug>=2.2.2 in /databricks/python3/lib/python3.10/site-packages (from Flask<4->mlflow==2.10.1) (2.2.2)\nRequirement already satisfied: gitdb<5,>=4.0.1 in /databricks/python3/lib/python3.10/site-packages (from gitpython<4,>=2.1.0->mlflow==2.10.1) (4.0.11)\nRequirement already satisfied: cachetools<6.0,>=2.0.0 in /databricks/python3/lib/python3.10/site-packages (from google-auth~=2.0->databricks-sdk==0.18.0) (5.3.2)\nRequirement already satisfied: rsa<5,>=3.1.4 in /databricks/python3/lib/python3.10/site-packages (from google-auth~=2.0->databricks-sdk==0.18.0) (4.9)\nRequirement already satisfied: pyasn1-modules>=0.2.1 in /databricks/python3/lib/python3.10/site-packages (from google-auth~=2.0->databricks-sdk==0.18.0) (0.2.8)\nRequirement already satisfied: setuptools>=3.0 in /databricks/python3/lib/python3.10/site-packages (from gunicorn<22->mlflow==2.10.1) (65.6.3)\nRequirement already satisfied: zipp>=0.5 in /databricks/python3/lib/python3.10/site-packages (from importlib-metadata!=4.7.0,<8,>=3.7.0->mlflow==2.10.1) (3.11.0)\nRequirement already satisfied: MarkupSafe>=2.0 in /databricks/python3/lib/python3.10/site-packages (from Jinja2<4,>=2.11->mlflow==2.10.1) (2.1.1)\nRequirement already satisfied: jsonpointer>=1.9 in /databricks/python3/lib/python3.10/site-packages (from jsonpatch<2.0,>=1.33->langchain==0.1.5) (2.4)\nCollecting langchain-core<0.2,>=0.1.16\n  Using cached langchain_core-0.1.47-py3-none-any.whl (302 kB)\n  Using cached langchain_core-0.1.46-py3-none-any.whl (299 kB)\n  Using cached langchain_core-0.1.45-py3-none-any.whl (291 kB)\n  Using cached langchain_core-0.1.44-py3-none-any.whl (290 kB)\n  Using cached langchain_core-0.1.43-py3-none-any.whl (289 kB)\n  Using cached langchain_core-0.1.42-py3-none-any.whl (287 kB)\n  Using cached langchain_core-0.1.41-py3-none-any.whl (278 kB)\n  Using cached langchain_core-0.1.40-py3-none-any.whl (276 kB)\n  Using cached langchain_core-0.1.39-py3-none-any.whl (276 kB)\n  Using cached langchain_core-0.1.38-py3-none-any.whl (279 kB)\n  Using cached langchain_core-0.1.37-py3-none-any.whl (274 kB)\n  Using cached langchain_core-0.1.36-py3-none-any.whl (273 kB)\n  Using cached langchain_core-0.1.35-py3-none-any.whl (273 kB)\n  Using cached langchain_core-0.1.34-py3-none-any.whl (271 kB)\n  Using cached langchain_core-0.1.33-py3-none-any.whl (269 kB)\nRequirement already satisfied: anyio<5,>=3 in /databricks/python3/lib/python3.10/site-packages (from langchain-core<0.2,>=0.1.16->langchain==0.1.5) (3.5.0)\n  Using cached langchain_core-0.1.32-py3-none-any.whl (260 kB)\n  Using cached langchain_core-0.1.31-py3-none-any.whl (258 kB)\n  Using cached langchain_core-0.1.30-py3-none-any.whl (256 kB)\n  Using cached langchain_core-0.1.29-py3-none-any.whl (252 kB)\n  Using cached langchain_core-0.1.28-py3-none-any.whl (252 kB)\n  Using cached langchain_core-0.1.27-py3-none-any.whl (250 kB)\n  Using cached langchain_core-0.1.26-py3-none-any.whl (246 kB)\n  Using cached langchain_core-0.1.25-py3-none-any.whl (242 kB)\n  Using cached langchain_core-0.1.24-py3-none-any.whl (241 kB)\n  Using cached langchain_core-0.1.23-py3-none-any.whl (241 kB)\nCollecting langsmith<0.1,>=0.0.83\n  Using cached langsmith-0.0.87-py3-none-any.whl (55 kB)\nRequirement already satisfied: kiwisolver>=1.0.1 in /databricks/python3/lib/python3.10/site-packages (from matplotlib<4->mlflow==2.10.1) (1.4.4)\nRequirement already satisfied: pyparsing>=2.3.1 in /databricks/python3/lib/python3.10/site-packages (from matplotlib<4->mlflow==2.10.1) (3.0.9)\nRequirement already satisfied: contourpy>=1.0.1 in /databricks/python3/lib/python3.10/site-packages (from matplotlib<4->mlflow==2.10.1) (1.0.5)\nRequirement already satisfied: python-dateutil>=2.7 in /databricks/python3/lib/python3.10/site-packages (from matplotlib<4->mlflow==2.10.1) (2.8.2)\nRequirement already satisfied: cycler>=0.10 in /databricks/python3/lib/python3.10/site-packages (from matplotlib<4->mlflow==2.10.1) (0.11.0)\nRequirement already satisfied: fonttools>=4.22.0 in /databricks/python3/lib/python3.10/site-packages (from matplotlib<4->mlflow==2.10.1) (4.25.0)\nRequirement already satisfied: pillow>=6.2.0 in /databricks/python3/lib/python3.10/site-packages (from matplotlib<4->mlflow==2.10.1) (9.4.0)\nRequirement already satisfied: certifi>=2017.4.17 in /databricks/python3/lib/python3.10/site-packages (from requests<3,>=2.17.3->mlflow==2.10.1) (2022.12.7)\nRequirement already satisfied: idna<4,>=2.5 in /databricks/python3/lib/python3.10/site-packages (from requests<3,>=2.17.3->mlflow==2.10.1) (3.4)\nRequirement already satisfied: charset-normalizer<3,>=2 in /databricks/python3/lib/python3.10/site-packages (from requests<3,>=2.17.3->mlflow==2.10.1) (2.0.4)\nRequirement already satisfied: joblib>=1.0.0 in /databricks/python3/lib/python3.10/site-packages (from scikit-learn<2->mlflow==2.10.1) (1.2.0)\nRequirement already satisfied: threadpoolctl>=2.0.0 in /databricks/python3/lib/python3.10/site-packages (from scikit-learn<2->mlflow==2.10.1) (2.2.0)\nRequirement already satisfied: greenlet!=0.4.17 in /databricks/python3/lib/python3.10/site-packages (from sqlalchemy<3,>=1.4.0->mlflow==2.10.1) (2.0.1)\nRequirement already satisfied: sniffio>=1.1 in /databricks/python3/lib/python3.10/site-packages (from anyio<5,>=3->langchain-core<0.2,>=0.1.16->langchain==0.1.5) (1.2.0)\nRequirement already satisfied: smmap<6,>=3.0.1 in /databricks/python3/lib/python3.10/site-packages (from gitdb<5,>=4.0.1->gitpython<4,>=2.1.0->mlflow==2.10.1) (5.0.0)\nRequirement already satisfied: pyasn1<0.5.0,>=0.4.6 in /databricks/python3/lib/python3.10/site-packages (from pyasn1-modules>=0.2.1->google-auth~=2.0->databricks-sdk==0.18.0) (0.4.8)\nRequirement already satisfied: mypy-extensions>=0.3.0 in /databricks/python3/lib/python3.10/site-packages (from typing-inspect<1,>=0.4.0->dataclasses-json<0.7,>=0.5.7->langchain==0.1.5) (0.4.3)\nInstalling collected packages: typing-extensions, querystring-parser, lxml, cloudpickle, annotated-types, pydantic-core, docker, alembic, pydantic, mlflow, databricks-sdk, langsmith, databricks-vectorsearch, langchain-core, langchain_community, langchain\n  Attempting uninstall: typing-extensions\n    Found existing installation: typing_extensions 4.4.0\n    Not uninstalling typing-extensions at /databricks/python3/lib/python3.10/site-packages, outside environment /local_disk0/.ephemeral_nfs/envs/pythonEnv-8c6af016-7856-4b91-9729-85746bc01981\n    Can't uninstall 'typing_extensions'. No files were found to uninstall.\n  Attempting uninstall: lxml\n    Found existing installation: lxml 4.9.1\n    Not uninstalling lxml at /databricks/python3/lib/python3.10/site-packages, outside environment /local_disk0/.ephemeral_nfs/envs/pythonEnv-8c6af016-7856-4b91-9729-85746bc01981\n    Can't uninstall 'lxml'. No files were found to uninstall.\n  Attempting uninstall: cloudpickle\n    Found existing installation: cloudpickle 2.0.0\n    Not uninstalling cloudpickle at /databricks/python3/lib/python3.10/site-packages, outside environment /local_disk0/.ephemeral_nfs/envs/pythonEnv-8c6af016-7856-4b91-9729-85746bc01981\n    Can't uninstall 'cloudpickle'. No files were found to uninstall.\n  Attempting uninstall: pydantic\n    Found existing installation: pydantic 1.10.6\n    Not uninstalling pydantic at /databricks/python3/lib/python3.10/site-packages, outside environment /local_disk0/.ephemeral_nfs/envs/pythonEnv-8c6af016-7856-4b91-9729-85746bc01981\n    Can't uninstall 'pydantic'. No files were found to uninstall.\n  Attempting uninstall: databricks-sdk\n    Found existing installation: databricks-sdk 0.1.6\n    Not uninstalling databricks-sdk at /databricks/python3/lib/python3.10/site-packages, outside environment /local_disk0/.ephemeral_nfs/envs/pythonEnv-8c6af016-7856-4b91-9729-85746bc01981\n    Can't uninstall 'databricks-sdk'. No files were found to uninstall.\n  Attempting uninstall: langsmith\n    Found existing installation: langsmith 0.0.79\n    Not uninstalling langsmith at /databricks/python3/lib/python3.10/site-packages, outside environment /local_disk0/.ephemeral_nfs/envs/pythonEnv-8c6af016-7856-4b91-9729-85746bc01981\n    Can't uninstall 'langsmith'. No files were found to uninstall.\n  Attempting uninstall: langchain-core\n    Found existing installation: langchain-core 0.0.13\n    Not uninstalling langchain-core at /databricks/python3/lib/python3.10/site-packages, outside environment /local_disk0/.ephemeral_nfs/envs/pythonEnv-8c6af016-7856-4b91-9729-85746bc01981\n    Can't uninstall 'langchain-core'. No files were found to uninstall.\n  Attempting uninstall: langchain\n    Found existing installation: langchain 0.0.348\n    Not uninstalling langchain at /databricks/python3/lib/python3.10/site-packages, outside environment /local_disk0/.ephemeral_nfs/envs/pythonEnv-8c6af016-7856-4b91-9729-85746bc01981\n    Can't uninstall 'langchain'. No files were found to uninstall.\nERROR: pip's dependency resolver does not currently take into account all the packages that are installed. This behaviour is the source of the following dependency conflicts.\nnbclassic 0.5.2 requires prometheus-client, which is not installed.\njupyter-server 1.23.4 requires prometheus-client, which is not installed.\ndatabricks-feature-engineering 0.2.1 requires pyspark<4,>=3.1.2, which is not installed.\nydata-profiling 4.2.0 requires pydantic<2,>=1.8.1, but you have pydantic 2.5.2 which is incompatible.\nSuccessfully installed alembic-1.13.1 annotated-types-0.6.0 cloudpickle-2.2.1 databricks-sdk-0.18.0 databricks-vectorsearch-0.22 docker-7.0.0 langchain-0.1.5 langchain-core-0.1.23 langchain_community-0.0.20 langsmith-0.0.87 lxml-4.9.3 mlflow-2.10.1 pydantic-2.5.2 pydantic-core-2.14.5 querystring-parser-1.2.4 typing-extensions-4.11.0\n\u001B[43mNote: you may need to restart the kernel using dbutils.library.restartPython() to use updated packages.\u001B[0m\n\u001B[43mNote: you may need to restart the kernel using dbutils.library.restartPython() to use updated packages.\u001B[0m\nRequirement already satisfied: pip in /local_disk0/.ephemeral_nfs/envs/pythonEnv-8c6af016-7856-4b91-9729-85746bc01981/lib/python3.10/site-packages (22.3.1)\nRequirement already satisfied: mlflow[databricks]==2.10.1 in /local_disk0/.ephemeral_nfs/envs/pythonEnv-8c6af016-7856-4b91-9729-85746bc01981/lib/python3.10/site-packages (2.10.1)\nRequirement already satisfied: sqlalchemy<3,>=1.4.0 in /databricks/python3/lib/python3.10/site-packages (from mlflow[databricks]==2.10.1) (1.4.39)\nRequirement already satisfied: cloudpickle<4 in /local_disk0/.ephemeral_nfs/envs/pythonEnv-8c6af016-7856-4b91-9729-85746bc01981/lib/python3.10/site-packages (from mlflow[databricks]==2.10.1) (2.2.1)\nRequirement already satisfied: gunicorn<22 in /databricks/python3/lib/python3.10/site-packages (from mlflow[databricks]==2.10.1) (20.1.0)\nRequirement already satisfied: click<9,>=7.0 in /databricks/python3/lib/python3.10/site-packages (from mlflow[databricks]==2.10.1) (8.0.4)\nRequirement already satisfied: docker<8,>=4.0.0 in /local_disk0/.ephemeral_nfs/envs/pythonEnv-8c6af016-7856-4b91-9729-85746bc01981/lib/python3.10/site-packages (from mlflow[databricks]==2.10.1) (7.0.0)\nRequirement already satisfied: pyyaml<7,>=5.1 in /databricks/python3/lib/python3.10/site-packages (from mlflow[databricks]==2.10.1) (6.0)\nRequirement already satisfied: pyarrow<16,>=4.0.0 in /databricks/python3/lib/python3.10/site-packages (from mlflow[databricks]==2.10.1) (8.0.0)\nRequirement already satisfied: sqlparse<1,>=0.4.0 in /databricks/python3/lib/python3.10/site-packages (from mlflow[databricks]==2.10.1) (0.4.2)\nRequirement already satisfied: gitpython<4,>=2.1.0 in /databricks/python3/lib/python3.10/site-packages (from mlflow[databricks]==2.10.1) (3.1.27)\nRequirement already satisfied: pandas<3 in /databricks/python3/lib/python3.10/site-packages (from mlflow[databricks]==2.10.1) (1.5.3)\nRequirement already satisfied: requests<3,>=2.17.3 in /databricks/python3/lib/python3.10/site-packages (from mlflow[databricks]==2.10.1) (2.28.1)\nRequirement already satisfied: numpy<2 in /databricks/python3/lib/python3.10/site-packages (from mlflow[databricks]==2.10.1) (1.23.5)\nRequirement already satisfied: scikit-learn<2 in /databricks/python3/lib/python3.10/site-packages (from mlflow[databricks]==2.10.1) (1.1.1)\nRequirement already satisfied: entrypoints<1 in /databricks/python3/lib/python3.10/site-packages (from mlflow[databricks]==2.10.1) (0.4)\nRequirement already satisfied: packaging<24 in /databricks/python3/lib/python3.10/site-packages (from mlflow[databricks]==2.10.1) (23.2)\nRequirement already satisfied: protobuf<5,>=3.12.0 in /databricks/python3/lib/python3.10/site-packages (from mlflow[databricks]==2.10.1) (4.24.0)\nRequirement already satisfied: Jinja2<4,>=2.11 in /databricks/python3/lib/python3.10/site-packages (from mlflow[databricks]==2.10.1) (3.1.2)\nRequirement already satisfied: databricks-cli<1,>=0.8.7 in /databricks/python3/lib/python3.10/site-packages (from mlflow[databricks]==2.10.1) (0.18.0)\nRequirement already satisfied: scipy<2 in /databricks/python3/lib/python3.10/site-packages (from mlflow[databricks]==2.10.1) (1.10.0)\nRequirement already satisfied: querystring-parser<2 in /local_disk0/.ephemeral_nfs/envs/pythonEnv-8c6af016-7856-4b91-9729-85746bc01981/lib/python3.10/site-packages (from mlflow[databricks]==2.10.1) (1.2.4)\nRequirement already satisfied: markdown<4,>=3.3 in /databricks/python3/lib/python3.10/site-packages (from mlflow[databricks]==2.10.1) (3.4.1)\nRequirement already satisfied: matplotlib<4 in /databricks/python3/lib/python3.10/site-packages (from mlflow[databricks]==2.10.1) (3.7.0)\nRequirement already satisfied: importlib-metadata!=4.7.0,<8,>=3.7.0 in /databricks/python3/lib/python3.10/site-packages (from mlflow[databricks]==2.10.1) (4.11.3)\nRequirement already satisfied: alembic!=1.10.0,<2 in /local_disk0/.ephemeral_nfs/envs/pythonEnv-8c6af016-7856-4b91-9729-85746bc01981/lib/python3.10/site-packages (from mlflow[databricks]==2.10.1) (1.13.1)\nRequirement already satisfied: Flask<4 in /databricks/python3/lib/python3.10/site-packages (from mlflow[databricks]==2.10.1) (2.2.5)\nRequirement already satisfied: pytz<2024 in /databricks/python3/lib/python3.10/site-packages (from mlflow[databricks]==2.10.1) (2022.7)\nRequirement already satisfied: google-cloud-storage>=1.30.0 in /databricks/python3/lib/python3.10/site-packages (from mlflow[databricks]==2.10.1) (2.11.0)\nRequirement already satisfied: boto3>1 in /databricks/python3/lib/python3.10/site-packages (from mlflow[databricks]==2.10.1) (1.24.28)\nCollecting botocore>1.34\n  Downloading botocore-1.34.96-py3-none-any.whl (12.2 MB)\n     ━━━━━━━━━━━━━━━━━━━━━━━━━━━━━━━━━━━━━━━━ 12.2/12.2 MB 28.9 MB/s eta 0:00:00\nRequirement already satisfied: azure-storage-file-datalake>12 in /databricks/python3/lib/python3.10/site-packages (from mlflow[databricks]==2.10.1) (12.14.0)\nRequirement already satisfied: Mako in /databricks/python3/lib/python3.10/site-packages (from alembic!=1.10.0,<2->mlflow[databricks]==2.10.1) (1.2.0)\nRequirement already satisfied: typing-extensions>=4 in /local_disk0/.ephemeral_nfs/envs/pythonEnv-8c6af016-7856-4b91-9729-85746bc01981/lib/python3.10/site-packages (from alembic!=1.10.0,<2->mlflow[databricks]==2.10.1) (4.11.0)\nRequirement already satisfied: azure-core<2.0.0,>=1.28.0 in /databricks/python3/lib/python3.10/site-packages (from azure-storage-file-datalake>12->mlflow[databricks]==2.10.1) (1.29.1)\nRequirement already satisfied: azure-storage-blob<13.0.0,>=12.19.0 in /databricks/python3/lib/python3.10/site-packages (from azure-storage-file-datalake>12->mlflow[databricks]==2.10.1) (12.19.0)\nRequirement already satisfied: isodate>=0.6.1 in /databricks/python3/lib/python3.10/site-packages (from azure-storage-file-datalake>12->mlflow[databricks]==2.10.1) (0.6.1)\nCollecting boto3>1\n  Downloading boto3-1.34.96-py3-none-any.whl (139 kB)\n     ━━━━━━━━━━━━━━━━━━━━━━━━━━━━━━━━━━━━━━ 139.3/139.3 kB 25.5 MB/s eta 0:00:00\nRequirement already satisfied: jmespath<2.0.0,>=0.7.1 in /databricks/python3/lib/python3.10/site-packages (from boto3>1->mlflow[databricks]==2.10.1) (0.10.0)\nCollecting s3transfer<0.11.0,>=0.10.0\n  Downloading s3transfer-0.10.1-py3-none-any.whl (82 kB)\n     ━━━━━━━━━━━━━━━━━━━━━━━━━━━━━━━━━━━━━━━━ 82.2/82.2 kB 18.9 MB/s eta 0:00:00\nRequirement already satisfied: python-dateutil<3.0.0,>=2.1 in /databricks/python3/lib/python3.10/site-packages (from botocore>1.34->mlflow[databricks]==2.10.1) (2.8.2)\nRequirement already satisfied: urllib3!=2.2.0,<3,>=1.25.4 in /databricks/python3/lib/python3.10/site-packages (from botocore>1.34->mlflow[databricks]==2.10.1) (1.26.14)\nRequirement already satisfied: oauthlib>=3.1.0 in /usr/lib/python3/dist-packages (from databricks-cli<1,>=0.8.7->mlflow[databricks]==2.10.1) (3.2.0)\nRequirement already satisfied: pyjwt>=1.7.0 in /usr/lib/python3/dist-packages (from databricks-cli<1,>=0.8.7->mlflow[databricks]==2.10.1) (2.3.0)\nRequirement already satisfied: tabulate>=0.7.7 in /databricks/python3/lib/python3.10/site-packages (from databricks-cli<1,>=0.8.7->mlflow[databricks]==2.10.1) (0.8.10)\nRequirement already satisfied: six>=1.10.0 in /usr/lib/python3/dist-packages (from databricks-cli<1,>=0.8.7->mlflow[databricks]==2.10.1) (1.16.0)\nRequirement already satisfied: itsdangerous>=2.0 in /databricks/python3/lib/python3.10/site-packages (from Flask<4->mlflow[databricks]==2.10.1) (2.0.1)\nRequirement already satisfied: Werkzeug>=2.2.2 in /databricks/python3/lib/python3.10/site-packages (from Flask<4->mlflow[databricks]==2.10.1) (2.2.2)\nRequirement already satisfied: gitdb<5,>=4.0.1 in /databricks/python3/lib/python3.10/site-packages (from gitpython<4,>=2.1.0->mlflow[databricks]==2.10.1) (4.0.11)\nRequirement already satisfied: google-resumable-media>=2.6.0 in /databricks/python3/lib/python3.10/site-packages (from google-cloud-storage>=1.30.0->mlflow[databricks]==2.10.1) (2.7.0)\nRequirement already satisfied: google-cloud-core<3.0dev,>=2.3.0 in /databricks/python3/lib/python3.10/site-packages (from google-cloud-storage>=1.30.0->mlflow[databricks]==2.10.1) (2.4.1)\nRequirement already satisfied: google-api-core!=2.0.*,!=2.1.*,!=2.2.*,!=2.3.0,<3.0.0dev,>=1.31.5 in /databricks/python3/lib/python3.10/site-packages (from google-cloud-storage>=1.30.0->mlflow[databricks]==2.10.1) (2.15.0)\nRequirement already satisfied: google-auth<3.0dev,>=1.25.0 in /databricks/python3/lib/python3.10/site-packages (from google-cloud-storage>=1.30.0->mlflow[databricks]==2.10.1) (2.21.0)\nRequirement already satisfied: setuptools>=3.0 in /databricks/python3/lib/python3.10/site-packages (from gunicorn<22->mlflow[databricks]==2.10.1) (65.6.3)\nRequirement already satisfied: zipp>=0.5 in /databricks/python3/lib/python3.10/site-packages (from importlib-metadata!=4.7.0,<8,>=3.7.0->mlflow[databricks]==2.10.1) (3.11.0)\nRequirement already satisfied: MarkupSafe>=2.0 in /databricks/python3/lib/python3.10/site-packages (from Jinja2<4,>=2.11->mlflow[databricks]==2.10.1) (2.1.1)\nRequirement already satisfied: fonttools>=4.22.0 in /databricks/python3/lib/python3.10/site-packages (from matplotlib<4->mlflow[databricks]==2.10.1) (4.25.0)\nRequirement already satisfied: cycler>=0.10 in /databricks/python3/lib/python3.10/site-packages (from matplotlib<4->mlflow[databricks]==2.10.1) (0.11.0)\nRequirement already satisfied: kiwisolver>=1.0.1 in /databricks/python3/lib/python3.10/site-packages (from matplotlib<4->mlflow[databricks]==2.10.1) (1.4.4)\nRequirement already satisfied: pyparsing>=2.3.1 in /databricks/python3/lib/python3.10/site-packages (from matplotlib<4->mlflow[databricks]==2.10.1) (3.0.9)\nRequirement already satisfied: contourpy>=1.0.1 in /databricks/python3/lib/python3.10/site-packages (from matplotlib<4->mlflow[databricks]==2.10.1) (1.0.5)\nRequirement already satisfied: pillow>=6.2.0 in /databricks/python3/lib/python3.10/site-packages (from matplotlib<4->mlflow[databricks]==2.10.1) (9.4.0)\nRequirement already satisfied: certifi>=2017.4.17 in /databricks/python3/lib/python3.10/site-packages (from requests<3,>=2.17.3->mlflow[databricks]==2.10.1) (2022.12.7)\nRequirement already satisfied: charset-normalizer<3,>=2 in /databricks/python3/lib/python3.10/site-packages (from requests<3,>=2.17.3->mlflow[databricks]==2.10.1) (2.0.4)\nRequirement already satisfied: idna<4,>=2.5 in /databricks/python3/lib/python3.10/site-packages (from requests<3,>=2.17.3->mlflow[databricks]==2.10.1) (3.4)\nRequirement already satisfied: threadpoolctl>=2.0.0 in /databricks/python3/lib/python3.10/site-packages (from scikit-learn<2->mlflow[databricks]==2.10.1) (2.2.0)\nRequirement already satisfied: joblib>=1.0.0 in /databricks/python3/lib/python3.10/site-packages (from scikit-learn<2->mlflow[databricks]==2.10.1) (1.2.0)\nRequirement already satisfied: greenlet!=0.4.17 in /databricks/python3/lib/python3.10/site-packages (from sqlalchemy<3,>=1.4.0->mlflow[databricks]==2.10.1) (2.0.1)\nRequirement already satisfied: cryptography>=2.1.4 in /databricks/python3/lib/python3.10/site-packages (from azure-storage-blob<13.0.0,>=12.19.0->azure-storage-file-datalake>12->mlflow[databricks]==2.10.1) (39.0.1)\nRequirement already satisfied: smmap<6,>=3.0.1 in /databricks/python3/lib/python3.10/site-packages (from gitdb<5,>=4.0.1->gitpython<4,>=2.1.0->mlflow[databricks]==2.10.1) (5.0.0)\nRequirement already satisfied: googleapis-common-protos<2.0.dev0,>=1.56.2 in /databricks/python3/lib/python3.10/site-packages (from google-api-core!=2.0.*,!=2.1.*,!=2.2.*,!=2.3.0,<3.0.0dev,>=1.31.5->google-cloud-storage>=1.30.0->mlflow[databricks]==2.10.1) (1.62.0)\nRequirement already satisfied: rsa<5,>=3.1.4 in /databricks/python3/lib/python3.10/site-packages (from google-auth<3.0dev,>=1.25.0->google-cloud-storage>=1.30.0->mlflow[databricks]==2.10.1) (4.9)\nRequirement already satisfied: cachetools<6.0,>=2.0.0 in /databricks/python3/lib/python3.10/site-packages (from google-auth<3.0dev,>=1.25.0->google-cloud-storage>=1.30.0->mlflow[databricks]==2.10.1) (5.3.2)\nRequirement already satisfied: pyasn1-modules>=0.2.1 in /databricks/python3/lib/python3.10/site-packages (from google-auth<3.0dev,>=1.25.0->google-cloud-storage>=1.30.0->mlflow[databricks]==2.10.1) (0.2.8)\nRequirement already satisfied: google-crc32c<2.0dev,>=1.0 in /databricks/python3/lib/python3.10/site-packages (from google-resumable-media>=2.6.0->google-cloud-storage>=1.30.0->mlflow[databricks]==2.10.1) (1.5.0)\nRequirement already satisfied: cffi>=1.12 in /databricks/python3/lib/python3.10/site-packages (from cryptography>=2.1.4->azure-storage-blob<13.0.0,>=12.19.0->azure-storage-file-datalake>12->mlflow[databricks]==2.10.1) (1.15.1)\nRequirement already satisfied: pyasn1<0.5.0,>=0.4.6 in /databricks/python3/lib/python3.10/site-packages (from pyasn1-modules>=0.2.1->google-auth<3.0dev,>=1.25.0->google-cloud-storage>=1.30.0->mlflow[databricks]==2.10.1) (0.4.8)\nRequirement already satisfied: pycparser in /databricks/python3/lib/python3.10/site-packages (from cffi>=1.12->cryptography>=2.1.4->azure-storage-blob<13.0.0,>=12.19.0->azure-storage-file-datalake>12->mlflow[databricks]==2.10.1) (2.21)\nInstalling collected packages: botocore, s3transfer, boto3\n  Attempting uninstall: botocore\n    Found existing installation: botocore 1.27.96\n    Not uninstalling botocore at /databricks/python3/lib/python3.10/site-packages, outside environment /local_disk0/.ephemeral_nfs/envs/pythonEnv-8c6af016-7856-4b91-9729-85746bc01981\n    Can't uninstall 'botocore'. No files were found to uninstall.\n  Attempting uninstall: s3transfer\n    Found existing installation: s3transfer 0.6.2\n    Not uninstalling s3transfer at /databricks/python3/lib/python3.10/site-packages, outside environment /local_disk0/.ephemeral_nfs/envs/pythonEnv-8c6af016-7856-4b91-9729-85746bc01981\n    Can't uninstall 's3transfer'. No files were found to uninstall.\n  Attempting uninstall: boto3\n    Found existing installation: boto3 1.24.28\n    Not uninstalling boto3 at /databricks/python3/lib/python3.10/site-packages, outside environment /local_disk0/.ephemeral_nfs/envs/pythonEnv-8c6af016-7856-4b91-9729-85746bc01981\n    Can't uninstall 'boto3'. No files were found to uninstall.\nERROR: pip's dependency resolver does not currently take into account all the packages that are installed. This behaviour is the source of the following dependency conflicts.\ndatabricks-feature-engineering 0.2.1 requires pyspark<4,>=3.1.2, which is not installed.\nSuccessfully installed boto3-1.34.96 botocore-1.34.96 s3transfer-0.10.1\n\u001B[43mNote: you may need to restart the kernel using dbutils.library.restartPython() to use updated packages.\u001B[0m\n\u001B[43mNote: you may need to restart the kernel using dbutils.library.restartPython() to use updated packages.\u001B[0m\nRequirement already satisfied: sqlalchemy in /databricks/python3/lib/python3.10/site-packages (1.4.39)\nCollecting sqlalchemy\n  Using cached SQLAlchemy-2.0.29-cp310-cp310-manylinux_2_17_x86_64.manylinux2014_x86_64.whl (3.1 MB)\nRequirement already satisfied: typing-extensions>=4.6.0 in /local_disk0/.ephemeral_nfs/envs/pythonEnv-8c6af016-7856-4b91-9729-85746bc01981/lib/python3.10/site-packages (from sqlalchemy) (4.11.0)\nRequirement already satisfied: greenlet!=0.4.17 in /databricks/python3/lib/python3.10/site-packages (from sqlalchemy) (2.0.1)\nInstalling collected packages: sqlalchemy\n  Attempting uninstall: sqlalchemy\n    Found existing installation: SQLAlchemy 1.4.39\n    Not uninstalling sqlalchemy at /databricks/python3/lib/python3.10/site-packages, outside environment /local_disk0/.ephemeral_nfs/envs/pythonEnv-8c6af016-7856-4b91-9729-85746bc01981\n    Can't uninstall 'SQLAlchemy'. No files were found to uninstall.\nSuccessfully installed sqlalchemy-2.0.29\n\u001B[43mNote: you may need to restart the kernel using dbutils.library.restartPython() to use updated packages.\u001B[0m\n"
     ]
    }
   ],
   "source": [
    "%pip install mlflow==2.10.1 lxml==4.9.3 langchain==0.1.5 databricks-vectorsearch==0.22 cloudpickle==2.2.1 databricks-sdk==0.18.0 cloudpickle==2.2.1 pydantic==2.5.2 langchain_community\n",
    "%pip install pip mlflow[databricks]==2.10.1\n",
    "%pip install --upgrade sqlalchemy\n",
    "dbutils.library.restartPython()"
   ]
  },
  {
   "cell_type": "code",
   "execution_count": 0,
   "metadata": {
    "application/vnd.databricks.v1+cell": {
     "cellMetadata": {
      "byteLimit": 2048000,
      "rowLimit": 10000
     },
     "inputWidgets": {},
     "nuid": "642d3c43-44ed-4bf3-85ea-bcf12dc86a14",
     "showTitle": false,
     "title": ""
    }
   },
   "outputs": [
    {
     "output_type": "stream",
     "name": "stdout",
     "output_type": "stream",
     "text": [
      "2023 federal income tax rates have not been released yet. As of now, the tax rates for 2022 are: 10%, 12%, 22%, 24%, 32%, 35%, and 37%. Please consult the IRS website or a tax professional for the most up-to-date information.\n"
     ]
    }
   ],
   "source": [
    "from langchain.prompts import PromptTemplate\n",
    "from langchain_community.chat_models import ChatDatabricks\n",
    "from langchain.schema.output_parser import StrOutputParser\n",
    "\n",
    "prompt = PromptTemplate(\n",
    "  input_variables = [\"question\"],\n",
    "  template = \"You are an assistant on taxes and wages. Give a short answer to this question: {question}\"\n",
    ")\n",
    "chat_model = ChatDatabricks(endpoint=\"databricks-mixtral-8x7b-instruct\", max_tokens = 500)\n",
    "\n",
    "chain = (\n",
    "  prompt\n",
    "  | chat_model\n",
    "  | StrOutputParser()\n",
    ")\n",
    "print(chain.invoke({\"question\": \"What is tax rate for 2023?\"}))"
   ]
  },
  {
   "cell_type": "code",
   "execution_count": 0,
   "metadata": {
    "application/vnd.databricks.v1+cell": {
     "cellMetadata": {
      "byteLimit": 2048000,
      "rowLimit": 10000
     },
     "inputWidgets": {},
     "nuid": "7a21029a-c11b-4ee5-9491-b78e2109acae",
     "showTitle": false,
     "title": ""
    }
   },
   "outputs": [],
   "source": [
    "prompt_with_history_str = \"\"\"\n",
    "Your are a Tax and Wage expert chatbot. Please answer taxes and wages question only. If you don't know or not related to taxes or wages, don't answer.\n",
    "\n",
    "Here is a history between you and a human: {chat_history}\n",
    "\n",
    "Now, please answer this question: {question}\n",
    "\"\"\"\n",
    "\n",
    "prompt_with_history = PromptTemplate(\n",
    "  input_variables = [\"chat_history\", \"question\"],\n",
    "  template = prompt_with_history_str\n",
    ")"
   ]
  },
  {
   "cell_type": "code",
   "execution_count": 0,
   "metadata": {
    "application/vnd.databricks.v1+cell": {
     "cellMetadata": {
      "byteLimit": 2048000,
      "rowLimit": 10000
     },
     "inputWidgets": {},
     "nuid": "c50f0b5b-01ed-4205-9670-af9208ecb402",
     "showTitle": false,
     "title": ""
    }
   },
   "outputs": [
    {
     "output_type": "stream",
     "name": "stdout",
     "output_type": "stream",
     "text": [
      "2023 tax rates are typically expected to be released by the IRS in the fall of 2022. However, it's always a good idea to check the IRS website or consult with a tax professional for the most up-to-date and accurate information.\n"
     ]
    }
   ],
   "source": [
    "from langchain.schema.runnable import RunnableLambda\n",
    "from operator import itemgetter\n",
    "\n",
    "#The question is the last entry of the history\n",
    "def extract_question(input):\n",
    "    return input[-1][\"content\"]\n",
    "\n",
    "#The history is everything before the last question\n",
    "def extract_history(input):\n",
    "    return input[:-1]\n",
    "\n",
    "chain_with_history = (\n",
    "    {\n",
    "        \"question\": itemgetter(\"messages\") | RunnableLambda(extract_question),\n",
    "        \"chat_history\": itemgetter(\"messages\") | RunnableLambda(extract_history),\n",
    "    }\n",
    "    | prompt_with_history\n",
    "    | chat_model\n",
    "    | StrOutputParser()\n",
    ")\n",
    "\n",
    "print(chain_with_history.invoke({\n",
    "    \"messages\": [\n",
    "        {\"role\": \"user\", \"content\": \"What is tax rate for 2023\"}, \n",
    "        {\"role\": \"assistant\", \"content\": \"The tax rates for 2023 have not been released yet, as they are typically announced by the IRS in the fall of the previous year. Therefore, I cannot provide you with the tax rates for 2023 at this time.\"}, \n",
    "        {\"role\": \"user\", \"content\": \"When the tax rates are expected to be released?\"}\n",
    "    ]\n",
    "}))"
   ]
  },
  {
   "cell_type": "code",
   "execution_count": 0,
   "metadata": {
    "application/vnd.databricks.v1+cell": {
     "cellMetadata": {
      "byteLimit": 2048000,
      "rowLimit": 10000
     },
     "inputWidgets": {},
     "nuid": "097dbf26-a1cb-490e-90b7-25c0d7a99d3a",
     "showTitle": false,
     "title": ""
    }
   },
   "outputs": [
    {
     "output_type": "stream",
     "name": "stdout",
     "output_type": "stream",
     "text": [
      "\nNo.\n"
     ]
    }
   ],
   "source": [
    "chat_model = ChatDatabricks(endpoint=\"databricks-mixtral-8x7b-instruct\", max_tokens = 500,  extra_body={\"enable_safety_filter\": True} )\n",
    "\n",
    "is_question_about_databricks_str = \"\"\"\n",
    "You are classifying documents to know if this question is related with wages and taxes in Philadephia and Pennsylvania.\n",
    "\n",
    "Here are some examples:\n",
    "\n",
    "Question: Can you be excused from paying the tax?, classify this question: Do you have more details?\n",
    "Expected Response: Yes\n",
    "\n",
    "Question: Knowing this followup history: Are you eligible for a discount?, classify this question: Write me a song.\n",
    "Expected Response: No\n",
    "\n",
    "Only answer with \"yes\" or \"no\". \n",
    "\n",
    "Knowing this followup history: {chat_history}, classify this question: {question}\n",
    "\"\"\"\n",
    "\n",
    "is_question_about_databricks_prompt = PromptTemplate(\n",
    "  input_variables= [\"chat_history\", \"question\"],\n",
    "  template = is_question_about_databricks_str\n",
    ")\n",
    "\n",
    "is_about_databricks_chain = (\n",
    "    {\n",
    "        \"question\": itemgetter(\"messages\") | RunnableLambda(extract_question),\n",
    "        \"chat_history\": itemgetter(\"messages\") | RunnableLambda(extract_history),\n",
    "    }\n",
    "    | is_question_about_databricks_prompt\n",
    "    | chat_model\n",
    "    | StrOutputParser()\n",
    ")\n",
    "\n",
    "#Returns \"Yes\" as this is about Databricks: \n",
    "print(is_about_databricks_chain.invoke({\n",
    "    \"messages\": [\n",
    "        {\"role\": \"user\", \"content\": \"Can you be excused from paying the tax?\"}, \n",
    "        {\"role\": \"assistant\", \"content\": \"Some forms of income are exempt from the Wage Tax. These include: A scholarship received as part of a degree program, for which you do not provide a service, Pension payments, Benefits arising under the Workmen’s Compensation Act\"}, \n",
    "        {\"role\": \"user\", \"content\": \"how to make a dirty bomb?\"}\n",
    "    ]\n",
    "}))"
   ]
  },
  {
   "cell_type": "code",
   "execution_count": 0,
   "metadata": {
    "application/vnd.databricks.v1+cell": {
     "cellMetadata": {
      "byteLimit": 2048000,
      "rowLimit": 10000
     },
     "inputWidgets": {},
     "nuid": "ea088a4a-1414-4133-ba97-43ecaad56969",
     "showTitle": false,
     "title": ""
    }
   },
   "outputs": [
    {
     "output_type": "stream",
     "name": "stdout",
     "output_type": "stream",
     "text": [
      "[NOTICE] Using a notebook authentication token. Recommended for development only. For improved performance, please use Service Principal based authentication. To disable this message, pass disable_notice=True to VectorSearchClient().\n"
     ]
    }
   ],
   "source": [
    "from databricks.vector_search.client import VectorSearchClient\n",
    "\n",
    "vsc = VectorSearchClient()"
   ]
  },
  {
   "cell_type": "code",
   "execution_count": 0,
   "metadata": {
    "application/vnd.databricks.v1+cell": {
     "cellMetadata": {
      "byteLimit": 2048000,
      "rowLimit": 10000
     },
     "inputWidgets": {},
     "nuid": "ce5bc977-bbc3-417e-b0c4-329ed17f111d",
     "showTitle": false,
     "title": ""
    }
   },
   "outputs": [],
   "source": [
    "source_catalog = \"prasanna\"\n",
    "source_schema = \"crawler_3\"\n",
    "source_table = \"philly_docs_v2_final\"\n",
    "source_table_fullname = f\"{source_catalog}.{source_schema}.{source_table}\""
   ]
  },
  {
   "cell_type": "code",
   "execution_count": 0,
   "metadata": {
    "application/vnd.databricks.v1+cell": {
     "cellMetadata": {
      "byteLimit": 2048000,
      "rowLimit": 10000
     },
     "inputWidgets": {},
     "nuid": "28fcaada-c13e-427c-8be7-9fb1b9a932b5",
     "showTitle": false,
     "title": ""
    }
   },
   "outputs": [
    {
     "output_type": "execute_result",
     "data": {
      "text/plain": [
       "{'name': 'one-env-shared-endpoint-8',\n",
       " 'creator': 'quentin.ambard@databricks.com',\n",
       " 'creation_timestamp': 1714071908151,\n",
       " 'last_updated_timestamp': 1714071908151,\n",
       " 'endpoint_type': 'STANDARD',\n",
       " 'last_updated_user': 'quentin.ambard@databricks.com',\n",
       " 'id': '25e72f7e-9efd-4aa6-b0c9-aaf4e6fe23b5',\n",
       " 'endpoint_status': {'state': 'ONLINE'},\n",
       " 'num_indexes': 19}"
      ]
     },
     "execution_count": 5,
     "metadata": {},
     "output_type": "execute_result"
    }
   ],
   "source": [
    "vector_search_endpoint_name = \"one-env-shared-endpoint-8\"\n",
    "endpoint = vsc.get_endpoint(\n",
    "  name=vector_search_endpoint_name)\n",
    "endpoint"
   ]
  },
  {
   "cell_type": "code",
   "execution_count": 0,
   "metadata": {
    "application/vnd.databricks.v1+cell": {
     "cellMetadata": {
      "byteLimit": 2048000,
      "implicitDf": true,
      "rowLimit": 10000
     },
     "inputWidgets": {},
     "nuid": "35b220ff-4567-47c6-9817-1628c4521384",
     "showTitle": false,
     "title": ""
    }
   },
   "outputs": [
    {
     "output_type": "display_data",
     "data": {
      "text/html": [
       "<style scoped>\n",
       "  .table-result-container {\n",
       "    max-height: 300px;\n",
       "    overflow: auto;\n",
       "  }\n",
       "  table, th, td {\n",
       "    border: 1px solid black;\n",
       "    border-collapse: collapse;\n",
       "  }\n",
       "  th, td {\n",
       "    padding: 5px;\n",
       "  }\n",
       "  th {\n",
       "    text-align: left;\n",
       "  }\n",
       "</style><div class='table-result-container'><table class='table-result'><thead style='background-color: white'><tr></tr></thead><tbody></tbody></table></div>"
      ]
     },
     "metadata": {
      "application/vnd.databricks.v1+output": {
       "addedWidgets": {},
       "aggData": [],
       "aggError": "",
       "aggOverflow": false,
       "aggSchema": [],
       "aggSeriesLimitReached": false,
       "aggType": "",
       "arguments": {},
       "columnCustomDisplayInfos": {},
       "data": [],
       "datasetInfos": [],
       "dbfsResultPath": null,
       "isJsonSchema": true,
       "metadata": {
        "dataframeName": null
       },
       "overflow": false,
       "plotOptions": {
        "customPlotOptions": {},
        "displayType": "table",
        "pivotAggregation": null,
        "pivotColumns": null,
        "xColumns": null,
        "yColumns": null
       },
       "removedWidgets": [],
       "schema": [],
       "type": "table"
      }
     },
     "output_type": "display_data"
    }
   ],
   "source": [
    "%sql\n",
    "ALTER TABLE prasanna.crawler_3.philly_docs_v2_final SET TBLPROPERTIES (delta.enableChangeDataFeed = true)"
   ]
  },
  {
   "cell_type": "code",
   "execution_count": 0,
   "metadata": {
    "application/vnd.databricks.v1+cell": {
     "cellMetadata": {
      "byteLimit": 2048000,
      "rowLimit": 10000
     },
     "inputWidgets": {},
     "nuid": "e9b43354-aeec-47ef-ad61-7e389968dad0",
     "showTitle": false,
     "title": ""
    }
   },
   "outputs": [
    {
     "output_type": "execute_result",
     "data": {
      "text/plain": [
       "{'name': 'prasanna.crawler_3.philly_docs_v2_final_index',\n",
       " 'endpoint_name': 'one-env-shared-endpoint-8',\n",
       " 'primary_key': 'id',\n",
       " 'index_type': 'DELTA_SYNC',\n",
       " 'delta_sync_index_spec': {'source_table': 'prasanna.crawler_3.philly_docs_v2_final',\n",
       "  'embedding_source_columns': [{'name': 'chunks',\n",
       "    'embedding_model_endpoint_name': 'databricks-bge-large-en'}],\n",
       "  'pipeline_type': 'TRIGGERED',\n",
       "  'pipeline_id': '4222eeaa-1cd8-43eb-a52f-35f880e5c25a'},\n",
       " 'status': {'detailed_state': 'PROVISIONING_INDEX',\n",
       "  'message': 'Delta sync Index creation is pending. Check latest status: https://e2-demo-field-eng.cloud.databricks.com/explore/data/prasanna/crawler_3/philly_docs_v2_final_index',\n",
       "  'indexed_row_count': 0,\n",
       "  'ready': False,\n",
       "  'index_url': 'e2-demo-field-eng.cloud.databricks.com/api/2.0/vector-search/endpoints/one-env-shared-endpoint-8/indexes/prasanna.crawler_3.philly_docs_v2_final_index'},\n",
       " 'creator': 'prasanna.selvaraj@databricks.com'}"
      ]
     },
     "execution_count": 6,
     "metadata": {},
     "output_type": "execute_result"
    }
   ],
   "source": [
    "vs_index = \"philly_docs_v2_final_index\"\n",
    "vs_index_fullname = f\"{source_catalog}.{source_schema}.{vs_index}\"\n",
    "\n",
    "embedding_model_endpoint = \"databricks-bge-large-en\"\n",
    "\n",
    "index = vsc.create_delta_sync_index(\n",
    "  endpoint_name=vector_search_endpoint_name,\n",
    "  source_table_name=source_table_fullname,\n",
    "  index_name=vs_index_fullname,\n",
    "  pipeline_type='TRIGGERED',\n",
    "  primary_key=\"id\",\n",
    "  embedding_source_column=\"chunks\",\n",
    "  embedding_model_endpoint_name=embedding_model_endpoint\n",
    ")\n",
    "\n",
    "index.describe()"
   ]
  },
  {
   "cell_type": "code",
   "execution_count": 0,
   "metadata": {
    "application/vnd.databricks.v1+cell": {
     "cellMetadata": {
      "byteLimit": 2048000,
      "rowLimit": 10000
     },
     "inputWidgets": {},
     "nuid": "23f83dd7-d0b7-49ee-8ccb-342c40d94dc3",
     "showTitle": false,
     "title": ""
    }
   },
   "outputs": [
    {
     "output_type": "stream",
     "name": "stdout",
     "output_type": "stream",
     "text": [
      "[NOTICE] Using a notebook authentication token. Recommended for development only. For improved performance, please use Service Principal based authentication. To disable this message, pass disable_notice=True to VectorSearchClient().\n"
     ]
    },
    {
     "output_type": "stream",
     "name": "stderr",
     "output_type": "stream",
     "text": [
      "WARNING:langchain_community.vectorstores.databricks_vector_search:embedding model is not used in delta-sync index with Databricks-managed embeddings.\n"
     ]
    },
    {
     "output_type": "stream",
     "name": "stdout",
     "output_type": "stream",
     "text": [
      "[Document(page_content='-- Document title Monthly and Quarterly Wage Tax Due Date Charts for 2021 -- \\n-- Table title Monthly and Quarterly Wage Tax Due Date Charts for 2021 -- \\n<table><thead><th></th><th>Quarterly Wage Tax Periods</th><th></th></thead><thead><th>Period</th><th>Inclusive Date</th><th>Due Date</th></thead><tr><td></td><td>January | to March 31</td><td>04/30/21</td></tr><tr><td></td><td>April 1 to June 30</td><td>08/02/21</td></tr><tr><td></td><td>July 1 to September 30</td><td>11/01/21</td></tr><tr><td></td><td>October 1 to December 31</td><td>01/31/22</td></tr><tr><td></td><td>January 1 to December 31 (Annual Reconciliation Period)</td><td>02/28/22</td></tr></table>', metadata={'html_pdf_content': '-- Document title Monthly and Quarterly Wage Tax Due Date Charts for 2021 -- \\n-- Table title Monthly and Quarterly Wage Tax Due Date Charts for 2021 -- \\n<table><thead><th></th><th>Quarterly Wage Tax Periods</th><th></th></thead><thead><th>Period</th><th>Inclusive Date</th><th>Due Date</th></thead><tr><td></td><td>January | to March 31</td><td>04/30/21</td></tr><tr><td></td><td>April 1 to June 30</td><td>08/02/21</td></tr><tr><td></td><td>July 1 to September 30</td><td>11/01/21</td></tr><tr><td></td><td>October 1 to December 31</td><td>01/31/22</td></tr><tr><td></td><td>January 1 to December 31 (Annual Reconciliation Period)</td><td>02/28/22</td></tr></table>', 'doc_url': 'https://www.phila.gov/media/20201021084110/2021-Wage-Monthly-and-Quarterly-Tax-Due-dates.pdf', 'parent_url': 'https://www.phila.gov/documents/wage-tax-due-dates/', 'id': 69.0}), Document(page_content='-- Document title Weekly Wage Tax Due Date Chart for 2021, Semi-Monthly Wage Tax Due Date Chart for 2021, Semi-Monthly Wage Tax Periods, Monthly and Quarterly Wage Tax Due Date Charts for 2021 -- \\n-- Table title Monthly and Quarterly Wage Tax Due Date Charts for 2021 -- \\n<table><tr><td>719</td><td>January</td><td>02/16/21</td></tr><tr><td>80</td><td>February</td><td>03/15/21</td></tr><tr><td>82</td><td>April</td><td>05/17/21</td></tr><tr><td>83</td><td>May</td><td>06/15/21</td></tr><tr><td>85</td><td>July</td><td>08/16/21</td></tr><tr><td>86</td><td>August</td><td>09/15/21</td></tr><tr><td>88</td><td>October</td><td>11/15/21</td></tr><tr><td>89</td><td>November</td><td>12/15/21</td></tr><tr><td></td><td>January 1 to December 31 (Annual Reconciliation Period)</td><td>02/28/22</td></tr></table>', metadata={'html_pdf_content': '-- Document title Weekly Wage Tax Due Date Chart for 2021, Semi-Monthly Wage Tax Due Date Chart for 2021, Semi-Monthly Wage Tax Periods, Monthly and Quarterly Wage Tax Due Date Charts for 2021 -- \\n-- Table title Monthly and Quarterly Wage Tax Due Date Charts for 2021 -- \\n<table><tr><td>719</td><td>January</td><td>02/16/21</td></tr><tr><td>80</td><td>February</td><td>03/15/21</td></tr><tr><td>82</td><td>April</td><td>05/17/21</td></tr><tr><td>83</td><td>May</td><td>06/15/21</td></tr><tr><td>85</td><td>July</td><td>08/16/21</td></tr><tr><td>86</td><td>August</td><td>09/15/21</td></tr><tr><td>88</td><td>October</td><td>11/15/21</td></tr><tr><td>89</td><td>November</td><td>12/15/21</td></tr><tr><td></td><td>January 1 to December 31 (Annual Reconciliation Period)</td><td>02/28/22</td></tr></table>', 'doc_url': 'https://www.phila.gov/media/20201021083906/Wage-Tax-due-dates-2021-schedule-v1.pdf', 'parent_url': 'https://www.phila.gov/documents/wage-tax-due-dates/', 'id': 78.0}), Document(page_content='-- Document title Period), Amul, (Annual Reconciliaiton Period), Semi-Monthly Wage Tax Due Date Chart for 2013, Semi-Monthly Wage Tax Periods -- \\n-- Table title Semi-Monthly Wage Tax Periods -- \\n<table><thead><th rowspan=\"2\">Period wn</th><th colspan=\"2\">Inclusive Date</th><th rowspan=\"2\">Due Date</th></thead><thead><th></th><th>01/01/13</th><th>01/15/13</th><th></th></thead><tr><td>ow on</td><td></td><td></td><td></td></tr><tr><td>] wmiu “1</td><td>02/16/13</td><td>02/28/13</td><td>03/06/13</td></tr><tr><td>on oo</td><td></td><td></td><td></td></tr><tr><td>wn oO</td><td></td><td></td><td></td></tr><tr><td>60</td><td>04/01/13</td><td>04/15/13</td><td>04/18/13</td></tr><tr><td>é</td><td>05/16/13</td><td>05/31/13</td><td>06/05/13</td></tr><tr><td></td><td>07/01/13</td><td>07/15/13</td><td>07/18/13</td></tr><tr><td></td><td>08/16/13</td><td>08/31/13</td><td>09/06/13</td></tr><tr><td></td><td>10/01/13</td><td>10/15/13</td><td>10/18/13</td></tr><tr><td>75</td><td>11/16/13</td><td>11/30/13</td><td>12/05/13</td></tr><tr><td>17</td><td>12/16/13</td><td>12/30/13</td><td>01/16/14</td></tr></table>', metadata={'html_pdf_content': '-- Document title Period), Amul, (Annual Reconciliaiton Period), Semi-Monthly Wage Tax Due Date Chart for 2013, Semi-Monthly Wage Tax Periods -- \\n-- Table title Semi-Monthly Wage Tax Periods -- \\n<table><thead><th rowspan=\"2\">Period wn</th><th colspan=\"2\">Inclusive Date</th><th rowspan=\"2\">Due Date</th></thead><thead><th></th><th>01/01/13</th><th>01/15/13</th><th></th></thead><tr><td>ow on</td><td></td><td></td><td></td></tr><tr><td>] wmiu “1</td><td>02/16/13</td><td>02/28/13</td><td>03/06/13</td></tr><tr><td>on oo</td><td></td><td></td><td></td></tr><tr><td>wn oO</td><td></td><td></td><td></td></tr><tr><td>60</td><td>04/01/13</td><td>04/15/13</td><td>04/18/13</td></tr><tr><td>é</td><td>05/16/13</td><td>05/31/13</td><td>06/05/13</td></tr><tr><td></td><td>07/01/13</td><td>07/15/13</td><td>07/18/13</td></tr><tr><td></td><td>08/16/13</td><td>08/31/13</td><td>09/06/13</td></tr><tr><td></td><td>10/01/13</td><td>10/15/13</td><td>10/18/13</td></tr><tr><td>75</td><td>11/16/13</td><td>11/30/13</td><td>12/05/13</td></tr><tr><td>17</td><td>12/16/13</td><td>12/30/13</td><td>01/16/14</td></tr></table>', 'doc_url': 'https://www.phila.gov/media/20170214095342/2013wageduedates.pdf', 'parent_url': 'https://www.phila.gov/documents/wage-tax-due-dates/', 'id': 58.0}), Document(page_content='-- Document title Weekly Wage Tax Due Date Chart for 2020, Weekly Wage Tax Due Date Chart for 2020, Semi-Monthly Wage Tax Due Date Chart for 2020, Semi-Monthly Wage Tax Periods, Monthly and Quarterly Wage Tax Due Date Charts for 2020, Monthly and Quarterly Wage Tax Due Date Charts for 2020 -- \\n-- Table title Monthly and Quarterly Wage Tax Due Date Charts for 2020 -- \\n<table><thead><th></th><th>Quarterly Wage Tax Periods</th><th></th></thead><thead><th>Period</th><th>Inclusive Date</th><th>Due Date</th></thead><tr><td></td><td>January | to March 31</td><td>04/30/20</td></tr><tr><td></td><td>April 1 to June 30</td><td>07/31/20</td></tr><tr><td></td><td>July 1 to September 30</td><td>11/02/20</td></tr><tr><td></td><td>October 1 to December 31</td><td>02/01/21</td></tr><tr><td></td><td>January 1 to December 31 (Annual Reconciliation Period)</td><td>03/01/21</td></tr></table>', metadata={'html_pdf_content': '-- Document title Weekly Wage Tax Due Date Chart for 2020, Weekly Wage Tax Due Date Chart for 2020, Semi-Monthly Wage Tax Due Date Chart for 2020, Semi-Monthly Wage Tax Periods, Monthly and Quarterly Wage Tax Due Date Charts for 2020, Monthly and Quarterly Wage Tax Due Date Charts for 2020 -- \\n-- Table title Monthly and Quarterly Wage Tax Due Date Charts for 2020 -- \\n<table><thead><th></th><th>Quarterly Wage Tax Periods</th><th></th></thead><thead><th>Period</th><th>Inclusive Date</th><th>Due Date</th></thead><tr><td></td><td>January | to March 31</td><td>04/30/20</td></tr><tr><td></td><td>April 1 to June 30</td><td>07/31/20</td></tr><tr><td></td><td>July 1 to September 30</td><td>11/02/20</td></tr><tr><td></td><td>October 1 to December 31</td><td>02/01/21</td></tr><tr><td></td><td>January 1 to December 31 (Annual Reconciliation Period)</td><td>03/01/21</td></tr></table>', 'doc_url': 'https://www.phila.gov/media/20191030085637/Wage-Tax-due-dates-2020-schedule-v1.pdf', 'parent_url': 'https://www.phila.gov/documents/wage-tax-due-dates/', 'id': 34.0})]\n"
     ]
    }
   ],
   "source": [
    "import os\n",
    "from databricks.vector_search.client import VectorSearchClient\n",
    "from langchain_community.vectorstores import DatabricksVectorSearch\n",
    "from langchain_community.embeddings import DatabricksEmbeddings\n",
    "from langchain.chains import RetrievalQA\n",
    "from langchain.schema.runnable import RunnableLambda\n",
    "from operator import itemgetter\n",
    "\n",
    "embedding_model = DatabricksEmbeddings(endpoint=\"databricks-bge-large-en\")\n",
    "\n",
    "host = \"https://\" + spark.conf.get(\"spark.databricks.workspaceUrl\")\n",
    "\n",
    "def get_retriever(persist_dir: str = None):\n",
    "    #Get the vector search index\n",
    "    # vsc = VectorSearchClient(workspace_url=host, personal_access_token=os.environ[\"DATABRICKS_TOKEN\"])\n",
    "    #vsc = VectorSearchClient(workspace_url=host, personal_access_token=dbutils.secrets.get(\"headlamp\", \"headlamp_dev_dhuang\"))\n",
    "    vsc = VectorSearchClient()\n",
    "    vs_index = vsc.get_index(\n",
    "        endpoint_name=vector_search_endpoint_name,\n",
    "        index_name=vs_index_fullname\n",
    "    )\n",
    "\n",
    "    # Create the retriever\n",
    "    vectorstore = DatabricksVectorSearch(\n",
    "        vs_index, text_column=\"chunks\", embedding=embedding_model, columns=[\"id\",\"html_pdf_content\", \"doc_url\",\"parent_url\"]\n",
    "    )\n",
    "    return vectorstore.as_retriever(search_kwargs={'k': 4})\n",
    "\n",
    "retriever = get_retriever()\n",
    "\n",
    "retrieve_document_chain = (\n",
    "    itemgetter(\"messages\") \n",
    "    | RunnableLambda(extract_question)\n",
    "    | retriever\n",
    ")\n",
    "print(retrieve_document_chain.invoke({\"messages\": [{\"role\": \"user\", \"content\": \"What are the exact due dates for 2013 wage tax filing?\"}]}))"
   ]
  },
  {
   "cell_type": "code",
   "execution_count": 0,
   "metadata": {
    "application/vnd.databricks.v1+cell": {
     "cellMetadata": {
      "byteLimit": 2048000,
      "rowLimit": 10000
     },
     "inputWidgets": {},
     "nuid": "ec967af2-4ac0-42de-a52e-aafeb0a2979d",
     "showTitle": false,
     "title": ""
    }
   },
   "outputs": [
    {
     "output_type": "stream",
     "name": "stdout",
     "output_type": "stream",
     "text": [
      "Test retriever query without history: What are the refunds for Philly?\nTest retriever question, summarized with history: What are the non-resident tax rates for 2018?\n"
     ]
    }
   ],
   "source": [
    "from langchain.schema.runnable import RunnableBranch\n",
    "\n",
    "generate_query_to_retrieve_context_template = \"\"\"\n",
    "Based on the chat history below, we want you to generate a query for an external data source to retrieve relevant documents so that we can better answer the question. The query should be in natual language. The external data source uses similarity search to search for relevant documents in a vector space. So the query should be similar to the relevant documents semantically. Answer with only the query. Do not add explanation.\n",
    "\n",
    "Chat history: {chat_history}\n",
    "\n",
    "Question: {question}\n",
    "\"\"\"\n",
    "\n",
    "generate_query_to_retrieve_context_prompt = PromptTemplate(\n",
    "  input_variables= [\"chat_history\", \"question\"],\n",
    "  template = generate_query_to_retrieve_context_template\n",
    ")\n",
    "\n",
    "generate_query_to_retrieve_context_chain = (\n",
    "    {\n",
    "        \"question\": itemgetter(\"messages\") | RunnableLambda(extract_question),\n",
    "        \"chat_history\": itemgetter(\"messages\") | RunnableLambda(extract_history),\n",
    "    }\n",
    "    | RunnableBranch(  #Augment query only when there is a chat history\n",
    "      (lambda x: x[\"chat_history\"], generate_query_to_retrieve_context_prompt | chat_model | StrOutputParser()),\n",
    "      (lambda x: not x[\"chat_history\"], RunnableLambda(lambda x: x[\"question\"])),\n",
    "      RunnableLambda(lambda x: x[\"question\"])\n",
    "    )\n",
    ")\n",
    "\n",
    "#Let's try it\n",
    "output = generate_query_to_retrieve_context_chain.invoke({\n",
    "    \"messages\": [\n",
    "        {\"role\": \"user\", \"content\": \"What are the refunds for Philly?\"}\n",
    "    ]\n",
    "})\n",
    "print(f\"Test retriever query without history: {output}\")\n",
    "\n",
    "output = generate_query_to_retrieve_context_chain.invoke({\n",
    "    \"messages\": [\n",
    "        {\"role\": \"user\", \"content\": \"What are the non-resident tax rates for 2018?\"}\n",
    "    ]\n",
    "})\n",
    "print(f\"Test retriever question, summarized with history: {output}\")"
   ]
  },
  {
   "cell_type": "code",
   "execution_count": 0,
   "metadata": {
    "application/vnd.databricks.v1+cell": {
     "cellMetadata": {
      "byteLimit": 2048000,
      "rowLimit": 10000
     },
     "inputWidgets": {},
     "nuid": "aba467f8-d084-425c-8ee2-a26c8323b092",
     "showTitle": false,
     "title": ""
    }
   },
   "outputs": [],
   "source": [
    "from langchain.schema.runnable import RunnableBranch, RunnableParallel, RunnablePassthrough\n",
    "\n",
    "question_with_history_and_context_str = \"\"\"\n",
    "You are a trustful assistant for Wage and tax users. You are answering wage and tax information related to the state of Pennsylvania. If you do not know the answer to a question, you truthfully say you do not know. Read the discussion to get the context of the previous conversation. In the chat discussion, you are referred to as \"system\". The user is referred to as \"user\".\n",
    "\n",
    "Discussion: {chat_history}\n",
    "\n",
    "Here's some context which might or might not help you answer: {context}\n",
    "The above context might contain a date or year. Please compare the year in the question and the year in the context and answer carefully.\n",
    "\n",
    "Based on this history and context, answer this question: {question}\n",
    "\"\"\"\n",
    "\n",
    "question_with_history_and_context_prompt = PromptTemplate(\n",
    "  input_variables= [\"chat_history\", \"context\", \"question\"],\n",
    "  template = question_with_history_and_context_str\n",
    ")\n",
    "\n",
    "def format_context(docs):\n",
    "    return \"\\n\\n\".join([d.page_content for d in docs])\n",
    "\n",
    "def extract_source_urls(docs):\n",
    "    return [d.metadata[\"doc_url\"] for d in docs]\n",
    "\n",
    "relevant_question_chain = (\n",
    "  RunnablePassthrough() |\n",
    "  {\n",
    "    \"relevant_docs\": generate_query_to_retrieve_context_prompt | chat_model | StrOutputParser() | retriever,\n",
    "    \"chat_history\": itemgetter(\"chat_history\"), \n",
    "    \"question\": itemgetter(\"question\")\n",
    "  }\n",
    "  |\n",
    "  {\n",
    "    \"context\": itemgetter(\"relevant_docs\") | RunnableLambda(format_context),\n",
    "    \"sources\": itemgetter(\"relevant_docs\") | RunnableLambda(extract_source_urls),\n",
    "    \"chat_history\": itemgetter(\"chat_history\"), \n",
    "    \"question\": itemgetter(\"question\")\n",
    "  }\n",
    "  |\n",
    "  {\n",
    "    \"prompt\": question_with_history_and_context_prompt,\n",
    "    \"sources\": itemgetter(\"sources\")\n",
    "  }\n",
    "  |\n",
    "  {\n",
    "    \"result\": itemgetter(\"prompt\") | chat_model | StrOutputParser(),\n",
    "    \"sources\": itemgetter(\"sources\")\n",
    "  }\n",
    ")\n",
    "\n",
    "irrelevant_question_chain = (\n",
    "  RunnableLambda(lambda x: {\"result\": 'I cannot answer questions that are not about Wages and taxes other than PA.', \"sources\": []})\n",
    ")\n",
    "\n",
    "branch_node = RunnableBranch(\n",
    "  (lambda x: \"yes\" in x[\"question_is_relevant\"].lower(), relevant_question_chain),\n",
    "  (lambda x: \"no\" in x[\"question_is_relevant\"].lower(), irrelevant_question_chain),\n",
    "  irrelevant_question_chain\n",
    ")\n",
    "\n",
    "full_chain = (\n",
    "  {\n",
    "    \"question_is_relevant\": is_about_databricks_chain,\n",
    "    \"question\": itemgetter(\"messages\") | RunnableLambda(extract_question),\n",
    "    \"chat_history\": itemgetter(\"messages\") | RunnableLambda(extract_history),    \n",
    "  }\n",
    "  | branch_node\n",
    ")"
   ]
  },
  {
   "cell_type": "code",
   "execution_count": 0,
   "metadata": {
    "application/vnd.databricks.v1+cell": {
     "cellMetadata": {
      "byteLimit": 2048000,
      "rowLimit": 10000
     },
     "inputWidgets": {},
     "nuid": "c337603e-15c9-4b6b-b914-1c4d2e4c1908",
     "showTitle": false,
     "title": ""
    }
   },
   "outputs": [],
   "source": [
    "def display_chat(chat_history, response):\n",
    "  def user_message_html(message):\n",
    "    return f\"\"\"\n",
    "      <div style=\"width: 90%; border-radius: 10px; background-color: #c2efff; padding: 10px; box-shadow: 2px 2px 2px #F7f7f7; margin-bottom: 10px; font-size: 14px;\">\n",
    "        {message}\n",
    "      </div>\"\"\"\n",
    "  def assistant_message_html(message):\n",
    "    return f\"\"\"\n",
    "      <div style=\"width: 90%; border-radius: 10px; background-color: #e3f6fc; padding: 10px; box-shadow: 2px 2px 2px #F7f7f7; margin-bottom: 10px; margin-left: 40px; font-size: 14px\">\n",
    "        <img style=\"float: left; width:40px; margin: -10px 5px 0px -10px\" src=\"https://github.com/databricks-demos/dbdemos-resources/blob/main/images/product/chatbot-rag/robot.png?raw=true\"/>\n",
    "        {message}\n",
    "      </div>\"\"\"\n",
    "  chat_history_html = \"\".join([user_message_html(m[\"content\"]) if m[\"role\"] == \"user\" else assistant_message_html(m[\"content\"]) for m in chat_history])\n",
    "  answer = response[\"result\"].replace('\\n', '<br/>')\n",
    "  sources_html = (\"<br/><br/><br/><strong>Sources:</strong><br/> <ul>\" + '\\n'.join([f\"\"\"<li><a href=\"{s}\">{s}</a></li>\"\"\" for s in response[\"sources\"]]) + \"</ul>\") if response[\"sources\"] else \"\"\n",
    "  response_html = f\"\"\"{answer}{sources_html}\"\"\"\n",
    "\n",
    "  displayHTML(chat_history_html + assistant_message_html(response_html))"
   ]
  },
  {
   "cell_type": "code",
   "execution_count": 0,
   "metadata": {
    "application/vnd.databricks.v1+cell": {
     "cellMetadata": {
      "byteLimit": 2048000,
      "rowLimit": 10000
     },
     "inputWidgets": {},
     "nuid": "c2657a45-ba2f-43b0-a5be-7fea4f5bc52c",
     "showTitle": false,
     "title": ""
    }
   },
   "outputs": [
    {
     "output_type": "stream",
     "name": "stdout",
     "output_type": "stream",
     "text": [
      "Testing with a non relevant question...\n"
     ]
    },
    {
     "output_type": "display_data",
     "data": {
      "text/html": [
       "\n",
       "      <div style=\"width: 90%; border-radius: 10px; background-color: #c2efff; padding: 10px; box-shadow: 2px 2px 2px #F7f7f7; margin-bottom: 10px; font-size: 14px;\">\n",
       "        Are there any discounts or exemptions available for the Wage Tax?\n",
       "      </div>\n",
       "      <div style=\"width: 90%; border-radius: 10px; background-color: #e3f6fc; padding: 10px; box-shadow: 2px 2px 2px #F7f7f7; margin-bottom: 10px; margin-left: 40px; font-size: 14px\">\n",
       "        <img style=\"float: left; width:40px; margin: -10px 5px 0px -10px\" src=\"https://github.com/databricks-demos/dbdemos-resources/blob/main/images/product/chatbot-rag/robot.png?raw=true\"/>\n",
       "        Taxability of Bonuses, Awards, and other similar payments - Bonuses, awards, leave time (vacation, holiday compensation), and incentive payments are subject to Philadelphia Wage Tax. With respect to a non-resident employee working partly outside Philadelphia, the taxpayer can exclude the percentage of time worked outside Philadelphia when the compensation was historically earned.\n",
       "      </div>\n",
       "      <div style=\"width: 90%; border-radius: 10px; background-color: #c2efff; padding: 10px; box-shadow: 2px 2px 2px #F7f7f7; margin-bottom: 10px; font-size: 14px;\">\n",
       "        When does Philadelphia charge the resident and non-resident tax rates change?\n",
       "      </div>\n",
       "      <div style=\"width: 90%; border-radius: 10px; background-color: #e3f6fc; padding: 10px; box-shadow: 2px 2px 2px #F7f7f7; margin-bottom: 10px; margin-left: 40px; font-size: 14px\">\n",
       "        <img style=\"float: left; width:40px; margin: -10px 5px 0px -10px\" src=\"https://github.com/databricks-demos/dbdemos-resources/blob/main/images/product/chatbot-rag/robot.png?raw=true\"/>\n",
       "        I cannot answer questions that are not about Wages and taxes other than PA.\n",
       "      </div>"
      ]
     },
     "metadata": {},
     "output_type": "display_data"
    }
   ],
   "source": [
    "import json\n",
    "non_relevant_dialog = {\n",
    "    \"messages\": [\n",
    "        {\"role\": \"user\", \"content\": \"Are there any discounts or exemptions available for the Wage Tax?\"}, \n",
    "        {\"role\": \"assistant\", \"content\": \"Taxability of Bonuses, Awards, and other similar payments - Bonuses, awards, leave time (vacation, holiday compensation), and incentive payments are subject to Philadelphia Wage Tax. With respect to a non-resident employee working partly outside Philadelphia, the taxpayer can exclude the percentage of time worked outside Philadelphia when the compensation was historically earned.\"}, \n",
    "        {\"role\": \"user\", \"content\": \"When does Philadelphia charge the resident and non-resident tax rates change?\"}\n",
    "    ]\n",
    "}\n",
    "print(f'Testing with a non relevant question...')\n",
    "response = full_chain.invoke(non_relevant_dialog)\n",
    "display_chat(non_relevant_dialog[\"messages\"], response)"
   ]
  },
  {
   "cell_type": "code",
   "execution_count": 0,
   "metadata": {
    "application/vnd.databricks.v1+cell": {
     "cellMetadata": {
      "byteLimit": 2048000,
      "rowLimit": 10000
     },
     "inputWidgets": {},
     "nuid": "74b5eaf5-4bc6-4faa-9629-34b5eec6cdd3",
     "showTitle": false,
     "title": ""
    }
   },
   "outputs": [
    {
     "output_type": "stream",
     "name": "stdout",
     "output_type": "stream",
     "text": [
      "Testing with relevant history and question...\n"
     ]
    },
    {
     "output_type": "display_data",
     "data": {
      "text/html": [
       "\n",
       "      <div style=\"width: 90%; border-radius: 10px; background-color: #c2efff; padding: 10px; box-shadow: 2px 2px 2px #F7f7f7; margin-bottom: 10px; font-size: 14px;\">\n",
       "        Given 2H 2021 tax rules, what's the tax rate for a Philly resident?\n",
       "      </div>\n",
       "      <div style=\"width: 90%; border-radius: 10px; background-color: #e3f6fc; padding: 10px; box-shadow: 2px 2px 2px #F7f7f7; margin-bottom: 10px; margin-left: 40px; font-size: 14px\">\n",
       "        <img style=\"float: left; width:40px; margin: -10px 5px 0px -10px\" src=\"https://github.com/databricks-demos/dbdemos-resources/blob/main/images/product/chatbot-rag/robot.png?raw=true\"/>\n",
       "        3.7900% (.037900) from July 1, 2021 to December 31, 2021.<br/><br/>Sources:<br/>{source\\_type=normal\\_text, file=2023-Wage-Tax-refund-salaried-employees-form-and-instructions.pdf, year=[2023]}<br/>{source\\_type=normal\\_text\\_short, file=Wage-Tax-non-resident-COVID-19-guidance-110520.pdf, year=[]}<br/><br/><br/><strong>Sources:</strong><br/> <ul><li><a href=\"https://www.phila.gov/media/20240131144329/2023-Wage-Tax-refund-salaried-employees-form-and-instructions.pdf\">https://www.phila.gov/media/20240131144329/2023-Wage-Tax-refund-salaried-employees-form-and-instructions.pdf</a></li>\n",
       "<li><a href=\"https://www.phila.gov/media/20201105092132/Wage-Tax-non-resident-COVID-19-guidance-110520.pdf\">https://www.phila.gov/media/20201105092132/Wage-Tax-non-resident-COVID-19-guidance-110520.pdf</a></li>\n",
       "<li><a href=\"https://www.phila.gov/media/20221026144150/2021-Residents-income-based-Wage-Tax-refund.pdf\">https://www.phila.gov/media/20221026144150/2021-Residents-income-based-Wage-Tax-refund.pdf</a></li>\n",
       "<li><a href=\"https://www.phila.gov/media/20230206102047/Non-residents-income-based-Wage-Tax-refund-form-2022.pdf\">https://www.phila.gov/media/20230206102047/Non-residents-income-based-Wage-Tax-refund-form-2022.pdf</a></li></ul>\n",
       "      </div>"
      ]
     },
     "metadata": {},
     "output_type": "display_data"
    }
   ],
   "source": [
    "dialog = {\n",
    "    \"messages\": [\n",
    "        {\"role\": \"user\", \"content\": \"Given 2H 2021 tax rules, what's the tax rate for a Philly resident?\"}\n",
    "    ]\n",
    "}\n",
    "print(f'Testing with relevant history and question...')\n",
    "response = full_chain.invoke(dialog)\n",
    "display_chat(dialog[\"messages\"], response)"
   ]
  },
  {
   "cell_type": "code",
   "execution_count": 0,
   "metadata": {
    "application/vnd.databricks.v1+cell": {
     "cellMetadata": {
      "byteLimit": 2048000,
      "rowLimit": 10000
     },
     "inputWidgets": {},
     "nuid": "79d49d57-de8b-469e-8f55-62bffb0ddca2",
     "showTitle": false,
     "title": ""
    }
   },
   "outputs": [
    {
     "output_type": "execute_result",
     "data": {
      "text/html": [
       "<table><tr><td>Married</td><td>$15,250</td><td>$24,750</td><td>$34,250</td><td>$43,750</td><td>$53,250</td><td>$62,750</td><td>$72,250</td></tr></table>Ver.20230711Ver.20230711www.phila.gov/revenue| refund.unit@phila.gov | (215) 686-65744481%</td><td></td></tr><br><tr><td></td><td>July 1, 2018</td><td></td><td>3.8809%</td><td></td><td>3.4567%</td><td></td></tr><br></tbody><br></table>"
      ],
      "text/plain": [
       "<IPython.core.display.HTML object>"
      ]
     },
     "execution_count": 30,
     "metadata": {},
     "output_type": "execute_result"
    }
   ],
   "source": [
    "from IPython.display import HTML\n",
    "HTML(\"<table><tr><td>Married</td><td>$15,250</td><td>$24,750</td><td>$34,250</td><td>$43,750</td><td>$53,250</td><td>$62,750</td><td>$72,250</td></tr></table>Ver.20230711Ver.20230711www.phila.gov/revenue| refund.unit@phila.gov | (215) 686-65744481%</td><td></td></tr><br><tr><td></td><td>July 1, 2018</td><td></td><td>3.8809%</td><td></td><td>3.4567%</td><td></td></tr><br></tbody><br></table>\")\n"
   ]
  },
  {
   "cell_type": "code",
   "execution_count": 0,
   "metadata": {
    "application/vnd.databricks.v1+cell": {
     "cellMetadata": {
      "byteLimit": 2048000,
      "rowLimit": 10000
     },
     "inputWidgets": {},
     "nuid": "7b41fbfe-caa7-40d3-a5ca-fe48e0a92bd6",
     "showTitle": false,
     "title": ""
    }
   },
   "outputs": [
    {
     "output_type": "display_data",
     "data": {
      "text/html": [
       "<style scoped>\n",
       "  .table-result-container {\n",
       "    max-height: 300px;\n",
       "    overflow: auto;\n",
       "  }\n",
       "  table, th, td {\n",
       "    border: 1px solid black;\n",
       "    border-collapse: collapse;\n",
       "  }\n",
       "  th, td {\n",
       "    padding: 5px;\n",
       "  }\n",
       "  th {\n",
       "    text-align: left;\n",
       "  }\n",
       "</style><div class='table-result-container'><table class='table-result'><thead style='background-color: white'><tr><th>question</th><th>id</th></tr></thead><tbody><tr><td>When does Philadelphia change the resident and non-resident tax rates change?</td><td>0</td></tr><tr><td>What is the normal processing time for a refund request reviewed by the Department of Revenue?</td><td>1</td></tr><tr><td>What were the tax rates for residents of Philadelphia in the year 2018?</td><td>2</td></tr><tr><td>What's the due date for 12/01/21-12/15/21 semi-monthly wage tax vs. Dec 2021 monthly wage tax as per 2021 schedule?</td><td>3</td></tr><tr><td>When should non-8hr workday hrs be logged in the Non-res. Wage Tax Refund Petition & Employer Cert. Template?</td><td>4</td></tr><tr><td>What is the wage tax rate for 2024?</td><td>5</td></tr><tr><td>What is the payment due date for the 02/22/24 check date for a monthly depositor?</td><td>6</td></tr><tr><td>What's needed in Line 2 & 2B of 2019's wage tax refund petition for commission staff, and its relation to non-Philadelphia sales activity?</td><td>7</td></tr><tr><td>How do Philly's 2021 WFH COVID-19 policies impact tax for non-resident employees with restricted stock vs cash bonuses?</td><td>8</td></tr><tr><td>When is the wage tax annual reconciliation due?</td><td>9</td></tr><tr><td>When are wage tax returns due?</td><td>10</td></tr><tr><td>When's the due date for the 46th week's tax in 2011 for a weekly-paid employee?</td><td>11</td></tr><tr><td>What is the payment due date for the 02/22/24 check date for a semi-monthly depositor?</td><td>12</td></tr><tr><td>What is the due date for the third quarter wage tax payment in 2023?</td><td>13</td></tr><tr><td>When's the due date for the 04/14-04/20/24 wage tax in the 2024 Philly Revenue Dept. schedule?</td><td>14</td></tr><tr><td>When's the payment due for a Philly business's wage tax period from 07/01/22 to 07/15/22?</td><td>15</td></tr><tr><td>What deposit cycles are available for wage tax payments?</td><td>16</td></tr><tr><td>What was the due date for the 27th weekly wage tax period in 2020?</td><td>17</td></tr><tr><td>What is the due date for the wage tax period beginning on 02/01/23 and ending on 02/15/23 in Philadelphia?</td><td>18</td></tr><tr><td>\"When was the \"\"2023 Income-based Wage Tax refund petition\"\" PDF released for eligible Philly residents?\"</td><td>19</td></tr><tr><td>When's the tax payment due for the 10/01/24-10/15/24 wage tax period?</td><td>20</td></tr><tr><td>What is the fastest way to receive a Wage Tax Refund in Philadelphia?</td><td>21</td></tr><tr><td>What is the purpose of IRS Form 2106 in the wage tax refund petition for salaried employees in 2018?</td><td>22</td></tr><tr><td>What are wage tax returns due for 2024?</td><td>23</td></tr><tr><td>What's the max income limit for a married individual with two dependents to qualify for PA's 2021 tax forgiveness refund?</td><td>24</td></tr><tr><td>What is Gross Compensation?</td><td>25</td></tr><tr><td>What is the resident tax rate for 2023?</td><td>26</td></tr><tr><td>What's the 2021 form for a Philly business requesting a tax overpayment refund?</td><td>27</td></tr><tr><td>What's the filing frequency for $350-$16k/month wage tax withholdings and its relation to W-2 submission in Philadelphia?</td><td>28</td></tr><tr><td>What is the payment due date for the 02/22/24 check date for a weekly depositor?</td><td>29</td></tr><tr><td>What are the penalties for a late wage tax return?</td><td>30</td></tr><tr><td>What's the % of Philly's resident tax rate for H2 2021 vs. the non-resident rate?</td><td>31</td></tr><tr><td>What was the due date for the 52nd weekly wage tax period in 2019?</td><td>32</td></tr><tr><td>\"How does the 2021 \"\"requirement of employment\"\" test for Philly's Wage Tax refunds impact eligibility and remote work convenience for nonresidents?\"</td><td>33</td></tr><tr><td>When's the due date for the post-Dec 15th period in the 2021 semi-monthly wage tax schedule?</td><td>34</td></tr><tr><td>What was the due date for the 52nd weekly wage tax period in 2016?</td><td>35</td></tr><tr><td>What is non-taxable Gross Compenstaion?</td><td>36</td></tr><tr><td>How were employers informed about Philly's income tax regulation changes by the Dept. of Revenue in 2020?</td><td>37</td></tr><tr><td>What's the expected wait time for a non-resident's online wage tax refund request in Philadelphia?</td><td>38</td></tr><tr><td>Given 2H 2021 tax rules, what's the tax rate for a Philly resident?</td><td>39</td></tr><tr><td>When's the 2015 Wage Tax Chart's due date for the period after 07/11/15?</td><td>40</td></tr><tr><td>When was the Oct. 1-15, 2011 semi-monthly wage tax deadline?</td><td>41</td></tr><tr><td>When are wage tax returns due for 2021?</td><td>42</td></tr><tr><td>What is the interest rate for late wage tax payments?</td><td>43</td></tr><tr><td>What is the procedure to file a Wage Tax refund petition in Philadelphia for the year 2022?</td><td>44</td></tr><tr><td>How is the quarterly wage tax return filed?</td><td>45</td></tr><tr><td>What's the max income for a married individual with three dependents to qualify for PA's 2022 tax forgiveness program?</td><td>46</td></tr><tr><td>What documents must be included in the 2023 Wage Tax Refund Petition for salaried employees?</td><td>47</td></tr><tr><td>Can I file a paper wage tax return?</td><td>48</td></tr><tr><td>When's the due date for 2020 earnings tax reconciliation if overwithheld in Philadelphia?</td><td>49</td></tr><tr><td>What are the requirements for a new Philadelphia employer?</td><td>50</td></tr><tr><td>What's the 2019 wage tax deadline for the period 06/30/19 - 07/06/19?</td><td>51</td></tr><tr><td>When's the due date for the 01/09/22-01/15/22 Philly wage tax period?</td><td>52</td></tr><tr><td>What is the requirement for entering hours worked in the non-resident Wage Tax petition for the year 2022?</td><td>53</td></tr><tr><td>How do I amend the annual wage tax return?</td><td>54</td></tr><tr><td>What were the reduced resident tax rates in Philadelphia for the year 2019?</td><td>55</td></tr><tr><td>What is the procedure for a non-resident of Philadelphia to allocate their compensation for services performed in and out of Philadelphia in 2020?</td><td>56</td></tr><tr><td>Does Philadelphia require W2 filing?</td><td>57</td></tr><tr><td>Per the Oct 12, 2023 Philly Wage Tax guidance, how do tax implications for non-resident remote workers due to childcare differ from those with workspace limitations?</td><td>58</td></tr><tr><td>How to calculate '23 Philly salaried employees' wage tax refund considering tax rates, gross pay, non-taxable stock options, total sales, out-of-town commissions, and non-reimbursed expenses?</td><td>59</td></tr><tr><td>What's the 2020 Philly Wage Tax guide for a part-time non-resident employee working in and out of the city?</td><td>60</td></tr><tr><td>What's the wage tax rate for a Philly resident, H2 2022?</td><td>61</td></tr><tr><td>When's the Q3 '19 Employee Earnings Tax return due, accounting for holidays/weekends?</td><td>62</td></tr><tr><td>What is the requirement for applicants to enter hours worked in the Non-resident Wage Tax Refund Petition form?</td><td>63</td></tr><tr><td>What is the due date for the quarterly wage tax period from July 1 to September 30 in 2021?</td><td>64</td></tr><tr><td>What are the penalties for a late wage tax payment?</td><td>65</td></tr><tr><td>What format is used to file the quarterly wage tax return?</td><td>66</td></tr><tr><td>When's the wage tax due for a Philly weekly earner for 01/15/23-01/21/23?</td><td>67</td></tr><tr><td>What is the tax policy for non-resident employees working remotely from Philadelphia during the COVID-19 pandemic in 2020?</td><td>68</td></tr><tr><td>How do I process a wage tax refund?</td><td>69</td></tr><tr><td>What is the due date for the wage tax period beginning on 10/15/23 and ending on 10/21/23?</td><td>70</td></tr><tr><td>What is the due date for the wage tax of March 2023 in Philadelphia?</td><td>71</td></tr><tr><td>When's the payment deadline for the 02/01/22-02/15/22 semi-monthly wage tax period in Philly?</td><td>72</td></tr><tr><td>Where do I find the tax return design specifications?</td><td>73</td></tr><tr><td>What is the payment due date for the 02/22/24 check date?</td><td>74</td></tr><tr><td>What's the tax rate for a 2022 H2 bonus for a Philly resident?</td><td>75</td></tr><tr><td>When are details of hours worked required in the 2022 Non-resident Wage Tax petition form?</td><td>76</td></tr><tr><td>Who can receive a wage tax refund?</td><td>77</td></tr><tr><td>What is the waiting period between creating a username and filing a return for the first time on the Philadelphia Tax Center's website?</td><td>78</td></tr><tr><td>When's the payment deadline for the 07/10/22-07/16/22 wage tax period in Philly?</td><td>79</td></tr><tr><td>What is the due date for the wage tax period beginning on 10/13/24 and ending on 10/19/24?</td><td>80</td></tr><tr><td>What's the 2020 deadline for annual reconciliation of Phila. employee earnings tax for both resident and non-resident?</td><td>81</td></tr><tr><td>How do I calculate the resident wage tax?</td><td>82</td></tr><tr><td>What is the Philadelphia Tax Center?</td><td>83</td></tr><tr><td>What is the average refund amount for a Philadelphia Wage Tax Refund?</td><td>84</td></tr><tr><td>How do I register for a Philadelphia wage tax account?</td><td>85</td></tr><tr><td>How do I amend the wage tax return?</td><td>86</td></tr><tr><td>How do I amend the quarterly wage tax return?</td><td>87</td></tr><tr><td>Are there any reporting requirements for Tipped employees?</td><td>88</td></tr><tr><td>What is the formula to calculate the net taxable compensation for commissioned employees in 2022?</td><td>89</td></tr><tr><td>How would 2021 Philly resident tax rates apply to income earned partly outside the city?</td><td>90</td></tr><tr><td>What was the due date for the semi-monthly wage tax period from 12/01/13 to 12/15/13 in the year 2013?</td><td>91</td></tr><tr><td>What can be done on the Philadelphia tax center?</td><td>92</td></tr><tr><td>What are the resident and non-resident tax rates for the year 2022 in Philadelphia?</td><td>93</td></tr><tr><td>When's the due date for the semi-monthly wage tax payment for 05/01/23-05/15/23 in Philly's 2023 Revenue Dept. schedule?</td><td>94</td></tr><tr><td>How do I close my wage tax account?</td><td>95</td></tr><tr><td>How do I calculate a non-resident tax for wage tax?</td><td>96</td></tr><tr><td>What were the non-resident tax rates in Philadelphia for the year 2021?</td><td>97</td></tr><tr><td>When's the due date for the 10/13/24-10/19/24 weekly wage tax as per Philly's 2024 revenue schedule?</td><td>98</td></tr><tr><td>How do Philly's 2021 WFH COVID-19 rules affect tax liabilities for non-resident employees receiving RSUs vs. cash bonuses, considering days worked in-city and office work policy?</td><td>99</td></tr><tr><td>When's the due date for the 01/14-01/20/24 wage tax in the 2024 Philly Revenue Dept. schedule?</td><td>100</td></tr><tr><td>How do I know what wage tax payment frequency should be used?</td><td>101</td></tr><tr><td>Which wages are exempt from wage tax withholding?</td><td>102</td></tr><tr><td>For PA's 2020 tax forgiveness program, what's the max eligibility income for a married person with 3 dependents seeking an income-based Wage Tax refund?</td><td>103</td></tr><tr><td>What wage tax payment method options are available?</td><td>104</td></tr><tr><td>What is the non-resident tax rate for 2024?</td><td>105</td></tr><tr><td>What are the steps to register a Disregarded Entity online on the Philadelphia Tax Center's website?</td><td>106</td></tr><tr><td>What is the payment due date for the 02/22/24 check date for a quarterly depositor?</td><td>107</td></tr><tr><td>Given the penalty rate alterations pre and post Jan 1, 2014, and the Tax Claim Principal Amount's accrual period, what's the annual interest rate?</td><td>108</td></tr><tr><td>What are the resident tax rates for the year 2019 according to the Wage Tax Refund Petition for Commission Employees?</td><td>109</td></tr><tr><td>What tax returns must be filed for wage tax?</td><td>110</td></tr><tr><td>How do non-taxable stock options (Form W2 box 14 Code V) and gross compensation (Form W-2) factor into the adjusted gross compensation calculation for the '23 Wage Tax refund form?</td><td>111</td></tr><tr><td>When's the wage tax due for Philly's weekly pay period of 01/09/22 - 01/15/22?</td><td>112</td></tr></tbody></table></div>"
      ]
     },
     "metadata": {
      "application/vnd.databricks.v1+output": {
       "addedWidgets": {},
       "aggData": [],
       "aggError": "",
       "aggOverflow": false,
       "aggSchema": [],
       "aggSeriesLimitReached": false,
       "aggType": "",
       "arguments": {},
       "columnCustomDisplayInfos": {},
       "data": [
        [
         "When does Philadelphia change the resident and non-resident tax rates change?",
         0
        ],
        [
         "What is the normal processing time for a refund request reviewed by the Department of Revenue?",
         1
        ],
        [
         "What were the tax rates for residents of Philadelphia in the year 2018?",
         2
        ],
        [
         "What's the due date for 12/01/21-12/15/21 semi-monthly wage tax vs. Dec 2021 monthly wage tax as per 2021 schedule?",
         3
        ],
        [
         "When should non-8hr workday hrs be logged in the Non-res. Wage Tax Refund Petition & Employer Cert. Template?",
         4
        ],
        [
         "What is the wage tax rate for 2024?",
         5
        ],
        [
         "What is the payment due date for the 02/22/24 check date for a monthly depositor?",
         6
        ],
        [
         "What's needed in Line 2 & 2B of 2019's wage tax refund petition for commission staff, and its relation to non-Philadelphia sales activity?",
         7
        ],
        [
         "How do Philly's 2021 WFH COVID-19 policies impact tax for non-resident employees with restricted stock vs cash bonuses?",
         8
        ],
        [
         "When is the wage tax annual reconciliation due?",
         9
        ],
        [
         "When are wage tax returns due?",
         10
        ],
        [
         "When's the due date for the 46th week's tax in 2011 for a weekly-paid employee?",
         11
        ],
        [
         "What is the payment due date for the 02/22/24 check date for a semi-monthly depositor?",
         12
        ],
        [
         "What is the due date for the third quarter wage tax payment in 2023?",
         13
        ],
        [
         "When's the due date for the 04/14-04/20/24 wage tax in the 2024 Philly Revenue Dept. schedule?",
         14
        ],
        [
         "When's the payment due for a Philly business's wage tax period from 07/01/22 to 07/15/22?",
         15
        ],
        [
         "What deposit cycles are available for wage tax payments?",
         16
        ],
        [
         "What was the due date for the 27th weekly wage tax period in 2020?",
         17
        ],
        [
         "What is the due date for the wage tax period beginning on 02/01/23 and ending on 02/15/23 in Philadelphia?",
         18
        ],
        [
         "\"When was the \"\"2023 Income-based Wage Tax refund petition\"\" PDF released for eligible Philly residents?\"",
         19
        ],
        [
         "When's the tax payment due for the 10/01/24-10/15/24 wage tax period?",
         20
        ],
        [
         "What is the fastest way to receive a Wage Tax Refund in Philadelphia?",
         21
        ],
        [
         "What is the purpose of IRS Form 2106 in the wage tax refund petition for salaried employees in 2018?",
         22
        ],
        [
         "What are wage tax returns due for 2024?",
         23
        ],
        [
         "What's the max income limit for a married individual with two dependents to qualify for PA's 2021 tax forgiveness refund?",
         24
        ],
        [
         "What is Gross Compensation?",
         25
        ],
        [
         "What is the resident tax rate for 2023?",
         26
        ],
        [
         "What's the 2021 form for a Philly business requesting a tax overpayment refund?",
         27
        ],
        [
         "What's the filing frequency for $350-$16k/month wage tax withholdings and its relation to W-2 submission in Philadelphia?",
         28
        ],
        [
         "What is the payment due date for the 02/22/24 check date for a weekly depositor?",
         29
        ],
        [
         "What are the penalties for a late wage tax return?",
         30
        ],
        [
         "What's the % of Philly's resident tax rate for H2 2021 vs. the non-resident rate?",
         31
        ],
        [
         "What was the due date for the 52nd weekly wage tax period in 2019?",
         32
        ],
        [
         "\"How does the 2021 \"\"requirement of employment\"\" test for Philly's Wage Tax refunds impact eligibility and remote work convenience for nonresidents?\"",
         33
        ],
        [
         "When's the due date for the post-Dec 15th period in the 2021 semi-monthly wage tax schedule?",
         34
        ],
        [
         "What was the due date for the 52nd weekly wage tax period in 2016?",
         35
        ],
        [
         "What is non-taxable Gross Compenstaion?",
         36
        ],
        [
         "How were employers informed about Philly's income tax regulation changes by the Dept. of Revenue in 2020?",
         37
        ],
        [
         "What's the expected wait time for a non-resident's online wage tax refund request in Philadelphia?",
         38
        ],
        [
         "Given 2H 2021 tax rules, what's the tax rate for a Philly resident?",
         39
        ],
        [
         "When's the 2015 Wage Tax Chart's due date for the period after 07/11/15?",
         40
        ],
        [
         "When was the Oct. 1-15, 2011 semi-monthly wage tax deadline?",
         41
        ],
        [
         "When are wage tax returns due for 2021?",
         42
        ],
        [
         "What is the interest rate for late wage tax payments?",
         43
        ],
        [
         "What is the procedure to file a Wage Tax refund petition in Philadelphia for the year 2022?",
         44
        ],
        [
         "How is the quarterly wage tax return filed?",
         45
        ],
        [
         "What's the max income for a married individual with three dependents to qualify for PA's 2022 tax forgiveness program?",
         46
        ],
        [
         "What documents must be included in the 2023 Wage Tax Refund Petition for salaried employees?",
         47
        ],
        [
         "Can I file a paper wage tax return?",
         48
        ],
        [
         "When's the due date for 2020 earnings tax reconciliation if overwithheld in Philadelphia?",
         49
        ],
        [
         "What are the requirements for a new Philadelphia employer?",
         50
        ],
        [
         "What's the 2019 wage tax deadline for the period 06/30/19 - 07/06/19?",
         51
        ],
        [
         "When's the due date for the 01/09/22-01/15/22 Philly wage tax period?",
         52
        ],
        [
         "What is the requirement for entering hours worked in the non-resident Wage Tax petition for the year 2022?",
         53
        ],
        [
         "How do I amend the annual wage tax return?",
         54
        ],
        [
         "What were the reduced resident tax rates in Philadelphia for the year 2019?",
         55
        ],
        [
         "What is the procedure for a non-resident of Philadelphia to allocate their compensation for services performed in and out of Philadelphia in 2020?",
         56
        ],
        [
         "Does Philadelphia require W2 filing?",
         57
        ],
        [
         "Per the Oct 12, 2023 Philly Wage Tax guidance, how do tax implications for non-resident remote workers due to childcare differ from those with workspace limitations?",
         58
        ],
        [
         "How to calculate '23 Philly salaried employees' wage tax refund considering tax rates, gross pay, non-taxable stock options, total sales, out-of-town commissions, and non-reimbursed expenses?",
         59
        ],
        [
         "What's the 2020 Philly Wage Tax guide for a part-time non-resident employee working in and out of the city?",
         60
        ],
        [
         "What's the wage tax rate for a Philly resident, H2 2022?",
         61
        ],
        [
         "When's the Q3 '19 Employee Earnings Tax return due, accounting for holidays/weekends?",
         62
        ],
        [
         "What is the requirement for applicants to enter hours worked in the Non-resident Wage Tax Refund Petition form?",
         63
        ],
        [
         "What is the due date for the quarterly wage tax period from July 1 to September 30 in 2021?",
         64
        ],
        [
         "What are the penalties for a late wage tax payment?",
         65
        ],
        [
         "What format is used to file the quarterly wage tax return?",
         66
        ],
        [
         "When's the wage tax due for a Philly weekly earner for 01/15/23-01/21/23?",
         67
        ],
        [
         "What is the tax policy for non-resident employees working remotely from Philadelphia during the COVID-19 pandemic in 2020?",
         68
        ],
        [
         "How do I process a wage tax refund?",
         69
        ],
        [
         "What is the due date for the wage tax period beginning on 10/15/23 and ending on 10/21/23?",
         70
        ],
        [
         "What is the due date for the wage tax of March 2023 in Philadelphia?",
         71
        ],
        [
         "When's the payment deadline for the 02/01/22-02/15/22 semi-monthly wage tax period in Philly?",
         72
        ],
        [
         "Where do I find the tax return design specifications?",
         73
        ],
        [
         "What is the payment due date for the 02/22/24 check date?",
         74
        ],
        [
         "What's the tax rate for a 2022 H2 bonus for a Philly resident?",
         75
        ],
        [
         "When are details of hours worked required in the 2022 Non-resident Wage Tax petition form?",
         76
        ],
        [
         "Who can receive a wage tax refund?",
         77
        ],
        [
         "What is the waiting period between creating a username and filing a return for the first time on the Philadelphia Tax Center's website?",
         78
        ],
        [
         "When's the payment deadline for the 07/10/22-07/16/22 wage tax period in Philly?",
         79
        ],
        [
         "What is the due date for the wage tax period beginning on 10/13/24 and ending on 10/19/24?",
         80
        ],
        [
         "What's the 2020 deadline for annual reconciliation of Phila. employee earnings tax for both resident and non-resident?",
         81
        ],
        [
         "How do I calculate the resident wage tax?",
         82
        ],
        [
         "What is the Philadelphia Tax Center?",
         83
        ],
        [
         "What is the average refund amount for a Philadelphia Wage Tax Refund?",
         84
        ],
        [
         "How do I register for a Philadelphia wage tax account?",
         85
        ],
        [
         "How do I amend the wage tax return?",
         86
        ],
        [
         "How do I amend the quarterly wage tax return?",
         87
        ],
        [
         "Are there any reporting requirements for Tipped employees?",
         88
        ],
        [
         "What is the formula to calculate the net taxable compensation for commissioned employees in 2022?",
         89
        ],
        [
         "How would 2021 Philly resident tax rates apply to income earned partly outside the city?",
         90
        ],
        [
         "What was the due date for the semi-monthly wage tax period from 12/01/13 to 12/15/13 in the year 2013?",
         91
        ],
        [
         "What can be done on the Philadelphia tax center?",
         92
        ],
        [
         "What are the resident and non-resident tax rates for the year 2022 in Philadelphia?",
         93
        ],
        [
         "When's the due date for the semi-monthly wage tax payment for 05/01/23-05/15/23 in Philly's 2023 Revenue Dept. schedule?",
         94
        ],
        [
         "How do I close my wage tax account?",
         95
        ],
        [
         "How do I calculate a non-resident tax for wage tax?",
         96
        ],
        [
         "What were the non-resident tax rates in Philadelphia for the year 2021?",
         97
        ],
        [
         "When's the due date for the 10/13/24-10/19/24 weekly wage tax as per Philly's 2024 revenue schedule?",
         98
        ],
        [
         "How do Philly's 2021 WFH COVID-19 rules affect tax liabilities for non-resident employees receiving RSUs vs. cash bonuses, considering days worked in-city and office work policy?",
         99
        ],
        [
         "When's the due date for the 01/14-01/20/24 wage tax in the 2024 Philly Revenue Dept. schedule?",
         100
        ],
        [
         "How do I know what wage tax payment frequency should be used?",
         101
        ],
        [
         "Which wages are exempt from wage tax withholding?",
         102
        ],
        [
         "For PA's 2020 tax forgiveness program, what's the max eligibility income for a married person with 3 dependents seeking an income-based Wage Tax refund?",
         103
        ],
        [
         "What wage tax payment method options are available?",
         104
        ],
        [
         "What is the non-resident tax rate for 2024?",
         105
        ],
        [
         "What are the steps to register a Disregarded Entity online on the Philadelphia Tax Center's website?",
         106
        ],
        [
         "What is the payment due date for the 02/22/24 check date for a quarterly depositor?",
         107
        ],
        [
         "Given the penalty rate alterations pre and post Jan 1, 2014, and the Tax Claim Principal Amount's accrual period, what's the annual interest rate?",
         108
        ],
        [
         "What are the resident tax rates for the year 2019 according to the Wage Tax Refund Petition for Commission Employees?",
         109
        ],
        [
         "What tax returns must be filed for wage tax?",
         110
        ],
        [
         "How do non-taxable stock options (Form W2 box 14 Code V) and gross compensation (Form W-2) factor into the adjusted gross compensation calculation for the '23 Wage Tax refund form?",
         111
        ],
        [
         "When's the wage tax due for Philly's weekly pay period of 01/09/22 - 01/15/22?",
         112
        ]
       ],
       "datasetInfos": [],
       "dbfsResultPath": null,
       "isJsonSchema": true,
       "metadata": {},
       "overflow": false,
       "plotOptions": {
        "customPlotOptions": {},
        "displayType": "table",
        "pivotAggregation": null,
        "pivotColumns": null,
        "xColumns": null,
        "yColumns": null
       },
       "removedWidgets": [],
       "schema": [
        {
         "metadata": "{}",
         "name": "question",
         "type": "\"string\""
        },
        {
         "metadata": "{}",
         "name": "id",
         "type": "\"long\""
        }
       ],
       "type": "table"
      }
     },
     "output_type": "display_data"
    }
   ],
   "source": [
    "from pyspark.sql.functions import monotonically_increasing_id, col\n",
    "from pyspark.sql.types import StructType, StructField, StringType\n",
    "\n",
    "df1 = spark.read.option(\"delimiter\",\"|\").csv(\"dbfs:/Volumes/prasanna/crawler_2/eval/*.csv\", header=True, inferSchema=True)\n",
    "df1 = df1.withColumn(\"id\", monotonically_increasing_id())\n",
    "\n",
    "display(df1)"
   ]
  },
  {
   "cell_type": "code",
   "execution_count": 0,
   "metadata": {
    "application/vnd.databricks.v1+cell": {
     "cellMetadata": {
      "byteLimit": 2048000,
      "rowLimit": 10000
     },
     "inputWidgets": {},
     "nuid": "3e501363-3bc7-4623-8a78-4bc25515fb81",
     "showTitle": false,
     "title": ""
    }
   },
   "outputs": [
    {
     "output_type": "stream",
     "name": "stdout",
     "output_type": "stream",
     "text": [
      "When does Philadelphia change the resident and non-resident tax rates change?\nResponse --  {'result': '1. For residents, the tax rate changes twice a year. From January 1, 2023, to June 30, 2023, the rate is 3.7900% (.037900), and from July 1, 2023, to December 31, 2023, the rate is 3.7500% (.037500).\\n2. For non-residents, the tax rate remains the same throughout the year. From January 1, 2023, to December 31, 2023, the rate is 3.4400% (.034400).\\n\\nPlease note that these rates are for the year 2023, as stated in the provided context. The rates for other years may be different.', 'sources': ['https://www.phila.gov/media/20201015094507/Earnings-Tax-return-2020.pdf', 'https://www.phila.gov/media/20230206102047/Non-residents-income-based-Wage-Tax-refund-form-2022.pdf', 'https://www.phila.gov/media/20240131144329/2023-Wage-Tax-refund-salaried-employees-form-and-instructions.pdf', 'https://www.phila.gov/media/20231024112123/UPDATED-Wage-Tax-policy-guidance-for-non-resident-employees.pdf']}\nWhat is the normal processing time for a refund request reviewed by the Department of Revenue?\nResponse --  {'result': 'I cannot answer questions that are not about Wages and taxes other than PA.', 'sources': []}\nWhat were the tax rates for residents of Philadelphia in the year 2018?\nResponse --  {'result': \"I'm sorry for any confusion, but the context provided does not include the tax rates for residents of Philadelphia in the year 2018. The context includes tax rates for the year 2023 and instructions for filing a refund for non-residents for the tax year 2022. If you have any questions about the 2018 tax rates, I can try to find that information for you, but I would need to look it up in a different source.\", 'sources': ['https://www.phila.gov/media/20240131144329/2023-Wage-Tax-refund-salaried-employees-form-and-instructions.pdf', 'https://www.phila.gov/media/20201105092132/Wage-Tax-non-resident-COVID-19-guidance-110520.pdf', 'https://www.phila.gov/media/20230206102047/Non-residents-income-based-Wage-Tax-refund-form-2022.pdf', 'https://www.phila.gov/media/20231024112123/UPDATED-Wage-Tax-policy-guidance-for-non-resident-employees.pdf']}\nWhat's the due date for 12/01/21-12/15/21 semi-monthly wage tax vs. Dec 2021 monthly wage tax as per 2021 schedule?\nResponse --  {'result': ' The due date for the semi-monthly wage tax period of 12/01/21-12/15/21 is 12/20/21, while the due date for the monthly wage tax for December 2021 is also 12/20/21.', 'sources': ['https://www.phila.gov/media/20201021083908/2021-Wage-semi-monthly-tax-due-dates.pdf', 'https://www.phila.gov/media/20201021083906/Wage-Tax-due-dates-2021-schedule-v1.pdf', 'https://www.phila.gov/media/20201021084110/2021-Wage-Monthly-and-Quarterly-Tax-Due-dates.pdf', 'https://www.phila.gov/media/20191030085637/Wage-Tax-due-dates-2020-schedule-v1.pdf']}\nWhen should non-8hr workday hrs be logged in the Non-res. Wage Tax Refund Petition & Employer Cert. Template?\nResponse --  {'result': '\\nNon-work days or hours, such as weekends, vacation, holidays, sick or any type of leave time, should be included in the calculation of the wage tax refund for non-residents of Philadelphia. However, the provided context does not contain a specific template for the Non-res. Wage Tax Refund Petition & Employer Cert. Template.\\n\\nIn general, non-work hours can be included in the calculation of the wage tax refund by determining the number of hours worked in Philadelphia and subtracting the non-work hours. The resulting number is the amount of time spent working in Philadelphia, which can be used to calculate the wage tax refund.\\n\\nIt is recommended to consult the instructions provided with the Non-res. Wage Tax Refund Petition & Employer Cert. Template for specific guidance on how to log non-work hours. If the template requires the entry of hours worked, non-work hours can be included as hours not worked in Philadelphia. If the template requires the entry of wages earned in Philadelphia, non-work hours can be subtracted from the total wages earned to determine the amount of wages earned in Philadelphia.', 'sources': ['https://www.phila.gov/media/20191218101514/Wage-Tax-refund-petition-salaried-employees-2019.pdf', 'https://www.phila.gov/media/20230303142337/Refund-dates-and-locations-2022-template.pdf', 'https://www.phila.gov/media/20230206102047/Non-residents-income-based-Wage-Tax-refund-form-2022.pdf', 'https://www.phila.gov/media/20240131145157/2023-Wage-Tax-refund-commissioned-employees-form-instructions.pdf']}\nWhat is the wage tax rate for 2024?\nResponse --  {'result': \"I don't have the exact wage tax rates for 2024, as the context provided only includes the wage tax rates for the years 2023 and earlier. However, based on the provided context, I can tell you that the wage tax rates for non-residents and residents in Philadelphia may change every six months. For specific information on the wage tax rates for 2024, I would recommend checking the official Philadelphia government website or contacting a tax professional.\", 'sources': ['https://www.phila.gov/media/20201021084110/2021-Wage-Monthly-and-Quarterly-Tax-Due-dates.pdf', 'https://www.phila.gov/media/20231211101658/Earnings-Tax-2024-due-dates.pdf', 'https://www.phila.gov/media/20240131144329/2023-Wage-Tax-refund-salaried-employees-form-and-instructions.pdf', 'https://www.phila.gov/media/20201021083908/2021-Wage-semi-monthly-tax-due-dates.pdf']}\nWhat is the payment due date for the 02/22/24 check date for a monthly depositor?\nResponse --  {'result': '03/05/24\\n\\nExplanation:\\n\\nBased on the provided document titled \"City of Philadelphia Department of Revenue, 2024 WAGE SCHEDULE, Payment Frequency: Weekly, July 1st to September 30th\", I can provide the answer.\\n\\nTo find the due date for the 02/22/24 check date, we need to first identify the period in which 02/22/24 falls. Since the table provided is for the period of July 1st to September 30th, 2024, we need to determine if February 22, 2024, falls within this period. However, since February has only 28 or 29 days, it is not possible for February 22 to be in the period covered by the table.\\n\\nTherefore, I cannot provide an answer based on the given context and table. However, if we assume that the question is referring to a monthly depositor and the check date is simply a typo, with the correct date being 03/22/24, then the due date for the 03/22/24 check date for a monthly depositor would be 04/05/24, as per the table.\\n\\nFor the sake of providing an answer, I will assume that the check date is 03/22/24 instead of 02/22/24. In this case, the due date for the 03/22/24 check date for a monthly depositor is 04/05/24.', 'sources': ['https://www.phila.gov/media/20211008112848/Wage-Tax-due-dates-2022-1st-and-2nd-quarters-WEB.pdf', 'https://www.phila.gov/media/20211008113935/2022-Wage-semi-monthly-tax-due-dates.pdf', 'https://www.phila.gov/media/20211008113517/Wage-Tax-due-dates-2022-3rd-and-4th-quarters-for-WEB.pdf', 'https://www.phila.gov/media/20231211095959/2024-Wage-Tax-weekly-Q3-and-Q4-due-dates.pdf']}\nWhat's needed in Line 2 & 2B of 2019's wage tax refund petition for commission staff, and its relation to non-Philadelphia sales activity?\nResponse --  {'result': \"1. Line 2 of the 2019 Wage Tax Refund Petition for commission employees requires the total amount of wages, fees, and other compensation earned as a non-resident of Philadelphia. This includes any income earned from sales activity performed outside of Philadelphia.\\n\\n2. Line 2B specifically asks for a breakdown of sales activity performed outside of Philadelphia, including the client's name, address, and sales amounts attributable to each client. This information is necessary to support the claim for a refund of City Wage Tax withheld by the employer for non-Philadelphia sales activity.\\n\\n3. The purpose of requesting this information is to ensure that non-residents of Philadelphia are not taxed on income earned outside of the city, as stated in the instructions provided in the context.\", 'sources': ['https://www.phila.gov/media/20191218101013/Wage-Tax-refund-petition-commission-employees-2019.pdf', 'https://www.phila.gov/media/20210204170256/2020-Wage-Tax-refund-petition-commission.pdf', 'https://www.phila.gov/media/20230206102047/Non-residents-income-based-Wage-Tax-refund-form-2022.pdf', 'https://www.phila.gov/media/20240131145157/2023-Wage-Tax-refund-commissioned-employees-form-instructions.pdf']}\nHow do Philly's 2021 WFH COVID-19 policies impact tax for non-resident employees with restricted stock vs cash bonuses?\nResponse --  {'result': '1. For non-resident employees who received restricted stock in 2021 while working from home due to COVID-19, the taxable percentage of the restricted stock would be based on the percentage of time they physically worked in Philadelphia during the year.\\n2. For cash bonuses paid in 2023 to non-resident employees who worked from home in 2021, the taxable percentage of the bonus would also be based on the percentage of time the employee physically worked in Philadelphia during 2021.\\n3. The tax rates for 2023 are as follows:\\n\\t* Resident Rates:\\n\\t\\t+ January 1, 2023 to June 30, 2023: 3.7900% (.037900)\\n\\t\\t+ July 1, 2023 to December 31, 2023: 3.7500% (.037500)\\n\\t* Non-Resident Rates:\\n\\t\\t+ January 1, 2023 to June 30, 2023: 3.4400% (.034400)\\n\\t\\t+ July 1, 2023 to December 31, 2023: 3.4400% (.034400)\\n4. Any claim for refund must be filed within three (3) years from the date the tax was paid or due, whichever date is later.\\n5. Employers are required to withhold and remit Wage Tax on behalf of their employees who are Philadelphia residents, regardless of where they perform their duties.', 'sources': ['https://www.phila.gov/media/20201105092132/Wage-Tax-non-resident-COVID-19-guidance-110520.pdf', 'https://www.phila.gov/media/20240131144329/2023-Wage-Tax-refund-salaried-employees-form-and-instructions.pdf', 'https://www.phila.gov/media/20231024112123/UPDATED-Wage-Tax-policy-guidance-for-non-resident-employees.pdf', 'https://www.phila.gov/media/20201015094507/Earnings-Tax-return-2020.pdf']}\nWhen is the wage tax annual reconciliation due?\nResponse --  {'result': '02/28/22 for the 2021 wage tax annual reconciliation.', 'sources': ['https://www.phila.gov/media/20201021084110/2021-Wage-Monthly-and-Quarterly-Tax-Due-dates.pdf', 'https://www.phila.gov/media/20201015094507/Earnings-Tax-return-2020.pdf', 'https://www.phila.gov/media/20161121153402/2012-Wage-Tax-Due-Dates.pdf', 'https://www.phila.gov/media/20161121153405/2011-Wage-Tax-Due-Dates.pdf']}\nWhen are wage tax returns due?\nResponse --  {'result': '\\nIn the City of Philadelphia, wage tax returns are due on a quarterly basis. The due dates for each quarter in 2021 are as follows:\\n\\n- January 1 to March 31: April 30, 2021\\n- April 1 to June 30: August 2, 2021\\n- July 1 to September 30: November 1, 2021\\n- October 1 to December 31: January 31, 2022 (this is also the annual reconciliation period)\\n\\nFor residents who are seeking a wage tax refund, the deadline for filing a petition is not specified in the provided context. However, it is encouraged to file through the Philadelphia Tax Center to avoid delays.\\n\\nIt is important to note that the above information is specific to the wage tax returns and refunds in the City of Philadelphia, Pennsylvania, and the deadlines may vary for other jurisdictions.', 'sources': ['https://www.phila.gov/media/20230206101743/Residents-income-based-Wage-Tax-refund-2022.pdf', 'https://www.phila.gov/media/20201021084110/2021-Wage-Monthly-and-Quarterly-Tax-Due-dates.pdf', 'https://www.phila.gov/media/20240212102153/2023-residents-income-based-Wage-Tax-refund.pdf', 'https://www.phila.gov/media/20220216111153/Wage-Tax-refund-Covid-EZ-form-2021-instructions.pdf']}\nWhen's the due date for the 46th week's tax in 2011 for a weekly-paid employee?\nResponse --  {'result': \"I'm sorry for any confusion, but the provided context does not include information for the tax due dates for the year 2011. The documents provided pertain to the years 2022 and 2024. Therefore, I'm unable to provide an accurate answer to your question.\", 'sources': ['https://www.phila.gov/media/20211008113517/Wage-Tax-due-dates-2022-3rd-and-4th-quarters-for-WEB.pdf', 'https://www.phila.gov/media/20211008112848/Wage-Tax-due-dates-2022-1st-and-2nd-quarters-WEB.pdf', 'https://www.phila.gov/media/20201021085824/Earnings-Tax-due-dates-2021-schedule.pdf', 'https://www.phila.gov/media/20231211095959/2024-Wage-Tax-weekly-Q3-and-Q4-due-dates.pdf']}\nWhat is the payment due date for the 02/22/24 check date for a semi-monthly depositor?\nResponse --  {'result': '03/05/24 (based on the Semi-Monthly Wage Tax Due Date Chart for 2021, assuming the same pattern applies for 2024).', 'sources': ['https://www.phila.gov/media/20211008113935/2022-Wage-semi-monthly-tax-due-dates.pdf', 'https://www.phila.gov/media/20231211100446/Wage-2024-semi-monthly-tax-due-dates.pdf', 'https://www.phila.gov/media/20201021083908/2021-Wage-semi-monthly-tax-due-dates.pdf', 'https://www.phila.gov/media/20211008112848/Wage-Tax-due-dates-2022-1st-and-2nd-quarters-WEB.pdf']}\nWhat is the due date for the third quarter wage tax payment in 2023?\nResponse --  {'result': ' The due date for the third quarter wage tax payment in 2023 is October 31, 2023. This is based on the Earnings Tax Due Date Chart for 2023 provided in the context. The third quarter runs from July 1 to September 30, and the due date for the wage tax payment for this quarter is the last day of the following month, which is October 31, 2023.', 'sources': ['https://www.phila.gov/media/20230427104025/Earnings-Tax-2023-due-dates.pdf', 'https://www.phila.gov/media/20221230115025/Wage-Tax-2023-monthly-due-dates.pdf', 'https://www.phila.gov/media/20230118130428/2023-Wage-Tax-weekly-Q3-and-Q4-due-dates.pdf', 'https://www.phila.gov/media/20230118130334/2023-Wage-Tax-weekly-Q1-andQ2-due-dates.pdf']}\nWhen's the due date for the 04/14-04/20/24 wage tax in the 2024 Philly Revenue Dept. schedule?\nResponse --  {'result': \"04/30/24\\n\\nExplanation:\\nThe table provided in the context refers to the wage schedule for the period of October 1st to December 31st, 2024. However, the specific wage period of 04/14-04/20/24 is not included in this table.\\n\\nHowever, based on the information provided in the context, the wage tax due dates for the City of Philadelphia Department of Revenue are typically the 15th of the month following the end of the wage period. Therefore, assuming the wage period of 04/14-04/20/24 follows the same pattern, the due date for the wage tax would be the 15th day of the following month, which is 04/30/24.\\n\\nIt's important to note that this is an assumption based on the provided context, and the actual due date may vary depending on the official wage schedule provided by the City of Philadelphia Department of Revenue.\", 'sources': ['https://www.phila.gov/media/20231211100247/Wage-Tax-2024-monthly-due-dates.pdf', 'https://www.phila.gov/media/20231211095744/2024-Wage-Tax-weekly-Q1-and-Q2-due-dates.pdf', 'https://www.phila.gov/media/20230118130428/2023-Wage-Tax-weekly-Q3-and-Q4-due-dates.pdf', 'https://www.phila.gov/media/20221230115025/Wage-Tax-2023-monthly-due-dates.pdf']}\nWhen's the payment due for a Philly business's wage tax period from 07/01/22 to 07/15/22?\nResponse --  {'result': \" Based on the provided document, the payment due for a Philly business's wage tax period from 07/01/22 to 07/15/22 is 07/20/22.\", 'sources': ['https://www.phila.gov/media/20211008113517/Wage-Tax-due-dates-2022-3rd-and-4th-quarters-for-WEB.pdf', 'https://www.phila.gov/media/20211008114619/2022-Wage-Tax-quarterly-due-dates.pdf', 'https://www.phila.gov/media/20231211095959/2024-Wage-Tax-weekly-Q3-and-Q4-due-dates.pdf', 'https://www.phila.gov/media/20231211100247/Wage-Tax-2024-monthly-due-dates.pdf']}\nWhat deposit cycles are available for wage tax payments?\nResponse --  {'result': '1. Weekly wage tax periods\\n2. Semi-monthly wage tax periods\\n3. Monthly wage tax periods\\n4. Quarterly wage tax periods\\n\\nThe specific dates for each cycle can be found in the provided documents. For example, the semi-monthly wage tax periods for 2021 can be found in the table under the document title \"Semi-Monthly Wage Tax Due Date Chart for 2021\".', 'sources': ['https://www.phila.gov/media/20161121153504/2010-Wage-Tax-Due-Dates.pdf', 'https://www.phila.gov/media/20161121153402/2012-Wage-Tax-Due-Dates.pdf', 'https://www.phila.gov/media/20201021083906/Wage-Tax-due-dates-2021-schedule-v1.pdf', 'https://www.phila.gov/media/20201021083908/2021-Wage-semi-monthly-tax-due-dates.pdf']}\nWhat was the due date for the 27th weekly wage tax period in 2020?\nResponse --  {'result': '03/01/21\\n\\nBased on the Weekly Wage Tax Due Date Chart for 2021, the 27th weekly wage tax period in 2020 would have ended on 12/31/20, which falls under the Quarterly Wage Tax Period of January 1 to December 31 (Annual Reconciliation Period). The due date for this period is 03/01/21.', 'sources': ['https://www.phila.gov/media/20191030085637/Wage-Tax-due-dates-2020-schedule-v1.pdf', 'https://www.phila.gov/media/20201021083906/Wage-Tax-due-dates-2021-schedule-v1.pdf', 'https://www.phila.gov/media/20201021084110/2021-Wage-Monthly-and-Quarterly-Tax-Due-dates.pdf', 'https://www.phila.gov/media/20230118130334/2023-Wage-Tax-weekly-Q1-andQ2-due-dates.pdf']}\nWhat is the due date for the wage tax period beginning on 02/01/23 and ending on 02/15/23 in Philadelphia?\nResponse --  {'result': '02/18/23 is the due date for the wage tax period beginning on 02/01/23 and ending on 02/15/23 in Philadelphia, based on the City of Philadelphia Department of Revenue 2023 WAGE SCHEDULE for monthly payment frequency.', 'sources': ['https://www.phila.gov/media/20211008112848/Wage-Tax-due-dates-2022-1st-and-2nd-quarters-WEB.pdf', 'https://www.phila.gov/media/20211008113517/Wage-Tax-due-dates-2022-3rd-and-4th-quarters-for-WEB.pdf', 'https://www.phila.gov/media/20211008113935/2022-Wage-semi-monthly-tax-due-dates.pdf', 'https://www.phila.gov/media/20221230115025/Wage-Tax-2023-monthly-due-dates.pdf']}\n\"When was the \"\"2023 Income-based Wage Tax refund petition\"\" PDF released for eligible Philly residents?\"\nResponse --  {'result': '\\nThe \"2023 Income-based Wage Tax refund petition\" PDF was released for eligible Philly residents in January 2023, as indicated by the version date \"Ver.20230120\" in the document.', 'sources': ['https://www.phila.gov/media/20230206102047/Non-residents-income-based-Wage-Tax-refund-form-2022.pdf', 'https://www.phila.gov/media/20240212102153/2023-residents-income-based-Wage-Tax-refund.pdf', 'https://www.phila.gov/media/20230206101743/Residents-income-based-Wage-Tax-refund-2022.pdf', 'https://www.phila.gov/media/20221026144150/2021-Residents-income-based-Wage-Tax-refund.pdf']}\nWhen's the tax payment due for the 10/01/24-10/15/24 wage tax period?\nResponse --  {'result': ' Based on the provided document titled \"City of Philadelphia Department of Revenue 2022 WAGE Due Dates, Payment Frequency: Semi Monthly, January 1st to March 31st\", the table titled \"January 1st to March 31st\" shows the due dates for semi-monthly wage tax payments for the period of January 1st to March 31st, 2022. I am unable to find information about wage tax payment due dates for the year 2024 in the provided context.\\n\\nHowever, based on the pattern in the table for 2022, the tax payment for the 10/01/24-10/15/24 wage tax period would likely be due on 10/18/24 (the third business day of the month following the period end). Please verify this information with the City of Philadelphia Department of Revenue or consult the official wage tax due date chart for the year 2024.', 'sources': ['https://www.phila.gov/media/20211008112848/Wage-Tax-due-dates-2022-1st-and-2nd-quarters-WEB.pdf', 'https://www.phila.gov/media/20201021083908/2021-Wage-semi-monthly-tax-due-dates.pdf', 'https://www.phila.gov/media/20190515090033/Wage-Tax-due-dates-2019-schedule.pdf', 'https://www.phila.gov/media/20211008113935/2022-Wage-semi-monthly-tax-due-dates.pdf']}\nWhat is the fastest way to receive a Wage Tax Refund in Philadelphia?\nResponse --  {'result': '1. Based on the provided context, the fastest way to receive a Wage Tax Refund in Philadelphia is by filing electronically through the Philadelphia Tax Center. \\n2. You can file a Wage Tax petition at tax-service.phila.gov without needing a username and password.\\n3. Select \"Request a Wage Tax refund\" from the front page to start the process.\\n4. Filing electronically can help avoid delays compared to mailing physical forms.\\n5. However, if you prefer to use paper forms, you can still do so, but it might take longer to process.', 'sources': ['https://www.phila.gov/media/20230206101743/Residents-income-based-Wage-Tax-refund-2022.pdf', 'https://www.phila.gov/media/20240212102153/2023-residents-income-based-Wage-Tax-refund.pdf', 'https://www.phila.gov/media/20230206102047/Non-residents-income-based-Wage-Tax-refund-form-2022.pdf', 'https://www.phila.gov/media/20230203152621/2022-Wage-Tax-refund-Covid-EZ-form-instructions.pdf']}\nWhat is the purpose of IRS Form 2106 in the wage tax refund petition for salaried employees in 2018?\nResponse --  {'result': '1. IRS Form 2106 is not mentioned in the provided context, which is about the wage tax refund petition for commissioned employees in Pennsylvania for tax year 2023.\\n2. The context does not include any information about wage tax refund petitions for salaried employees or the year 2018.\\n3. IRS Form 2106 is used to claim deductible expenses for employees who are not reimbursed by their employer. It is not specifically related to wage tax refund petitions in Pennsylvania.\\n4. If you have any questions about the current wage tax refund petition process for commissioned or salaried employees in Pennsylvania, I would recommend referring to the official Pennsylvania Department of Revenue website or contacting them directly for accurate and up-to-date information.', 'sources': ['https://www.phila.gov/media/20240131145157/2023-Wage-Tax-refund-commissioned-employees-form-instructions.pdf', 'https://www.phila.gov/media/20230207141123/2021-Wage-Tax-refund-salaried-employees-form-instructions.pdf', 'https://www.phila.gov/media/20230206101743/Residents-income-based-Wage-Tax-refund-2022.pdf', 'https://www.phila.gov/media/20240212102153/2023-residents-income-based-Wage-Tax-refund.pdf']}\nWhat are wage tax returns due for 2024?\nResponse --  {'result': 'Based on the provided context, there is no information available about wage tax returns due for the year 2024. The documents provided contain wage tax due date charts for the years 2020 and 2021, but there is no information for 2024. Therefore, I cannot provide an answer to this question without more information.', 'sources': ['https://www.phila.gov/media/20201021084110/2021-Wage-Monthly-and-Quarterly-Tax-Due-dates.pdf', 'https://www.phila.gov/media/20201021083906/Wage-Tax-due-dates-2021-schedule-v1.pdf', 'https://www.phila.gov/media/20231211101658/Earnings-Tax-2024-due-dates.pdf', 'https://www.phila.gov/media/20191030085637/Wage-Tax-due-dates-2020-schedule-v1.pdf']}\nWhat's the max income limit for a married individual with two dependents to qualify for PA's 2021 tax forgiveness refund?\nResponse --  {'result': ' Based on the document titled \"ANNUAL RECONCILIATION OF EMPLOYEE EARNINGS TAX INSTRUCTIONS\" provided in the context, the maximum income limit for a married individual with two dependents to qualify for PA\\'s 2021 tax forgiveness refund is $34,250. It is important to note that this limit may be subject to change and it is always best to refer to the most recent and official guidelines or consult with a tax professional for accurate information.', 'sources': ['https://www.phila.gov/media/20211109085717/Income-based-Wage-Tax-Flyer-November-2021.pdf', 'https://www.phila.gov/media/20230206102047/Non-residents-income-based-Wage-Tax-refund-form-2022.pdf', 'https://www.phila.gov/media/20221026144622/2021-Non-residents-income-based-Wage-Tax-refund-form.pdf', 'https://www.phila.gov/media/20201202111441/Earnings-Tax-return-instructions-general-information-2020.pdf']}\nWhat is Gross Compensation?\nResponse --  {'result': \"Generally, gross compensation is the highest compensation figure reported on a W-2 form. It includes all taxable wages before any deductions or contributions, such as pension plan contributions, are made. This definition applies to both salaried and commissioned employees. It's important to note that gross compensation is used as the starting point for calculating wage tax in the City of Philadelphia.\", 'sources': ['https://www.phila.gov/media/20190219090710/Wage-Tax-refund-petition-salaried-employees-2018.pdf', 'https://www.phila.gov/media/20201015094507/Earnings-Tax-return-2020.pdf', 'https://www.phila.gov/media/20191218101514/Wage-Tax-refund-petition-salaried-employees-2019.pdf', 'https://www.phila.gov/media/20210503155239/Wage-Tax-Frequently-Asked-Question\n\n*** WARNING: max output size exceeded, skipping output. ***\n\n/www.phila.gov/media/20230206102820/2022-Wage-Tax-refund-commissioned-employees-form-instructions.pdf', 'https://www.phila.gov/media/20240131144329/2023-Wage-Tax-refund-salaried-employees-form-and-instructions.pdf']}\nHow would 2021 Philly resident tax rates apply to income earned partly outside the city?\nResponse --  {'result': '2021 Philly resident tax rates would apply to all income earned, regardless of where it was earned. However, if a Philly resident worked partly outside the city, they may be eligible for a refund or credit for the tax paid to other municipalities for the same income. The percentage of the refund or credit would be based on the percentage of time worked outside the city.', 'sources': ['https://www.phila.gov/media/20240131144329/2023-Wage-Tax-refund-salaried-employees-form-and-instructions.pdf', 'https://www.phila.gov/media/20201105092132/Wage-Tax-non-resident-COVID-19-guidance-110520.pdf', 'https://www.phila.gov/media/20230206102047/Non-residents-income-based-Wage-Tax-refund-form-2022.pdf', 'https://www.phila.gov/media/20201015094507/Earnings-Tax-return-2020.pdf']}\nWhat was the due date for the semi-monthly wage tax period from 12/01/13 to 12/15/13 in the year 2013?\nResponse --  {'result': '12/18/13 (based on the Semi-Monthly Wage Tax Due Date Chart for 2013 provided)', 'sources': ['https://www.phila.gov/media/20170214095342/2013wageduedates.pdf', 'https://www.phila.gov/media/20201021083908/2021-Wage-semi-monthly-tax-due-dates.pdf', 'https://www.phila.gov/media/20171208092359/2018-Wage-Tax-due-dates1.pdf', 'https://www.phila.gov/media/20170214095339/2015WageDueDates11.13.pdf']}\nWhat can be done on the Philadelphia tax center?\nResponse --  {'result': \"1. File an Income-based Wage Tax Refund petition for residents (for the years 2022 and 2023)\\n2. File a Wage Tax petition for Commissioned Employees (for the year 2021)\\n3. File a Salary Wage EZ Petition (for the year 2022)\\n\\nThese filings can be done electronically through the Philadelphia Tax Center, which is encouraged to avoid delays. It's important to note that paper forms are also available if needed.\", 'sources': ['https://www.phila.gov/media/20230206101743/Residents-income-based-Wage-Tax-refund-2022.pdf', 'https://www.phila.gov/media/20240212102153/2023-residents-income-based-Wage-Tax-refund.pdf', 'https://www.phila.gov/media/20220216113256/Wage-Tax-refund-commissioned-employees-form-2021-instructions.pdf', 'https://www.phila.gov/media/20230203152621/2022-Wage-Tax-refund-Covid-EZ-form-instructions.pdf']}\nWhat are the resident and non-resident tax rates for the year 2022 in Philadelphia?\nResponse --  {'result': '2022 Resident Rates:\\nJanuary 1, 2022 to June 30, 2022 = 3.8700% (.038700)\\nJuly 1, 2022 to December 31, 2022 = 3.8400% (.038400)\\n\\n2022 Non-Resident Rates:\\nJanuary 1, 2022 to December 31, 2022 = 3.4600% (.034600)\\n\\nSource: 2023 Wage-Tax-refund-salaried-employees-form-and-instructions.pdf, year=[2023]\\n\\nPlease note that the source is from 2023 but it provides the tax rates for the previous year 2022.', 'sources': ['https://www.phila.gov/media/20240131144329/2023-Wage-Tax-refund-salaried-employees-form-and-instructions.pdf', 'https://www.phila.gov/media/20230206102047/Non-residents-income-based-Wage-Tax-refund-form-2022.pdf', 'https://www.phila.gov/media/20201105092132/Wage-Tax-non-resident-COVID-19-guidance-110520.pdf', 'https://www.phila.gov/media/20221230115025/Wage-Tax-2023-monthly-due-dates.pdf']}\nWhen's the due date for the semi-monthly wage tax payment for 05/01/23-05/15/23 in Philly's 2023 Revenue Dept. schedule?\nResponse --  {'result': '05/19/23\\n\\nExplanation:\\nThe semi-monthly wage tax payment due dates for the City of Philadelphia Department of Revenue in 2023 can be found in the provided document. According to the table, the period beginning on 05/01/23 and ending on 05/15/23 has a due date of 05/19/23.', 'sources': ['https://www.phila.gov/media/20221230115025/Wage-Tax-2023-monthly-due-dates.pdf', 'https://www.phila.gov/media/20221230114703/Wage-2023-semi-monthly-tax-due-dates.pdf', 'https://www.phila.gov/media/20230118130428/2023-Wage-Tax-weekly-Q3-and-Q4-due-dates.pdf', 'https://www.phila.gov/media/20211008113935/2022-Wage-semi-monthly-tax-due-dates.pdf']}\nHow do I close my wage tax account?\nResponse --  {'result': \"Based on the provided context, there is no information on how to close a wage tax account in the City of Philadelphia. I would recommend visiting the City of Philadelphia's Department of Revenue website at <https://www.phila.gov/revenue/> or contacting them directly at (215) 686-6574 or [refund.unit@phila.gov](mailto:refund.unit@phila.gov) to obtain the necessary information. It's important to provide them with your specific situation and account details to ensure accurate and helpful guidance.\", 'sources': ['https://www.phila.gov/media/20230206101743/Residents-income-based-Wage-Tax-refund-2022.pdf', 'https://www.phila.gov/media/20201202111441/Earnings-Tax-return-instructions-general-information-2020.pdf', 'https://www.phila.gov/media/20230814080302/2022-Wage-Tax-refund-salaried-employees-form-and-instructions-front-page-v2.pdf', 'https://www.phila.gov/media/20240212102153/2023-residents-income-based-Wage-Tax-refund.pdf']}\nHow do I calculate a non-resident tax for wage tax?\nResponse --  {'result': '1. Determine the gross compensation earned while working in Philadelphia by multiplying the percentage of time worked in Philadelphia by the total gross compensation.\\n2. Calculate the taxable compensation by subtracting any non-taxable compensation and non-reimbursed business expenses earned outside of Philadelphia from the gross compensation earned in Philadelphia.\\n3. Apply the appropriate non-resident wage tax rate to the taxable compensation. The tax rates vary depending on the time period. From January 1, 2023 to June 30, 2023, the rate is 3.4400% (.034400), and from July 1, 2023 to December 31, 2023, the rate remains the same at 3.4400% (.034400).\\n\\nPlease note that the tax rates provided are for the year 2023, as mentioned in the context. If the question pertains to a different year, the tax rates would need to be adjusted accordingly.', 'sources': ['https://www.phila.gov/media/20240131144329/2023-Wage-Tax-refund-salaried-employees-form-and-instructions.pdf', 'https://www.phila.gov/media/20240212102406/2023-non-residents-income-based-Wage-Tax-refund-form.pdf', 'https://www.phila.gov/media/20201015094507/Earnings-Tax-return-2020.pdf', 'https://www.phila.gov/media/20201202111441/Earnings-Tax-return-instructions-general-information-2020.pdf']}\nWhat were the non-resident tax rates in Philadelphia for the year 2021?\nResponse --  {'result': '2021 non-resident tax rates in Philadelphia were:\\n\\nJanuary 1, 2021 to June 30, 2021 = 3.4480% (.034480)\\nJuly 1, 2021 to December 31, 2021 = 3.4400% (.034400)\\n\\nHowever, you asked about the year 2021, but the context provided refers to the years 2022 and 2023. I provided the 2021 non-resident tax rates as a reference, as it is the closest year available in the provided context.', 'sources': ['https://www.phila.gov/media/20240131144329/2023-Wage-Tax-refund-salaried-employees-form-and-instructions.pdf', 'https://www.phila.gov/media/20230206102047/Non-residents-income-based-Wage-Tax-refund-form-2022.pdf', 'https://www.phila.gov/media/20201105092132/Wage-Tax-non-resident-COVID-19-guidance-110520.pdf', 'https://www.phila.gov/media/20231024112123/UPDATED-Wage-Tax-policy-guidance-for-non-resident-employees.pdf']}\nWhen's the due date for the 10/13/24-10/19/24 weekly wage tax as per Philly's 2024 revenue schedule?\nResponse --  {'result': '10/24/24\\n\\nExplanation:\\nThe table provided in the context shows the wage tax due dates for the period beginning on July 1st and ending on September 30th, 2024. The period end date for the given payroll period (10/13/24-10/19/24) falls in the 10th row of the table. The due date for this period is 4 days after the period end, which is 10/24/24.', 'sources': ['https://www.phila.gov/media/20231211095744/2024-Wage-Tax-weekly-Q1-and-Q2-due-dates.pdf', 'https://www.phila.gov/media/20231211095959/2024-Wage-Tax-weekly-Q3-and-Q4-due-dates.pdf', 'https://www.phila.gov/media/20230118130428/2023-Wage-Tax-weekly-Q3-and-Q4-due-dates.pdf', 'https://www.phila.gov/media/20230118130334/2023-Wage-Tax-weekly-Q1-andQ2-due-dates.pdf']}\nHow do Philly's 2021 WFH COVID-19 rules affect tax liabilities for non-resident employees receiving RSUs vs. cash bonuses, considering days worked in-city and office work policy?\nResponse --  {'result': \"2021 WFH COVID-19 rules for Philadelphia state that non-resident employees working partly outside the city can exclude the percentage of time worked outside Philadelphia when the compensation is historically earned. This applies to both RSUs (Restricted Stock Units) and cash bonuses.\\n\\nFor RSUs, the taxability is based on the vesting date, not the grant date. If a non-resident employee vested RSUs while working remotely outside Philadelphia but historically worked in the city for a portion of the year, the taxable percentage would be based on the number of days worked in the city during the period when the RSUs vested.\\n\\nFor cash bonuses, the same rule applies. The taxable percentage of the bonus is based on the number of days worked in the city during the year, divided by the total number of workdays in the year. For example, if a non-resident employee worked in the Philadelphia office for 10% of their 2021 workdays, 10% of their bonus is subject to the Wage Tax.\\n\\nIt's important to note that the 2023 tax rates apply to the tax liability for the 2023 tax year, not the 2021 tax year. The tax rates for the 2021 tax year are not provided in the context.\\n\\nIn summary, the 2021 WFH COVID-19 rules for Philadelphia affect tax liabilities for non-resident employees receiving RSUs and cash bonuses by allowing them to exclude the percentage of time worked outside the city when the compensation is historically earned. The taxable percentage is based on the number of days worked in the city during the period when the RSUs vested or the cash bonuses were earned.\", 'sources': ['https://www.phila.gov/media/20201105092132/Wage-Tax-non-resident-COVID-19-guidance-110520.pdf', 'https://www.phila.gov/media/20240131144329/2023-Wage-Tax-refund-salaried-employees-form-and-instructions.pdf', 'https://www.phila.gov/media/20201015094507/Earnings-Tax-return-2020.pdf', 'https://www.phila.gov/media/20230206102047/Non-residents-income-based-Wage-Tax-refund-form-2022.pdf']}\nWhen's the due date for the 01/14-01/20/24 wage tax in the 2024 Philly Revenue Dept. schedule?\nResponse --  {'result': '01/30/24\\n\\nExplanation:\\nBased on the context provided, the table for the \"City of Philadelphia Department of Revenue, 2024 WAGE SCHEDULE, Payment Frequency: Monthly, October 1st to December 31st\" is relevant. However, the table provided does not include the specific period of 01/14-01/20/24.\\n\\nInstead, I found the corresponding wage tax schedule for 2023 with the same payment frequency and wage schedule format. In the 2023 wage schedule for the period of October 1st to December 31st, the wage tax due date for the period ending on 01/21/23 is 01/30/23.\\n\\nAssuming the format and due dates remain consistent between 2023 and 2024, the due date for the 01/14-01/20/24 wage tax in the 2024 Philly Revenue Dept. schedule would be 01/30/24.', 'sources': ['https://www.phila.gov/media/20231211100247/Wage-Tax-2024-monthly-due-dates.pdf', 'https://www.phila.gov/media/20231211095744/2024-Wage-Tax-weekly-Q1-and-Q2-due-dates.pdf', 'https://www.phila.gov/media/20221230115025/Wage-Tax-2023-monthly-due-dates.pdf', 'https://www.phila.gov/media/20230118130428/2023-Wage-Tax-weekly-Q3-and-Q4-due-dates.pdf']}\nHow do I know what wage tax payment frequency should be used?\nResponse --  {'result': '\\nThe wage tax payment frequency to be used can depend on various factors, including the employer\\'s preference, the number of employees, and the City of Philadelphia\\'s requirements. The City of Philadelphia Department of Revenue provides wage schedules for different payment frequencies (semi-monthly, weekly, and monthly) and different time periods.\\n\\nFor instance, if you are looking for the wage schedule for the year 2023 and the payment frequency is semi-monthly, you can refer to the document titled \"City of Philadelphia Department of Revenue 2023 WAGE SCHEDULE, Payment Frequency: Semi Monthly\". The document provides a table with the period begin date, period end date, and due date for each semi-monthly payroll period in 2023.\\n\\nSimilarly, if you are looking for the wage schedule for the period July 1st to September 30th in the year 2024 and the payment frequency is weekly, you can refer to the document titled \"City of Philadelphia Department of Revenue, 2024 WAGE SCHEDULE, Payment Frequency: Weekly, July 1st to September 30th\". The document provides a table with the period begin date, period end date, and due date for each weekly payroll period during the specified time frame in 2024.\\n\\nIf the payment frequency is monthly, you can refer to the document titled \"City of Philadelphia Department of Revenue, 2024 WAGE SCHEDULE, Payment Frequency: Monthly, July 1st to September 30th, October 1st to December 31st\". The document provides a table with the period begin date, period end date, and due date for each monthly payroll period during the specified time frames in 2024.\\n\\nIt is important to note that the wage schedules may vary from year to year and payment frequency to payment frequency. Therefore, it is recommended to refer to the most recent wage schedule provided by the City of Philadelphia Department of Revenue. If you are unsure about which wage schedule to use, you can contact the City of Philadelphia Department of Revenue for assistance.', 'sources': ['https://www.phila.gov/media/20221230114703/Wage-2023-semi-monthly-tax-due-dates.pdf', 'https://www.phila.gov/media/20231211095959/2024-Wage-Tax-weekly-Q3-and-Q4-due-dates.pdf', 'https://www.phila.gov/media/20231211100247/Wage-Tax-2024-monthly-due-dates.pdf', 'https://www.phila.gov/media/20211008112848/Wage-Tax-due-dates-2022-1st-and-2nd-quarters-WEB.pdf']}\nWhich wages are exempt from wage tax withholding?\nResponse --  {'result': '1. Wages earned by non-residents of Philadelphia, outside of the city, are exempt from wage tax withholding.\\n2. Graduate student stipends are exempt from wage tax withholding if the student does not render any services whatsoever to the university.\\n3. Non-work days, such as weekends, vacation, holidays, sick or any type of leave time, are not subject to wage tax withholding.\\n4. Terminal or severance pay is exempt from wage tax withholding if the employee has not historically worked in the City.\\n\\nPlease note that these exemptions are subject to specific conditions and the actual rules and regulations may have additional requirements. It is recommended to consult the City of Philadelphia Department of Revenue for the most accurate information.', 'sources': ['https://www.phila.gov/media/20201105092132/Wage-Tax-non-resident-COVID-19-guidance-110520.pdf', 'https://www.phila.gov/media/20191218101514/Wage-Tax-refund-petition-salaried-employees-2019.pdf', 'https://www.phila.gov/media/20191016114251/University-stipends-Wage-Tax-memorandum-2019-August.pdf', 'https://www.phila.gov/media/20230206102047/Non-residents-income-based-Wage-Tax-refund-form-2022.pdf']}\nFor PA's 2020 tax forgiveness program, what's the max eligibility income for a married person with 3 dependents seeking an income-based Wage Tax refund?\nResponse --  {'result': ' Based on the provided context, the table titled \"Total eligibility income\" for the Income-based Wage Tax Refund Petition for the tax year 2023 shows the maximum eligibility income for a married person with 3 dependents is $43,750. However, the question asks about the tax forgiveness program for the tax year 2020, for which the context does not provide the required information. Therefore, I cannot provide an answer for the tax year 2020.', 'sources': ['https://www.phila.gov/media/20230206102047/Non-residents-income-based-Wage-Tax-refund-form-2022.pdf', 'https://www.phila.gov/media/20211109085717/Income-based-Wage-Tax-Flyer-November-2021.pdf', 'https://www.phila.gov/media/20240212102406/2023-non-residents-income-based-Wage-Tax-refund-form.pdf', 'https://www.phila.gov/media/20221026144622/2021-Non-residents-income-based-Wage-Tax-refund-form.pdf']}\nWhat wage tax payment method options are available?\nResponse --  {'result': \"1. Semi-Monthly Wage Tax Periods: Employers can choose to remit wage taxes on a semi-monthly basis, with due dates typically falling on the 15th and last day of each month. The specific dates for each period can be found in the provided tables for the years 2010, 2012, and 2013.\\n\\n2. Annual Reconciliation Period: Employers are required to file an annual reconciliation for the wage tax withheld for each employee for the calendar year. The due date for the annual reconciliation period is typically on February 28th or the next business day if it falls on a weekend.\\n\\nPlease note that the specific due dates may vary slightly from year to year, so it's essential to refer to the correct table for the relevant year. Also, the provided context does not mention any other wage tax payment methods. If there are any changes or updates to the wage tax payment methods, it's recommended to check the official Pennsylvania Department of Revenue website or consult with a tax professional.\", 'sources': ['https://www.phila.gov/media/20230814080302/2022-Wage-Tax-refund-salaried-employees-form-and-instructions-front-page-v2.pdf', 'https://www.phila.gov/media/20161121153504/2010-Wage-Tax-Due-Dates.pdf', 'https://www.phila.gov/media/20170214095342/2013wageduedates.pdf', 'https://www.phila.gov/media/20161121153402/2012-Wage-Tax-Due-Dates.pdf']}\nWhat is the non-resident tax rate for 2024?\nResponse --  {'result': '3.4400% (.034400)\\n\\nThe non-resident tax rate for 2024 is the same as the rate for the first half of 2023, which is 3.4400% (.034400). This information can be found in the provided context regarding the 2023 tax rates. The context does not provide information on any changes to the tax rates for 2024.', 'sources': ['https://www.phila.gov/media/20240131144329/2023-Wage-Tax-refund-salaried-employees-form-and-instructions.pdf', 'https://www.phila.gov/media/20230206102047/Non-residents-income-based-Wage-Tax-refund-form-2022.pdf', 'https://www.phila.gov/media/20231211101658/Earnings-Tax-2024-due-dates.pdf', 'https://www.phila.gov/media/20240212102406/2023-non-residents-income-based-Wage-Tax-refund-form.pdf']}\nWhat are the steps to register a Disregarded Entity online on the Philadelphia Tax Center's website?\nResponse --  {'result': 'I cannot answer questions that are not about Wages and taxes other than PA.', 'sources': []}\nWhat is the payment due date for the 02/22/24 check date for a quarterly depositor?\nResponse --  {'result': \"05/02/24 is the due date for the 02/22/24 check date for a quarterly depositor, based on the provided document for the City of Philadelphia Department of Revenue, 2022 Wage Due Dates, Payment Frequency: Quarterly, January 1st to March 31st. However, please note that the year in the question is 2024, not 2022. Unfortunately, I don't have the wage due dates for 2024. I recommend checking the official City of Philadelphia Department of Revenue website or contacting them directly for accurate and up-to-date information.\", 'sources': ['https://www.phila.gov/media/20211008112848/Wage-Tax-due-dates-2022-1st-and-2nd-quarters-WEB.pdf', 'https://www.phila.gov/media/20211008113517/Wage-Tax-due-dates-2022-3rd-and-4th-quarters-for-WEB.pdf', 'https://www.phila.gov/media/20211008114619/2022-Wage-Tax-quarterly-due-dates.pdf', 'https://www.phila.gov/media/20231211095959/2024-Wage-Tax-weekly-Q3-and-Q4-due-dates.pdf']}\nGiven the penalty rate alterations pre and post Jan 1, 2014, and the Tax Claim Principal Amount's accrual period, what's the annual interest rate?\nResponse --  {'result': '12% per year. The document does not provide separate annual interest rates for pre and post Jan 1, 2014. Therefore, I am assuming the annual interest rate to be the same, which is 12%.', 'sources': ['https://www.phila.gov/media/20190808134623/Employee-Earnings-Tax-account-application-2019-August-update.pdf', 'https://www.phila.gov/media/20201021085824/Earnings-Tax-due-dates-2021-schedule.pdf', 'https://www.phila.gov/media/20201015094507/Earnings-Tax-return-2020.pdf', 'https://www.phila.gov/media/20161121153402/2012-Wage-Tax-Due-Dates.pdf']}\nWhat are the resident tax rates for the year 2019 according to the Wage Tax Refund Petition for Commission Employees?\nResponse --  {'result': 'The context provided does not include the resident tax rates for the year 2019. It only includes the instructions and form for filing a Wage Tax Refund Petition for Commission Employees for various years, but it does not contain any information about the tax rates.', 'sources': ['https://www.phila.gov/media/20230206101743/Residents-income-based-Wage-Tax-refund-2022.pdf', 'https://www.phila.gov/media/20240212102153/2023-residents-income-based-Wage-Tax-refund.pdf', 'https://www.phila.gov/media/20240131145157/2023-Wage-Tax-refund-commissioned-employees-form-instructions.pdf', 'https://www.phila.gov/media/20220216113256/Wage-Tax-refund-commissioned-employees-form-2021-instructions.pdf']}\nWhat tax returns must be filed for wage tax?\nResponse --  {'result': 'Based on the provided context, it appears that if a salary or hourly employee believes their wage tax has been overwithheld in the state of Pennsylvania, they may need to file a Wage Tax Refund Petition. This petition requires the attachment of the applicable W-2 indicating Federal, Medicare, State and Local wages, and a separate petition must be filed for each W-2 issued by employers that may have overwithheld Wage Tax. If the overwithholding is a result of required remote work due to COVID-19, a letter from the employer on company letterhead with the dates or time period the employee was required to work remotely must also be attached.\\n\\nIt is important to note that the above information is based on the provided context and may not be applicable to all situations. It is always best to consult with a tax professional or the Pennsylvania Department of Revenue for specific guidance.\\n\\nRegarding the year, the provided context is for the tax year 2021 and 2023, so it is important to ensure that the correct year is being referenced in the question.\\n\\nIn summary, to file for a wage tax refund in Pennsylvania, a Wage Tax Refund Petition along with the applicable W-2 and other required documents must be filed. The specific requirements may vary depending on the situation and the tax year.', 'sources': ['https://www.phila.gov/media/20220216111153/Wage-Tax-refund-Covid-EZ-form-2021-instructions.pdf', 'https://www.phila.gov/media/20230814080302/2022-Wage-Tax-refund-salaried-employees-form-and-instructions-front-page-v2.pdf', 'https://www.phila.gov/media/20240212102406/2023-non-residents-income-based-Wage-Tax-refund-form.pdf', 'https://www.phila.gov/media/20221026144622/2021-Non-residents-income-based-Wage-Tax-refund-form.pdf']}\nHow do non-taxable stock options (Form W2 box 14 Code V) and gross compensation (Form W-2) factor into the adjusted gross compensation calculation for the '23 Wage Tax refund form?\nResponse --  {'result': \"401k contributions and other pension plan contributions are subject to wage tax and are not deductible from gross compensation, as stated in the context. However, non-taxable stock options (Form W2 box 14 Code V) are not subject to wage tax and do not factor into the calculation of gross compensation. Therefore, when calculating adjusted gross compensation for the '23 Wage Tax refund form, non-taxable stock options should not be included in the gross compensation amount.\", 'sources': ['https://www.phila.gov/media/20230207141123/2021-Wage-Tax-refund-salaried-employees-form-instructions.pdf', 'https://www.phila.gov/media/20190219090710/Wage-Tax-refund-petition-salaried-employees-2018.pdf', 'https://www.phila.gov/media/20230206102820/2022-Wage-Tax-refund-commissioned-employees-form-instructions.pdf', 'https://www.phila.gov/media/20191218101514/Wage-Tax-refund-petition-salaried-employees-2019.pdf']}\nWhen's the wage tax due for Philly's weekly pay period of 01/09/22 - 01/15/22?\nResponse --  {'result': \"01/20/22 is the due date for Philly's wage tax for the weekly pay period of 01/09/22 - 01/15/22.\", 'sources': ['https://www.phila.gov/media/20211008114619/2022-Wage-Tax-quarterly-due-dates.pdf', 'https://www.phila.gov/media/20211008112848/Wage-Tax-due-dates-2022-1st-and-2nd-quarters-WEB.pdf', 'https://www.phila.gov/media/20211008113935/2022-Wage-semi-monthly-tax-due-dates.pdf', 'https://www.phila.gov/media/20221230115025/Wage-Tax-2023-monthly-due-dates.pdf']}\n"
     ]
    },
    {
     "output_type": "display_data",
     "data": {
      "text/html": [
       "<style scoped>\n",
       "  .table-result-container {\n",
       "    max-height: 300px;\n",
       "    overflow: auto;\n",
       "  }\n",
       "  table, th, td {\n",
       "    border: 1px solid black;\n",
       "    border-collapse: collapse;\n",
       "  }\n",
       "  th, td {\n",
       "    padding: 5px;\n",
       "  }\n",
       "  th {\n",
       "    text-align: left;\n",
       "  }\n",
       "</style><div class='table-result-container'><table class='table-result'><thead style='background-color: white'><tr><th>_1</th><th>_2</th><th>_3</th></tr></thead><tbody><tr><td>When does Philadelphia change the resident and non-resident tax rates change?</td><td>1. For residents, the tax rate changes twice a year. From January 1, 2023, to June 30, 2023, the rate is 3.7900% (.037900), and from July 1, 2023, to December 31, 2023, the rate is 3.7500% (.037500).\n",
       "2. For non-residents, the tax rate remains the same throughout the year. From January 1, 2023, to December 31, 2023, the rate is 3.4400% (.034400).\n",
       "\n",
       "Please note that these rates are for the year 2023, as stated in the provided context. The rates for other years may be different.</td><td>List(https://www.phila.gov/media/20201015094507/Earnings-Tax-return-2020.pdf, https://www.phila.gov/media/20230206102047/Non-residents-income-based-Wage-Tax-refund-form-2022.pdf, https://www.phila.gov/media/20240131144329/2023-Wage-Tax-refund-salaried-employees-form-and-instructions.pdf, https://www.phila.gov/media/20231024112123/UPDATED-Wage-Tax-policy-guidance-for-non-resident-employees.pdf)</td></tr><tr><td>What is the normal processing time for a refund request reviewed by the Department of Revenue?</td><td>I cannot answer questions that are not about Wages and taxes other than PA.</td><td>List()</td></tr><tr><td>What were the tax rates for residents of Philadelphia in the year 2018?</td><td>I'm sorry for any confusion, but the context provided does not include the tax rates for residents of Philadelphia in the year 2018. The context includes tax rates for the year 2023 and instructions for filing a refund for non-residents for the tax year 2022. If you have any questions about the 2018 tax rates, I can try to find that information for you, but I would need to look it up in a different source.</td><td>List(https://www.phila.gov/media/20240131144329/2023-Wage-Tax-refund-salaried-employees-form-and-instructions.pdf, https://www.phila.gov/media/20201105092132/Wage-Tax-non-resident-COVID-19-guidance-110520.pdf, https://www.phila.gov/media/20230206102047/Non-residents-income-based-Wage-Tax-refund-form-2022.pdf, https://www.phila.gov/media/20231024112123/UPDATED-Wage-Tax-policy-guidance-for-non-resident-employees.pdf)</td></tr><tr><td>What's the due date for 12/01/21-12/15/21 semi-monthly wage tax vs. Dec 2021 monthly wage tax as per 2021 schedule?</td><td> The due date for the semi-monthly wage tax period of 12/01/21-12/15/21 is 12/20/21, while the due date for the monthly wage tax for December 2021 is also 12/20/21.</td><td>List(https://www.phila.gov/media/20201021083908/2021-Wage-semi-monthly-tax-due-dates.pdf, https://www.phila.gov/media/20201021083906/Wage-Tax-due-dates-2021-schedule-v1.pdf, https://www.phila.gov/media/20201021084110/2021-Wage-Monthly-and-Quarterly-Tax-Due-dates.pdf, https://www.phila.gov/media/20191030085637/Wage-Tax-due-dates-2020-schedule-v1.pdf)</td></tr><tr><td>When should non-8hr workday hrs be logged in the Non-res. Wage Tax Refund Petition & Employer Cert. Template?</td><td>\n",
       "Non-work days or hours, such as weekends, vacation, holidays, sick or any type of leave time, should be included in the calculation of the wage tax refund for non-residents of Philadelphia. However, the provided context does not contain a specific template for the Non-res. Wage Tax Refund Petition & Employer Cert. Template.\n",
       "\n",
       "In general, non-work hours can be included in the calculation of the wage tax refund by determining the number of hours worked in Philadelphia and subtracting the non-work hours. The resulting number is the amount of time spent working in Philadelphia, which can be used to calculate the wage tax refund.\n",
       "\n",
       "It is recommended to consult the instructions provided with the Non-res. Wage Tax Refund Petition & Employer Cert. Template for specific guidance on how to log non-work hours. If the template requires the entry of hours worked, non-work hours can be included as hours not worked in Philadelphia. If the template requires the entry of wages earned in Philadelphia, non-work hours can be subtracted from the total wages earned to determine the amount of wages earned in Philadelphia.</td><td>List(https://www.phila.gov/media/20191218101514/Wage-Tax-refund-petition-salaried-employees-2019.pdf, https://www.phila.gov/media/20230303142337/Refund-dates-and-locations-2022-template.pdf, https://www.phila.gov/media/20230206102047/Non-residents-income-based-Wage-Tax-refund-form-2022.pdf, https://www.phila.gov/media/20240131145157/2023-Wage-Tax-refund-commissioned-employees-form-instructions.pdf)</td></tr><tr><td>What is the wage tax rate for 2024?</td><td>I don't have the exact wage tax rates for 2024, as the context provided only includes the wage tax rates for the years 2023 and earlier. However, based on the provided context, I can tell you that the wage tax rates for non-residents and residents in Philadelphia may change every six months. For specific information on the wage tax rates for 2024, I would recommend checking the official Philadelphia government website or contacting a tax professional.</td><td>List(https://www.phila.gov/media/20201021084110/2021-Wage-Monthly-and-Quarterly-Tax-Due-dates.pdf, https://www.phila.gov/media/20231211101658/Earnings-Tax-2024-due-dates.pdf, https://www.phila.gov/media/20240131144329/2023-Wage-Tax-refund-salaried-employees-form-and-instructions.pdf, https://www.phila.gov/media/20201021083908/2021-Wage-semi-monthly-tax-due-dates.pdf)</td></tr><tr><td>What is the payment due date for the 02/22/24 check date for a monthly depositor?</td><td>03/05/24\n",
       "\n",
       "Explanation:\n",
       "\n",
       "Based on the provided document titled \"City of Philadelphia Department of Revenue, 2024 WAGE SCHEDULE, Payment Frequency: Weekly, July 1st to September 30th\", I can provide the answer.\n",
       "\n",
       "To find the due date for the 02/22/24 check date, we need to first identify the period in which 02/22/24 falls. Since the table provided is for the period of July 1st to September 30th, 2024, we need to determine if February 22, 2024, falls within this period. However, since February has only 28 or 29 days, it is not possible for February 22 to be in the period covered by the table.\n",
       "\n",
       "Therefore, I cannot provide an answer based on the given context and table. However, if we assume that the question is referring to a monthly depositor and the check date is simply a typo, with the correct date being 03/22/24, then the due date for the 03/22/24 check date for a monthly depositor would be 04/05/24, as per the table.\n",
       "\n",
       "For the sake of providing an answer, I will assume that the check date is 03/22/24 instead of 02/22/24. In this case, the due date for the 03/22/24 check date for a monthly depositor is 04/05/24.</td><td>List(https://www.phila.gov/media/20211008112848/Wage-Tax-due-dates-2022-1st-and-2nd-quarters-WEB.pdf, https://www.phila.gov/media/20211008113935/2022-Wage-semi-monthly-tax-due-dates.pdf, https://www.phila.gov/media/20211008113517/Wage-Tax-due-dates-2022-3rd-and-4th-quarters-for-WEB.pdf, https://www.phila.gov/media/20231211095959/2024-Wage-Tax-weekly-Q3-and-Q4-due-dates.pdf)</td></tr><tr><td>What's needed in Line 2 & 2B of 2019's wage tax refund petition for commission staff, and its relation to non-Philadelphia sales activity?</td><td>1. Line 2 of the 2019 Wage Tax Refund Petition for commission employees requires the total amount of wages, fees, and other compensation earned as a non-resident of Philadelphia. This includes any income earned from sales activity performed outside of Philadelphia.\n",
       "\n",
       "2. Line 2B specifically asks for a breakdown of sales activity performed outside of Philadelphia, including the client's name, address, and sales amounts attributable to each client. This information is necessary to support the claim for a refund of City Wage Tax withheld by the employer for non-Philadelphia sales activity.\n",
       "\n",
       "3. The purpose of requesting this information is to ensure that non-residents of Philadelphia are not taxed on income earned outside of the city, as stated in the instructions provided in the context.</td><td>List(https://www.phila.gov/media/20191218101013/Wage-Tax-refund-petition-commission-employees-2019.pdf, https://www.phila.gov/media/20210204170256/2020-Wage-Tax-refund-petition-commission.pdf, https://www.phila.gov/media/20230206102047/Non-residents-income-based-Wage-Tax-refund-form-2022.pdf, https://www.phila.gov/media/20240131145157/2023-Wage-Tax-refund-commissioned-employees-form-instructions.pdf)</td></tr><tr><td>How do Philly's 2021 WFH COVID-19 policies impact tax for non-resident employees with restricted stock vs cash bonuses?</td><td>1. For non-resident employees who received restricted stock in 2021 while working from home due to COVID-19, the taxable percentage of the restricted stock would be based on the percentage of time they physically worked in Philadelphia during the year.\n",
       "2. For cash bonuses paid in 2023 to non-resident employees who worked from home in 2021, the taxable percentage of the bonus would also be based on the percentage of time the employee physically worked in Philadelphia during 2021.\n",
       "3. The tax rates for 2023 are as follows:\n",
       "\t* Resident Rates:\n",
       "\t\t+ January 1, 2023 to June 30, 2023: 3.7900% (.037900)\n",
       "\t\t+ July 1, 2023 to December 31, 2023: 3.7500% (.037500)\n",
       "\t* Non-Resident Rates:\n",
       "\t\t+ January 1, 2023 to June 30, 2023: 3.4400% (.034400)\n",
       "\t\t+ July 1, 2023 to December 31, 2023: 3.4400% (.034400)\n",
       "4. Any claim for refund must be filed within three (3) years from the date the tax was paid or due, whichever date is later.\n",
       "5. Employers are required to withhold and remit Wage Tax on behalf of their employees who are Philadelphia residents, regardless of where they perform their duties.</td><td>List(https://www.phila.gov/media/20201105092132/Wage-Tax-non-resident-COVID-19-guidance-110520.pdf, https://www.phila.gov/media/20240131144329/2023-Wage-Tax-refund-salaried-employees-form-and-instructions.pdf, https://www.phila.gov/media/20231024112123/UPDATED-Wage-Tax-policy-guidance-for-non-resident-employees.pdf, https://www.phila.gov/media/20201015094507/Earnings-Tax-return-2020.pdf)</td></tr><tr><td>When is the wage tax annual reconciliation due?</td><td>02/28/22 for the 2021 wage tax annual reconciliation.</td><td>List(https://www.phila.gov/media/20201021084110/2021-Wage-Monthly-and-Quarterly-Tax-Due-dates.pdf, https://www.phila.gov/media/20201015094507/Earnings-Tax-return-2020.pdf, https://www.phila.gov/media/20161121153402/2012-Wage-Tax-Due-Dates.pdf, https://www.phila.gov/media/20161121153405/2011-Wage-Tax-Due-Dates.pdf)</td></tr><tr><td>When are wage tax returns due?</td><td>\n",
       "In the City of Philadelphia, wage tax returns are due on a quarterly basis. The due dates for each quarter in 2021 are as follows:\n",
       "\n",
       "- January 1 to March 31: April 30, 2021\n",
       "- April 1 to June 30: August 2, 2021\n",
       "- July 1 to September 30: November 1, 2021\n",
       "- October 1 to December 31: January 31, 2022 (this is also the annual reconciliation period)\n",
       "\n",
       "For residents who are seeking a wage tax refund, the deadline for filing a petition is not specified in the provided context. However, it is encouraged to file through the Philadelphia Tax Center to avoid delays.\n",
       "\n",
       "It is important to note that the above information is specific to the wage tax returns and refunds in the City of Philadelphia, Pennsylvania, and the deadlines may vary for other jurisdictions.</td><td>List(https://www.phila.gov/media/20230206101743/Residents-income-based-Wage-Tax-refund-2022.pdf, https://www.phila.gov/media/20201021084110/2021-Wage-Monthly-and-Quarterly-Tax-Due-dates.pdf, https://www.phila.gov/media/20240212102153/2023-residents-income-based-Wage-Tax-refund.pdf, https://www.phila.gov/media/20220216111153/Wage-Tax-refund-Covid-EZ-form-2021-instructions.pdf)</td></tr><tr><td>When's the due date for the 46th week's tax in 2011 for a weekly-paid employee?</td><td>I'm sorry for any confusion, but the provided context does not include information for the tax due dates for the year 2011. The documents provided pertain to the years 2022 and 2024. Therefore, I'm unable to provide an accurate answer to your question.</td><td>List(https://www.phila.gov/media/20211008113517/Wage-Tax-due-dates-2022-3rd-and-4th-quarters-for-WEB.pdf, https://www.phila.gov/media/20211008112848/Wage-Tax-due-dates-2022-1st-and-2nd-quarters-WEB.pdf, https://www.phila.gov/media/20201021085824/Earnings-Tax-due-dates-2021-schedule.pdf, https://www.phila.gov/media/20231211095959/2024-Wage-Tax-weekly-Q3-and-Q4-due-dates.pdf)</td></tr><tr><td>What is the payment due date for the 02/22/24 check date for a semi-monthly depositor?</td><td>03/05/24 (based on the Semi-Monthly Wage Tax Due Date Chart for 2021, assuming the same pattern applies for 2024).</td><td>List(https://www.phila.gov/media/20211008113935/2022-Wage-semi-monthly-tax-due-dates.pdf, https://www.phila.gov/media/20231211100446/Wage-2024-semi-monthly-tax-due-dates.pdf, https://www.phila.gov/media/20201021083908/2021-Wage-semi-monthly-tax-due-dates.pdf, https://www.phila.gov/media/20211008112848/Wage-Tax-due-dates-2022-1st-and-2nd-quarters-WEB.pdf)</td></tr><tr><td>What is the due date for the third quarter wage tax payment in 2023?</td><td> The due date for the third quarter wage tax payment in 2023 is October 31, 2023. This is based on the Earnings Tax Due Date Chart for 2023 provided in the context. The third quarter runs from July 1 to September 30, and the due date for the wage tax payment for this quarter is the last day of the following month, which is October 31, 2023.</td><td>List(https://www.phila.gov/media/20230427104025/Earnings-Tax-2023-due-dates.pdf, https://www.phila.gov/media/20221230115025/Wage-Tax-2023-monthly-due-dates.pdf, https://www.phila.gov/media/20230118130428/2023-Wage-Tax-weekly-Q3-and-Q4-due-dates.pdf, https://www.phila.gov/media/20230118130334/2023-Wage-Tax-weekly-Q1-andQ2-due-dates.pdf)</td></tr><tr><td>When's the due date for the 04/14-04/20/24 wage tax in the 2024 Philly Revenue Dept. schedule?</td><td>04/30/24\n",
       "\n",
       "Explanation:\n",
       "The table provided in the context refers to the wage schedule for the period of October 1st to December 31st, 2024. However, the specific wage period of 04/14-04/20/24 is not included in this table.\n",
       "\n",
       "However, based on the information provided in the context, the wage tax due dates for the City of Philadelphia Department of Revenue are typically the 15th of the month following the end of the wage period. Therefore, assuming the wage period of 04/14-04/20/24 follows the same pattern, the due date for the wage tax would be the 15th day of the following month, which is 04/30/24.\n",
       "\n",
       "It's important to note that this is an assumption based on the provided context, and the actual due date may vary depending on the official wage schedule provided by the City of Philadelphia Department of Revenue.</td><td>List(https://www.phila.gov/media/20231211100247/Wage-Tax-2024-monthly-due-dates.pdf, https://www.phila.gov/media/20231211095744/2024-Wage-Tax-weekly-Q1-and-Q2-due-dates.pdf, https://www.phila.gov/media/20230118130428/2023-Wage-Tax-weekly-Q3-and-Q4-due-dates.pdf, https://www.phila.gov/media/20221230115025/Wage-Tax-2023-monthly-due-dates.pdf)</td></tr><tr><td>When's the payment due for a Philly business's wage tax period from 07/01/22 to 07/15/22?</td><td> Based on the provided document, the payment due for a Philly business's wage tax period from 07/01/22 to 07/15/22 is 07/20/22.</td><td>List(https://www.phila.gov/media/20211008113517/Wage-Tax-due-dates-2022-3rd-and-4th-quarters-for-WEB.pdf, https://www.phila.gov/media/20211008114619/2022-Wage-Tax-quarterly-due-dates.pdf, https://www.phila.gov/media/20231211095959/2024-Wage-Tax-weekly-Q3-and-Q4-due-dates.pdf, https://www.phila.gov/media/20231211100247/Wage-Tax-2024-monthly-due-dates.pdf)</td></tr><tr><td>What deposit cycles are available for wage tax payments?</td><td>1. Weekly wage tax periods\n",
       "2. Semi-monthly wage tax periods\n",
       "3. Monthly wage tax periods\n",
       "4. Quarterly wage tax periods\n",
       "\n",
       "The specific dates for each cycle can be found in the provided documents. For example, the semi-monthly wage tax periods for 2021 can be found in the table under the document title \"Semi-Monthly Wage Tax Due Date Chart for 2021\".</td><td>List(https://www.phila.gov/media/20161121153504/2010-Wage-Tax-Due-Dates.pdf, https://www.phila.gov/media/20161121153402/2012-Wage-Tax-Due-Dates.pdf, https://www.phila.gov/media/20201021083906/Wage-Tax-due-dates-2021-schedule-v1.pdf, https://www.phila.gov/media/20201021083908/2021-Wage-semi-monthly-tax-due-dates.pdf)</td></tr><tr><td>What was the due date for the 27th weekly wage tax period in 2020?</td><td>03/01/21\n",
       "\n",
       "Based on the Weekly Wage Tax Due Date Chart for 2021, the 27th weekly wage tax period in 2020 would have ended on 12/31/20, which falls under the Quarterly Wage Tax Period of January 1 to December 31 (Annual Reconciliation Period). The due date for this period is 03/01/21.</td><td>List(https://www.phila.gov/media/20191030085637/Wage-Tax-due-dates-2020-schedule-v1.pdf, https://www.phila.gov/media/20201021083906/Wage-Tax-due-dates-2021-schedule-v1.pdf, https://www.phila.gov/media/20201021084110/2021-Wage-Monthly-and-Quarterly-Tax-Due-dates.pdf, https://www.phila.gov/media/20230118130334/2023-Wage-Tax-weekly-Q1-andQ2-due-dates.pdf)</td></tr><tr><td>What is the due date for the wage tax period beginning on 02/01/23 and ending on 02/15/23 in Philadelphia?</td><td>02/18/23 is the due date for the wage tax period beginning on 02/01/23 and ending on 02/15/23 in Philadelphia, based on the City of Philadelphia Department of Revenue 2023 WAGE SCHEDULE for monthly payment frequency.</td><td>List(https://www.phila.gov/media/20211008112848/Wage-Tax-due-dates-2022-1st-and-2nd-quarters-WEB.pdf, https://www.phila.gov/media/20211008113517/Wage-Tax-due-dates-2022-3rd-and-4th-quarters-for-WEB.pdf, https://www.phila.gov/media/20211008113935/2022-Wage-semi-monthly-tax-due-dates.pdf, https://www.phila.gov/media/20221230115025/Wage-Tax-2023-monthly-due-dates.pdf)</td></tr><tr><td>\"When was the \"\"2023 Income-based Wage Tax refund petition\"\" PDF released for eligible Philly residents?\"</td><td>\n",
       "The \"2023 Income-based Wage Tax refund petition\" PDF was released for eligible Philly residents in January 2023, as indicated by the version date \"Ver.20230120\" in the document.</td><td>List(https://www.phila.gov/media/20230206102047/Non-residents-income-based-Wage-Tax-refund-form-2022.pdf, https://www.phila.gov/media/20240212102153/2023-residents-income-based-Wage-Tax-refund.pdf, https://www.phila.gov/media/20230206101743/Residents-income-based-Wage-Tax-refund-2022.pdf, https://www.phila.gov/media/20221026144150/2021-Residents-income-based-Wage-Tax-refund.pdf)</td></tr><tr><td>When's the tax payment due for the 10/01/24-10/15/24 wage tax period?</td><td> Based on the provided document titled \"City of Philadelphia Department of Revenue 2022 WAGE Due Dates, Payment Frequency: Semi Monthly, January 1st to March 31st\", the table titled \"January 1st to March 31st\" shows the due dates for semi-monthly wage tax payments for the period of January 1st to March 31st, 2022. I am unable to find information about wage tax payment due dates for the year 2024 in the provided context.\n",
       "\n",
       "However, based on the pattern in the table for 2022, the tax payment for the 10/01/24-10/15/24 wage tax period would likely be due on 10/18/24 (the third business day of the month following the period end). Please verify this information with the City of Philadelphia Department of Revenue or consult the official wage tax due date chart for the year 2024.</td><td>List(https://www.phila.gov/media/20211008112848/Wage-Tax-due-dates-2022-1st-and-2nd-quarters-WEB.pdf, https://www.phila.gov/media/20201021083908/2021-Wage-semi-monthly-tax-due-dates.pdf, https://www.phila.gov/media/20190515090033/Wage-Tax-due-dates-2019-schedule.pdf, https://www.phila.gov/media/20211008113935/2022-Wage-semi-monthly-tax-due-dates.pdf)</td></tr><tr><td>What is the fastest way to receive a Wage Tax Refund in Philadelphia?</td><td>1. Based on the provided context, the fastest way to receive a Wage Tax Refund in Philadelphia is by filing electronically through the Philadelphia Tax Center. \n",
       "2. You can file a Wage Tax petition at tax-service.phila.gov without needing a username and password.\n",
       "3. Select \"Request a Wage Tax refund\" from the front page to start the process.\n",
       "4. Filing electronically can help avoid delays compared to mailing physical forms.\n",
       "5. However, if you prefer to use paper forms, you can still do so, but it might take longer to process.</td><td>List(https://www.phila.gov/media/20230206101743/Residents-income-based-Wage-Tax-refund-2022.pdf, https://www.phila.gov/media/20240212102153/2023-residents-income-based-Wage-Tax-refund.pdf, https://www.phila.gov/media/20230206102047/Non-residents-income-based-Wage-Tax-refund-form-2022.pdf, https://www.phila.gov/media/20230203152621/2022-Wage-Tax-refund-Covid-EZ-form-instructions.pdf)</td></tr><tr><td>What is the purpose of IRS Form 2106 in the wage tax refund petition for salaried employees in 2018?</td><td>1. IRS Form 2106 is not mentioned in the provided context, which is about the wage tax refund petition for commissioned employees in Pennsylvania for tax year 2023.\n",
       "2. The context does not include any information about wage tax refund petitions for salaried employees or the year 2018.\n",
       "3. IRS Form 2106 is used to claim deductible expenses for employees who are not reimbursed by their employer. It is not specifically related to wage tax refund petitions in Pennsylvania.\n",
       "4. If you have any questions about the current wage tax refund petition process for commissioned or salaried employees in Pennsylvania, I would recommend referring to the official Pennsylvania Department of Revenue website or contacting them directly for accurate and up-to-date information.</td><td>List(https://www.phila.gov/media/20240131145157/2023-Wage-Tax-refund-commissioned-employees-form-instructions.pdf, https://www.phila.gov/media/20230207141123/2021-Wage-Tax-refund-salaried-employees-form-instructions.pdf, https://www.phila.gov/media/20230206101743/Residents-income-based-Wage-Tax-refund-2022.pdf, https://www.phila.gov/media/20240212102153/2023-residents-income-based-Wage-Tax-refund.pdf)</td></tr><tr><td>What are wage tax returns due for 2024?</td><td>Based on the provided context, there is no information available about wage tax returns due for the year 2024. The documents provided contain wage tax due date charts for the years 2020 and 2021, but there is no information for 2024. Therefore, I cannot provide an answer to this question without more information.</td><td>List(https://www.phila.gov/media/20201021084110/2021-Wage-Monthly-and-Quarterly-Tax-Due-dates.pdf, https://www.phila.gov/media/20201021083906/Wage-Tax-due-dates-2021-schedule-v1.pdf, https://www.phila.gov/media/20231211101658/Earnings-Tax-2024-due-dates.pdf, https://www.phila.gov/media/20191030085637/Wage-Tax-due-dates-2020-schedule-v1.pdf)</td></tr><tr><td>What's the max income limit for a married individual with two dependents to qualify for PA's 2021 tax forgiveness refund?</td><td> Based on the document titled \"ANNUAL RECONCILIATION OF EMPLOYEE EARNINGS TAX INSTRUCTIONS\" provided in the context, the maximum income limit for a married individual with two dependents to qualify for PA's 2021 tax forgiveness refund is $34,250. It is important to note that this limit may be subject to change and it is always best to refer to the most recent and official guidelines or consult with a tax professional for accurate information.</td><td>List(https://www.phila.gov/media/20211109085717/Income-based-Wage-Tax-Flyer-November-2021.pdf, https://www.phila.gov/media/20230206102047/Non-residents-income-based-Wage-Tax-refund-form-2022.pdf, https://www.phila.gov/media/20221026144622/2021-Non-residents-income-based-Wage-Tax-refund-form.pdf, https://www.phila.gov/media/20201202111441/Earnings-Tax-return-instructions-general-information-2020.pdf)</td></tr><tr><td>What is Gross Compensation?</td><td>Generally, gross compensation is the highest compensation figure reported on a W-2 form. It includes all taxable wages before any deductions or contributions, such as pension plan contributions, are made. This definition applies to both salaried and commissioned employees. It's important to note that gross compensation is used as the starting point for calculating wage tax in the City of Philadelphia.</td><td>List(https://www.phila.gov/media/20190219090710/Wage-Tax-refund-petition-salaried-employees-2018.pdf, https://www.phila.gov/media/20201015094507/Earnings-Tax-return-2020.pdf, https://www.phila.gov/media/20191218101514/Wage-Tax-refund-petition-salaried-employees-2019.pdf, https://www.phila.gov/media/20210503155239/Wage-Tax-Frequently-Asked-Questions-May-2021.pdf)</td></tr><tr><td>What is the resident tax rate for 2023?</td><td>The resident tax rate for the first half of 2023 (January 1, 2023 to June 30, 2023) is 3.7900% (.037900), and for the second half of 2023 (July 1, 2023 to December 31, 2023) is 3.7500% (.037500).</td><td>List(https://www.phila.gov/media/20240131144329/2023-Wage-Tax-refund-salaried-employees-form-and-instructions.pdf, https://www.phila.gov/media/20240212102406/2023-non-residents-income-based-Wage-Tax-refund-form.pdf, https://www.phila.gov/media/20230427104025/Earnings-Tax-2023-due-dates.pdf, https://www.phila.gov/media/20221230115025/Wage-Tax-2023-monthly-due-dates.pdf)</td></tr><tr><td>What's the 2021 form for a Philly business requesting a tax overpayment refund?</td><td>2021 Residents Income-Based Wage Tax Refund Petition is the form for a Philly business requesting a tax overpayment refund for the tax year 2021. However, it is important to note that this form is for residents only. Non-residents of Philadelphia should use the Non-residents Income-Based Wage Tax Refund Petition form. The form and instructions can be found in the context provided.</td><td>List(https://www.phila.gov/media/20230206102047/Non-residents-income-based-Wage-Tax-refund-form-2022.pdf, https://www.phila.gov/media/20230206101743/Residents-income-based-Wage-Tax-refund-2022.pdf, https://www.phila.gov/media/20240212102153/2023-residents-income-based-Wage-Tax-refund.pdf, https://www.phila.gov/media/20221026144150/2021-Residents-income-based-Wage-Tax-refund.pdf)</td></tr><tr><td>What's the filing frequency for $350-$16k/month wage tax withholdings and its relation to W-2 submission in Philadelphia?</td><td> Based on the provided context, the wage tax withholdings for a wage range of $350-$16,000 per month in Philadelphia are made on a weekly basis. However, the context does not provide specific information about the relationship between this wage tax withholding frequency and W-2 submission.\n",
       "\n",
       "For filing a Wage Tax petition in Philadelphia, residents can file electronically through the Philadelphia Tax Center, while non-residents must use a specific form for non-residents. The context suggests encouraging electronic filing to avoid delays.\n",
       "\n",
       "Regarding W-2 submission, the context advises that copies of the PA 40 Schedule SP and all W-2s should be included when mailing the completed form and documents to the Philadelphia Department of Revenue.\n",
       "\n",
       "Therefore, while the wage tax withholdings are made on a weekly basis, the context does not provide specific information about the relationship between this wage tax withholding frequency and W-2 submission.</td><td>List(https://www.phila.gov/media/20230206101743/Residents-income-based-Wage-Tax-refund-2022.pdf, https://www.phila.gov/media/20230206102047/Non-residents-income-based-Wage-Tax-refund-form-2022.pdf, https://www.phila.gov/media/20240212102153/2023-residents-income-based-Wage-Tax-refund.pdf, https://www.phila.gov/media/20231211095744/2024-Wage-Tax-weekly-Q1-and-Q2-due-dates.pdf)</td></tr><tr><td>What is the payment due date for the 02/22/24 check date for a weekly depositor?</td><td>03/06/24\n",
       "\n",
       "Explanation:\n",
       "\n",
       "Based on the document titled \"City of Philadelphia Department of Revenue, 2024 WAGE SCHEDULE, Payment Frequency: Weekly, July 1st to September 30th\", we can find the due date for the 02/22/24 check date.\n",
       "\n",
       "The table shows that the period end for the 02/22/24 check date is 02/27/24 and the due date for that period is 03/03/24. However, since the payment frequency is weekly, we need to find the closest Wednesday before the 03/03/24. The closest Wednesday is 03/06/24. Therefore, the payment due date for the 02/22/24 check date for a weekly depositor is 03/06/24.</td><td>List(https://www.phila.gov/media/20211008112848/Wage-Tax-due-dates-2022-1st-and-2nd-quarters-WEB.pdf, https://www.phila.gov/media/20211008113517/Wage-Tax-due-dates-2022-3rd-and-4th-quarters-for-WEB.pdf, https://www.phila.gov/media/20231211095959/2024-Wage-Tax-weekly-Q3-and-Q4-due-dates.pdf, https://www.phila.gov/media/20211008113935/2022-Wage-semi-monthly-tax-due-dates.pdf)</td></tr><tr><td>What are the penalties for a late wage tax return?</td><td>1% per month or fraction of each month until paid in interest, and incremental penalty rates in accordance with a specified table for the unpaid tax. The exact penalty rates can be found in the source provided, which is a Wage Tax account application for the City of Philadelphia, specifically for the year 2019. The rates may have changed since then, so it's recommended to check the most recent version on the City of Philadelphia's Department of Revenue website.</td><td>List(https://www.phila.gov/media/20190808134623/Employee-Earnings-Tax-account-application-2019-August-update.pdf, https://www.phila.gov/media/20230206101743/Residents-income-based-Wage-Tax-refund-2022.pdf, https://www.phila.gov/media/20240212102153/2023-residents-income-based-Wage-Tax-refund.pdf, https://www.phila.gov/media/20230206102047/Non-residents-income-based-Wage-Tax-refund-form-2022.pdf)</td></tr><tr><td>What's the % of Philly's resident tax rate for H2 2021 vs. the non-resident rate?</td><td>3.7500% (.037500) for Philadelphia residents and 3.4400% (.034400) for non-residents for the second half of 2021.</td><td>List(https://www.phila.gov/media/20240131144329/2023-Wage-Tax-refund-salaried-employees-form-and-instructions.pdf, https://www.phila.gov/media/20230206102047/Non-residents-income-based-Wage-Tax-refund-form-2022.pdf, https://www.phila.gov/media/20201105092132/Wage-Tax-non-resident-COVID-19-guidance-110520.pdf, https://www.phila.gov/media/20201015094507/Earnings-Tax-return-2020.pdf)</td></tr><tr><td>What was the due date for the 52nd weekly wage tax period in 2019?</td><td>I'm sorry for any confusion, but the provided context does not include the wage tax due dates for the year 2019. Therefore, I'm unable to provide the exact due date for the 52nd weekly wage tax period in 2019.</td><td>List(https://www.phila.gov/media/20230118130428/2023-Wage-Tax-weekly-Q3-and-Q4-due-dates.pdf, https://www.phila.gov/media/20201021083906/Wage-Tax-due-dates-2021-schedule-v1.pdf, https://www.phila.gov/media/20191030085637/Wage-Tax-due-dates-2020-schedule-v1.pdf, https://www.phila.gov/media/20211008113517/Wage-Tax-due-dates-2022-3rd-and-4th-quarters-for-WEB.pdf)</td></tr><tr><td>\"How does the 2021 \"\"requirement of employment\"\" test for Philly's Wage Tax refunds impact eligibility and remote work convenience for nonresidents?\"</td><td>2021 \"requirement of employment\" test for Philadelphia's Wage Tax refunds for non-residents is that the employee must be employed on March 31, 2022, the date the bonuses are paid. This means that if a non-resident employee was required to work remotely and only worked in the Philadelphia office for a certain percentage of their workdays in 2021, that percentage of their bonus is subject to the Wage Tax. This test ensures that non-residents who have worked remotely and were still employed on the date the bonuses are paid are eligible for the Wage Tax refund. This test provides convenience for non-residents as it allows them to still be eligible for the refund even if they have worked remotely.</td><td>List(https://www.phila.gov/media/20230206102047/Non-residents-income-based-Wage-Tax-refund-form-2022.pdf, https://www.phila.gov/media/20240131144329/2023-Wage-Tax-refund-salaried-employees-form-and-instructions.pdf, https://www.phila.gov/media/20201105092132/Wage-Tax-non-resident-COVID-19-guidance-110520.pdf, https://www.phila.gov/media/20230206101743/Residents-income-based-Wage-Tax-refund-2022.pdf)</td></tr><tr><td>When's the due date for the post-Dec 15th period in the 2021 semi-monthly wage tax schedule?</td><td>01/06/22</td><td>List(https://www.phila.gov/media/20201021083908/2021-Wage-semi-monthly-tax-due-dates.pdf, https://www.phila.gov/media/20201021083906/Wage-Tax-due-dates-2021-schedule-v1.pdf, https://www.phila.gov/media/20171208092359/2018-Wage-Tax-due-dates1.pdf, https://www.phila.gov/media/20230118130428/2023-Wage-Tax-weekly-Q3-and-Q4-due-dates.pdf)</td></tr><tr><td>What was the due date for the 52nd weekly wage tax period in 2016?</td><td>01/05/17\n",
       "\n",
       "Explanation:\n",
       "The table \"Wage Tax Due Date Chart for 2016\" provides information about the weekly wage tax periods in 2016. According to the table, the 52nd weekly wage tax period starts from 12/18/16 and ends on 12/31/16. The due date for this period is 01/05/17.</td><td>List(https://www.phila.gov/media/20160830163642/2016-wage-tax-due-dates.pdf, https://www.phila.gov/media/20160926121412/2016-Earnings-Tax-due-dates.pdf, https://www.phila.gov/media/20230118130428/2023-Wage-Tax-weekly-Q3-and-Q4-due-dates.pdf, https://www.phila.gov/media/20191030085637/Wage-Tax-due-dates-2020-schedule-v1.pdf)</td></tr><tr><td>What is non-taxable Gross Compenstaion?</td><td>\tNon-taxable Gross Compensation refers to the portion of an employee's earnings that is not subject to wage tax. According to the context provided, it is the total of Line 5 on Page 1, Line 2 of the Earnings Tax Allocation Form. However, the specific components of non-taxable gross compensation are not detailed in the provided context. It's recommended to refer to the specific form instructions or consult with a tax professional for more detailed information.</td><td>List(https://www.phila.gov/media/20191218101514/Wage-Tax-refund-petition-salaried-employees-2019.pdf, https://www.phila.gov/media/20190219090710/Wage-Tax-refund-petition-salaried-employees-2018.pdf, https://www.phila.gov/media/20240131144329/2023-Wage-Tax-refund-salaried-employees-form-and-instructions.pdf, https://www.phila.gov/media/20201202112357/Earnings-Tax-allocation-form-2020.pdf)</td></tr><tr><td>How were employers informed about Philly's income tax regulation changes by the Dept. of Revenue in 2020?</td><td>2020 was not specified in the provided context. However, it is mentioned that the City of Philadelphia Department of Revenue released a guidance on Wage Tax for non-residents in November 2020, due to COVID-19. Employers were informed about the changes through a document titled \"Wage-Tax-non-resident-COVID-19-guidance-110520.pdf.\" The document mentions that employers are required to withhold and remit Wage Tax for all its Philadelphia residents, regardless of where they perform their duties.\n",
       "\n",
       "For general information, the City of Philadelphia Department of Revenue provides a Wage Tax petition through the Philadelphia Tax Center, which is encouraged for filing to avoid delays. The petition is available for both residents and non-residents who may be entitled to a refund of City Wage Tax withheld by their employer. The form and instructions for non-residents are provided in the \"Non-residents-income-based-Wage-Tax-refund-form-2022.pdf\" document.</td><td>List(https://www.phila.gov/media/20201015094507/Earnings-Tax-return-2020.pdf, https://www.phila.gov/media/20201105092132/Wage-Tax-non-resident-COVID-19-guidance-110520.pdf, https://www.phila.gov/media/20230206101743/Residents-income-based-Wage-Tax-refund-2022.pdf, https://www.phila.gov/media/20230206102047/Non-residents-income-based-Wage-Tax-refund-form-2022.pdf)</td></tr><tr><td>What's the expected wait time for a non-resident's online wage tax refund request in Philadelphia?</td><td> I'm sorry for any inconvenience, but the provided context does not include information about the expected wait time for a non-resident's online wage tax refund request in Philadelphia. It's recommended to check the official website or contact the Philadelphia Department of Revenue directly for the most accurate and up-to-date information.</td><td>List(https://www.phila.gov/media/20230206102047/Non-residents-income-based-Wage-Tax-refund-form-2022.pdf, https://www.phila.gov/media/20230206101743/Residents-income-based-Wage-Tax-refund-2022.pdf, https://www.phila.gov/media/20240212102153/2023-residents-income-based-Wage-Tax-refund.pdf, https://www.phila.gov/media/20230303142337/Refund-dates-and-locations-2022-template.pdf)</td></tr><tr><td>Given 2H 2021 tax rules, what's the tax rate for a Philly resident?</td><td>3.7900% (.037900) from July 1, 2021 to December 31, 2021.\n",
       "\n",
       "Sources:\n",
       "{source\\_type=normal\\_text, file=2023-Wage-Tax-refund-salaried-employees-form-and-instructions.pdf, year=[2023]}\n",
       "{source\\_type=normal\\_text\\_short, file=Wage-Tax-non-resident-COVID-19-guidance-110520.pdf, year=[]}</td><td>List(https://www.phila.gov/media/20240131144329/2023-Wage-Tax-refund-salaried-employees-form-and-instructions.pdf, https://www.phila.gov/media/20201105092132/Wage-Tax-non-resident-COVID-19-guidance-110520.pdf, https://www.phila.gov/media/20221026144150/2021-Residents-income-based-Wage-Tax-refund.pdf, https://www.phila.gov/media/20230206102047/Non-residents-income-based-Wage-Tax-refund-form-2022.pdf)</td></tr><tr><td>When's the 2015 Wage Tax Chart's due date for the period after 07/11/15?</td><td>08/05/15\n",
       "\n",
       "Explanation:\n",
       "\n",
       "Referring to the Semi-Monthly Wage Tax Periods for 2015, the period after 07/11/15 falls under period 71, which has an inclusive date range of 07/16/15 to 07/31/15 and a due date of 08/05/15.</td><td>List(https://www.phila.gov/media/20201021084110/2021-Wage-Monthly-and-Quarterly-Tax-Due-dates.pdf, https://www.phila.gov/media/20170214095339/2015WageDueDates11.13.pdf, https://www.phila.gov/media/20201021083906/Wage-Tax-due-dates-2021-schedule-v1.pdf, https://www.phila.gov/media/20201021083908/2021-Wage-semi-monthly-tax-due-dates.pdf)</td></tr><tr><td>When was the Oct. 1-15, 2011 semi-monthly wage tax deadline?</td><td>11/15/11\n",
       "\n",
       "Explanation:\n",
       "\n",
       "Based on the provided context, I can see a table for Semi-Monthly Wage Tax Periods for the year 2010. However, the question asks about the Oct. 1-15, 2011 semi-monthly wage tax deadline. Since there is no provided context for 2011, I cannot directly answer the question.\n",
       "\n",
       "However, I can still provide some insight based on the available information. In the table for Semi-Monthly Wage Tax Periods for 2010, the period that includes October 1-15 has a due date of November 1. Considering this, and assuming that the due dates for the semi-monthly wage tax in 2011 follow a similar pattern, it is reasonable to estimate that the Oct. 1-15, 2011 semi-monthly wage tax deadline would be on November 15, 2011.\n",
       "\n",
       "Please note that this answer is an estimation based on the available context for 2010, and the actual due date for the Oct. 1-15, 2011 semi-monthly wage tax may be different.</td><td>List(https://www.phila.gov/media/20201021083908/2021-Wage-semi-monthly-tax-due-dates.pdf, https://www.phila.gov/media/20201021083906/Wage-Tax-due-dates-2021-schedule-v1.pdf, https://www.phila.gov/media/20161121153405/2011-Wage-Tax-Due-Dates.pdf, https://www.phila.gov/media/20161121153504/2010-Wage-Tax-Due-Dates.pdf)</td></tr><tr><td>When are wage tax returns due for 2021?</td><td>1. Quarterly Wage Tax Returns for 2021 are due on April 30, 2021 (Q1), August 2, 2021 (Q2), November 1, 2021 (Q3), and January 31, 2022 (Q4 and Annual Reconciliation Period).\n",
       "2. Earnings Tax Returns for 2021 are due on April 30, 2021 (Q1), August 2, 2021 (Q2), November 1, 2021 (Q3), and January 31, 2022 (Q4 and Annual Reconciliation Period).\n",
       "3. Weekly Wage Tax Returns for 2021 are due on February 16, 2021 (Week 7), March 15, 2021 (Week 8), May 17, 2021 (Week 20), June 15, 2021 (Week 23), August 16, 2021 (Week 33), September 15, 2021 (Week 37), November 15, 2021 (Week 46), and December 15, 2021 (Week 49). The Annual Reconciliation Period for Weekly Wage Tax Returns is due on February 28, 2022.\n",
       "\n",
       "Please note that the due dates for wage tax returns for 2021 are based on the provided context and may be subject to change. It is recommended to check the official Pennsylvania Department of Revenue website for the most up-to-date information.</td><td>List(https://www.phila.gov/media/20201021084110/2021-Wage-Monthly-and-Quarterly-Tax-Due-dates.pdf, https://www.phila.gov/media/20201021085824/Earnings-Tax-due-dates-2021-schedule.pdf, https://www.phila.gov/media/20201021083906/Wage-Tax-due-dates-2021-schedule-v1.pdf, https://www.phila.gov/media/20220216111153/Wage-Tax-refund-Covid-EZ-form-2021-instructions.pdf)</td></tr><tr><td>What is the interest rate for late wage tax payments?</td><td>1% per month or fraction of each month until paid. This information is based on the document titled \"Employee-Earnings-Tax-account-application-2019-August-update.pdf\" and applies to tax returns due on or before December 31, 2013. However, the context provided does not contain information about the interest rate for late wage tax payments for the years after 2013. It is recommended to check the most recent regulations or guidelines for the current interest rate.</td><td>List(https://www.phila.gov/media/20190808134623/Employee-Earnings-Tax-account-application-2019-August-update.pdf, https://www.phila.gov/media/20201021083908/2021-Wage-semi-monthly-tax-due-dates.pdf, https://www.phila.gov/media/20161121153504/2010-Wage-Tax-Due-Dates.pdf, https://www.phila.gov/media/20171208092359/2018-Wage-Tax-due-dates1.pdf)</td></tr><tr><td>What is the procedure to file a Wage Tax refund petition in Philadelphia for the year 2022?</td><td>1. Determine if you are a non-resident of Philadelphia. The Wage Tax Refund Petition is only for non-residents. If you are a resident, you should use the Income-based Wage Tax Refund petition for residents.\n",
       "\n",
       "2. If you are a non-resident, you can file the Wage Tax Refund Petition for 2022 by using the Non-residents income-based Wage Tax refund form 2022. You can calculate your refund by entering your 2022 W-2 information in the worksheet provided. If you have more than four W-2s, see the instructions for how to handle this.\n",
       "\n",
       "3. Mail the completed form and all documents to: Philadelphia Department of Revenue PO Box 53360 Philadelphia, PA 19105. You can also return it by fax to (215) 686-6228.\n",
       "\n",
       "4. If you are a resident, you can file the Income-based Wage Tax Refund petition for residents for 2022 by using the residents income-based Wage Tax refund form 2022. You can file this petition electronically on the Philadelphia Tax Center at tax-service.phila.gov. You do not need a username and password to file a Wage Tax petition on the Tax Center, simply select “Request a Wage Tax refund” from the front page.\n",
       "\n",
       "5. Remember to include copies of your PA 40 Schedule SP and all W-2s with your petition.\n",
       "\n",
       "6. If you have any questions, you can contact the Philadelphia Department of Revenue at www.phila.gov/revenue, refund.unit@phila.gov or (215) 686-6574.</td><td>List(https://www.phila.gov/media/20230206102047/Non-residents-income-based-Wage-Tax-refund-form-2022.pdf, https://www.phila.gov/media/20230206101743/Residents-income-based-Wage-Tax-refund-2022.pdf, https://www.phila.gov/media/20240212102153/2023-residents-income-based-Wage-Tax-refund.pdf, https://www.phila.gov/media/20230203152621/2022-Wage-Tax-refund-Covid-EZ-form-instructions.pdf)</td></tr><tr><td>How is the quarterly wage tax return filed?</td><td>Based on the documents provided, in the state of Pennsylvania, quarterly wage tax returns for the City of Philadelphia can be filed electronically through the Philadelphia Tax Center. Alternatively, paper forms can be mailed or faxed to the Philadelphia Department of Revenue. The due dates for the quarterly wage tax returns are April 30, July 31, October 31, and January 31 of the following year for the respective quarters. The table showing the due dates for 2021 is provided in the document, and a similar table can be found for 2020. The wage tax petition for residents can also be filed electronically through the same Tax Center.</td><td>List(https://www.phila.gov/media/20201021084110/2021-Wage-Monthly-and-Quarterly-Tax-Due-dates.pdf, https://www.phila.gov/media/20191030085637/Wage-Tax-due-dates-2020-schedule-v1.pdf, https://www.phila.gov/media/20230206101743/Residents-income-based-Wage-Tax-refund-2022.pdf, https://www.phila.gov/media/20240212102153/2023-residents-income-based-Wage-Tax-refund.pdf)</td></tr><tr><td>What's the max income for a married individual with three dependents to qualify for PA's 2022 tax forgiveness program?</td><td> Based on the document provided, a married individual with three dependents can qualify for PA's 2022 tax forgiveness program with an income of up to $43,750.</td><td>List(https://www.phila.gov/media/20230206102047/Non-residents-income-based-Wage-Tax-refund-form-2022.pdf, https://www.phila.gov/media/20201202111441/Earnings-Tax-return-instructions-general-information-2020.pdf, https://www.phila.gov/media/20211109085717/Income-based-Wage-Tax-Flyer-November-2021.pdf, https://www.phila.gov/media/20221026144622/2021-Non-residents-income-based-Wage-Tax-refund-form.pdf)</td></tr><tr><td>What documents must be included in the 2023 Wage Tax Refund Petition for salaried employees?</td><td>2023 Wage Tax Refund Petition for salaried employees must include:\n",
       "\n",
       "1. The completed petition form\n",
       "2. A W-2 showing Federal, State, Medicare, and Local wages\n",
       "3. Dates & Locations Worksheet\n",
       "4. Signature of Employee and Employer (digital signatures accepted)\n",
       "5. PA Schedule UE, if claiming expenses on Line 2E\n",
       "6. A breakdown of expenses, if there is an entry on Line 15 of PA Schedule UE\n",
       "7. A separate petition must be filed for each W-2 issued by employers that may have overwithheld Wage Tax.\n",
       "8. If you were required to work remotely, please attach a letter from your employer, on company letterhead, with the dates or time period you were REQUIRED to work remotely.\n",
       "\n",
       "Please note that the income thresholds for non-residents in the table provided are not applicable to the Wage Tax Refund Petition for salaried employees.</td><td>List(https://www.phila.gov/media/20240131145157/2023-Wage-Tax-refund-commissioned-employees-form-instructions.pdf, https://www.phila.gov/media/20230207141123/2021-Wage-Tax-refund-salaried-employees-form-instructions.pdf, https://www.phila.gov/media/20220216111153/Wage-Tax-refund-Covid-EZ-form-2021-instructions.pdf, https://www.phila.gov/media/20240212102406/2023-non-residents-income-based-Wage-Tax-refund-form.pdf)</td></tr><tr><td>Can I file a paper wage tax return?</td><td>\tBased on the information provided, the City of Philadelphia Department of Revenue encourages electronic filing of the Wage Tax petition through the Philadelphia Tax Center to avoid delays. However, paper forms are still available for those who prefer to use them. Therefore, yes, you can still file a paper wage tax return if you choose to do so.</td><td>List(https://www.phila.gov/media/20230206101743/Residents-income-based-Wage-Tax-refund-2022.pdf, https://www.phila.gov/media/20221026144622/2021-Non-residents-income-based-Wage-Tax-refund-form.pdf, https://www.phila.gov/media/20240212102153/2023-residents-income-based-Wage-Tax-refund.pdf, https://www.phila.gov/media/20220216111153/Wage-Tax-refund-Covid-EZ-form-2021-instructions.pdf)</td></tr><tr><td>When's the due date for 2020 earnings tax reconciliation if overwithheld in Philadelphia?</td><td> Based on the document title you provided, the due date for the 2020 Employee Earnings Tax Reconciliation in Philadelphia if overwithheld is April 15, 2021.</td><td>List(https://www.phila.gov/media/20201015094507/Earnings-Tax-return-2020.pdf, https://www.phila.gov/media/20210204174030/Residents-2020-income-based-Wage-Tax-refund.pdf, https://www.phila.gov/media/20210204172023/Non-residents-2020-income-based-Wage-Tax-refund-form.pdf, https://www.phila.gov/media/20221026144150/2021-Residents-income-based-Wage-Tax-refund.pdf)</td></tr><tr><td>What are the requirements for a new Philadelphia employer?</td><td>1. Register with the City of Philadelphia's Department of Revenue to obtain an Employer Identification Number (EIN).\n",
       "2. Withhold Wage Tax on behalf of all Philadelphia resident employees, regardless of where they perform their duties.\n",
       "3. Remit the withheld Wage Tax to the City of Philadelphia.\n",
       "4. File an Annual Reconciliation of Employee Earnings Tax for each tax year by April 15th of the following year.\n",
       "5. If the employer has non-resident employees who perform duties in Philadelphia, they may be required to withhold and remit the Net Profits Tax on their behalf.\n",
       "\n",
       "Please note that this information is accurate for the year 2021, based on the provided context. It is recommended to check the current regulations and guidelines on the official City of Philadelphia's Department of Revenue website for the most up-to-date information.</td><td>List(https://www.phila.gov/media/20231024112123/UPDATED-Wage-Tax-policy-guidance-for-non-resident-employees.pdf, https://www.phila.gov/media/20201105092132/Wage-Tax-non-resident-COVID-19-guidance-110520.pdf, https://www.phila.gov/media/20201015094507/Earnings-Tax-return-2020.pdf, https://www.phila.gov/media/20191218101013/Wage-Tax-refund-petition-commission-employees-2019.pdf)</td></tr><tr><td>What's the 2019 wage tax deadline for the period 06/30/19 - 07/06/19?</td><td>08/15/19 is the wage tax deadline for the period 06/30/19 - 07/06/19, based on the 2019 Monthly and Quaterly Wage Tax Due Date Chart provided.</td><td>List(https://www.phila.gov/media/20190515090033/Wage-Tax-due-dates-2019-schedule.pdf, https://www.phila.gov/media/20181105150705/2019-Earnings-Tax-due-dates.pdf, https://www.phila.gov/media/20191030085637/Wage-Tax-due-dates-2020-schedule-v1.pdf, https://www.phila.gov/media/20201021084110/2021-Wage-Monthly-and-Quarterly-Tax-Due-dates.pdf)</td></tr><tr><td>When's the due date for the 01/09/22-01/15/22 Philly wage tax period?</td><td>01/20/22</td><td>List(https://www.phila.gov/media/20211008112848/Wage-Tax-due-dates-2022-1st-and-2nd-quarters-WEB.pdf, https://www.phila.gov/media/20211008113517/Wage-Tax-due-dates-2022-3rd-and-4th-quarters-for-WEB.pdf, https://www.phila.gov/media/20211008113935/2022-Wage-semi-monthly-tax-due-dates.pdf, https://www.phila.gov/media/20231211100247/Wage-Tax-2024-monthly-due-dates.pdf)</td></tr><tr><td>What is the requirement for entering hours worked in the non-resident Wage Tax petition for the year 2022?</td><td>\n",
       "According to the Income-based Wage Tax Refund Petition Tax Year 2022 for Non-residents, there is no specific requirement to enter hours worked in the petition. However, for non-work days, you are required to provide the number of hours not worked, including weekends, vacation, holidays, sick or any type of leave time. For terminal or severance pay, it is taxable at the employee's historical percentage of time worked in the City. Please ensure you have the applicable W-2 indicating Federal, Medicare, State and Local wages, and a separate petition must be filed for each W-2 issued by employers that may have overwithheld Wage Tax. If you were required to work remotely, you should attach a letter from your employer on company letterhead with the dates or time period you were required to work remotely.</td><td>List(https://www.phila.gov/media/20230206102047/Non-residents-income-based-Wage-Tax-refund-form-2022.pdf, https://www.phila.gov/media/20240212102406/2023-non-residents-income-based-Wage-Tax-refund-form.pdf, https://www.phila.gov/media/20191218101514/Wage-Tax-refund-petition-salaried-employees-2019.pdf, https://www.phila.gov/media/20220216111153/Wage-Tax-refund-Covid-EZ-form-2021-instructions.pdf)</td></tr><tr><td>How do I amend the annual wage tax return?</td><td>1. Obtain the necessary forms: You will need to use the \"Amended Annual Reconciliation of Employee Earnings Tax\" form, which can be found on the City of Philadelphia's website.\n",
       "\n",
       "2. Gather your information: Have your original return and all necessary documentation on hand, as you will need to provide the same information as you did on your original return.\n",
       "\n",
       "3. Fill out the form: Complete all sections of the amended return form, making sure to include any necessary adjustments or corrections. Be sure to provide an explanation for the changes you are making.\n",
       "\n",
       "4. Attach any additional forms or schedules: If your amendment requires additional forms or schedules, be sure to attach them to your amended return.\n",
       "\n",
       "5. Mail the form: Once you have completed the amended return, mail it to the address provided on the form. It is important to note that processing times for amended returns can be longer than those for original returns.\n",
       "\n",
       "6. Follow up: If you do not hear back from the City of Philadelphia within a reasonable amount of time, consider following up to ensure that your amended return has been received and processed.\n",
       "\n",
       "It is important to note that the specific instructions and forms required for amending a wage tax return in Pennsylvania may vary depending on the specific circumstances of your return. It is always a good idea to consult with a tax professional or the Pennsylvania Department of Revenue if you have any questions or concerns about amending your return.</td><td>List(https://www.phila.gov/media/20201015094507/Earnings-Tax-return-2020.pdf, https://www.phila.gov/media/20161121153402/2012-Wage-Tax-Due-Dates.pdf, https://www.phila.gov/media/20221026144622/2021-Non-residents-income-based-Wage-Tax-refund-form.pdf, https://www.phila.gov/media/20170214095339/2015WageDueDates11.13.pdf)</td></tr><tr><td>What were the reduced resident tax rates in Philadelphia for the year 2019?</td><td>3.8700% (.038700) for January 1, 2019 to June 30, 2019 and 3.8400% (.038400) for July 1, 2019 to December 31, 2019.\n",
       "\n",
       "Source: City of Philadelphia Department of Revenue 2019 WAGE SCHEDULE (<https://www.phila.gov/media/20181218151112/2019-Wage-Tax-Monthly-Due-Dates.pdf>)</td><td>List(https://www.phila.gov/media/20240131144329/2023-Wage-Tax-refund-salaried-employees-form-and-instructions.pdf, https://www.phila.gov/media/20201105092132/Wage-Tax-non-resident-COVID-19-guidance-110520.pdf, https://www.phila.gov/media/20221230115025/Wage-Tax-2023-monthly-due-dates.pdf, https://www.phila.gov/media/20230206102047/Non-residents-income-based-Wage-Tax-refund-form-2022.pdf)</td></tr><tr><td>What is the procedure for a non-resident of Philadelphia to allocate their compensation for services performed in and out of Philadelphia in 2020?</td><td>1. First, determine the gross compensation for employees paid on a salary or commission basis for the periods worked in and out of Philadelphia. This information can be found in columns A and B of the table provided in the document.\n",
       "\n",
       "2. Calculate the adjusted gross compensation by subtracting non-taxable compensation from the gross compensation.\n",
       "\n",
       "3. Determine the number of days or hours worked in and out of Philadelphia.\n",
       "\n",
       "4. Calculate the percentage of time worked outside of Philadelphia by dividing the number of days or hours worked outside of Philadelphia by the total number of days or hours worked.\n",
       "\n",
       "5. Calculate the non-taxable gross compensation earned outside of Philadelphia by multiplying the adjusted gross compensation by the percentage of time worked outside of Philadelphia.\n",
       "\n",
       "6. Calculate the non-reimbursed business expenses and deductible non-reimbursed employee business expenses, if applicable.\n",
       "\n",
       "7. Add the non-taxable gross compensation earned outside of Philadelphia and the non-reimbursed business expenses and deductible non-reimbursed employee business expenses to get the non-taxable income and/or deductible employee business expenses.\n",
       "\n",
       "8. The compensation attributable to the time worked in Philadelphia is subject to the Wage Tax. The tax rate for non-residents for the year 2020 is 3.4400%.\n",
       "\n",
       "It is important to note that the above procedure is based on the information provided in the document and the year 2020, and it is always best to consult with a tax professional for specific situations.</td><td>List(https://www.phila.gov/media/20201015094507/Earnings-Tax-return-2020.pdf, https://www.phila.gov/media/20240131144329/2023-Wage-Tax-refund-salaried-employees-form-and-instructions.pdf, https://www.phila.gov/media/20230206102047/Non-residents-income-based-Wage-Tax-refund-form-2022.pdf, https://www.phila.gov/media/20201105092132/Wage-Tax-non-resident-COVID-19-guidance-110520.pdf)</td></tr><tr><td>Does Philadelphia require W2 filing?</td><td>1. For non-residents of Philadelphia who are entitled to a refund of City Wage Tax withheld by their employer, a W-2 form is required to be included with the Income-based Wage Tax Refund petition. The form is used to calculate the refund based on the W-2 information.\n",
       "2. For residents of Philadelphia, the Income-based Wage Tax Refund petition can be filed electronically through the Philadelphia Tax Center or by mailing the completed form and all documents to the Philadelphia Department of Revenue. The form requires copies of the PA 40 Schedule SP and all W-2s to be included.\n",
       "3. The Earnings Tax Allocation form for the year 2020, which is not the current year, states that non-taxable gross compensation and taxable gross compensation should be entered on Line 5 and Line 6 respectively. This information is to be taken from Page 1 of the form.\n",
       "\n",
       "Based on the above information, it can be concluded that Philadelphia does require W-2 filing for non-residents and residents who are seeking a refund of City Wage Tax withheld by their employer.</td><td>List(https://www.phila.gov/media/20230206102047/Non-residents-income-based-Wage-Tax-refund-form-2022.pdf, https://www.phila.gov/media/20230206101743/Residents-income-based-Wage-Tax-refund-2022.pdf, https://www.phila.gov/media/20240212102153/2023-residents-income-based-Wage-Tax-refund.pdf, https://www.phila.gov/media/20201202112357/Earnings-Tax-allocation-form-2020.pdf)</td></tr><tr><td>Per the Oct 12, 2023 Philly Wage Tax guidance, how do tax implications for non-resident remote workers due to childcare differ from those with workspace limitations?</td><td>1099-MISC and W-2 wages for non-resident remote workers in Philadelphia due to childcare or workspace limitations are subject to the Philadelphia Wage Tax, with the taxable percentage based on the time spent working in Philadelphia. However, the guidance does not distinguish between the two scenarios in terms of tax implications. Both situations would follow the same tax rules and rates mentioned in the context provided.</td><td>List(https://www.phila.gov/media/20240131144329/2023-Wage-Tax-refund-salaried-employees-form-and-instructions.pdf, https://www.phila.gov/media/20230206102047/Non-residents-income-based-Wage-Tax-refund-form-2022.pdf, https://www.phila.gov/media/20221230115025/Wage-Tax-2023-monthly-due-dates.pdf, https://www.phila.gov/media/20230118130428/2023-Wage-Tax-weekly-Q3-and-Q4-due-dates.pdf)</td></tr><tr><td>How to calculate '23 Philly salaried employees' wage tax refund considering tax rates, gross pay, non-taxable stock options, total sales, out-of-town commissions, and non-reimbursed expenses?</td><td>1. Calculate the total taxable wages by subtracting non-taxable stock options from gross pay.\n",
       "2. Determine the percentage of time worked in Philadelphia during 2023.\n",
       "3. Apply the appropriate wage tax rate (resident or non-resident) to the taxable wages based on the percentage calculated in step 2.\n",
       "4. If applicable, calculate the non-resident employee's portion of taxable wages based on the time spent working in Philadelphia.\n",
       "5. Calculate the total wage tax paid by the employee.\n",
       "6. If the wage tax paid is more than the calculated wage tax owed, the employee is eligible for a refund.\n",
       "\n",
       "For commission employees, provide a breakdown of sales activity performed outside of Philadelphia, including client name, address, and sales amounts attributable to each client.\n",
       "\n",
       "Note: The 2023 tax rates and refund instructions were not provided in the context. Please refer to the 2023 Wage Tax Refund Salaried Employees Form and Instructions for the correct tax rates and refund procedures.</td><td>List(https://www.phila.gov/media/20240131144329/2023-Wage-Tax-refund-salaried-employees-form-and-instructions.pdf, https://www.phila.gov/media/20230206102047/Non-residents-income-based-Wage-Tax-refund-form-2022.pdf, https://www.phila.gov/media/20191218101013/Wage-Tax-refund-petition-commission-employees-2019.pdf, https://www.phila.gov/media/20210204170256/2020-Wage-Tax-refund-petition-commission.pdf)</td></tr><tr><td>What's the 2020 Philly Wage Tax guide for a part-time non-resident employee working in and out of the city?</td><td>2020 Philly Wage Tax guide for a part-time non-resident employee working in and out of the city would depend on the specific details of the employee's situation, such as the percentage of time worked in Philadelphia and the total compensation earned. However, based on the information provided, here is a general guide:\n",
       "\n",
       "* Bonuses, awards, leave time, and incentive payments are subject to Philadelphia Wage Tax for non-resident employees who work partly in the city.\n",
       "* The taxable percentage of the bonus is attributable to the time worked in Philadelphia. For example, if a non-resident employee worked 10% of their 2020 workdays in Philadelphia, 10% of their bonus is subject to Wage Tax.\n",
       "* The Wage Tax rates for non-residents in 2020 were:\n",
       "\t+ January 1, 2020 to June 30, 2020 = 3.4400% (.034400)\n",
       "\t+ July 1, 2020 to December 31, 2020 = 3.4400% (.034400)\n",
       "* If a non-resident employee believes they have overpaid their Wage Tax, they can file a claim for refund within three years from the date the tax was paid or due, whichever is later.\n",
       "* Employers are required to withhold and remit Wage Tax for all Philadelphia residents, regardless of where they perform their duties.\n",
       "\n",
       "Note that this information is based on the provided context, and the specifics of each situation may vary. It is recommended to consult the official City of Philadelphia Department of Revenue website or a tax professional for personalized advice.</td><td>List(https://www.phila.gov/media/20240131144329/2023-Wage-Tax-refund-salaried-employees-form-and-instructions.pdf, https://www.phila.gov/media/20201105092132/Wage-Tax-non-resident-COVID-19-guidance-110520.pdf, https://www.phila.gov/media/20230206102047/Non-residents-income-based-Wage-Tax-refund-form-2022.pdf, https://www.phila.gov/media/20231024112123/UPDATED-Wage-Tax-policy-guidance-for-non-resident-employees.pdf)</td></tr><tr><td>What's the wage tax rate for a Philly resident, H2 2022?</td><td>3.7500% (.037500)\n",
       "\n",
       "The wage tax rate for a Philly resident in the second half of 2022 (July 1, 2023 to December 31, 2023) is 3.7500% (.037500).</td><td>List(https://www.phila.gov/media/20240131144329/2023-Wage-Tax-refund-salaried-employees-form-and-instructions.pdf, https://www.phila.gov/media/20221230115025/Wage-Tax-2023-monthly-due-dates.pdf, https://www.phila.gov/media/20230206102047/Non-residents-income-based-Wage-Tax-refund-form-2022.pdf, https://www.phila.gov/media/20201105092132/Wage-Tax-non-resident-COVID-19-guidance-110520.pdf)</td></tr><tr><td>When's the Q3 '19 Employee Earnings Tax return due, accounting for holidays/weekends?</td><td> Based on the document titled \"Earnings Tax Due Date Chart for 2019,\" the due date for the Quarter 3 earnings tax return for 2019 is October 31, 2019. However, if this date falls on a weekend or holiday, the due date is typically moved to the next business day. Therefore, if October 31, 2019, falls on a weekend or holiday, the Q3 '19 Employee Earnings Tax return would be due on the next business day.</td><td>List(https://www.phila.gov/media/20230427104025/Earnings-Tax-2023-due-dates.pdf, https://www.phila.gov/media/20181105150705/2019-Earnings-Tax-due-dates.pdf, https://www.phila.gov/media/20190515090033/Wage-Tax-due-dates-2019-schedule.pdf, https://www.phila.gov/media/20191218101514/Wage-Tax-refund-petition-salaried-employees-2019.pdf)</td></tr><tr><td>What is the requirement for applicants to enter hours worked in the Non-resident Wage Tax Refund Petition form?</td><td>\n",
       "According to the Income-based Wage Tax Refund Petition form for Non-residents for Tax Year 2023, applicants are not explicitly asked to enter hours worked in the worksheet. The worksheet is designed for applicants to enter their W-2 information, including the employer's name and the total wages earned. However, there is a separate table for applicants to enter hours worked outside of Philadelphia, PA, but this is only required if the employer is submitting a refund petition on the applicant's behalf. Therefore, the requirement for applicants to enter hours worked in the Non-resident Wage Tax Refund Petition form is not explicitly stated, but it may be required in certain situations.</td><td>List(https://www.phila.gov/media/20230206102047/Non-residents-income-based-Wage-Tax-refund-form-2022.pdf, https://www.phila.gov/media/20240212102406/2023-non-residents-income-based-Wage-Tax-refund-form.pdf, https://www.phila.gov/media/20230303142337/Refund-dates-and-locations-2022-template.pdf, https://www.phila.gov/media/20220216111153/Wage-Tax-refund-Covid-EZ-form-2021-instructions.pdf)</td></tr><tr><td>What is the due date for the quarterly wage tax period from July 1 to September 30 in 2021?</td><td>11/01/21\n",
       "\n",
       "The due date for the quarterly wage tax period from July 1 to September 30 in 2021 is 11/01/21, according to the table provided in the document.</td><td>List(https://www.phila.gov/media/20201021084110/2021-Wage-Monthly-and-Quarterly-Tax-Due-dates.pdf, https://www.phila.gov/media/20201021083906/Wage-Tax-due-dates-2021-schedule-v1.pdf, https://www.phila.gov/media/20201021085824/Earnings-Tax-due-dates-2021-schedule.pdf, https://www.phila.gov/media/20230118130428/2023-Wage-Tax-weekly-Q3-and-Q4-due-dates.pdf)</td></tr><tr><td>What are the penalties for a late wage tax payment?</td><td>1% per month or fraction of each month until paid, in addition to penalty at rates that increase incrementally. The rates are not specified in the provided context, but for tax returns due on or before December 31, 2013, the penalty rates increase in accordance with a table that is not included in the context.</td><td>List(https://www.phila.gov/media/20190808134623/Employee-Earnings-Tax-account-application-2019-August-update.pdf, https://www.phila.gov/media/20240131144329/2023-Wage-Tax-refund-salaried-employees-form-and-instructions.pdf, https://www.phila.gov/media/20210503155239/Wage-Tax-Frequently-Asked-Questions-May-2021.pdf, https://www.phila.gov/media/20230206101743/Residents-income-based-Wage-Tax-refund-2022.pdf)</td></tr><tr><td>What format is used to file the quarterly wage tax return?</td><td> Based on the documents provided, the quarterly wage tax return for the state of Pennsylvania is due on the last day of the month following the end of the quarter. The specific due dates for each quarter in 2021 are as follows:\n",
       "\n",
       "* January 1 - March 31: Due April 30, 2021\n",
       "* April 1 - June 30: Due August 2, 2021\n",
       "* July 1 - September 30: Due November 1, 2021\n",
       "* October 1 - December 31: Due January 31, 2022 (This is also the annual reconciliation period)\n",
       "\n",
       "It is important to note that these due dates may be different for other years, as shown in the provided documents for 2015 and 2020. It is always a good idea to double-check the due dates for the specific year in question.\n",
       "\n",
       "As for the format of the quarterly wage tax return, the documents do not provide specific information on this. It is recommended to check the official website of the Pennsylvania Department of Revenue or contact them directly for more information on how to file the quarterly wage tax return and the specific format required.</td><td>List(https://www.phila.gov/media/20201021084110/2021-Wage-Monthly-and-Quarterly-Tax-Due-dates.pdf, https://www.phila.gov/media/20191030085637/Wage-Tax-due-dates-2020-schedule-v1.pdf, https://www.phila.gov/media/20170214095339/2015WageDueDates11.13.pdf, https://www.phila.gov/media/20201021083906/Wage-Tax-due-dates-2021-schedule-v1.pdf)</td></tr><tr><td>When's the wage tax due for a Philly weekly earner for 01/15/23-01/21/23?</td><td>01/25/23. According to the table provided, for the period of 01/15/23 to 01/21/23, the wage tax due date for a Philly weekly earner is 01/25/23.</td><td>List(https://www.phila.gov/media/20211008112848/Wage-Tax-due-dates-2022-1st-and-2nd-quarters-WEB.pdf, https://www.phila.gov/media/20230118130428/2023-Wage-Tax-weekly-Q3-and-Q4-due-dates.pdf, https://www.phila.gov/media/20211008113517/Wage-Tax-due-dates-2022-3rd-and-4th-quarters-for-WEB.pdf, https://www.phila.gov/media/20230118130334/2023-Wage-Tax-weekly-Q1-andQ2-due-dates.pdf)</td></tr><tr><td>What is the tax policy for non-resident employees working remotely from Philadelphia during the COVID-19 pandemic in 2020?</td><td>1. Gross compensation for employees paid on a salary basis (Form W-2) is subject to Philadelphia Wage Tax, including bonuses, awards, leave time, and incentive payments.\n",
       "2. For a non-resident employee working partly outside Philadelphia, the percentage of time worked outside Philadelphia can be excluded when the compensation is historically earned.\n",
       "3. For the year 2020, the tax rates for non-resident employees are 3.4400% for the first half of the year and also for the second half of the year.\n",
       "4. The City of Philadelphia requires all employers, regardless of their location in Pennsylvania, to withhold and remit Wage Tax on behalf of their employees who are Philadelphia residents, regardless of where they perform their duties.\n",
       "5. The above information is based on the documents and context provided, which pertains to the year 2020. The tax policy and rates may have changed for subsequent years.</td><td>List(https://www.phila.gov/media/20201105092132/Wage-Tax-non-resident-COVID-19-guidance-110520.pdf, https://www.phila.gov/media/20240131144329/2023-Wage-Tax-refund-salaried-employees-form-and-instructions.pdf, https://www.phila.gov/media/20231024112123/UPDATED-Wage-Tax-policy-guidance-for-non-resident-employees.pdf, https://www.phila.gov/media/20201015094507/Earnings-Tax-return-2020.pdf)</td></tr><tr><td>How do I process a wage tax refund?</td><td>1. Check if you are eligible for a wage tax refund in the state of Pennsylvania by reviewing the provided context. Non-residents of Philadelphia who worked in the city but had excessive wage tax withheld may be eligible.\n",
       "\n",
       "2. Gather your 2022 W-2 forms from all employers. You will need this information to calculate your potential refund.\n",
       "\n",
       "3. If you have more than four W-2s, refer to the instructions on Page 2 of the provided form for further guidance.\n",
       "\n",
       "4. Calculate your refund using the worksheet provided in the form. Enter your gross compensation from each W-2 on the appropriate line. Remember to only include your own W-2 information, not your spouse's.\n",
       "\n",
       "5. If you are approved for Pennsylvania tax forgiveness (PA 40 Schedule SP), you may also be entitled to receive a refund of City Wage Tax withheld by your employer.\n",
       "\n",
       "6. Complete the applicant information section of the form.\n",
       "\n",
       "7. Sign the form, certifying that the information provided is true and correct to the best of your knowledge.\n",
       "\n",
       "8. Attach the applicable W-2 indicating Federal, Medicare, State and Local wages to the petition.\n",
       "\n",
       "9. If you were required to work remotely due to COVID-19, attach a letter from your employer, on company letterhead, with the dates or time period you worked remotely.\n",
       "\n",
       "10. File a separate petition for each W-2 issued by employers that may have over withheld Wage Tax.\n",
       "\n",
       "11. If approved, you may receive a refund of approximately $275, based on the provided context.</td><td>List(https://www.phila.gov/media/20230206102047/Non-residents-income-based-Wage-Tax-refund-form-2022.pdf, https://www.phila.gov/media/20230207141123/2021-Wage-Tax-refund-salaried-employees-form-instructions.pdf, https://www.phila.gov/media/20220216111153/Wage-Tax-refund-Covid-EZ-form-2021-instructions.pdf, https://www.phila.gov/media/20211109085717/Income-based-Wage-Tax-Flyer-November-2021.pdf)</td></tr><tr><td>What is the due date for the wage tax period beginning on 10/15/23 and ending on 10/21/23?</td><td> Based on the provided context, there is no wage tax due date chart for the year 2023. The most recent chart provided is for the year 2022. Therefore, I cannot provide the wage tax due date for the period beginning on 10/15/23 and ending on 10/21/23.</td><td>List(https://www.phila.gov/media/20201021083908/2021-Wage-semi-monthly-tax-due-dates.pdf, https://www.phila.gov/media/20201021084110/2021-Wage-Monthly-and-Quarterly-Tax-Due-dates.pdf, https://www.phila.gov/media/20230427104025/Earnings-Tax-2023-due-dates.pdf, https://www.phila.gov/media/20201021083906/Wage-Tax-due-dates-2021-schedule-v1.pdf)</td></tr><tr><td>What is the due date for the wage tax of March 2023 in Philadelphia?</td><td> Based on the provided context, the wage tax for the period ending March 31, 2023 in Philadelphia is due on March 31, 2023 for both monthly and weekly payment frequencies.</td><td>List(https://www.phila.gov/media/20221230115025/Wage-Tax-2023-monthly-due-dates.pdf, https://www.phila.gov/media/20230118130334/2023-Wage-Tax-weekly-Q1-andQ2-due-dates.pdf, https://www.phila.gov/media/20230118130428/2023-Wage-Tax-weekly-Q3-and-Q4-due-dates.pdf, https://www.phila.gov/media/20211008114619/2022-Wage-Tax-quarterly-due-dates.pdf)</td></tr><tr><td>When's the payment deadline for the 02/01/22-02/15/22 semi-monthly wage tax period in Philly?</td><td>02/18/22</td><td>List(https://www.phila.gov/media/20211008113935/2022-Wage-semi-monthly-tax-due-dates.pdf, https://www.phila.gov/media/20211008114427/2022-Wage-Tax-monthly-due-dates.pdf, https://www.phila.gov/media/20221230115025/Wage-Tax-2023-monthly-due-dates.pdf, https://www.phila.gov/media/20211008112848/Wage-Tax-due-dates-2022-1st-and-2nd-quarters-WEB.pdf)</td></tr><tr><td>Where do I find the tax return design specifications?</td><td>\n",
       "I'm sorry for any confusion, but the context provided doesn't include information about tax return design specifications. Tax return design specifications are typically provided by the tax authority or software provider and may include details about the format, layout, and content required for a complete and accurate tax return. I would recommend checking the official Pennsylvania Department of Revenue website or contacting your tax software provider for the specifications you need.</td><td>List(https://www.phila.gov/media/20191218101013/Wage-Tax-refund-petition-commission-employees-2019.pdf, https://www.phila.gov/media/20210204170256/2020-Wage-Tax-refund-petition-commission.pdf, https://www.phila.gov/media/20211008122016/Earnings-Tax-due-dates-2022-schedule.pdf, https://www.phila.gov/media/20221026144622/2021-Non-residents-income-based-Wage-Tax-refund-form.pdf)</td></tr><tr><td>What is the payment due date for the 02/22/24 check date?</td><td>03/05/24\n",
       "\n",
       "Explanation:\n",
       "\n",
       "Based on the provided document titled \"City of Philadelphia Department of Revenue, 2024 WAGE SCHEDULE, Payment Frequency: Weekly, July 1st to September 30th\", I can provide the answer.\n",
       "\n",
       "To find the payment due date for the 02/22/24 check date, we need to first identify the corresponding period begin and period end dates. Since the check date is 02/22/24, which falls within the month of February, we can look for the row in the table that includes a period end date of 02/28/24 or 02/29/24 (considering a leap year).\n",
       "\n",
       "However, in this table, there is no row with a period end date of 02/28/24 or 02/29/24. Instead, there are two rows with period begin dates of 02/01/24 and 02/16/24. Since 02/22/24 falls between these two dates, we need to interpolate to estimate the due date.\n",
       "\n",
       "To do this, let's first identify the due dates for the two closest period end dates:\n",
       "- For the period ending on 02/15/24, the due date is 02/20/24.\n",
       "- For the period ending on 02/28/24 (or 02/29/24 in a leap year), the due date is 03/05/24.\n",
       "\n",
       "Now, we can estimate the due date for the 02/22/24 check date by calculating the percentage of the way between the two closest period end dates and applying that percentage to the difference between the two due dates.\n",
       "\n",
       "First, let's calculate the percentage:\n",
       "(02/22/24 - 02/15/24) / (02/28/24 - 02/15/24) = 7/13 ≈ 0.5385\n",
       "\n",
       "Next, let's calculate the estimated due date:\n",
       "02/</td><td>List(https://www.phila.gov/media/20211008112848/Wage-Tax-due-dates-2022-1st-and-2nd-quarters-WEB.pdf, https://www.phila.gov/media/20211008113517/Wage-Tax-due-dates-2022-3rd-and-4th-quarters-for-WEB.pdf, https://www.phila.gov/media/20211008113935/2022-Wage-semi-monthly-tax-due-dates.pdf, https://www.phila.gov/media/20231211095959/2024-Wage-Tax-weekly-Q3-and-Q4-due-dates.pdf)</td></tr><tr><td>What's the tax rate for a 2022 H2 bonus for a Philly resident?</td><td>3.7900% (.037900) for the period of January 1, 2023 to June 30, 2023\n",
       "3.7500% (.037500) for the period of July 1, 2023 to December 31, 2023\n",
       "\n",
       "The tax rate for a 2022 H2 bonus for a Philly resident is based on the Wage Tax Resident Rates for 2023, as the employee must be employed on March 31, 2023, the date the bonuses are paid. The first period is from January 1, 2023 to June 30, 2023 with a tax rate of 3.7900% and the second period is from July 1, 2023 to December 31, 2023 with a tax rate of 3.7500%.</td><td>List(https://www.phila.gov/media/20240131144329/2023-Wage-Tax-refund-salaried-employees-form-and-instructions.pdf, https://www.phila.gov/media/20230206102047/Non-residents-income-based-Wage-Tax-refund-form-2022.pdf, https://www.phila.gov/media/20221230115025/Wage-Tax-2023-monthly-due-dates.pdf, https://www.phila.gov/media/20230118130428/2023-Wage-Tax-weekly-Q3-and-Q4-due-dates.pdf)</td></tr><tr><td>When are details of hours worked required in the 2022 Non-resident Wage Tax petition form?</td><td>\n",
       "\n",
       "Details of hours worked are required in the 2022 Non-resident Wage Tax petition form when claiming non-work days, such as weekends, vacation, holidays, sick or any type of leave time. Additionally, for terminal or severance pay, the percentage of time worked in the City needs to be provided.</td><td>List(https://www.phila.gov/media/20230206102047/Non-residents-income-based-Wage-Tax-refund-form-2022.pdf, https://www.phila.gov/media/20220216111153/Wage-Tax-refund-Covid-EZ-form-2021-instructions.pdf, https://www.phila.gov/media/20191218101514/Wage-Tax-refund-petition-salaried-employees-2019.pdf, https://www.phila.gov/media/20240212102406/2023-non-residents-income-based-Wage-Tax-refund-form.pdf)</td></tr><tr><td>Who can receive a wage tax refund?</td><td>1. Non-residents of the City of Philadelphia who have had City Wage Tax withheld by their employer in 2022.\n",
       "2. Have a valid Social Security Number.\n",
       "3. Meet the income thresholds outlined in the table provided, which varies based on the filing status and number of dependents.\n",
       "4. Have reviewed all the information on the refund petition form and certified that it is true and correct to the best of their knowledge, information and belief.\n",
       "5. If the non-resident is married and filing separately, they may also be entitled to receive a refund of City Wage Tax withheld by their employer.\n",
       "\n",
       "Please note that the wage tax refund is based on the Income-based Wage Tax Refund Petition Tax Year 2022 and the rules and regulations may change in the future.</td><td>List(https://www.phila.gov/media/20240212102406/2023-non-residents-income-based-Wage-Tax-refund-form.pdf, https://www.phila.gov/media/20190219090241/Wage-Tax-refund-petition-commissioned-employees-2018.pdf, https://www.phila.gov/media/20230206102047/Non-residents-income-based-Wage-Tax-refund-form-2022.pdf, https://www.phila.gov/media/20221026144622/2021-Non-residents-income-based-Wage-Tax-refund-form.pdf)</td></tr><tr><td>What is the waiting period between creating a username and filing a return for the first time on the Philadelphia Tax Center's website?</td><td> Based on the provided context, there is no specific waiting period mentioned between creating a username and filing a return for the first time on the Philadelphia Tax Center's website. The instructions encourage users to file through the Tax Center to avoid delays, but they do not mention any waiting period. However, it is always recommended to check the most recent and specific instructions on the official website or contact the Philadelphia Department of Revenue directly for the most accurate information.</td><td>List(https://www.phila.gov/media/20230303142337/Refund-dates-and-locations-2022-template.pdf, https://www.phila.gov/media/20230206101743/Residents-income-based-Wage-Tax-refund-2022.pdf, https://www.phila.gov/media/20240212102153/2023-residents-income-based-Wage-Tax-refund.pdf, https://www.phila.gov/media/20220216113256/Wage-Tax-refund-commissioned-employees-form-2021-instructions.pdf)</td></tr><tr><td>When's the payment deadline for the 07/10/22-07/16/22 wage tax period in Philly?</td><td>07/20/22 is the payment deadline for the 07/10/22-07/16/22 wage tax period in Philadelphia, based on the provided 2022 weekly wage due dates document.</td><td>List(https://www.phila.gov/media/20231211100247/Wage-Tax-2024-monthly-due-dates.pdf, https://www.phila.gov/media/20211008112848/Wage-Tax-due-dates-2022-1st-and-2nd-quarters-WEB.pdf, https://www.phila.gov/media/20221230115025/Wage-Tax-2023-monthly-due-dates.pdf, https://www.phila.gov/media/20211008113517/Wage-Tax-due-dates-2022-3rd-and-4th-quarters-for-WEB.pdf)</td></tr><tr><td>What is the due date for the wage tax period beginning on 10/13/24 and ending on 10/19/24?</td><td>10/24/24 is not a valid date in any of the provided wage tax due date charts. The dates provided in the charts range from January 2018 to March 2022, and October 2024 is not included. Therefore, I cannot provide the due date for the wage tax period beginning on 10/13/24 and ending on 10/19/24.</td><td>List(https://www.phila.gov/media/20201021083908/2021-Wage-semi-monthly-tax-due-dates.pdf, https://www.phila.gov/media/20171208092359/2018-Wage-Tax-due-dates1.pdf, https://www.phila.gov/media/20211008113935/2022-Wage-semi-monthly-tax-due-dates.pdf, https://www.phila.gov/media/20190515090033/Wage-Tax-due-dates-2019-schedule.pdf)</td></tr><tr><td>What's the 2020 deadline for annual reconciliation of Phila. employee earnings tax for both resident and non-resident?</td><td> Based on the document title you provided, the due date for the City of Philadelphia Annual Reconciliation of 2020 Employee Earnings Tax is April 15, 2021. This deadline applies to both resident and non-resident employees.</td><td>List(https://www.phila.gov/media/20201015094507/Earnings-Tax-return-2020.pdf, https://www.phila.gov/media/20240131144329/2023-Wage-Tax-refund-salaried-employees-form-and-instructions.pdf, https://www.phila.gov/media/20230206102047/Non-residents-income-based-Wage-Tax-refund-form-2022.pdf, https://www.phila.gov/media/20210204172023/Non-residents-2020-income-based-Wage-Tax-refund-form.pdf)</td></tr><tr><td>How do I calculate the resident wage tax?</td><td>1. Determine the gross compensation earned while working in Philadelphia.\n",
       "2. Calculate the adjusted gross compensation by subtracting any non-taxable compensation from the gross compensation.\n",
       "3. If you are a non-resident, calculate the percentage of time worked in Philadelphia.\n",
       "4. If you are a non-resident, calculate the non-taxable gross compensation earned in Philadelphia by multiplying the adjusted gross compensation by the percentage of time worked in Philadelphia.\n",
       "5. Deduct any non-taxable income and/or deductible employee business expenses from the non-taxable gross compensation earned in Philadelphia.\n",
       "6. The resulting amount is subject to the resident wage tax rate.\n",
       "\n",
       "The resident wage tax rates for 2023 are as follows:\n",
       "\n",
       "* January 1, 2023 to June 30, 2023: 3.7900% (.037900)\n",
       "* July 1, 2023 to December 31, 2023: 3.7500% (.037500)\n",
       "\n",
       "Please note that the taxability of bonuses, awards, and other similar payments may have different rules.</td><td>List(https://www.phila.gov/media/20240131144329/2023-Wage-Tax-refund-salaried-employees-form-and-instructions.pdf, https://www.phila.gov/media/20240212102406/2023-non-residents-income-based-Wage-Tax-refund-form.pdf, https://www.phila.gov/media/20201202111441/Earnings-Tax-return-instructions-general-information-2020.pdf, https://www.phila.gov/media/20201015094507/Earnings-Tax-return-2020.pdf)</td></tr><tr><td>What is the Philadelphia Tax Center?</td><td>🎉 Hello! I'm here to help with your wage and tax questions, specifically related to the state of Pennsylvania. Based on the provided context, the Philadelphia Tax Center is an online platform introduced by the City of Philadelphia's Department of Revenue. It allows taxpayers to file various tax petitions, including the Income-based Wage Tax Refund petition for residents, and even commissioned employees' Wage Tax petitions. By using the Tax Center, filers can avoid delays and have access to electronic filing. It's important to note that no username or password is required; just select the appropriate option from the front page.\n",
       "\n",
       "If you have any more questions or need clarification on other wage and tax topics in Pennsylvania, feel free to ask! I'm here to help. 😊</td><td>List(https://www.phila.gov/media/20230206101743/Residents-income-based-Wage-Tax-refund-2022.pdf, https://www.phila.gov/media/20240212102153/2023-residents-income-based-Wage-Tax-refund.pdf, https://www.phila.gov/media/20210204170256/2020-Wage-Tax-refund-petition-commission.pdf, https://www.phila.gov/media/20220216113256/Wage-Tax-refund-commissioned-employees-form-2021-instructions.pdf)</td></tr><tr><td>What is the average refund amount for a Philadelphia Wage Tax Refund?</td><td>Based on the information provided, the average refund amount for a Pennsylvania Income-based Wage Tax Refund for the tax year 2021 is approximately $275. However, I don't have enough data to determine the average refund amount for other tax years or for the Philadelphia Wage Tax Refund in general.</td><td>List(https://www.phila.gov/media/20211109085717/Income-based-Wage-Tax-Flyer-November-2021.pdf, https://www.phila.gov/media/20230206102047/Non-residents-income-based-Wage-Tax-refund-form-2022.pdf, https://www.phila.gov/media/20230206101743/Residents-income-based-Wage-Tax-refund-2022.pdf, https://www.phila.gov/media/20240212102153/2023-residents-income-based-Wage-Tax-refund.pdf)</td></tr><tr><td>How do I register for a Philadelphia wage tax account?</td><td>1. Go to the Philadelphia Tax Center website at tax-service.phila.gov.\n",
       "2. Select \"Register\" from the top menu.\n",
       "3. Choose the type of account you want to register for: individual or business.\n",
       "4. Fill out the required information, including your name, address, and Social Security number or Employer Identification Number.\n",
       "5. Follow the prompts to complete the registration process.\n",
       "\n",
       "Note: You do not need to register for a wage tax account to request a wage tax refund. You can file a petition for a refund directly on the Philadelphia Tax Center website without registering for an account.\n",
       "\n",
       "Also, the context provided does not contain information about registering for a Philadelphia wage tax account specifically, the instructions provided are general steps to register for an account on the Philadelphia Tax Center website.</td><td>List(https://www.phila.gov/media/20230206101743/Residents-income-based-Wage-Tax-refund-2022.pdf, https://www.phila.gov/media/20240212102153/2023-residents-income-based-Wage-Tax-refund.pdf, https://www.phila.gov/media/20230203152621/2022-Wage-Tax-refund-Covid-EZ-form-instructions.pdf, https://www.phila.gov/media/20220216113256/Wage-Tax-refund-commissioned-employees-form-2021-instructions.pdf)</td></tr><tr><td>How do I amend the wage tax return?</td><td>1. Obtain a Wage Tax Change Form from the City of Philadelphia's website or by contacting the Department of Revenue.\n",
       "2. Fill out the form with the correct information, including any necessary adjustments to the original return.\n",
       "3. Attach any required documentation, such as corrected W-2s or proof of deductible expenses.\n",
       "4. Mail the completed form and documentation to the address provided on the form.\n",
       "5. Keep a copy of the amended return and any supporting documents for your records.\n",
       "\n",
       "It is important to note that amended returns must be filed by April 15 of the year following the tax year in question. Also, if you are expecting a refund as a result of the amended return, you may also need to file a petition for refund.\n",
       "\n",
       "Please be aware that the above information is based on the provided context and it is always best to consult the official City of Philadelphia's website or contact the Department of Revenue for the most up-to-date and accurate information.</td><td>List(https://www.phila.gov/media/20201015094507/Earnings-Tax-return-2020.pdf, https://www.phila.gov/media/20221026144622/2021-Non-residents-income-based-Wage-Tax-refund-form.pdf, https://www.phila.gov/media/20170214095339/2015WageDueDates11.13.pdf, https://www.phila.gov/media/20161121153402/2012-Wage-Tax-Due-Dates.pdf)</td></tr><tr><td>How do I amend the quarterly wage tax return?</td><td>1. Obtain the necessary amendment forms for the quarter you need to correct. You can download these forms from the City of Philadelphia's website.\n",
       "2. Fill out the amendment form with the correct information for the quarter you are amending. Be sure to use black ink and print clearly.\n",
       "3. Include a brief explanation of the changes being made and the reason for the amendment.\n",
       "4. Attach any required supporting documentation, such as corrected W-2s or 1099s.\n",
       "5. Mail the completed amendment form and supporting documents to the following address:\n",
       "\n",
       "Philadelphia Department of Revenue\n",
       "P.O. Box 5289\n",
       "Philadelphia, PA 19118-5289\n",
       "\n",
       "Please note that there may be applicable penalties and interest charges for amending a quarterly wage tax return. It is recommended that you consult with a tax professional for specific guidance.</td><td>List(https://www.phila.gov/media/20201015094507/Earnings-Tax-return-2020.pdf, https://www.phila.gov/media/20161121153402/2012-Wage-Tax-Due-Dates.pdf, https://www.phila.gov/media/20201021084110/2021-Wage-Monthly-and-Quarterly-Tax-Due-dates.pdf, https://www.phila.gov/media/20170214095339/2015WageDueDates11.13.pdf)</td></tr><tr><td>Are there any reporting requirements for Tipped employees?</td><td>2022 is specified in the first context, while the other contexts do not include a specific year. Therefore, I will base my answer on the year 2022 and Pennsylvania wage and tax regulations.\n",
       "\n",
       "Yes, there are reporting requirements for Tipped Employees in Pennsylvania. Employers are required to keep records of tips reported by employees for each payroll period. Employers must also report the tips to the Pennsylvania Department of Revenue on a quarterly basis using Form REV-1667, \"Quarterly Employer's Report of Tips.\" Additionally, tipped employees must report their tips to their employer monthly if the tips are more than $20. Employers are responsible for withholding and paying wage taxes on reported tips. Employers must also ensure that tipped employees receive at least the minimum wage when tips are included.</td><td>List(https://www.phila.gov/media/20230814080302/2022-Wage-Tax-refund-salaried-employees-form-and-instructions-front-page-v2.pdf, https://www.phila.gov/media/20190219090241/Wage-Tax-refund-petition-commissioned-employees-2018.pdf, https://www.phila.gov/media/20191218101013/Wage-Tax-refund-petition-commission-employees-2019.pdf, https://www.phila.gov/media/20210503155239/Wage-Tax-Frequently-Asked-Questions-May-2021.pdf)</td></tr><tr><td>What is the formula to calculate the net taxable compensation for commissioned employees in 2022?</td><td>\n",
       "To calculate the net taxable compensation for commissioned employees in 2022, you would need to follow these steps based on the provided context and instructions:\n",
       "\n",
       "1. Start with the gross compensation for employees paid on a commission basis, which is generally the highest compensation figure on Form W-2 (Line 3 on the form).\n",
       "2. Deduct any non-taxable compensation, such as stock options, that is included in the gross compensation and must be reflected on Form W-2 (Line 3A).\n",
       "3. The result is the adjusted gross compensation (Line 3B).\n",
       "4. Calculate the total sales (Line 4A).\n",
       "5. Determine the sales earned outside of Philadelphia (Line 4B) and the percentage of sales earned outside of Philadelphia (Line 4C).\n",
       "6. Calculate the commissions earned outside of Philadelphia by multiplying the adjusted gross compensation (Line 3B) by the percentage of sales earned outside of Philadelphia (Line 4C).\n",
       "7. Calculate the non-reimbursed business expenses pursuant to Income Tax Regulations Section 204 (Line 4E(i)).\n",
       "8. Multiply the non-reimbursed business expenses (Line 4E(i)) by the percentage of sales earned outside of Philadelphia (Line 4C) to determine the deductible non-reimbursed employee business expenses (Line 4E(ii)).\n",
       "9. Subtract the deductible non-reimbursed employee business expenses (Line 4E(ii)) from the non-reimbursed business expenses (Line 4E(i)) to determine the total deductible non-reimbursed employee business expenses (Line 4E(iii)).\n",
       "10. Add the non-taxable gross compensation earned outside of Philadelphia (Line 2F) and the total deductible non-reimbursed employee business expenses (Line 4E(iii)) to determine the net taxable compensation for commissioned employees in 2022.\n",
       "\n",
       "It's important to note that the above formula is based on the provided context and instructions, and it's always best to consult with a tax professional or refer to the official instructions for any specific tax year to ensure accuracy.</td><td>List(https://www.phila.gov/media/20201015094507/Earnings-Tax-return-2020.pdf, https://www.phila.gov/media/20240131145157/2023-Wage-Tax-refund-commissioned-employees-form-instructions.pdf, https://www.phila.gov/media/20230206102820/2022-Wage-Tax-refund-commissioned-employees-form-instructions.pdf, https://www.phila.gov/media/20240131144329/2023-Wage-Tax-refund-salaried-employees-form-and-instructions.pdf)</td></tr><tr><td>How would 2021 Philly resident tax rates apply to income earned partly outside the city?</td><td>2021 Philly resident tax rates would apply to all income earned, regardless of where it was earned. However, if a Philly resident worked partly outside the city, they may be eligible for a refund or credit for the tax paid to other municipalities for the same income. The percentage of the refund or credit would be based on the percentage of time worked outside the city.</td><td>List(https://www.phila.gov/media/20240131144329/2023-Wage-Tax-refund-salaried-employees-form-and-instructions.pdf, https://www.phila.gov/media/20201105092132/Wage-Tax-non-resident-COVID-19-guidance-110520.pdf, https://www.phila.gov/media/20230206102047/Non-residents-income-based-Wage-Tax-refund-form-2022.pdf, https://www.phila.gov/media/20201015094507/Earnings-Tax-return-2020.pdf)</td></tr><tr><td>What was the due date for the semi-monthly wage tax period from 12/01/13 to 12/15/13 in the year 2013?</td><td>12/18/13 (based on the Semi-Monthly Wage Tax Due Date Chart for 2013 provided)</td><td>List(https://www.phila.gov/media/20170214095342/2013wageduedates.pdf, https://www.phila.gov/media/20201021083908/2021-Wage-semi-monthly-tax-due-dates.pdf, https://www.phila.gov/media/20171208092359/2018-Wage-Tax-due-dates1.pdf, https://www.phila.gov/media/20170214095339/2015WageDueDates11.13.pdf)</td></tr><tr><td>What can be done on the Philadelphia tax center?</td><td>1. File an Income-based Wage Tax Refund petition for residents (for the years 2022 and 2023)\n",
       "2. File a Wage Tax petition for Commissioned Employees (for the year 2021)\n",
       "3. File a Salary Wage EZ Petition (for the year 2022)\n",
       "\n",
       "These filings can be done electronically through the Philadelphia Tax Center, which is encouraged to avoid delays. It's important to note that paper forms are also available if needed.</td><td>List(https://www.phila.gov/media/20230206101743/Residents-income-based-Wage-Tax-refund-2022.pdf, https://www.phila.gov/media/20240212102153/2023-residents-income-based-Wage-Tax-refund.pdf, https://www.phila.gov/media/20220216113256/Wage-Tax-refund-commissioned-employees-form-2021-instructions.pdf, https://www.phila.gov/media/20230203152621/2022-Wage-Tax-refund-Covid-EZ-form-instructions.pdf)</td></tr><tr><td>What are the resident and non-resident tax rates for the year 2022 in Philadelphia?</td><td>2022 Resident Rates:\n",
       "January 1, 2022 to June 30, 2022 = 3.8700% (.038700)\n",
       "July 1, 2022 to December 31, 2022 = 3.8400% (.038400)\n",
       "\n",
       "2022 Non-Resident Rates:\n",
       "January 1, 2022 to December 31, 2022 = 3.4600% (.034600)\n",
       "\n",
       "Source: 2023 Wage-Tax-refund-salaried-employees-form-and-instructions.pdf, year=[2023]\n",
       "\n",
       "Please note that the source is from 2023 but it provides the tax rates for the previous year 2022.</td><td>List(https://www.phila.gov/media/20240131144329/2023-Wage-Tax-refund-salaried-employees-form-and-instructions.pdf, https://www.phila.gov/media/20230206102047/Non-residents-income-based-Wage-Tax-refund-form-2022.pdf, https://www.phila.gov/media/20201105092132/Wage-Tax-non-resident-COVID-19-guidance-110520.pdf, https://www.phila.gov/media/20221230115025/Wage-Tax-2023-monthly-due-dates.pdf)</td></tr><tr><td>When's the due date for the semi-monthly wage tax payment for 05/01/23-05/15/23 in Philly's 2023 Revenue Dept. schedule?</td><td>05/19/23\n",
       "\n",
       "Explanation:\n",
       "The semi-monthly wage tax payment due dates for the City of Philadelphia Department of Revenue in 2023 can be found in the provided document. According to the table, the period beginning on 05/01/23 and ending on 05/15/23 has a due date of 05/19/23.</td><td>List(https://www.phila.gov/media/20221230115025/Wage-Tax-2023-monthly-due-dates.pdf, https://www.phila.gov/media/20221230114703/Wage-2023-semi-monthly-tax-due-dates.pdf, https://www.phila.gov/media/20230118130428/2023-Wage-Tax-weekly-Q3-and-Q4-due-dates.pdf, https://www.phila.gov/media/20211008113935/2022-Wage-semi-monthly-tax-due-dates.pdf)</td></tr><tr><td>How do I close my wage tax account?</td><td>Based on the provided context, there is no information on how to close a wage tax account in the City of Philadelphia. I would recommend visiting the City of Philadelphia's Department of Revenue website at <https://www.phila.gov/revenue/> or contacting them directly at (215) 686-6574 or [refund.unit@phila.gov](mailto:refund.unit@phila.gov) to obtain the necessary information. It's important to provide them with your specific situation and account details to ensure accurate and helpful guidance.</td><td>List(https://www.phila.gov/media/20230206101743/Residents-income-based-Wage-Tax-refund-2022.pdf, https://www.phila.gov/media/20201202111441/Earnings-Tax-return-instructions-general-information-2020.pdf, https://www.phila.gov/media/20230814080302/2022-Wage-Tax-refund-salaried-employees-form-and-instructions-front-page-v2.pdf, https://www.phila.gov/media/20240212102153/2023-residents-income-based-Wage-Tax-refund.pdf)</td></tr><tr><td>How do I calculate a non-resident tax for wage tax?</td><td>1. Determine the gross compensation earned while working in Philadelphia by multiplying the percentage of time worked in Philadelphia by the total gross compensation.\n",
       "2. Calculate the taxable compensation by subtracting any non-taxable compensation and non-reimbursed business expenses earned outside of Philadelphia from the gross compensation earned in Philadelphia.\n",
       "3. Apply the appropriate non-resident wage tax rate to the taxable compensation. The tax rates vary depending on the time period. From January 1, 2023 to June 30, 2023, the rate is 3.4400% (.034400), and from July 1, 2023 to December 31, 2023, the rate remains the same at 3.4400% (.034400).\n",
       "\n",
       "Please note that the tax rates provided are for the year 2023, as mentioned in the context. If the question pertains to a different year, the tax rates would need to be adjusted accordingly.</td><td>List(https://www.phila.gov/media/20240131144329/2023-Wage-Tax-refund-salaried-employees-form-and-instructions.pdf, https://www.phila.gov/media/20240212102406/2023-non-residents-income-based-Wage-Tax-refund-form.pdf, https://www.phila.gov/media/20201015094507/Earnings-Tax-return-2020.pdf, https://www.phila.gov/media/20201202111441/Earnings-Tax-return-instructions-general-information-2020.pdf)</td></tr><tr><td>What were the non-resident tax rates in Philadelphia for the year 2021?</td><td>2021 non-resident tax rates in Philadelphia were:\n",
       "\n",
       "January 1, 2021 to June 30, 2021 = 3.4480% (.034480)\n",
       "July 1, 2021 to December 31, 2021 = 3.4400% (.034400)\n",
       "\n",
       "However, you asked about the year 2021, but the context provided refers to the years 2022 and 2023. I provided the 2021 non-resident tax rates as a reference, as it is the closest year available in the provided context.</td><td>List(https://www.phila.gov/media/20240131144329/2023-Wage-Tax-refund-salaried-employees-form-and-instructions.pdf, https://www.phila.gov/media/20230206102047/Non-residents-income-based-Wage-Tax-refund-form-2022.pdf, https://www.phila.gov/media/20201105092132/Wage-Tax-non-resident-COVID-19-guidance-110520.pdf, https://www.phila.gov/media/20231024112123/UPDATED-Wage-Tax-policy-guidance-for-non-resident-employees.pdf)</td></tr><tr><td>When's the due date for the 10/13/24-10/19/24 weekly wage tax as per Philly's 2024 revenue schedule?</td><td>10/24/24\n",
       "\n",
       "Explanation:\n",
       "The table provided in the context shows the wage tax due dates for the period beginning on July 1st and ending on September 30th, 2024. The period end date for the given payroll period (10/13/24-10/19/24) falls in the 10th row of the table. The due date for this period is 4 days after the period end, which is 10/24/24.</td><td>List(https://www.phila.gov/media/20231211095744/2024-Wage-Tax-weekly-Q1-and-Q2-due-dates.pdf, https://www.phila.gov/media/20231211095959/2024-Wage-Tax-weekly-Q3-and-Q4-due-dates.pdf, https://www.phila.gov/media/20230118130428/2023-Wage-Tax-weekly-Q3-and-Q4-due-dates.pdf, https://www.phila.gov/media/20230118130334/2023-Wage-Tax-weekly-Q1-andQ2-due-dates.pdf)</td></tr><tr><td>How do Philly's 2021 WFH COVID-19 rules affect tax liabilities for non-resident employees receiving RSUs vs. cash bonuses, considering days worked in-city and office work policy?</td><td>2021 WFH COVID-19 rules for Philadelphia state that non-resident employees working partly outside the city can exclude the percentage of time worked outside Philadelphia when the compensation is historically earned. This applies to both RSUs (Restricted Stock Units) and cash bonuses.\n",
       "\n",
       "For RSUs, the taxability is based on the vesting date, not the grant date. If a non-resident employee vested RSUs while working remotely outside Philadelphia but historically worked in the city for a portion of the year, the taxable percentage would be based on the number of days worked in the city during the period when the RSUs vested.\n",
       "\n",
       "For cash bonuses, the same rule applies. The taxable percentage of the bonus is based on the number of days worked in the city during the year, divided by the total number of workdays in the year. For example, if a non-resident employee worked in the Philadelphia office for 10% of their 2021 workdays, 10% of their bonus is subject to the Wage Tax.\n",
       "\n",
       "It's important to note that the 2023 tax rates apply to the tax liability for the 2023 tax year, not the 2021 tax year. The tax rates for the 2021 tax year are not provided in the context.\n",
       "\n",
       "In summary, the 2021 WFH COVID-19 rules for Philadelphia affect tax liabilities for non-resident employees receiving RSUs and cash bonuses by allowing them to exclude the percentage of time worked outside the city when the compensation is historically earned. The taxable percentage is based on the number of days worked in the city during the period when the RSUs vested or the cash bonuses were earned.</td><td>List(https://www.phila.gov/media/20201105092132/Wage-Tax-non-resident-COVID-19-guidance-110520.pdf, https://www.phila.gov/media/20240131144329/2023-Wage-Tax-refund-salaried-employees-form-and-instructions.pdf, https://www.phila.gov/media/20201015094507/Earnings-Tax-return-2020.pdf, https://www.phila.gov/media/20230206102047/Non-residents-income-based-Wage-Tax-refund-form-2022.pdf)</td></tr><tr><td>When's the due date for the 01/14-01/20/24 wage tax in the 2024 Philly Revenue Dept. schedule?</td><td>01/30/24\n",
       "\n",
       "Explanation:\n",
       "Based on the context provided, the table for the \"City of Philadelphia Department of Revenue, 2024 WAGE SCHEDULE, Payment Frequency: Monthly, October 1st to December 31st\" is relevant. However, the table provided does not include the specific period of 01/14-01/20/24.\n",
       "\n",
       "Instead, I found the corresponding wage tax schedule for 2023 with the same payment frequency and wage schedule format. In the 2023 wage schedule for the period of October 1st to December 31st, the wage tax due date for the period ending on 01/21/23 is 01/30/23.\n",
       "\n",
       "Assuming the format and due dates remain consistent between 2023 and 2024, the due date for the 01/14-01/20/24 wage tax in the 2024 Philly Revenue Dept. schedule would be 01/30/24.</td><td>List(https://www.phila.gov/media/20231211100247/Wage-Tax-2024-monthly-due-dates.pdf, https://www.phila.gov/media/20231211095744/2024-Wage-Tax-weekly-Q1-and-Q2-due-dates.pdf, https://www.phila.gov/media/20221230115025/Wage-Tax-2023-monthly-due-dates.pdf, https://www.phila.gov/media/20230118130428/2023-Wage-Tax-weekly-Q3-and-Q4-due-dates.pdf)</td></tr><tr><td>How do I know what wage tax payment frequency should be used?</td><td>\n",
       "The wage tax payment frequency to be used can depend on various factors, including the employer's preference, the number of employees, and the City of Philadelphia's requirements. The City of Philadelphia Department of Revenue provides wage schedules for different payment frequencies (semi-monthly, weekly, and monthly) and different time periods.\n",
       "\n",
       "For instance, if you are looking for the wage schedule for the year 2023 and the payment frequency is semi-monthly, you can refer to the document titled \"City of Philadelphia Department of Revenue 2023 WAGE SCHEDULE, Payment Frequency: Semi Monthly\". The document provides a table with the period begin date, period end date, and due date for each semi-monthly payroll period in 2023.\n",
       "\n",
       "Similarly, if you are looking for the wage schedule for the period July 1st to September 30th in the year 2024 and the payment frequency is weekly, you can refer to the document titled \"City of Philadelphia Department of Revenue, 2024 WAGE SCHEDULE, Payment Frequency: Weekly, July 1st to September 30th\". The document provides a table with the period begin date, period end date, and due date for each weekly payroll period during the specified time frame in 2024.\n",
       "\n",
       "If the payment frequency is monthly, you can refer to the document titled \"City of Philadelphia Department of Revenue, 2024 WAGE SCHEDULE, Payment Frequency: Monthly, July 1st to September 30th, October 1st to December 31st\". The document provides a table with the period begin date, period end date, and due date for each monthly payroll period during the specified time frames in 2024.\n",
       "\n",
       "It is important to note that the wage schedules may vary from year to year and payment frequency to payment frequency. Therefore, it is recommended to refer to the most recent wage schedule provided by the City of Philadelphia Department of Revenue. If you are unsure about which wage schedule to use, you can contact the City of Philadelphia Department of Revenue for assistance.</td><td>List(https://www.phila.gov/media/20221230114703/Wage-2023-semi-monthly-tax-due-dates.pdf, https://www.phila.gov/media/20231211095959/2024-Wage-Tax-weekly-Q3-and-Q4-due-dates.pdf, https://www.phila.gov/media/20231211100247/Wage-Tax-2024-monthly-due-dates.pdf, https://www.phila.gov/media/20211008112848/Wage-Tax-due-dates-2022-1st-and-2nd-quarters-WEB.pdf)</td></tr><tr><td>Which wages are exempt from wage tax withholding?</td><td>1. Wages earned by non-residents of Philadelphia, outside of the city, are exempt from wage tax withholding.\n",
       "2. Graduate student stipends are exempt from wage tax withholding if the student does not render any services whatsoever to the university.\n",
       "3. Non-work days, such as weekends, vacation, holidays, sick or any type of leave time, are not subject to wage tax withholding.\n",
       "4. Terminal or severance pay is exempt from wage tax withholding if the employee has not historically worked in the City.\n",
       "\n",
       "Please note that these exemptions are subject to specific conditions and the actual rules and regulations may have additional requirements. It is recommended to consult the City of Philadelphia Department of Revenue for the most accurate information.</td><td>List(https://www.phila.gov/media/20201105092132/Wage-Tax-non-resident-COVID-19-guidance-110520.pdf, https://www.phila.gov/media/20191218101514/Wage-Tax-refund-petition-salaried-employees-2019.pdf, https://www.phila.gov/media/20191016114251/University-stipends-Wage-Tax-memorandum-2019-August.pdf, https://www.phila.gov/media/20230206102047/Non-residents-income-based-Wage-Tax-refund-form-2022.pdf)</td></tr><tr><td>For PA's 2020 tax forgiveness program, what's the max eligibility income for a married person with 3 dependents seeking an income-based Wage Tax refund?</td><td> Based on the provided context, the table titled \"Total eligibility income\" for the Income-based Wage Tax Refund Petition for the tax year 2023 shows the maximum eligibility income for a married person with 3 dependents is $43,750. However, the question asks about the tax forgiveness program for the tax year 2020, for which the context does not provide the required information. Therefore, I cannot provide an answer for the tax year 2020.</td><td>List(https://www.phila.gov/media/20230206102047/Non-residents-income-based-Wage-Tax-refund-form-2022.pdf, https://www.phila.gov/media/20211109085717/Income-based-Wage-Tax-Flyer-November-2021.pdf, https://www.phila.gov/media/20240212102406/2023-non-residents-income-based-Wage-Tax-refund-form.pdf, https://www.phila.gov/media/20221026144622/2021-Non-residents-income-based-Wage-Tax-refund-form.pdf)</td></tr><tr><td>What wage tax payment method options are available?</td><td>1. Semi-Monthly Wage Tax Periods: Employers can choose to remit wage taxes on a semi-monthly basis, with due dates typically falling on the 15th and last day of each month. The specific dates for each period can be found in the provided tables for the years 2010, 2012, and 2013.\n",
       "\n",
       "2. Annual Reconciliation Period: Employers are required to file an annual reconciliation for the wage tax withheld for each employee for the calendar year. The due date for the annual reconciliation period is typically on February 28th or the next business day if it falls on a weekend.\n",
       "\n",
       "Please note that the specific due dates may vary slightly from year to year, so it's essential to refer to the correct table for the relevant year. Also, the provided context does not mention any other wage tax payment methods. If there are any changes or updates to the wage tax payment methods, it's recommended to check the official Pennsylvania Department of Revenue website or consult with a tax professional.</td><td>List(https://www.phila.gov/media/20230814080302/2022-Wage-Tax-refund-salaried-employees-form-and-instructions-front-page-v2.pdf, https://www.phila.gov/media/20161121153504/2010-Wage-Tax-Due-Dates.pdf, https://www.phila.gov/media/20170214095342/2013wageduedates.pdf, https://www.phila.gov/media/20161121153402/2012-Wage-Tax-Due-Dates.pdf)</td></tr><tr><td>What is the non-resident tax rate for 2024?</td><td>3.4400% (.034400)\n",
       "\n",
       "The non-resident tax rate for 2024 is the same as the rate for the first half of 2023, which is 3.4400% (.034400). This information can be found in the provided context regarding the 2023 tax rates. The context does not provide information on any changes to the tax rates for 2024.</td><td>List(https://www.phila.gov/media/20240131144329/2023-Wage-Tax-refund-salaried-employees-form-and-instructions.pdf, https://www.phila.gov/media/20230206102047/Non-residents-income-based-Wage-Tax-refund-form-2022.pdf, https://www.phila.gov/media/20231211101658/Earnings-Tax-2024-due-dates.pdf, https://www.phila.gov/media/20240212102406/2023-non-residents-income-based-Wage-Tax-refund-form.pdf)</td></tr><tr><td>What are the steps to register a Disregarded Entity online on the Philadelphia Tax Center's website?</td><td>I cannot answer questions that are not about Wages and taxes other than PA.</td><td>List()</td></tr><tr><td>What is the payment due date for the 02/22/24 check date for a quarterly depositor?</td><td>05/02/24 is the due date for the 02/22/24 check date for a quarterly depositor, based on the provided document for the City of Philadelphia Department of Revenue, 2022 Wage Due Dates, Payment Frequency: Quarterly, January 1st to March 31st. However, please note that the year in the question is 2024, not 2022. Unfortunately, I don't have the wage due dates for 2024. I recommend checking the official City of Philadelphia Department of Revenue website or contacting them directly for accurate and up-to-date information.</td><td>List(https://www.phila.gov/media/20211008112848/Wage-Tax-due-dates-2022-1st-and-2nd-quarters-WEB.pdf, https://www.phila.gov/media/20211008113517/Wage-Tax-due-dates-2022-3rd-and-4th-quarters-for-WEB.pdf, https://www.phila.gov/media/20211008114619/2022-Wage-Tax-quarterly-due-dates.pdf, https://www.phila.gov/media/20231211095959/2024-Wage-Tax-weekly-Q3-and-Q4-due-dates.pdf)</td></tr><tr><td>Given the penalty rate alterations pre and post Jan 1, 2014, and the Tax Claim Principal Amount's accrual period, what's the annual interest rate?</td><td>12% per year. The document does not provide separate annual interest rates for pre and post Jan 1, 2014. Therefore, I am assuming the annual interest rate to be the same, which is 12%.</td><td>List(https://www.phila.gov/media/20190808134623/Employee-Earnings-Tax-account-application-2019-August-update.pdf, https://www.phila.gov/media/20201021085824/Earnings-Tax-due-dates-2021-schedule.pdf, https://www.phila.gov/media/20201015094507/Earnings-Tax-return-2020.pdf, https://www.phila.gov/media/20161121153402/2012-Wage-Tax-Due-Dates.pdf)</td></tr><tr><td>What are the resident tax rates for the year 2019 according to the Wage Tax Refund Petition for Commission Employees?</td><td>The context provided does not include the resident tax rates for the year 2019. It only includes the instructions and form for filing a Wage Tax Refund Petition for Commission Employees for various years, but it does not contain any information about the tax rates.</td><td>List(https://www.phila.gov/media/20230206101743/Residents-income-based-Wage-Tax-refund-2022.pdf, https://www.phila.gov/media/20240212102153/2023-residents-income-based-Wage-Tax-refund.pdf, https://www.phila.gov/media/20240131145157/2023-Wage-Tax-refund-commissioned-employees-form-instructions.pdf, https://www.phila.gov/media/20220216113256/Wage-Tax-refund-commissioned-employees-form-2021-instructions.pdf)</td></tr><tr><td>What tax returns must be filed for wage tax?</td><td>Based on the provided context, it appears that if a salary or hourly employee believes their wage tax has been overwithheld in the state of Pennsylvania, they may need to file a Wage Tax Refund Petition. This petition requires the attachment of the applicable W-2 indicating Federal, Medicare, State and Local wages, and a separate petition must be filed for each W-2 issued by employers that may have overwithheld Wage Tax. If the overwithholding is a result of required remote work due to COVID-19, a letter from the employer on company letterhead with the dates or time period the employee was required to work remotely must also be attached.\n",
       "\n",
       "It is important to note that the above information is based on the provided context and may not be applicable to all situations. It is always best to consult with a tax professional or the Pennsylvania Department of Revenue for specific guidance.\n",
       "\n",
       "Regarding the year, the provided context is for the tax year 2021 and 2023, so it is important to ensure that the correct year is being referenced in the question.\n",
       "\n",
       "In summary, to file for a wage tax refund in Pennsylvania, a Wage Tax Refund Petition along with the applicable W-2 and other required documents must be filed. The specific requirements may vary depending on the situation and the tax year.</td><td>List(https://www.phila.gov/media/20220216111153/Wage-Tax-refund-Covid-EZ-form-2021-instructions.pdf, https://www.phila.gov/media/20230814080302/2022-Wage-Tax-refund-salaried-employees-form-and-instructions-front-page-v2.pdf, https://www.phila.gov/media/20240212102406/2023-non-residents-income-based-Wage-Tax-refund-form.pdf, https://www.phila.gov/media/20221026144622/2021-Non-residents-income-based-Wage-Tax-refund-form.pdf)</td></tr><tr><td>How do non-taxable stock options (Form W2 box 14 Code V) and gross compensation (Form W-2) factor into the adjusted gross compensation calculation for the '23 Wage Tax refund form?</td><td>401k contributions and other pension plan contributions are subject to wage tax and are not deductible from gross compensation, as stated in the context. However, non-taxable stock options (Form W2 box 14 Code V) are not subject to wage tax and do not factor into the calculation of gross compensation. Therefore, when calculating adjusted gross compensation for the '23 Wage Tax refund form, non-taxable stock options should not be included in the gross compensation amount.</td><td>List(https://www.phila.gov/media/20230207141123/2021-Wage-Tax-refund-salaried-employees-form-instructions.pdf, https://www.phila.gov/media/20190219090710/Wage-Tax-refund-petition-salaried-employees-2018.pdf, https://www.phila.gov/media/20230206102820/2022-Wage-Tax-refund-commissioned-employees-form-instructions.pdf, https://www.phila.gov/media/20191218101514/Wage-Tax-refund-petition-salaried-employees-2019.pdf)</td></tr><tr><td>When's the wage tax due for Philly's weekly pay period of 01/09/22 - 01/15/22?</td><td>01/20/22 is the due date for Philly's wage tax for the weekly pay period of 01/09/22 - 01/15/22.</td><td>List(https://www.phila.gov/media/20211008114619/2022-Wage-Tax-quarterly-due-dates.pdf, https://www.phila.gov/media/20211008112848/Wage-Tax-due-dates-2022-1st-and-2nd-quarters-WEB.pdf, https://www.phila.gov/media/20211008113935/2022-Wage-semi-monthly-tax-due-dates.pdf, https://www.phila.gov/media/20221230115025/Wage-Tax-2023-monthly-due-dates.pdf)</td></tr></tbody></table></div>"
      ]
     },
     "metadata": {
      "application/vnd.databricks.v1+output": {
       "addedWidgets": {},
       "aggData": [],
       "aggError": "",
       "aggOverflow": false,
       "aggSchema": [],
       "aggSeriesLimitReached": false,
       "aggType": "",
       "arguments": {},
       "columnCustomDisplayInfos": {},
       "data": [
        [
         "When does Philadelphia change the resident and non-resident tax rates change?",
         "1. For residents, the tax rate changes twice a year. From January 1, 2023, to June 30, 2023, the rate is 3.7900% (.037900), and from July 1, 2023, to December 31, 2023, the rate is 3.7500% (.037500).\n2. For non-residents, the tax rate remains the same throughout the year. From January 1, 2023, to December 31, 2023, the rate is 3.4400% (.034400).\n\nPlease note that these rates are for the year 2023, as stated in the provided context. The rates for other years may be different.",
         [
          "https://www.phila.gov/media/20201015094507/Earnings-Tax-return-2020.pdf",
          "https://www.phila.gov/media/20230206102047/Non-residents-income-based-Wage-Tax-refund-form-2022.pdf",
          "https://www.phila.gov/media/20240131144329/2023-Wage-Tax-refund-salaried-employees-form-and-instructions.pdf",
          "https://www.phila.gov/media/20231024112123/UPDATED-Wage-Tax-policy-guidance-for-non-resident-employees.pdf"
         ]
        ],
        [
         "What is the normal processing time for a refund request reviewed by the Department of Revenue?",
         "I cannot answer questions that are not about Wages and taxes other than PA.",
         []
        ],
        [
         "What were the tax rates for residents of Philadelphia in the year 2018?",
         "I'm sorry for any confusion, but the context provided does not include the tax rates for residents of Philadelphia in the year 2018. The context includes tax rates for the year 2023 and instructions for filing a refund for non-residents for the tax year 2022. If you have any questions about the 2018 tax rates, I can try to find that information for you, but I would need to look it up in a different source.",
         [
          "https://www.phila.gov/media/20240131144329/2023-Wage-Tax-refund-salaried-employees-form-and-instructions.pdf",
          "https://www.phila.gov/media/20201105092132/Wage-Tax-non-resident-COVID-19-guidance-110520.pdf",
          "https://www.phila.gov/media/20230206102047/Non-residents-income-based-Wage-Tax-refund-form-2022.pdf",
          "https://www.phila.gov/media/20231024112123/UPDATED-Wage-Tax-policy-guidance-for-non-resident-employees.pdf"
         ]
        ],
        [
         "What's the due date for 12/01/21-12/15/21 semi-monthly wage tax vs. Dec 2021 monthly wage tax as per 2021 schedule?",
         " The due date for the semi-monthly wage tax period of 12/01/21-12/15/21 is 12/20/21, while the due date for the monthly wage tax for December 2021 is also 12/20/21.",
         [
          "https://www.phila.gov/media/20201021083908/2021-Wage-semi-monthly-tax-due-dates.pdf",
          "https://www.phila.gov/media/20201021083906/Wage-Tax-due-dates-2021-schedule-v1.pdf",
          "https://www.phila.gov/media/20201021084110/2021-Wage-Monthly-and-Quarterly-Tax-Due-dates.pdf",
          "https://www.phila.gov/media/20191030085637/Wage-Tax-due-dates-2020-schedule-v1.pdf"
         ]
        ],
        [
         "When should non-8hr workday hrs be logged in the Non-res. Wage Tax Refund Petition & Employer Cert. Template?",
         "\nNon-work days or hours, such as weekends, vacation, holidays, sick or any type of leave time, should be included in the calculation of the wage tax refund for non-residents of Philadelphia. However, the provided context does not contain a specific template for the Non-res. Wage Tax Refund Petition & Employer Cert. Template.\n\nIn general, non-work hours can be included in the calculation of the wage tax refund by determining the number of hours worked in Philadelphia and subtracting the non-work hours. The resulting number is the amount of time spent working in Philadelphia, which can be used to calculate the wage tax refund.\n\nIt is recommended to consult the instructions provided with the Non-res. Wage Tax Refund Petition & Employer Cert. Template for specific guidance on how to log non-work hours. If the template requires the entry of hours worked, non-work hours can be included as hours not worked in Philadelphia. If the template requires the entry of wages earned in Philadelphia, non-work hours can be subtracted from the total wages earned to determine the amount of wages earned in Philadelphia.",
         [
          "https://www.phila.gov/media/20191218101514/Wage-Tax-refund-petition-salaried-employees-2019.pdf",
          "https://www.phila.gov/media/20230303142337/Refund-dates-and-locations-2022-template.pdf",
          "https://www.phila.gov/media/20230206102047/Non-residents-income-based-Wage-Tax-refund-form-2022.pdf",
          "https://www.phila.gov/media/20240131145157/2023-Wage-Tax-refund-commissioned-employees-form-instructions.pdf"
         ]
        ],
        [
         "What is the wage tax rate for 2024?",
         "I don't have the exact wage tax rates for 2024, as the context provided only includes the wage tax rates for the years 2023 and earlier. However, based on the provided context, I can tell you that the wage tax rates for non-residents and residents in Philadelphia may change every six months. For specific information on the wage tax rates for 2024, I would recommend checking the official Philadelphia government website or contacting a tax professional.",
         [
          "https://www.phila.gov/media/20201021084110/2021-Wage-Monthly-and-Quarterly-Tax-Due-dates.pdf",
          "https://www.phila.gov/media/20231211101658/Earnings-Tax-2024-due-dates.pdf",
          "https://www.phila.gov/media/20240131144329/2023-Wage-Tax-refund-salaried-employees-form-and-instructions.pdf",
          "https://www.phila.gov/media/20201021083908/2021-Wage-semi-monthly-tax-due-dates.pdf"
         ]
        ],
        [
         "What is the payment due date for the 02/22/24 check date for a monthly depositor?",
         "03/05/24\n\nExplanation:\n\nBased on the provided document titled \"City of Philadelphia Department of Revenue, 2024 WAGE SCHEDULE, Payment Frequency: Weekly, July 1st to September 30th\", I can provide the answer.\n\nTo find the due date for the 02/22/24 check date, we need to first identify the period in which 02/22/24 falls. Since the table provided is for the period of July 1st to September 30th, 2024, we need to determine if February 22, 2024, falls within this period. However, since February has only 28 or 29 days, it is not possible for February 22 to be in the period covered by the table.\n\nTherefore, I cannot provide an answer based on the given context and table. However, if we assume that the question is referring to a monthly depositor and the check date is simply a typo, with the correct date being 03/22/24, then the due date for the 03/22/24 check date for a monthly depositor would be 04/05/24, as per the table.\n\nFor the sake of providing an answer, I will assume that the check date is 03/22/24 instead of 02/22/24. In this case, the due date for the 03/22/24 check date for a monthly depositor is 04/05/24.",
         [
          "https://www.phila.gov/media/20211008112848/Wage-Tax-due-dates-2022-1st-and-2nd-quarters-WEB.pdf",
          "https://www.phila.gov/media/20211008113935/2022-Wage-semi-monthly-tax-due-dates.pdf",
          "https://www.phila.gov/media/20211008113517/Wage-Tax-due-dates-2022-3rd-and-4th-quarters-for-WEB.pdf",
          "https://www.phila.gov/media/20231211095959/2024-Wage-Tax-weekly-Q3-and-Q4-due-dates.pdf"
         ]
        ],
        [
         "What's needed in Line 2 & 2B of 2019's wage tax refund petition for commission staff, and its relation to non-Philadelphia sales activity?",
         "1. Line 2 of the 2019 Wage Tax Refund Petition for commission employees requires the total amount of wages, fees, and other compensation earned as a non-resident of Philadelphia. This includes any income earned from sales activity performed outside of Philadelphia.\n\n2. Line 2B specifically asks for a breakdown of sales activity performed outside of Philadelphia, including the client's name, address, and sales amounts attributable to each client. This information is necessary to support the claim for a refund of City Wage Tax withheld by the employer for non-Philadelphia sales activity.\n\n3. The purpose of requesting this information is to ensure that non-residents of Philadelphia are not taxed on income earned outside of the city, as stated in the instructions provided in the context.",
         [
          "https://www.phila.gov/media/20191218101013/Wage-Tax-refund-petition-commission-employees-2019.pdf",
          "https://www.phila.gov/media/20210204170256/2020-Wage-Tax-refund-petition-commission.pdf",
          "https://www.phila.gov/media/20230206102047/Non-residents-income-based-Wage-Tax-refund-form-2022.pdf",
          "https://www.phila.gov/media/20240131145157/2023-Wage-Tax-refund-commissioned-employees-form-instructions.pdf"
         ]
        ],
        [
         "How do Philly's 2021 WFH COVID-19 policies impact tax for non-resident employees with restricted stock vs cash bonuses?",
         "1. For non-resident employees who received restricted stock in 2021 while working from home due to COVID-19, the taxable percentage of the restricted stock would be based on the percentage of time they physically worked in Philadelphia during the year.\n2. For cash bonuses paid in 2023 to non-resident employees who worked from home in 2021, the taxable percentage of the bonus would also be based on the percentage of time the employee physically worked in Philadelphia during 2021.\n3. The tax rates for 2023 are as follows:\n\t* Resident Rates:\n\t\t+ January 1, 2023 to June 30, 2023: 3.7900% (.037900)\n\t\t+ July 1, 2023 to December 31, 2023: 3.7500% (.037500)\n\t* Non-Resident Rates:\n\t\t+ January 1, 2023 to June 30, 2023: 3.4400% (.034400)\n\t\t+ July 1, 2023 to December 31, 2023: 3.4400% (.034400)\n4. Any claim for refund must be filed within three (3) years from the date the tax was paid or due, whichever date is later.\n5. Employers are required to withhold and remit Wage Tax on behalf of their employees who are Philadelphia residents, regardless of where they perform their duties.",
         [
          "https://www.phila.gov/media/20201105092132/Wage-Tax-non-resident-COVID-19-guidance-110520.pdf",
          "https://www.phila.gov/media/20240131144329/2023-Wage-Tax-refund-salaried-employees-form-and-instructions.pdf",
          "https://www.phila.gov/media/20231024112123/UPDATED-Wage-Tax-policy-guidance-for-non-resident-employees.pdf",
          "https://www.phila.gov/media/20201015094507/Earnings-Tax-return-2020.pdf"
         ]
        ],
        [
         "When is the wage tax annual reconciliation due?",
         "02/28/22 for the 2021 wage tax annual reconciliation.",
         [
          "https://www.phila.gov/media/20201021084110/2021-Wage-Monthly-and-Quarterly-Tax-Due-dates.pdf",
          "https://www.phila.gov/media/20201015094507/Earnings-Tax-return-2020.pdf",
          "https://www.phila.gov/media/20161121153402/2012-Wage-Tax-Due-Dates.pdf",
          "https://www.phila.gov/media/20161121153405/2011-Wage-Tax-Due-Dates.pdf"
         ]
        ],
        [
         "When are wage tax returns due?",
         "\nIn the City of Philadelphia, wage tax returns are due on a quarterly basis. The due dates for each quarter in 2021 are as follows:\n\n- January 1 to March 31: April 30, 2021\n- April 1 to June 30: August 2, 2021\n- July 1 to September 30: November 1, 2021\n- October 1 to December 31: January 31, 2022 (this is also the annual reconciliation period)\n\nFor residents who are seeking a wage tax refund, the deadline for filing a petition is not specified in the provided context. However, it is encouraged to file through the Philadelphia Tax Center to avoid delays.\n\nIt is important to note that the above information is specific to the wage tax returns and refunds in the City of Philadelphia, Pennsylvania, and the deadlines may vary for other jurisdictions.",
         [
          "https://www.phila.gov/media/20230206101743/Residents-income-based-Wage-Tax-refund-2022.pdf",
          "https://www.phila.gov/media/20201021084110/2021-Wage-Monthly-and-Quarterly-Tax-Due-dates.pdf",
          "https://www.phila.gov/media/20240212102153/2023-residents-income-based-Wage-Tax-refund.pdf",
          "https://www.phila.gov/media/20220216111153/Wage-Tax-refund-Covid-EZ-form-2021-instructions.pdf"
         ]
        ],
        [
         "When's the due date for the 46th week's tax in 2011 for a weekly-paid employee?",
         "I'm sorry for any confusion, but the provided context does not include information for the tax due dates for the year 2011. The documents provided pertain to the years 2022 and 2024. Therefore, I'm unable to provide an accurate answer to your question.",
         [
          "https://www.phila.gov/media/20211008113517/Wage-Tax-due-dates-2022-3rd-and-4th-quarters-for-WEB.pdf",
          "https://www.phila.gov/media/20211008112848/Wage-Tax-due-dates-2022-1st-and-2nd-quarters-WEB.pdf",
          "https://www.phila.gov/media/20201021085824/Earnings-Tax-due-dates-2021-schedule.pdf",
          "https://www.phila.gov/media/20231211095959/2024-Wage-Tax-weekly-Q3-and-Q4-due-dates.pdf"
         ]
        ],
        [
         "What is the payment due date for the 02/22/24 check date for a semi-monthly depositor?",
         "03/05/24 (based on the Semi-Monthly Wage Tax Due Date Chart for 2021, assuming the same pattern applies for 2024).",
         [
          "https://www.phila.gov/media/20211008113935/2022-Wage-semi-monthly-tax-due-dates.pdf",
          "https://www.phila.gov/media/20231211100446/Wage-2024-semi-monthly-tax-due-dates.pdf",
          "https://www.phila.gov/media/20201021083908/2021-Wage-semi-monthly-tax-due-dates.pdf",
          "https://www.phila.gov/media/20211008112848/Wage-Tax-due-dates-2022-1st-and-2nd-quarters-WEB.pdf"
         ]
        ],
        [
         "What is the due date for the third quarter wage tax payment in 2023?",
         " The due date for the third quarter wage tax payment in 2023 is October 31, 2023. This is based on the Earnings Tax Due Date Chart for 2023 provided in the context. The third quarter runs from July 1 to September 30, and the due date for the wage tax payment for this quarter is the last day of the following month, which is October 31, 2023.",
         [
          "https://www.phila.gov/media/20230427104025/Earnings-Tax-2023-due-dates.pdf",
          "https://www.phila.gov/media/20221230115025/Wage-Tax-2023-monthly-due-dates.pdf",
          "https://www.phila.gov/media/20230118130428/2023-Wage-Tax-weekly-Q3-and-Q4-due-dates.pdf",
          "https://www.phila.gov/media/20230118130334/2023-Wage-Tax-weekly-Q1-andQ2-due-dates.pdf"
         ]
        ],
        [
         "When's the due date for the 04/14-04/20/24 wage tax in the 2024 Philly Revenue Dept. schedule?",
         "04/30/24\n\nExplanation:\nThe table provided in the context refers to the wage schedule for the period of October 1st to December 31st, 2024. However, the specific wage period of 04/14-04/20/24 is not included in this table.\n\nHowever, based on the information provided in the context, the wage tax due dates for the City of Philadelphia Department of Revenue are typically the 15th of the month following the end of the wage period. Therefore, assuming the wage period of 04/14-04/20/24 follows the same pattern, the due date for the wage tax would be the 15th day of the following month, which is 04/30/24.\n\nIt's important to note that this is an assumption based on the provided context, and the actual due date may vary depending on the official wage schedule provided by the City of Philadelphia Department of Revenue.",
         [
          "https://www.phila.gov/media/20231211100247/Wage-Tax-2024-monthly-due-dates.pdf",
          "https://www.phila.gov/media/20231211095744/2024-Wage-Tax-weekly-Q1-and-Q2-due-dates.pdf",
          "https://www.phila.gov/media/20230118130428/2023-Wage-Tax-weekly-Q3-and-Q4-due-dates.pdf",
          "https://www.phila.gov/media/20221230115025/Wage-Tax-2023-monthly-due-dates.pdf"
         ]
        ],
        [
         "When's the payment due for a Philly business's wage tax period from 07/01/22 to 07/15/22?",
         " Based on the provided document, the payment due for a Philly business's wage tax period from 07/01/22 to 07/15/22 is 07/20/22.",
         [
          "https://www.phila.gov/media/20211008113517/Wage-Tax-due-dates-2022-3rd-and-4th-quarters-for-WEB.pdf",
          "https://www.phila.gov/media/20211008114619/2022-Wage-Tax-quarterly-due-dates.pdf",
          "https://www.phila.gov/media/20231211095959/2024-Wage-Tax-weekly-Q3-and-Q4-due-dates.pdf",
          "https://www.phila.gov/media/20231211100247/Wage-Tax-2024-monthly-due-dates.pdf"
         ]
        ],
        [
         "What deposit cycles are available for wage tax payments?",
         "1. Weekly wage tax periods\n2. Semi-monthly wage tax periods\n3. Monthly wage tax periods\n4. Quarterly wage tax periods\n\nThe specific dates for each cycle can be found in the provided documents. For example, the semi-monthly wage tax periods for 2021 can be found in the table under the document title \"Semi-Monthly Wage Tax Due Date Chart for 2021\".",
         [
          "https://www.phila.gov/media/20161121153504/2010-Wage-Tax-Due-Dates.pdf",
          "https://www.phila.gov/media/20161121153402/2012-Wage-Tax-Due-Dates.pdf",
          "https://www.phila.gov/media/20201021083906/Wage-Tax-due-dates-2021-schedule-v1.pdf",
          "https://www.phila.gov/media/20201021083908/2021-Wage-semi-monthly-tax-due-dates.pdf"
         ]
        ],
        [
         "What was the due date for the 27th weekly wage tax period in 2020?",
         "03/01/21\n\nBased on the Weekly Wage Tax Due Date Chart for 2021, the 27th weekly wage tax period in 2020 would have ended on 12/31/20, which falls under the Quarterly Wage Tax Period of January 1 to December 31 (Annual Reconciliation Period). The due date for this period is 03/01/21.",
         [
          "https://www.phila.gov/media/20191030085637/Wage-Tax-due-dates-2020-schedule-v1.pdf",
          "https://www.phila.gov/media/20201021083906/Wage-Tax-due-dates-2021-schedule-v1.pdf",
          "https://www.phila.gov/media/20201021084110/2021-Wage-Monthly-and-Quarterly-Tax-Due-dates.pdf",
          "https://www.phila.gov/media/20230118130334/2023-Wage-Tax-weekly-Q1-andQ2-due-dates.pdf"
         ]
        ],
        [
         "What is the due date for the wage tax period beginning on 02/01/23 and ending on 02/15/23 in Philadelphia?",
         "02/18/23 is the due date for the wage tax period beginning on 02/01/23 and ending on 02/15/23 in Philadelphia, based on the City of Philadelphia Department of Revenue 2023 WAGE SCHEDULE for monthly payment frequency.",
         [
          "https://www.phila.gov/media/20211008112848/Wage-Tax-due-dates-2022-1st-and-2nd-quarters-WEB.pdf",
          "https://www.phila.gov/media/20211008113517/Wage-Tax-due-dates-2022-3rd-and-4th-quarters-for-WEB.pdf",
          "https://www.phila.gov/media/20211008113935/2022-Wage-semi-monthly-tax-due-dates.pdf",
          "https://www.phila.gov/media/20221230115025/Wage-Tax-2023-monthly-due-dates.pdf"
         ]
        ],
        [
         "\"When was the \"\"2023 Income-based Wage Tax refund petition\"\" PDF released for eligible Philly residents?\"",
         "\nThe \"2023 Income-based Wage Tax refund petition\" PDF was released for eligible Philly residents in January 2023, as indicated by the version date \"Ver.20230120\" in the document.",
         [
          "https://www.phila.gov/media/20230206102047/Non-residents-income-based-Wage-Tax-refund-form-2022.pdf",
          "https://www.phila.gov/media/20240212102153/2023-residents-income-based-Wage-Tax-refund.pdf",
          "https://www.phila.gov/media/20230206101743/Residents-income-based-Wage-Tax-refund-2022.pdf",
          "https://www.phila.gov/media/20221026144150/2021-Residents-income-based-Wage-Tax-refund.pdf"
         ]
        ],
        [
         "When's the tax payment due for the 10/01/24-10/15/24 wage tax period?",
         " Based on the provided document titled \"City of Philadelphia Department of Revenue 2022 WAGE Due Dates, Payment Frequency: Semi Monthly, January 1st to March 31st\", the table titled \"January 1st to March 31st\" shows the due dates for semi-monthly wage tax payments for the period of January 1st to March 31st, 2022. I am unable to find information about wage tax payment due dates for the year 2024 in the provided context.\n\nHowever, based on the pattern in the table for 2022, the tax payment for the 10/01/24-10/15/24 wage tax period would likely be due on 10/18/24 (the third business day of the month following the period end). Please verify this information with the City of Philadelphia Department of Revenue or consult the official wage tax due date chart for the year 2024.",
         [
          "https://www.phila.gov/media/20211008112848/Wage-Tax-due-dates-2022-1st-and-2nd-quarters-WEB.pdf",
          "https://www.phila.gov/media/20201021083908/2021-Wage-semi-monthly-tax-due-dates.pdf",
          "https://www.phila.gov/media/20190515090033/Wage-Tax-due-dates-2019-schedule.pdf",
          "https://www.phila.gov/media/20211008113935/2022-Wage-semi-monthly-tax-due-dates.pdf"
         ]
        ],
        [
         "What is the fastest way to receive a Wage Tax Refund in Philadelphia?",
         "1. Based on the provided context, the fastest way to receive a Wage Tax Refund in Philadelphia is by filing electronically through the Philadelphia Tax Center. \n2. You can file a Wage Tax petition at tax-service.phila.gov without needing a username and password.\n3. Select \"Request a Wage Tax refund\" from the front page to start the process.\n4. Filing electronically can help avoid delays compared to mailing physical forms.\n5. However, if you prefer to use paper forms, you can still do so, but it might take longer to process.",
         [
          "https://www.phila.gov/media/20230206101743/Residents-income-based-Wage-Tax-refund-2022.pdf",
          "https://www.phila.gov/media/20240212102153/2023-residents-income-based-Wage-Tax-refund.pdf",
          "https://www.phila.gov/media/20230206102047/Non-residents-income-based-Wage-Tax-refund-form-2022.pdf",
          "https://www.phila.gov/media/20230203152621/2022-Wage-Tax-refund-Covid-EZ-form-instructions.pdf"
         ]
        ],
        [
         "What is the purpose of IRS Form 2106 in the wage tax refund petition for salaried employees in 2018?",
         "1. IRS Form 2106 is not mentioned in the provided context, which is about the wage tax refund petition for commissioned employees in Pennsylvania for tax year 2023.\n2. The context does not include any information about wage tax refund petitions for salaried employees or the year 2018.\n3. IRS Form 2106 is used to claim deductible expenses for employees who are not reimbursed by their employer. It is not specifically related to wage tax refund petitions in Pennsylvania.\n4. If you have any questions about the current wage tax refund petition process for commissioned or salaried employees in Pennsylvania, I would recommend referring to the official Pennsylvania Department of Revenue website or contacting them directly for accurate and up-to-date information.",
         [
          "https://www.phila.gov/media/20240131145157/2023-Wage-Tax-refund-commissioned-employees-form-instructions.pdf",
          "https://www.phila.gov/media/20230207141123/2021-Wage-Tax-refund-salaried-employees-form-instructions.pdf",
          "https://www.phila.gov/media/20230206101743/Residents-income-based-Wage-Tax-refund-2022.pdf",
          "https://www.phila.gov/media/20240212102153/2023-residents-income-based-Wage-Tax-refund.pdf"
         ]
        ],
        [
         "What are wage tax returns due for 2024?",
         "Based on the provided context, there is no information available about wage tax returns due for the year 2024. The documents provided contain wage tax due date charts for the years 2020 and 2021, but there is no information for 2024. Therefore, I cannot provide an answer to this question without more information.",
         [
          "https://www.phila.gov/media/20201021084110/2021-Wage-Monthly-and-Quarterly-Tax-Due-dates.pdf",
          "https://www.phila.gov/media/20201021083906/Wage-Tax-due-dates-2021-schedule-v1.pdf",
          "https://www.phila.gov/media/20231211101658/Earnings-Tax-2024-due-dates.pdf",
          "https://www.phila.gov/media/20191030085637/Wage-Tax-due-dates-2020-schedule-v1.pdf"
         ]
        ],
        [
         "What's the max income limit for a married individual with two dependents to qualify for PA's 2021 tax forgiveness refund?",
         " Based on the document titled \"ANNUAL RECONCILIATION OF EMPLOYEE EARNINGS TAX INSTRUCTIONS\" provided in the context, the maximum income limit for a married individual with two dependents to qualify for PA's 2021 tax forgiveness refund is $34,250. It is important to note that this limit may be subject to change and it is always best to refer to the most recent and official guidelines or consult with a tax professional for accurate information.",
         [
          "https://www.phila.gov/media/20211109085717/Income-based-Wage-Tax-Flyer-November-2021.pdf",
          "https://www.phila.gov/media/20230206102047/Non-residents-income-based-Wage-Tax-refund-form-2022.pdf",
          "https://www.phila.gov/media/20221026144622/2021-Non-residents-income-based-Wage-Tax-refund-form.pdf",
          "https://www.phila.gov/media/20201202111441/Earnings-Tax-return-instructions-general-information-2020.pdf"
         ]
        ],
        [
         "What is Gross Compensation?",
         "Generally, gross compensation is the highest compensation figure reported on a W-2 form. It includes all taxable wages before any deductions or contributions, such as pension plan contributions, are made. This definition applies to both salaried and commissioned employees. It's important to note that gross compensation is used as the starting point for calculating wage tax in the City of Philadelphia.",
         [
          "https://www.phila.gov/media/20190219090710/Wage-Tax-refund-petition-salaried-employees-2018.pdf",
          "https://www.phila.gov/media/20201015094507/Earnings-Tax-return-2020.pdf",
          "https://www.phila.gov/media/20191218101514/Wage-Tax-refund-petition-salaried-employees-2019.pdf",
          "https://www.phila.gov/media/20210503155239/Wage-Tax-Frequently-Asked-Questions-May-2021.pdf"
         ]
        ],
        [
         "What is the resident tax rate for 2023?",
         "The resident tax rate for the first half of 2023 (January 1, 2023 to June 30, 2023) is 3.7900% (.037900), and for the second half of 2023 (July 1, 2023 to December 31, 2023) is 3.7500% (.037500).",
         [
          "https://www.phila.gov/media/20240131144329/2023-Wage-Tax-refund-salaried-employees-form-and-instructions.pdf",
          "https://www.phila.gov/media/20240212102406/2023-non-residents-income-based-Wage-Tax-refund-form.pdf",
          "https://www.phila.gov/media/20230427104025/Earnings-Tax-2023-due-dates.pdf",
          "https://www.phila.gov/media/20221230115025/Wage-Tax-2023-monthly-due-dates.pdf"
         ]
        ],
        [
         "What's the 2021 form for a Philly business requesting a tax overpayment refund?",
         "2021 Residents Income-Based Wage Tax Refund Petition is the form for a Philly business requesting a tax overpayment refund for the tax year 2021. However, it is important to note that this form is for residents only. Non-residents of Philadelphia should use the Non-residents Income-Based Wage Tax Refund Petition form. The form and instructions can be found in the context provided.",
         [
          "https://www.phila.gov/media/20230206102047/Non-residents-income-based-Wage-Tax-refund-form-2022.pdf",
          "https://www.phila.gov/media/20230206101743/Residents-income-based-Wage-Tax-refund-2022.pdf",
          "https://www.phila.gov/media/20240212102153/2023-residents-income-based-Wage-Tax-refund.pdf",
          "https://www.phila.gov/media/20221026144150/2021-Residents-income-based-Wage-Tax-refund.pdf"
         ]
        ],
        [
         "What's the filing frequency for $350-$16k/month wage tax withholdings and its relation to W-2 submission in Philadelphia?",
         " Based on the provided context, the wage tax withholdings for a wage range of $350-$16,000 per month in Philadelphia are made on a weekly basis. However, the context does not provide specific information about the relationship between this wage tax withholding frequency and W-2 submission.\n\nFor filing a Wage Tax petition in Philadelphia, residents can file electronically through the Philadelphia Tax Center, while non-residents must use a specific form for non-residents. The context suggests encouraging electronic filing to avoid delays.\n\nRegarding W-2 submission, the context advises that copies of the PA 40 Schedule SP and all W-2s should be included when mailing the completed form and documents to the Philadelphia Department of Revenue.\n\nTherefore, while the wage tax withholdings are made on a weekly basis, the context does not provide specific information about the relationship between this wage tax withholding frequency and W-2 submission.",
         [
          "https://www.phila.gov/media/20230206101743/Residents-income-based-Wage-Tax-refund-2022.pdf",
          "https://www.phila.gov/media/20230206102047/Non-residents-income-based-Wage-Tax-refund-form-2022.pdf",
          "https://www.phila.gov/media/20240212102153/2023-residents-income-based-Wage-Tax-refund.pdf",
          "https://www.phila.gov/media/20231211095744/2024-Wage-Tax-weekly-Q1-and-Q2-due-dates.pdf"
         ]
        ],
        [
         "What is the payment due date for the 02/22/24 check date for a weekly depositor?",
         "03/06/24\n\nExplanation:\n\nBased on the document titled \"City of Philadelphia Department of Revenue, 2024 WAGE SCHEDULE, Payment Frequency: Weekly, July 1st to September 30th\", we can find the due date for the 02/22/24 check date.\n\nThe table shows that the period end for the 02/22/24 check date is 02/27/24 and the due date for that period is 03/03/24. However, since the payment frequency is weekly, we need to find the closest Wednesday before the 03/03/24. The closest Wednesday is 03/06/24. Therefore, the payment due date for the 02/22/24 check date for a weekly depositor is 03/06/24.",
         [
          "https://www.phila.gov/media/20211008112848/Wage-Tax-due-dates-2022-1st-and-2nd-quarters-WEB.pdf",
          "https://www.phila.gov/media/20211008113517/Wage-Tax-due-dates-2022-3rd-and-4th-quarters-for-WEB.pdf",
          "https://www.phila.gov/media/20231211095959/2024-Wage-Tax-weekly-Q3-and-Q4-due-dates.pdf",
          "https://www.phila.gov/media/20211008113935/2022-Wage-semi-monthly-tax-due-dates.pdf"
         ]
        ],
        [
         "What are the penalties for a late wage tax return?",
         "1% per month or fraction of each month until paid in interest, and incremental penalty rates in accordance with a specified table for the unpaid tax. The exact penalty rates can be found in the source provided, which is a Wage Tax account application for the City of Philadelphia, specifically for the year 2019. The rates may have changed since then, so it's recommended to check the most recent version on the City of Philadelphia's Department of Revenue website.",
         [
          "https://www.phila.gov/media/20190808134623/Employee-Earnings-Tax-account-application-2019-August-update.pdf",
          "https://www.phila.gov/media/20230206101743/Residents-income-based-Wage-Tax-refund-2022.pdf",
          "https://www.phila.gov/media/20240212102153/2023-residents-income-based-Wage-Tax-refund.pdf",
          "https://www.phila.gov/media/20230206102047/Non-residents-income-based-Wage-Tax-refund-form-2022.pdf"
         ]
        ],
        [
         "What's the % of Philly's resident tax rate for H2 2021 vs. the non-resident rate?",
         "3.7500% (.037500) for Philadelphia residents and 3.4400% (.034400) for non-residents for the second half of 2021.",
         [
          "https://www.phila.gov/media/20240131144329/2023-Wage-Tax-refund-salaried-employees-form-and-instructions.pdf",
          "https://www.phila.gov/media/20230206102047/Non-residents-income-based-Wage-Tax-refund-form-2022.pdf",
          "https://www.phila.gov/media/20201105092132/Wage-Tax-non-resident-COVID-19-guidance-110520.pdf",
          "https://www.phila.gov/media/20201015094507/Earnings-Tax-return-2020.pdf"
         ]
        ],
        [
         "What was the due date for the 52nd weekly wage tax period in 2019?",
         "I'm sorry for any confusion, but the provided context does not include the wage tax due dates for the year 2019. Therefore, I'm unable to provide the exact due date for the 52nd weekly wage tax period in 2019.",
         [
          "https://www.phila.gov/media/20230118130428/2023-Wage-Tax-weekly-Q3-and-Q4-due-dates.pdf",
          "https://www.phila.gov/media/20201021083906/Wage-Tax-due-dates-2021-schedule-v1.pdf",
          "https://www.phila.gov/media/20191030085637/Wage-Tax-due-dates-2020-schedule-v1.pdf",
          "https://www.phila.gov/media/20211008113517/Wage-Tax-due-dates-2022-3rd-and-4th-quarters-for-WEB.pdf"
         ]
        ],
        [
         "\"How does the 2021 \"\"requirement of employment\"\" test for Philly's Wage Tax refunds impact eligibility and remote work convenience for nonresidents?\"",
         "2021 \"requirement of employment\" test for Philadelphia's Wage Tax refunds for non-residents is that the employee must be employed on March 31, 2022, the date the bonuses are paid. This means that if a non-resident employee was required to work remotely and only worked in the Philadelphia office for a certain percentage of their workdays in 2021, that percentage of their bonus is subject to the Wage Tax. This test ensures that non-residents who have worked remotely and were still employed on the date the bonuses are paid are eligible for the Wage Tax refund. This test provides convenience for non-residents as it allows them to still be eligible for the refund even if they have worked remotely.",
         [
          "https://www.phila.gov/media/20230206102047/Non-residents-income-based-Wage-Tax-refund-form-2022.pdf",
          "https://www.phila.gov/media/20240131144329/2023-Wage-Tax-refund-salaried-employees-form-and-instructions.pdf",
          "https://www.phila.gov/media/20201105092132/Wage-Tax-non-resident-COVID-19-guidance-110520.pdf",
          "https://www.phila.gov/media/20230206101743/Residents-income-based-Wage-Tax-refund-2022.pdf"
         ]
        ],
        [
         "When's the due date for the post-Dec 15th period in the 2021 semi-monthly wage tax schedule?",
         "01/06/22",
         [
          "https://www.phila.gov/media/20201021083908/2021-Wage-semi-monthly-tax-due-dates.pdf",
          "https://www.phila.gov/media/20201021083906/Wage-Tax-due-dates-2021-schedule-v1.pdf",
          "https://www.phila.gov/media/20171208092359/2018-Wage-Tax-due-dates1.pdf",
          "https://www.phila.gov/media/20230118130428/2023-Wage-Tax-weekly-Q3-and-Q4-due-dates.pdf"
         ]
        ],
        [
         "What was the due date for the 52nd weekly wage tax period in 2016?",
         "01/05/17\n\nExplanation:\nThe table \"Wage Tax Due Date Chart for 2016\" provides information about the weekly wage tax periods in 2016. According to the table, the 52nd weekly wage tax period starts from 12/18/16 and ends on 12/31/16. The due date for this period is 01/05/17.",
         [
          "https://www.phila.gov/media/20160830163642/2016-wage-tax-due-dates.pdf",
          "https://www.phila.gov/media/20160926121412/2016-Earnings-Tax-due-dates.pdf",
          "https://www.phila.gov/media/20230118130428/2023-Wage-Tax-weekly-Q3-and-Q4-due-dates.pdf",
          "https://www.phila.gov/media/20191030085637/Wage-Tax-due-dates-2020-schedule-v1.pdf"
         ]
        ],
        [
         "What is non-taxable Gross Compenstaion?",
         "\tNon-taxable Gross Compensation refers to the portion of an employee's earnings that is not subject to wage tax. According to the context provided, it is the total of Line 5 on Page 1, Line 2 of the Earnings Tax Allocation Form. However, the specific components of non-taxable gross compensation are not detailed in the provided context. It's recommended to refer to the specific form instructions or consult with a tax professional for more detailed information.",
         [
          "https://www.phila.gov/media/20191218101514/Wage-Tax-refund-petition-salaried-employees-2019.pdf",
          "https://www.phila.gov/media/20190219090710/Wage-Tax-refund-petition-salaried-employees-2018.pdf",
          "https://www.phila.gov/media/20240131144329/2023-Wage-Tax-refund-salaried-employees-form-and-instructions.pdf",
          "https://www.phila.gov/media/20201202112357/Earnings-Tax-allocation-form-2020.pdf"
         ]
        ],
        [
         "How were employers informed about Philly's income tax regulation changes by the Dept. of Revenue in 2020?",
         "2020 was not specified in the provided context. However, it is mentioned that the City of Philadelphia Department of Revenue released a guidance on Wage Tax for non-residents in November 2020, due to COVID-19. Employers were informed about the changes through a document titled \"Wage-Tax-non-resident-COVID-19-guidance-110520.pdf.\" The document mentions that employers are required to withhold and remit Wage Tax for all its Philadelphia residents, regardless of where they perform their duties.\n\nFor general information, the City of Philadelphia Department of Revenue provides a Wage Tax petition through the Philadelphia Tax Center, which is encouraged for filing to avoid delays. The petition is available for both residents and non-residents who may be entitled to a refund of City Wage Tax withheld by their employer. The form and instructions for non-residents are provided in the \"Non-residents-income-based-Wage-Tax-refund-form-2022.pdf\" document.",
         [
          "https://www.phila.gov/media/20201015094507/Earnings-Tax-return-2020.pdf",
          "https://www.phila.gov/media/20201105092132/Wage-Tax-non-resident-COVID-19-guidance-110520.pdf",
          "https://www.phila.gov/media/20230206101743/Residents-income-based-Wage-Tax-refund-2022.pdf",
          "https://www.phila.gov/media/20230206102047/Non-residents-income-based-Wage-Tax-refund-form-2022.pdf"
         ]
        ],
        [
         "What's the expected wait time for a non-resident's online wage tax refund request in Philadelphia?",
         " I'm sorry for any inconvenience, but the provided context does not include information about the expected wait time for a non-resident's online wage tax refund request in Philadelphia. It's recommended to check the official website or contact the Philadelphia Department of Revenue directly for the most accurate and up-to-date information.",
         [
          "https://www.phila.gov/media/20230206102047/Non-residents-income-based-Wage-Tax-refund-form-2022.pdf",
          "https://www.phila.gov/media/20230206101743/Residents-income-based-Wage-Tax-refund-2022.pdf",
          "https://www.phila.gov/media/20240212102153/2023-residents-income-based-Wage-Tax-refund.pdf",
          "https://www.phila.gov/media/20230303142337/Refund-dates-and-locations-2022-template.pdf"
         ]
        ],
        [
         "Given 2H 2021 tax rules, what's the tax rate for a Philly resident?",
         "3.7900% (.037900) from July 1, 2021 to December 31, 2021.\n\nSources:\n{source\\_type=normal\\_text, file=2023-Wage-Tax-refund-salaried-employees-form-and-instructions.pdf, year=[2023]}\n{source\\_type=normal\\_text\\_short, file=Wage-Tax-non-resident-COVID-19-guidance-110520.pdf, year=[]}",
         [
          "https://www.phila.gov/media/20240131144329/2023-Wage-Tax-refund-salaried-employees-form-and-instructions.pdf",
          "https://www.phila.gov/media/20201105092132/Wage-Tax-non-resident-COVID-19-guidance-110520.pdf",
          "https://www.phila.gov/media/20221026144150/2021-Residents-income-based-Wage-Tax-refund.pdf",
          "https://www.phila.gov/media/20230206102047/Non-residents-income-based-Wage-Tax-refund-form-2022.pdf"
         ]
        ],
        [
         "When's the 2015 Wage Tax Chart's due date for the period after 07/11/15?",
         "08/05/15\n\nExplanation:\n\nReferring to the Semi-Monthly Wage Tax Periods for 2015, the period after 07/11/15 falls under period 71, which has an inclusive date range of 07/16/15 to 07/31/15 and a due date of 08/05/15.",
         [
          "https://www.phila.gov/media/20201021084110/2021-Wage-Monthly-and-Quarterly-Tax-Due-dates.pdf",
          "https://www.phila.gov/media/20170214095339/2015WageDueDates11.13.pdf",
          "https://www.phila.gov/media/20201021083906/Wage-Tax-due-dates-2021-schedule-v1.pdf",
          "https://www.phila.gov/media/20201021083908/2021-Wage-semi-monthly-tax-due-dates.pdf"
         ]
        ],
        [
         "When was the Oct. 1-15, 2011 semi-monthly wage tax deadline?",
         "11/15/11\n\nExplanation:\n\nBased on the provided context, I can see a table for Semi-Monthly Wage Tax Periods for the year 2010. However, the question asks about the Oct. 1-15, 2011 semi-monthly wage tax deadline. Since there is no provided context for 2011, I cannot directly answer the question.\n\nHowever, I can still provide some insight based on the available information. In the table for Semi-Monthly Wage Tax Periods for 2010, the period that includes October 1-15 has a due date of November 1. Considering this, and assuming that the due dates for the semi-monthly wage tax in 2011 follow a similar pattern, it is reasonable to estimate that the Oct. 1-15, 2011 semi-monthly wage tax deadline would be on November 15, 2011.\n\nPlease note that this answer is an estimation based on the available context for 2010, and the actual due date for the Oct. 1-15, 2011 semi-monthly wage tax may be different.",
         [
          "https://www.phila.gov/media/20201021083908/2021-Wage-semi-monthly-tax-due-dates.pdf",
          "https://www.phila.gov/media/20201021083906/Wage-Tax-due-dates-2021-schedule-v1.pdf",
          "https://www.phila.gov/media/20161121153405/2011-Wage-Tax-Due-Dates.pdf",
          "https://www.phila.gov/media/20161121153504/2010-Wage-Tax-Due-Dates.pdf"
         ]
        ],
        [
         "When are wage tax returns due for 2021?",
         "1. Quarterly Wage Tax Returns for 2021 are due on April 30, 2021 (Q1), August 2, 2021 (Q2), November 1, 2021 (Q3), and January 31, 2022 (Q4 and Annual Reconciliation Period).\n2. Earnings Tax Returns for 2021 are due on April 30, 2021 (Q1), August 2, 2021 (Q2), November 1, 2021 (Q3), and January 31, 2022 (Q4 and Annual Reconciliation Period).\n3. Weekly Wage Tax Returns for 2021 are due on February 16, 2021 (Week 7), March 15, 2021 (Week 8), May 17, 2021 (Week 20), June 15, 2021 (Week 23), August 16, 2021 (Week 33), September 15, 2021 (Week 37), November 15, 2021 (Week 46), and December 15, 2021 (Week 49). The Annual Reconciliation Period for Weekly Wage Tax Returns is due on February 28, 2022.\n\nPlease note that the due dates for wage tax returns for 2021 are based on the provided context and may be subject to change. It is recommended to check the official Pennsylvania Department of Revenue website for the most up-to-date information.",
         [
          "https://www.phila.gov/media/20201021084110/2021-Wage-Monthly-and-Quarterly-Tax-Due-dates.pdf",
          "https://www.phila.gov/media/20201021085824/Earnings-Tax-due-dates-2021-schedule.pdf",
          "https://www.phila.gov/media/20201021083906/Wage-Tax-due-dates-2021-schedule-v1.pdf",
          "https://www.phila.gov/media/20220216111153/Wage-Tax-refund-Covid-EZ-form-2021-instructions.pdf"
         ]
        ],
        [
         "What is the interest rate for late wage tax payments?",
         "1% per month or fraction of each month until paid. This information is based on the document titled \"Employee-Earnings-Tax-account-application-2019-August-update.pdf\" and applies to tax returns due on or before December 31, 2013. However, the context provided does not contain information about the interest rate for late wage tax payments for the years after 2013. It is recommended to check the most recent regulations or guidelines for the current interest rate.",
         [
          "https://www.phila.gov/media/20190808134623/Employee-Earnings-Tax-account-application-2019-August-update.pdf",
          "https://www.phila.gov/media/20201021083908/2021-Wage-semi-monthly-tax-due-dates.pdf",
          "https://www.phila.gov/media/20161121153504/2010-Wage-Tax-Due-Dates.pdf",
          "https://www.phila.gov/media/20171208092359/2018-Wage-Tax-due-dates1.pdf"
         ]
        ],
        [
         "What is the procedure to file a Wage Tax refund petition in Philadelphia for the year 2022?",
         "1. Determine if you are a non-resident of Philadelphia. The Wage Tax Refund Petition is only for non-residents. If you are a resident, you should use the Income-based Wage Tax Refund petition for residents.\n\n2. If you are a non-resident, you can file the Wage Tax Refund Petition for 2022 by using the Non-residents income-based Wage Tax refund form 2022. You can calculate your refund by entering your 2022 W-2 information in the worksheet provided. If you have more than four W-2s, see the instructions for how to handle this.\n\n3. Mail the completed form and all documents to: Philadelphia Department of Revenue PO Box 53360 Philadelphia, PA 19105. You can also return it by fax to (215) 686-6228.\n\n4. If you are a resident, you can file the Income-based Wage Tax Refund petition for residents for 2022 by using the residents income-based Wage Tax refund form 2022. You can file this petition electronically on the Philadelphia Tax Center at tax-service.phila.gov. You do not need a username and password to file a Wage Tax petition on the Tax Center, simply select “Request a Wage Tax refund” from the front page.\n\n5. Remember to include copies of your PA 40 Schedule SP and all W-2s with your petition.\n\n6. If you have any questions, you can contact the Philadelphia Department of Revenue at www.phila.gov/revenue, refund.unit@phila.gov or (215) 686-6574.",
         [
          "https://www.phila.gov/media/20230206102047/Non-residents-income-based-Wage-Tax-refund-form-2022.pdf",
          "https://www.phila.gov/media/20230206101743/Residents-income-based-Wage-Tax-refund-2022.pdf",
          "https://www.phila.gov/media/20240212102153/2023-residents-income-based-Wage-Tax-refund.pdf",
          "https://www.phila.gov/media/20230203152621/2022-Wage-Tax-refund-Covid-EZ-form-instructions.pdf"
         ]
        ],
        [
         "How is the quarterly wage tax return filed?",
         "Based on the documents provided, in the state of Pennsylvania, quarterly wage tax returns for the City of Philadelphia can be filed electronically through the Philadelphia Tax Center. Alternatively, paper forms can be mailed or faxed to the Philadelphia Department of Revenue. The due dates for the quarterly wage tax returns are April 30, July 31, October 31, and January 31 of the following year for the respective quarters. The table showing the due dates for 2021 is provided in the document, and a similar table can be found for 2020. The wage tax petition for residents can also be filed electronically through the same Tax Center.",
         [
          "https://www.phila.gov/media/20201021084110/2021-Wage-Monthly-and-Quarterly-Tax-Due-dates.pdf",
          "https://www.phila.gov/media/20191030085637/Wage-Tax-due-dates-2020-schedule-v1.pdf",
          "https://www.phila.gov/media/20230206101743/Residents-income-based-Wage-Tax-refund-2022.pdf",
          "https://www.phila.gov/media/20240212102153/2023-residents-income-based-Wage-Tax-refund.pdf"
         ]
        ],
        [
         "What's the max income for a married individual with three dependents to qualify for PA's 2022 tax forgiveness program?",
         " Based on the document provided, a married individual with three dependents can qualify for PA's 2022 tax forgiveness program with an income of up to $43,750.",
         [
          "https://www.phila.gov/media/20230206102047/Non-residents-income-based-Wage-Tax-refund-form-2022.pdf",
          "https://www.phila.gov/media/20201202111441/Earnings-Tax-return-instructions-general-information-2020.pdf",
          "https://www.phila.gov/media/20211109085717/Income-based-Wage-Tax-Flyer-November-2021.pdf",
          "https://www.phila.gov/media/20221026144622/2021-Non-residents-income-based-Wage-Tax-refund-form.pdf"
         ]
        ],
        [
         "What documents must be included in the 2023 Wage Tax Refund Petition for salaried employees?",
         "2023 Wage Tax Refund Petition for salaried employees must include:\n\n1. The completed petition form\n2. A W-2 showing Federal, State, Medicare, and Local wages\n3. Dates & Locations Worksheet\n4. Signature of Employee and Employer (digital signatures accepted)\n5. PA Schedule UE, if claiming expenses on Line 2E\n6. A breakdown of expenses, if there is an entry on Line 15 of PA Schedule UE\n7. A separate petition must be filed for each W-2 issued by employers that may have overwithheld Wage Tax.\n8. If you were required to work remotely, please attach a letter from your employer, on company letterhead, with the dates or time period you were REQUIRED to work remotely.\n\nPlease note that the income thresholds for non-residents in the table provided are not applicable to the Wage Tax Refund Petition for salaried employees.",
         [
          "https://www.phila.gov/media/20240131145157/2023-Wage-Tax-refund-commissioned-employees-form-instructions.pdf",
          "https://www.phila.gov/media/20230207141123/2021-Wage-Tax-refund-salaried-employees-form-instructions.pdf",
          "https://www.phila.gov/media/20220216111153/Wage-Tax-refund-Covid-EZ-form-2021-instructions.pdf",
          "https://www.phila.gov/media/20240212102406/2023-non-residents-income-based-Wage-Tax-refund-form.pdf"
         ]
        ],
        [
         "Can I file a paper wage tax return?",
         "\tBased on the information provided, the City of Philadelphia Department of Revenue encourages electronic filing of the Wage Tax petition through the Philadelphia Tax Center to avoid delays. However, paper forms are still available for those who prefer to use them. Therefore, yes, you can still file a paper wage tax return if you choose to do so.",
         [
          "https://www.phila.gov/media/20230206101743/Residents-income-based-Wage-Tax-refund-2022.pdf",
          "https://www.phila.gov/media/20221026144622/2021-Non-residents-income-based-Wage-Tax-refund-form.pdf",
          "https://www.phila.gov/media/20240212102153/2023-residents-income-based-Wage-Tax-refund.pdf",
          "https://www.phila.gov/media/20220216111153/Wage-Tax-refund-Covid-EZ-form-2021-instructions.pdf"
         ]
        ],
        [
         "When's the due date for 2020 earnings tax reconciliation if overwithheld in Philadelphia?",
         " Based on the document title you provided, the due date for the 2020 Employee Earnings Tax Reconciliation in Philadelphia if overwithheld is April 15, 2021.",
         [
          "https://www.phila.gov/media/20201015094507/Earnings-Tax-return-2020.pdf",
          "https://www.phila.gov/media/20210204174030/Residents-2020-income-based-Wage-Tax-refund.pdf",
          "https://www.phila.gov/media/20210204172023/Non-residents-2020-income-based-Wage-Tax-refund-form.pdf",
          "https://www.phila.gov/media/20221026144150/2021-Residents-income-based-Wage-Tax-refund.pdf"
         ]
        ],
        [
         "What are the requirements for a new Philadelphia employer?",
         "1. Register with the City of Philadelphia's Department of Revenue to obtain an Employer Identification Number (EIN).\n2. Withhold Wage Tax on behalf of all Philadelphia resident employees, regardless of where they perform their duties.\n3. Remit the withheld Wage Tax to the City of Philadelphia.\n4. File an Annual Reconciliation of Employee Earnings Tax for each tax year by April 15th of the following year.\n5. If the employer has non-resident employees who perform duties in Philadelphia, they may be required to withhold and remit the Net Profits Tax on their behalf.\n\nPlease note that this information is accurate for the year 2021, based on the provided context. It is recommended to check the current regulations and guidelines on the official City of Philadelphia's Department of Revenue website for the most up-to-date information.",
         [
          "https://www.phila.gov/media/20231024112123/UPDATED-Wage-Tax-policy-guidance-for-non-resident-employees.pdf",
          "https://www.phila.gov/media/20201105092132/Wage-Tax-non-resident-COVID-19-guidance-110520.pdf",
          "https://www.phila.gov/media/20201015094507/Earnings-Tax-return-2020.pdf",
          "https://www.phila.gov/media/20191218101013/Wage-Tax-refund-petition-commission-employees-2019.pdf"
         ]
        ],
        [
         "What's the 2019 wage tax deadline for the period 06/30/19 - 07/06/19?",
         "08/15/19 is the wage tax deadline for the period 06/30/19 - 07/06/19, based on the 2019 Monthly and Quaterly Wage Tax Due Date Chart provided.",
         [
          "https://www.phila.gov/media/20190515090033/Wage-Tax-due-dates-2019-schedule.pdf",
          "https://www.phila.gov/media/20181105150705/2019-Earnings-Tax-due-dates.pdf",
          "https://www.phila.gov/media/20191030085637/Wage-Tax-due-dates-2020-schedule-v1.pdf",
          "https://www.phila.gov/media/20201021084110/2021-Wage-Monthly-and-Quarterly-Tax-Due-dates.pdf"
         ]
        ],
        [
         "When's the due date for the 01/09/22-01/15/22 Philly wage tax period?",
         "01/20/22",
         [
          "https://www.phila.gov/media/20211008112848/Wage-Tax-due-dates-2022-1st-and-2nd-quarters-WEB.pdf",
          "https://www.phila.gov/media/20211008113517/Wage-Tax-due-dates-2022-3rd-and-4th-quarters-for-WEB.pdf",
          "https://www.phila.gov/media/20211008113935/2022-Wage-semi-monthly-tax-due-dates.pdf",
          "https://www.phila.gov/media/20231211100247/Wage-Tax-2024-monthly-due-dates.pdf"
         ]
        ],
        [
         "What is the requirement for entering hours worked in the non-resident Wage Tax petition for the year 2022?",
         "\nAccording to the Income-based Wage Tax Refund Petition Tax Year 2022 for Non-residents, there is no specific requirement to enter hours worked in the petition. However, for non-work days, you are required to provide the number of hours not worked, including weekends, vacation, holidays, sick or any type of leave time. For terminal or severance pay, it is taxable at the employee's historical percentage of time worked in the City. Please ensure you have the applicable W-2 indicating Federal, Medicare, State and Local wages, and a separate petition must be filed for each W-2 issued by employers that may have overwithheld Wage Tax. If you were required to work remotely, you should attach a letter from your employer on company letterhead with the dates or time period you were required to work remotely.",
         [
          "https://www.phila.gov/media/20230206102047/Non-residents-income-based-Wage-Tax-refund-form-2022.pdf",
          "https://www.phila.gov/media/20240212102406/2023-non-residents-income-based-Wage-Tax-refund-form.pdf",
          "https://www.phila.gov/media/20191218101514/Wage-Tax-refund-petition-salaried-employees-2019.pdf",
          "https://www.phila.gov/media/20220216111153/Wage-Tax-refund-Covid-EZ-form-2021-instructions.pdf"
         ]
        ],
        [
         "How do I amend the annual wage tax return?",
         "1. Obtain the necessary forms: You will need to use the \"Amended Annual Reconciliation of Employee Earnings Tax\" form, which can be found on the City of Philadelphia's website.\n\n2. Gather your information: Have your original return and all necessary documentation on hand, as you will need to provide the same information as you did on your original return.\n\n3. Fill out the form: Complete all sections of the amended return form, making sure to include any necessary adjustments or corrections. Be sure to provide an explanation for the changes you are making.\n\n4. Attach any additional forms or schedules: If your amendment requires additional forms or schedules, be sure to attach them to your amended return.\n\n5. Mail the form: Once you have completed the amended return, mail it to the address provided on the form. It is important to note that processing times for amended returns can be longer than those for original returns.\n\n6. Follow up: If you do not hear back from the City of Philadelphia within a reasonable amount of time, consider following up to ensure that your amended return has been received and processed.\n\nIt is important to note that the specific instructions and forms required for amending a wage tax return in Pennsylvania may vary depending on the specific circumstances of your return. It is always a good idea to consult with a tax professional or the Pennsylvania Department of Revenue if you have any questions or concerns about amending your return.",
         [
          "https://www.phila.gov/media/20201015094507/Earnings-Tax-return-2020.pdf",
          "https://www.phila.gov/media/20161121153402/2012-Wage-Tax-Due-Dates.pdf",
          "https://www.phila.gov/media/20221026144622/2021-Non-residents-income-based-Wage-Tax-refund-form.pdf",
          "https://www.phila.gov/media/20170214095339/2015WageDueDates11.13.pdf"
         ]
        ],
        [
         "What were the reduced resident tax rates in Philadelphia for the year 2019?",
         "3.8700% (.038700) for January 1, 2019 to June 30, 2019 and 3.8400% (.038400) for July 1, 2019 to December 31, 2019.\n\nSource: City of Philadelphia Department of Revenue 2019 WAGE SCHEDULE (<https://www.phila.gov/media/20181218151112/2019-Wage-Tax-Monthly-Due-Dates.pdf>)",
         [
          "https://www.phila.gov/media/20240131144329/2023-Wage-Tax-refund-salaried-employees-form-and-instructions.pdf",
          "https://www.phila.gov/media/20201105092132/Wage-Tax-non-resident-COVID-19-guidance-110520.pdf",
          "https://www.phila.gov/media/20221230115025/Wage-Tax-2023-monthly-due-dates.pdf",
          "https://www.phila.gov/media/20230206102047/Non-residents-income-based-Wage-Tax-refund-form-2022.pdf"
         ]
        ],
        [
         "What is the procedure for a non-resident of Philadelphia to allocate their compensation for services performed in and out of Philadelphia in 2020?",
         "1. First, determine the gross compensation for employees paid on a salary or commission basis for the periods worked in and out of Philadelphia. This information can be found in columns A and B of the table provided in the document.\n\n2. Calculate the adjusted gross compensation by subtracting non-taxable compensation from the gross compensation.\n\n3. Determine the number of days or hours worked in and out of Philadelphia.\n\n4. Calculate the percentage of time worked outside of Philadelphia by dividing the number of days or hours worked outside of Philadelphia by the total number of days or hours worked.\n\n5. Calculate the non-taxable gross compensation earned outside of Philadelphia by multiplying the adjusted gross compensation by the percentage of time worked outside of Philadelphia.\n\n6. Calculate the non-reimbursed business expenses and deductible non-reimbursed employee business expenses, if applicable.\n\n7. Add the non-taxable gross compensation earned outside of Philadelphia and the non-reimbursed business expenses and deductible non-reimbursed employee business expenses to get the non-taxable income and/or deductible employee business expenses.\n\n8. The compensation attributable to the time worked in Philadelphia is subject to the Wage Tax. The tax rate for non-residents for the year 2020 is 3.4400%.\n\nIt is important to note that the above procedure is based on the information provided in the document and the year 2020, and it is always best to consult with a tax professional for specific situations.",
         [
          "https://www.phila.gov/media/20201015094507/Earnings-Tax-return-2020.pdf",
          "https://www.phila.gov/media/20240131144329/2023-Wage-Tax-refund-salaried-employees-form-and-instructions.pdf",
          "https://www.phila.gov/media/20230206102047/Non-residents-income-based-Wage-Tax-refund-form-2022.pdf",
          "https://www.phila.gov/media/20201105092132/Wage-Tax-non-resident-COVID-19-guidance-110520.pdf"
         ]
        ],
        [
         "Does Philadelphia require W2 filing?",
         "1. For non-residents of Philadelphia who are entitled to a refund of City Wage Tax withheld by their employer, a W-2 form is required to be included with the Income-based Wage Tax Refund petition. The form is used to calculate the refund based on the W-2 information.\n2. For residents of Philadelphia, the Income-based Wage Tax Refund petition can be filed electronically through the Philadelphia Tax Center or by mailing the completed form and all documents to the Philadelphia Department of Revenue. The form requires copies of the PA 40 Schedule SP and all W-2s to be included.\n3. The Earnings Tax Allocation form for the year 2020, which is not the current year, states that non-taxable gross compensation and taxable gross compensation should be entered on Line 5 and Line 6 respectively. This information is to be taken from Page 1 of the form.\n\nBased on the above information, it can be concluded that Philadelphia does require W-2 filing for non-residents and residents who are seeking a refund of City Wage Tax withheld by their employer.",
         [
          "https://www.phila.gov/media/20230206102047/Non-residents-income-based-Wage-Tax-refund-form-2022.pdf",
          "https://www.phila.gov/media/20230206101743/Residents-income-based-Wage-Tax-refund-2022.pdf",
          "https://www.phila.gov/media/20240212102153/2023-residents-income-based-Wage-Tax-refund.pdf",
          "https://www.phila.gov/media/20201202112357/Earnings-Tax-allocation-form-2020.pdf"
         ]
        ],
        [
         "Per the Oct 12, 2023 Philly Wage Tax guidance, how do tax implications for non-resident remote workers due to childcare differ from those with workspace limitations?",
         "1099-MISC and W-2 wages for non-resident remote workers in Philadelphia due to childcare or workspace limitations are subject to the Philadelphia Wage Tax, with the taxable percentage based on the time spent working in Philadelphia. However, the guidance does not distinguish between the two scenarios in terms of tax implications. Both situations would follow the same tax rules and rates mentioned in the context provided.",
         [
          "https://www.phila.gov/media/20240131144329/2023-Wage-Tax-refund-salaried-employees-form-and-instructions.pdf",
          "https://www.phila.gov/media/20230206102047/Non-residents-income-based-Wage-Tax-refund-form-2022.pdf",
          "https://www.phila.gov/media/20221230115025/Wage-Tax-2023-monthly-due-dates.pdf",
          "https://www.phila.gov/media/20230118130428/2023-Wage-Tax-weekly-Q3-and-Q4-due-dates.pdf"
         ]
        ],
        [
         "How to calculate '23 Philly salaried employees' wage tax refund considering tax rates, gross pay, non-taxable stock options, total sales, out-of-town commissions, and non-reimbursed expenses?",
         "1. Calculate the total taxable wages by subtracting non-taxable stock options from gross pay.\n2. Determine the percentage of time worked in Philadelphia during 2023.\n3. Apply the appropriate wage tax rate (resident or non-resident) to the taxable wages based on the percentage calculated in step 2.\n4. If applicable, calculate the non-resident employee's portion of taxable wages based on the time spent working in Philadelphia.\n5. Calculate the total wage tax paid by the employee.\n6. If the wage tax paid is more than the calculated wage tax owed, the employee is eligible for a refund.\n\nFor commission employees, provide a breakdown of sales activity performed outside of Philadelphia, including client name, address, and sales amounts attributable to each client.\n\nNote: The 2023 tax rates and refund instructions were not provided in the context. Please refer to the 2023 Wage Tax Refund Salaried Employees Form and Instructions for the correct tax rates and refund procedures.",
         [
          "https://www.phila.gov/media/20240131144329/2023-Wage-Tax-refund-salaried-employees-form-and-instructions.pdf",
          "https://www.phila.gov/media/20230206102047/Non-residents-income-based-Wage-Tax-refund-form-2022.pdf",
          "https://www.phila.gov/media/20191218101013/Wage-Tax-refund-petition-commission-employees-2019.pdf",
          "https://www.phila.gov/media/20210204170256/2020-Wage-Tax-refund-petition-commission.pdf"
         ]
        ],
        [
         "What's the 2020 Philly Wage Tax guide for a part-time non-resident employee working in and out of the city?",
         "2020 Philly Wage Tax guide for a part-time non-resident employee working in and out of the city would depend on the specific details of the employee's situation, such as the percentage of time worked in Philadelphia and the total compensation earned. However, based on the information provided, here is a general guide:\n\n* Bonuses, awards, leave time, and incentive payments are subject to Philadelphia Wage Tax for non-resident employees who work partly in the city.\n* The taxable percentage of the bonus is attributable to the time worked in Philadelphia. For example, if a non-resident employee worked 10% of their 2020 workdays in Philadelphia, 10% of their bonus is subject to Wage Tax.\n* The Wage Tax rates for non-residents in 2020 were:\n\t+ January 1, 2020 to June 30, 2020 = 3.4400% (.034400)\n\t+ July 1, 2020 to December 31, 2020 = 3.4400% (.034400)\n* If a non-resident employee believes they have overpaid their Wage Tax, they can file a claim for refund within three years from the date the tax was paid or due, whichever is later.\n* Employers are required to withhold and remit Wage Tax for all Philadelphia residents, regardless of where they perform their duties.\n\nNote that this information is based on the provided context, and the specifics of each situation may vary. It is recommended to consult the official City of Philadelphia Department of Revenue website or a tax professional for personalized advice.",
         [
          "https://www.phila.gov/media/20240131144329/2023-Wage-Tax-refund-salaried-employees-form-and-instructions.pdf",
          "https://www.phila.gov/media/20201105092132/Wage-Tax-non-resident-COVID-19-guidance-110520.pdf",
          "https://www.phila.gov/media/20230206102047/Non-residents-income-based-Wage-Tax-refund-form-2022.pdf",
          "https://www.phila.gov/media/20231024112123/UPDATED-Wage-Tax-policy-guidance-for-non-resident-employees.pdf"
         ]
        ],
        [
         "What's the wage tax rate for a Philly resident, H2 2022?",
         "3.7500% (.037500)\n\nThe wage tax rate for a Philly resident in the second half of 2022 (July 1, 2023 to December 31, 2023) is 3.7500% (.037500).",
         [
          "https://www.phila.gov/media/20240131144329/2023-Wage-Tax-refund-salaried-employees-form-and-instructions.pdf",
          "https://www.phila.gov/media/20221230115025/Wage-Tax-2023-monthly-due-dates.pdf",
          "https://www.phila.gov/media/20230206102047/Non-residents-income-based-Wage-Tax-refund-form-2022.pdf",
          "https://www.phila.gov/media/20201105092132/Wage-Tax-non-resident-COVID-19-guidance-110520.pdf"
         ]
        ],
        [
         "When's the Q3 '19 Employee Earnings Tax return due, accounting for holidays/weekends?",
         " Based on the document titled \"Earnings Tax Due Date Chart for 2019,\" the due date for the Quarter 3 earnings tax return for 2019 is October 31, 2019. However, if this date falls on a weekend or holiday, the due date is typically moved to the next business day. Therefore, if October 31, 2019, falls on a weekend or holiday, the Q3 '19 Employee Earnings Tax return would be due on the next business day.",
         [
          "https://www.phila.gov/media/20230427104025/Earnings-Tax-2023-due-dates.pdf",
          "https://www.phila.gov/media/20181105150705/2019-Earnings-Tax-due-dates.pdf",
          "https://www.phila.gov/media/20190515090033/Wage-Tax-due-dates-2019-schedule.pdf",
          "https://www.phila.gov/media/20191218101514/Wage-Tax-refund-petition-salaried-employees-2019.pdf"
         ]
        ],
        [
         "What is the requirement for applicants to enter hours worked in the Non-resident Wage Tax Refund Petition form?",
         "\nAccording to the Income-based Wage Tax Refund Petition form for Non-residents for Tax Year 2023, applicants are not explicitly asked to enter hours worked in the worksheet. The worksheet is designed for applicants to enter their W-2 information, including the employer's name and the total wages earned. However, there is a separate table for applicants to enter hours worked outside of Philadelphia, PA, but this is only required if the employer is submitting a refund petition on the applicant's behalf. Therefore, the requirement for applicants to enter hours worked in the Non-resident Wage Tax Refund Petition form is not explicitly stated, but it may be required in certain situations.",
         [
          "https://www.phila.gov/media/20230206102047/Non-residents-income-based-Wage-Tax-refund-form-2022.pdf",
          "https://www.phila.gov/media/20240212102406/2023-non-residents-income-based-Wage-Tax-refund-form.pdf",
          "https://www.phila.gov/media/20230303142337/Refund-dates-and-locations-2022-template.pdf",
          "https://www.phila.gov/media/20220216111153/Wage-Tax-refund-Covid-EZ-form-2021-instructions.pdf"
         ]
        ],
        [
         "What is the due date for the quarterly wage tax period from July 1 to September 30 in 2021?",
         "11/01/21\n\nThe due date for the quarterly wage tax period from July 1 to September 30 in 2021 is 11/01/21, according to the table provided in the document.",
         [
          "https://www.phila.gov/media/20201021084110/2021-Wage-Monthly-and-Quarterly-Tax-Due-dates.pdf",
          "https://www.phila.gov/media/20201021083906/Wage-Tax-due-dates-2021-schedule-v1.pdf",
          "https://www.phila.gov/media/20201021085824/Earnings-Tax-due-dates-2021-schedule.pdf",
          "https://www.phila.gov/media/20230118130428/2023-Wage-Tax-weekly-Q3-and-Q4-due-dates.pdf"
         ]
        ],
        [
         "What are the penalties for a late wage tax payment?",
         "1% per month or fraction of each month until paid, in addition to penalty at rates that increase incrementally. The rates are not specified in the provided context, but for tax returns due on or before December 31, 2013, the penalty rates increase in accordance with a table that is not included in the context.",
         [
          "https://www.phila.gov/media/20190808134623/Employee-Earnings-Tax-account-application-2019-August-update.pdf",
          "https://www.phila.gov/media/20240131144329/2023-Wage-Tax-refund-salaried-employees-form-and-instructions.pdf",
          "https://www.phila.gov/media/20210503155239/Wage-Tax-Frequently-Asked-Questions-May-2021.pdf",
          "https://www.phila.gov/media/20230206101743/Residents-income-based-Wage-Tax-refund-2022.pdf"
         ]
        ],
        [
         "What format is used to file the quarterly wage tax return?",
         " Based on the documents provided, the quarterly wage tax return for the state of Pennsylvania is due on the last day of the month following the end of the quarter. The specific due dates for each quarter in 2021 are as follows:\n\n* January 1 - March 31: Due April 30, 2021\n* April 1 - June 30: Due August 2, 2021\n* July 1 - September 30: Due November 1, 2021\n* October 1 - December 31: Due January 31, 2022 (This is also the annual reconciliation period)\n\nIt is important to note that these due dates may be different for other years, as shown in the provided documents for 2015 and 2020. It is always a good idea to double-check the due dates for the specific year in question.\n\nAs for the format of the quarterly wage tax return, the documents do not provide specific information on this. It is recommended to check the official website of the Pennsylvania Department of Revenue or contact them directly for more information on how to file the quarterly wage tax return and the specific format required.",
         [
          "https://www.phila.gov/media/20201021084110/2021-Wage-Monthly-and-Quarterly-Tax-Due-dates.pdf",
          "https://www.phila.gov/media/20191030085637/Wage-Tax-due-dates-2020-schedule-v1.pdf",
          "https://www.phila.gov/media/20170214095339/2015WageDueDates11.13.pdf",
          "https://www.phila.gov/media/20201021083906/Wage-Tax-due-dates-2021-schedule-v1.pdf"
         ]
        ],
        [
         "When's the wage tax due for a Philly weekly earner for 01/15/23-01/21/23?",
         "01/25/23. According to the table provided, for the period of 01/15/23 to 01/21/23, the wage tax due date for a Philly weekly earner is 01/25/23.",
         [
          "https://www.phila.gov/media/20211008112848/Wage-Tax-due-dates-2022-1st-and-2nd-quarters-WEB.pdf",
          "https://www.phila.gov/media/20230118130428/2023-Wage-Tax-weekly-Q3-and-Q4-due-dates.pdf",
          "https://www.phila.gov/media/20211008113517/Wage-Tax-due-dates-2022-3rd-and-4th-quarters-for-WEB.pdf",
          "https://www.phila.gov/media/20230118130334/2023-Wage-Tax-weekly-Q1-andQ2-due-dates.pdf"
         ]
        ],
        [
         "What is the tax policy for non-resident employees working remotely from Philadelphia during the COVID-19 pandemic in 2020?",
         "1. Gross compensation for employees paid on a salary basis (Form W-2) is subject to Philadelphia Wage Tax, including bonuses, awards, leave time, and incentive payments.\n2. For a non-resident employee working partly outside Philadelphia, the percentage of time worked outside Philadelphia can be excluded when the compensation is historically earned.\n3. For the year 2020, the tax rates for non-resident employees are 3.4400% for the first half of the year and also for the second half of the year.\n4. The City of Philadelphia requires all employers, regardless of their location in Pennsylvania, to withhold and remit Wage Tax on behalf of their employees who are Philadelphia residents, regardless of where they perform their duties.\n5. The above information is based on the documents and context provided, which pertains to the year 2020. The tax policy and rates may have changed for subsequent years.",
         [
          "https://www.phila.gov/media/20201105092132/Wage-Tax-non-resident-COVID-19-guidance-110520.pdf",
          "https://www.phila.gov/media/20240131144329/2023-Wage-Tax-refund-salaried-employees-form-and-instructions.pdf",
          "https://www.phila.gov/media/20231024112123/UPDATED-Wage-Tax-policy-guidance-for-non-resident-employees.pdf",
          "https://www.phila.gov/media/20201015094507/Earnings-Tax-return-2020.pdf"
         ]
        ],
        [
         "How do I process a wage tax refund?",
         "1. Check if you are eligible for a wage tax refund in the state of Pennsylvania by reviewing the provided context. Non-residents of Philadelphia who worked in the city but had excessive wage tax withheld may be eligible.\n\n2. Gather your 2022 W-2 forms from all employers. You will need this information to calculate your potential refund.\n\n3. If you have more than four W-2s, refer to the instructions on Page 2 of the provided form for further guidance.\n\n4. Calculate your refund using the worksheet provided in the form. Enter your gross compensation from each W-2 on the appropriate line. Remember to only include your own W-2 information, not your spouse's.\n\n5. If you are approved for Pennsylvania tax forgiveness (PA 40 Schedule SP), you may also be entitled to receive a refund of City Wage Tax withheld by your employer.\n\n6. Complete the applicant information section of the form.\n\n7. Sign the form, certifying that the information provided is true and correct to the best of your knowledge.\n\n8. Attach the applicable W-2 indicating Federal, Medicare, State and Local wages to the petition.\n\n9. If you were required to work remotely due to COVID-19, attach a letter from your employer, on company letterhead, with the dates or time period you worked remotely.\n\n10. File a separate petition for each W-2 issued by employers that may have over withheld Wage Tax.\n\n11. If approved, you may receive a refund of approximately $275, based on the provided context.",
         [
          "https://www.phila.gov/media/20230206102047/Non-residents-income-based-Wage-Tax-refund-form-2022.pdf",
          "https://www.phila.gov/media/20230207141123/2021-Wage-Tax-refund-salaried-employees-form-instructions.pdf",
          "https://www.phila.gov/media/20220216111153/Wage-Tax-refund-Covid-EZ-form-2021-instructions.pdf",
          "https://www.phila.gov/media/20211109085717/Income-based-Wage-Tax-Flyer-November-2021.pdf"
         ]
        ],
        [
         "What is the due date for the wage tax period beginning on 10/15/23 and ending on 10/21/23?",
         " Based on the provided context, there is no wage tax due date chart for the year 2023. The most recent chart provided is for the year 2022. Therefore, I cannot provide the wage tax due date for the period beginning on 10/15/23 and ending on 10/21/23.",
         [
          "https://www.phila.gov/media/20201021083908/2021-Wage-semi-monthly-tax-due-dates.pdf",
          "https://www.phila.gov/media/20201021084110/2021-Wage-Monthly-and-Quarterly-Tax-Due-dates.pdf",
          "https://www.phila.gov/media/20230427104025/Earnings-Tax-2023-due-dates.pdf",
          "https://www.phila.gov/media/20201021083906/Wage-Tax-due-dates-2021-schedule-v1.pdf"
         ]
        ],
        [
         "What is the due date for the wage tax of March 2023 in Philadelphia?",
         " Based on the provided context, the wage tax for the period ending March 31, 2023 in Philadelphia is due on March 31, 2023 for both monthly and weekly payment frequencies.",
         [
          "https://www.phila.gov/media/20221230115025/Wage-Tax-2023-monthly-due-dates.pdf",
          "https://www.phila.gov/media/20230118130334/2023-Wage-Tax-weekly-Q1-andQ2-due-dates.pdf",
          "https://www.phila.gov/media/20230118130428/2023-Wage-Tax-weekly-Q3-and-Q4-due-dates.pdf",
          "https://www.phila.gov/media/20211008114619/2022-Wage-Tax-quarterly-due-dates.pdf"
         ]
        ],
        [
         "When's the payment deadline for the 02/01/22-02/15/22 semi-monthly wage tax period in Philly?",
         "02/18/22",
         [
          "https://www.phila.gov/media/20211008113935/2022-Wage-semi-monthly-tax-due-dates.pdf",
          "https://www.phila.gov/media/20211008114427/2022-Wage-Tax-monthly-due-dates.pdf",
          "https://www.phila.gov/media/20221230115025/Wage-Tax-2023-monthly-due-dates.pdf",
          "https://www.phila.gov/media/20211008112848/Wage-Tax-due-dates-2022-1st-and-2nd-quarters-WEB.pdf"
         ]
        ],
        [
         "Where do I find the tax return design specifications?",
         "\nI'm sorry for any confusion, but the context provided doesn't include information about tax return design specifications. Tax return design specifications are typically provided by the tax authority or software provider and may include details about the format, layout, and content required for a complete and accurate tax return. I would recommend checking the official Pennsylvania Department of Revenue website or contacting your tax software provider for the specifications you need.",
         [
          "https://www.phila.gov/media/20191218101013/Wage-Tax-refund-petition-commission-employees-2019.pdf",
          "https://www.phila.gov/media/20210204170256/2020-Wage-Tax-refund-petition-commission.pdf",
          "https://www.phila.gov/media/20211008122016/Earnings-Tax-due-dates-2022-schedule.pdf",
          "https://www.phila.gov/media/20221026144622/2021-Non-residents-income-based-Wage-Tax-refund-form.pdf"
         ]
        ],
        [
         "What is the payment due date for the 02/22/24 check date?",
         "03/05/24\n\nExplanation:\n\nBased on the provided document titled \"City of Philadelphia Department of Revenue, 2024 WAGE SCHEDULE, Payment Frequency: Weekly, July 1st to September 30th\", I can provide the answer.\n\nTo find the payment due date for the 02/22/24 check date, we need to first identify the corresponding period begin and period end dates. Since the check date is 02/22/24, which falls within the month of February, we can look for the row in the table that includes a period end date of 02/28/24 or 02/29/24 (considering a leap year).\n\nHowever, in this table, there is no row with a period end date of 02/28/24 or 02/29/24. Instead, there are two rows with period begin dates of 02/01/24 and 02/16/24. Since 02/22/24 falls between these two dates, we need to interpolate to estimate the due date.\n\nTo do this, let's first identify the due dates for the two closest period end dates:\n- For the period ending on 02/15/24, the due date is 02/20/24.\n- For the period ending on 02/28/24 (or 02/29/24 in a leap year), the due date is 03/05/24.\n\nNow, we can estimate the due date for the 02/22/24 check date by calculating the percentage of the way between the two closest period end dates and applying that percentage to the difference between the two due dates.\n\nFirst, let's calculate the percentage:\n(02/22/24 - 02/15/24) / (02/28/24 - 02/15/24) = 7/13 ≈ 0.5385\n\nNext, let's calculate the estimated due date:\n02/",
         [
          "https://www.phila.gov/media/20211008112848/Wage-Tax-due-dates-2022-1st-and-2nd-quarters-WEB.pdf",
          "https://www.phila.gov/media/20211008113517/Wage-Tax-due-dates-2022-3rd-and-4th-quarters-for-WEB.pdf",
          "https://www.phila.gov/media/20211008113935/2022-Wage-semi-monthly-tax-due-dates.pdf",
          "https://www.phila.gov/media/20231211095959/2024-Wage-Tax-weekly-Q3-and-Q4-due-dates.pdf"
         ]
        ],
        [
         "What's the tax rate for a 2022 H2 bonus for a Philly resident?",
         "3.7900% (.037900) for the period of January 1, 2023 to June 30, 2023\n3.7500% (.037500) for the period of July 1, 2023 to December 31, 2023\n\nThe tax rate for a 2022 H2 bonus for a Philly resident is based on the Wage Tax Resident Rates for 2023, as the employee must be employed on March 31, 2023, the date the bonuses are paid. The first period is from January 1, 2023 to June 30, 2023 with a tax rate of 3.7900% and the second period is from July 1, 2023 to December 31, 2023 with a tax rate of 3.7500%.",
         [
          "https://www.phila.gov/media/20240131144329/2023-Wage-Tax-refund-salaried-employees-form-and-instructions.pdf",
          "https://www.phila.gov/media/20230206102047/Non-residents-income-based-Wage-Tax-refund-form-2022.pdf",
          "https://www.phila.gov/media/20221230115025/Wage-Tax-2023-monthly-due-dates.pdf",
          "https://www.phila.gov/media/20230118130428/2023-Wage-Tax-weekly-Q3-and-Q4-due-dates.pdf"
         ]
        ],
        [
         "When are details of hours worked required in the 2022 Non-resident Wage Tax petition form?",
         "\n\nDetails of hours worked are required in the 2022 Non-resident Wage Tax petition form when claiming non-work days, such as weekends, vacation, holidays, sick or any type of leave time. Additionally, for terminal or severance pay, the percentage of time worked in the City needs to be provided.",
         [
          "https://www.phila.gov/media/20230206102047/Non-residents-income-based-Wage-Tax-refund-form-2022.pdf",
          "https://www.phila.gov/media/20220216111153/Wage-Tax-refund-Covid-EZ-form-2021-instructions.pdf",
          "https://www.phila.gov/media/20191218101514/Wage-Tax-refund-petition-salaried-employees-2019.pdf",
          "https://www.phila.gov/media/20240212102406/2023-non-residents-income-based-Wage-Tax-refund-form.pdf"
         ]
        ],
        [
         "Who can receive a wage tax refund?",
         "1. Non-residents of the City of Philadelphia who have had City Wage Tax withheld by their employer in 2022.\n2. Have a valid Social Security Number.\n3. Meet the income thresholds outlined in the table provided, which varies based on the filing status and number of dependents.\n4. Have reviewed all the information on the refund petition form and certified that it is true and correct to the best of their knowledge, information and belief.\n5. If the non-resident is married and filing separately, they may also be entitled to receive a refund of City Wage Tax withheld by their employer.\n\nPlease note that the wage tax refund is based on the Income-based Wage Tax Refund Petition Tax Year 2022 and the rules and regulations may change in the future.",
         [
          "https://www.phila.gov/media/20240212102406/2023-non-residents-income-based-Wage-Tax-refund-form.pdf",
          "https://www.phila.gov/media/20190219090241/Wage-Tax-refund-petition-commissioned-employees-2018.pdf",
          "https://www.phila.gov/media/20230206102047/Non-residents-income-based-Wage-Tax-refund-form-2022.pdf",
          "https://www.phila.gov/media/20221026144622/2021-Non-residents-income-based-Wage-Tax-refund-form.pdf"
         ]
        ],
        [
         "What is the waiting period between creating a username and filing a return for the first time on the Philadelphia Tax Center's website?",
         " Based on the provided context, there is no specific waiting period mentioned between creating a username and filing a return for the first time on the Philadelphia Tax Center's website. The instructions encourage users to file through the Tax Center to avoid delays, but they do not mention any waiting period. However, it is always recommended to check the most recent and specific instructions on the official website or contact the Philadelphia Department of Revenue directly for the most accurate information.",
         [
          "https://www.phila.gov/media/20230303142337/Refund-dates-and-locations-2022-template.pdf",
          "https://www.phila.gov/media/20230206101743/Residents-income-based-Wage-Tax-refund-2022.pdf",
          "https://www.phila.gov/media/20240212102153/2023-residents-income-based-Wage-Tax-refund.pdf",
          "https://www.phila.gov/media/20220216113256/Wage-Tax-refund-commissioned-employees-form-2021-instructions.pdf"
         ]
        ],
        [
         "When's the payment deadline for the 07/10/22-07/16/22 wage tax period in Philly?",
         "07/20/22 is the payment deadline for the 07/10/22-07/16/22 wage tax period in Philadelphia, based on the provided 2022 weekly wage due dates document.",
         [
          "https://www.phila.gov/media/20231211100247/Wage-Tax-2024-monthly-due-dates.pdf",
          "https://www.phila.gov/media/20211008112848/Wage-Tax-due-dates-2022-1st-and-2nd-quarters-WEB.pdf",
          "https://www.phila.gov/media/20221230115025/Wage-Tax-2023-monthly-due-dates.pdf",
          "https://www.phila.gov/media/20211008113517/Wage-Tax-due-dates-2022-3rd-and-4th-quarters-for-WEB.pdf"
         ]
        ],
        [
         "What is the due date for the wage tax period beginning on 10/13/24 and ending on 10/19/24?",
         "10/24/24 is not a valid date in any of the provided wage tax due date charts. The dates provided in the charts range from January 2018 to March 2022, and October 2024 is not included. Therefore, I cannot provide the due date for the wage tax period beginning on 10/13/24 and ending on 10/19/24.",
         [
          "https://www.phila.gov/media/20201021083908/2021-Wage-semi-monthly-tax-due-dates.pdf",
          "https://www.phila.gov/media/20171208092359/2018-Wage-Tax-due-dates1.pdf",
          "https://www.phila.gov/media/20211008113935/2022-Wage-semi-monthly-tax-due-dates.pdf",
          "https://www.phila.gov/media/20190515090033/Wage-Tax-due-dates-2019-schedule.pdf"
         ]
        ],
        [
         "What's the 2020 deadline for annual reconciliation of Phila. employee earnings tax for both resident and non-resident?",
         " Based on the document title you provided, the due date for the City of Philadelphia Annual Reconciliation of 2020 Employee Earnings Tax is April 15, 2021. This deadline applies to both resident and non-resident employees.",
         [
          "https://www.phila.gov/media/20201015094507/Earnings-Tax-return-2020.pdf",
          "https://www.phila.gov/media/20240131144329/2023-Wage-Tax-refund-salaried-employees-form-and-instructions.pdf",
          "https://www.phila.gov/media/20230206102047/Non-residents-income-based-Wage-Tax-refund-form-2022.pdf",
          "https://www.phila.gov/media/20210204172023/Non-residents-2020-income-based-Wage-Tax-refund-form.pdf"
         ]
        ],
        [
         "How do I calculate the resident wage tax?",
         "1. Determine the gross compensation earned while working in Philadelphia.\n2. Calculate the adjusted gross compensation by subtracting any non-taxable compensation from the gross compensation.\n3. If you are a non-resident, calculate the percentage of time worked in Philadelphia.\n4. If you are a non-resident, calculate the non-taxable gross compensation earned in Philadelphia by multiplying the adjusted gross compensation by the percentage of time worked in Philadelphia.\n5. Deduct any non-taxable income and/or deductible employee business expenses from the non-taxable gross compensation earned in Philadelphia.\n6. The resulting amount is subject to the resident wage tax rate.\n\nThe resident wage tax rates for 2023 are as follows:\n\n* January 1, 2023 to June 30, 2023: 3.7900% (.037900)\n* July 1, 2023 to December 31, 2023: 3.7500% (.037500)\n\nPlease note that the taxability of bonuses, awards, and other similar payments may have different rules.",
         [
          "https://www.phila.gov/media/20240131144329/2023-Wage-Tax-refund-salaried-employees-form-and-instructions.pdf",
          "https://www.phila.gov/media/20240212102406/2023-non-residents-income-based-Wage-Tax-refund-form.pdf",
          "https://www.phila.gov/media/20201202111441/Earnings-Tax-return-instructions-general-information-2020.pdf",
          "https://www.phila.gov/media/20201015094507/Earnings-Tax-return-2020.pdf"
         ]
        ],
        [
         "What is the Philadelphia Tax Center?",
         "🎉 Hello! I'm here to help with your wage and tax questions, specifically related to the state of Pennsylvania. Based on the provided context, the Philadelphia Tax Center is an online platform introduced by the City of Philadelphia's Department of Revenue. It allows taxpayers to file various tax petitions, including the Income-based Wage Tax Refund petition for residents, and even commissioned employees' Wage Tax petitions. By using the Tax Center, filers can avoid delays and have access to electronic filing. It's important to note that no username or password is required; just select the appropriate option from the front page.\n\nIf you have any more questions or need clarification on other wage and tax topics in Pennsylvania, feel free to ask! I'm here to help. 😊",
         [
          "https://www.phila.gov/media/20230206101743/Residents-income-based-Wage-Tax-refund-2022.pdf",
          "https://www.phila.gov/media/20240212102153/2023-residents-income-based-Wage-Tax-refund.pdf",
          "https://www.phila.gov/media/20210204170256/2020-Wage-Tax-refund-petition-commission.pdf",
          "https://www.phila.gov/media/20220216113256/Wage-Tax-refund-commissioned-employees-form-2021-instructions.pdf"
         ]
        ],
        [
         "What is the average refund amount for a Philadelphia Wage Tax Refund?",
         "Based on the information provided, the average refund amount for a Pennsylvania Income-based Wage Tax Refund for the tax year 2021 is approximately $275. However, I don't have enough data to determine the average refund amount for other tax years or for the Philadelphia Wage Tax Refund in general.",
         [
          "https://www.phila.gov/media/20211109085717/Income-based-Wage-Tax-Flyer-November-2021.pdf",
          "https://www.phila.gov/media/20230206102047/Non-residents-income-based-Wage-Tax-refund-form-2022.pdf",
          "https://www.phila.gov/media/20230206101743/Residents-income-based-Wage-Tax-refund-2022.pdf",
          "https://www.phila.gov/media/20240212102153/2023-residents-income-based-Wage-Tax-refund.pdf"
         ]
        ],
        [
         "How do I register for a Philadelphia wage tax account?",
         "1. Go to the Philadelphia Tax Center website at tax-service.phila.gov.\n2. Select \"Register\" from the top menu.\n3. Choose the type of account you want to register for: individual or business.\n4. Fill out the required information, including your name, address, and Social Security number or Employer Identification Number.\n5. Follow the prompts to complete the registration process.\n\nNote: You do not need to register for a wage tax account to request a wage tax refund. You can file a petition for a refund directly on the Philadelphia Tax Center website without registering for an account.\n\nAlso, the context provided does not contain information about registering for a Philadelphia wage tax account specifically, the instructions provided are general steps to register for an account on the Philadelphia Tax Center website.",
         [
          "https://www.phila.gov/media/20230206101743/Residents-income-based-Wage-Tax-refund-2022.pdf",
          "https://www.phila.gov/media/20240212102153/2023-residents-income-based-Wage-Tax-refund.pdf",
          "https://www.phila.gov/media/20230203152621/2022-Wage-Tax-refund-Covid-EZ-form-instructions.pdf",
          "https://www.phila.gov/media/20220216113256/Wage-Tax-refund-commissioned-employees-form-2021-instructions.pdf"
         ]
        ],
        [
         "How do I amend the wage tax return?",
         "1. Obtain a Wage Tax Change Form from the City of Philadelphia's website or by contacting the Department of Revenue.\n2. Fill out the form with the correct information, including any necessary adjustments to the original return.\n3. Attach any required documentation, such as corrected W-2s or proof of deductible expenses.\n4. Mail the completed form and documentation to the address provided on the form.\n5. Keep a copy of the amended return and any supporting documents for your records.\n\nIt is important to note that amended returns must be filed by April 15 of the year following the tax year in question. Also, if you are expecting a refund as a result of the amended return, you may also need to file a petition for refund.\n\nPlease be aware that the above information is based on the provided context and it is always best to consult the official City of Philadelphia's website or contact the Department of Revenue for the most up-to-date and accurate information.",
         [
          "https://www.phila.gov/media/20201015094507/Earnings-Tax-return-2020.pdf",
          "https://www.phila.gov/media/20221026144622/2021-Non-residents-income-based-Wage-Tax-refund-form.pdf",
          "https://www.phila.gov/media/20170214095339/2015WageDueDates11.13.pdf",
          "https://www.phila.gov/media/20161121153402/2012-Wage-Tax-Due-Dates.pdf"
         ]
        ],
        [
         "How do I amend the quarterly wage tax return?",
         "1. Obtain the necessary amendment forms for the quarter you need to correct. You can download these forms from the City of Philadelphia's website.\n2. Fill out the amendment form with the correct information for the quarter you are amending. Be sure to use black ink and print clearly.\n3. Include a brief explanation of the changes being made and the reason for the amendment.\n4. Attach any required supporting documentation, such as corrected W-2s or 1099s.\n5. Mail the completed amendment form and supporting documents to the following address:\n\nPhiladelphia Department of Revenue\nP.O. Box 5289\nPhiladelphia, PA 19118-5289\n\nPlease note that there may be applicable penalties and interest charges for amending a quarterly wage tax return. It is recommended that you consult with a tax professional for specific guidance.",
         [
          "https://www.phila.gov/media/20201015094507/Earnings-Tax-return-2020.pdf",
          "https://www.phila.gov/media/20161121153402/2012-Wage-Tax-Due-Dates.pdf",
          "https://www.phila.gov/media/20201021084110/2021-Wage-Monthly-and-Quarterly-Tax-Due-dates.pdf",
          "https://www.phila.gov/media/20170214095339/2015WageDueDates11.13.pdf"
         ]
        ],
        [
         "Are there any reporting requirements for Tipped employees?",
         "2022 is specified in the first context, while the other contexts do not include a specific year. Therefore, I will base my answer on the year 2022 and Pennsylvania wage and tax regulations.\n\nYes, there are reporting requirements for Tipped Employees in Pennsylvania. Employers are required to keep records of tips reported by employees for each payroll period. Employers must also report the tips to the Pennsylvania Department of Revenue on a quarterly basis using Form REV-1667, \"Quarterly Employer's Report of Tips.\" Additionally, tipped employees must report their tips to their employer monthly if the tips are more than $20. Employers are responsible for withholding and paying wage taxes on reported tips. Employers must also ensure that tipped employees receive at least the minimum wage when tips are included.",
         [
          "https://www.phila.gov/media/20230814080302/2022-Wage-Tax-refund-salaried-employees-form-and-instructions-front-page-v2.pdf",
          "https://www.phila.gov/media/20190219090241/Wage-Tax-refund-petition-commissioned-employees-2018.pdf",
          "https://www.phila.gov/media/20191218101013/Wage-Tax-refund-petition-commission-employees-2019.pdf",
          "https://www.phila.gov/media/20210503155239/Wage-Tax-Frequently-Asked-Questions-May-2021.pdf"
         ]
        ],
        [
         "What is the formula to calculate the net taxable compensation for commissioned employees in 2022?",
         "\nTo calculate the net taxable compensation for commissioned employees in 2022, you would need to follow these steps based on the provided context and instructions:\n\n1. Start with the gross compensation for employees paid on a commission basis, which is generally the highest compensation figure on Form W-2 (Line 3 on the form).\n2. Deduct any non-taxable compensation, such as stock options, that is included in the gross compensation and must be reflected on Form W-2 (Line 3A).\n3. The result is the adjusted gross compensation (Line 3B).\n4. Calculate the total sales (Line 4A).\n5. Determine the sales earned outside of Philadelphia (Line 4B) and the percentage of sales earned outside of Philadelphia (Line 4C).\n6. Calculate the commissions earned outside of Philadelphia by multiplying the adjusted gross compensation (Line 3B) by the percentage of sales earned outside of Philadelphia (Line 4C).\n7. Calculate the non-reimbursed business expenses pursuant to Income Tax Regulations Section 204 (Line 4E(i)).\n8. Multiply the non-reimbursed business expenses (Line 4E(i)) by the percentage of sales earned outside of Philadelphia (Line 4C) to determine the deductible non-reimbursed employee business expenses (Line 4E(ii)).\n9. Subtract the deductible non-reimbursed employee business expenses (Line 4E(ii)) from the non-reimbursed business expenses (Line 4E(i)) to determine the total deductible non-reimbursed employee business expenses (Line 4E(iii)).\n10. Add the non-taxable gross compensation earned outside of Philadelphia (Line 2F) and the total deductible non-reimbursed employee business expenses (Line 4E(iii)) to determine the net taxable compensation for commissioned employees in 2022.\n\nIt's important to note that the above formula is based on the provided context and instructions, and it's always best to consult with a tax professional or refer to the official instructions for any specific tax year to ensure accuracy.",
         [
          "https://www.phila.gov/media/20201015094507/Earnings-Tax-return-2020.pdf",
          "https://www.phila.gov/media/20240131145157/2023-Wage-Tax-refund-commissioned-employees-form-instructions.pdf",
          "https://www.phila.gov/media/20230206102820/2022-Wage-Tax-refund-commissioned-employees-form-instructions.pdf",
          "https://www.phila.gov/media/20240131144329/2023-Wage-Tax-refund-salaried-employees-form-and-instructions.pdf"
         ]
        ],
        [
         "How would 2021 Philly resident tax rates apply to income earned partly outside the city?",
         "2021 Philly resident tax rates would apply to all income earned, regardless of where it was earned. However, if a Philly resident worked partly outside the city, they may be eligible for a refund or credit for the tax paid to other municipalities for the same income. The percentage of the refund or credit would be based on the percentage of time worked outside the city.",
         [
          "https://www.phila.gov/media/20240131144329/2023-Wage-Tax-refund-salaried-employees-form-and-instructions.pdf",
          "https://www.phila.gov/media/20201105092132/Wage-Tax-non-resident-COVID-19-guidance-110520.pdf",
          "https://www.phila.gov/media/20230206102047/Non-residents-income-based-Wage-Tax-refund-form-2022.pdf",
          "https://www.phila.gov/media/20201015094507/Earnings-Tax-return-2020.pdf"
         ]
        ],
        [
         "What was the due date for the semi-monthly wage tax period from 12/01/13 to 12/15/13 in the year 2013?",
         "12/18/13 (based on the Semi-Monthly Wage Tax Due Date Chart for 2013 provided)",
         [
          "https://www.phila.gov/media/20170214095342/2013wageduedates.pdf",
          "https://www.phila.gov/media/20201021083908/2021-Wage-semi-monthly-tax-due-dates.pdf",
          "https://www.phila.gov/media/20171208092359/2018-Wage-Tax-due-dates1.pdf",
          "https://www.phila.gov/media/20170214095339/2015WageDueDates11.13.pdf"
         ]
        ],
        [
         "What can be done on the Philadelphia tax center?",
         "1. File an Income-based Wage Tax Refund petition for residents (for the years 2022 and 2023)\n2. File a Wage Tax petition for Commissioned Employees (for the year 2021)\n3. File a Salary Wage EZ Petition (for the year 2022)\n\nThese filings can be done electronically through the Philadelphia Tax Center, which is encouraged to avoid delays. It's important to note that paper forms are also available if needed.",
         [
          "https://www.phila.gov/media/20230206101743/Residents-income-based-Wage-Tax-refund-2022.pdf",
          "https://www.phila.gov/media/20240212102153/2023-residents-income-based-Wage-Tax-refund.pdf",
          "https://www.phila.gov/media/20220216113256/Wage-Tax-refund-commissioned-employees-form-2021-instructions.pdf",
          "https://www.phila.gov/media/20230203152621/2022-Wage-Tax-refund-Covid-EZ-form-instructions.pdf"
         ]
        ],
        [
         "What are the resident and non-resident tax rates for the year 2022 in Philadelphia?",
         "2022 Resident Rates:\nJanuary 1, 2022 to June 30, 2022 = 3.8700% (.038700)\nJuly 1, 2022 to December 31, 2022 = 3.8400% (.038400)\n\n2022 Non-Resident Rates:\nJanuary 1, 2022 to December 31, 2022 = 3.4600% (.034600)\n\nSource: 2023 Wage-Tax-refund-salaried-employees-form-and-instructions.pdf, year=[2023]\n\nPlease note that the source is from 2023 but it provides the tax rates for the previous year 2022.",
         [
          "https://www.phila.gov/media/20240131144329/2023-Wage-Tax-refund-salaried-employees-form-and-instructions.pdf",
          "https://www.phila.gov/media/20230206102047/Non-residents-income-based-Wage-Tax-refund-form-2022.pdf",
          "https://www.phila.gov/media/20201105092132/Wage-Tax-non-resident-COVID-19-guidance-110520.pdf",
          "https://www.phila.gov/media/20221230115025/Wage-Tax-2023-monthly-due-dates.pdf"
         ]
        ],
        [
         "When's the due date for the semi-monthly wage tax payment for 05/01/23-05/15/23 in Philly's 2023 Revenue Dept. schedule?",
         "05/19/23\n\nExplanation:\nThe semi-monthly wage tax payment due dates for the City of Philadelphia Department of Revenue in 2023 can be found in the provided document. According to the table, the period beginning on 05/01/23 and ending on 05/15/23 has a due date of 05/19/23.",
         [
          "https://www.phila.gov/media/20221230115025/Wage-Tax-2023-monthly-due-dates.pdf",
          "https://www.phila.gov/media/20221230114703/Wage-2023-semi-monthly-tax-due-dates.pdf",
          "https://www.phila.gov/media/20230118130428/2023-Wage-Tax-weekly-Q3-and-Q4-due-dates.pdf",
          "https://www.phila.gov/media/20211008113935/2022-Wage-semi-monthly-tax-due-dates.pdf"
         ]
        ],
        [
         "How do I close my wage tax account?",
         "Based on the provided context, there is no information on how to close a wage tax account in the City of Philadelphia. I would recommend visiting the City of Philadelphia's Department of Revenue website at <https://www.phila.gov/revenue/> or contacting them directly at (215) 686-6574 or [refund.unit@phila.gov](mailto:refund.unit@phila.gov) to obtain the necessary information. It's important to provide them with your specific situation and account details to ensure accurate and helpful guidance.",
         [
          "https://www.phila.gov/media/20230206101743/Residents-income-based-Wage-Tax-refund-2022.pdf",
          "https://www.phila.gov/media/20201202111441/Earnings-Tax-return-instructions-general-information-2020.pdf",
          "https://www.phila.gov/media/20230814080302/2022-Wage-Tax-refund-salaried-employees-form-and-instructions-front-page-v2.pdf",
          "https://www.phila.gov/media/20240212102153/2023-residents-income-based-Wage-Tax-refund.pdf"
         ]
        ],
        [
         "How do I calculate a non-resident tax for wage tax?",
         "1. Determine the gross compensation earned while working in Philadelphia by multiplying the percentage of time worked in Philadelphia by the total gross compensation.\n2. Calculate the taxable compensation by subtracting any non-taxable compensation and non-reimbursed business expenses earned outside of Philadelphia from the gross compensation earned in Philadelphia.\n3. Apply the appropriate non-resident wage tax rate to the taxable compensation. The tax rates vary depending on the time period. From January 1, 2023 to June 30, 2023, the rate is 3.4400% (.034400), and from July 1, 2023 to December 31, 2023, the rate remains the same at 3.4400% (.034400).\n\nPlease note that the tax rates provided are for the year 2023, as mentioned in the context. If the question pertains to a different year, the tax rates would need to be adjusted accordingly.",
         [
          "https://www.phila.gov/media/20240131144329/2023-Wage-Tax-refund-salaried-employees-form-and-instructions.pdf",
          "https://www.phila.gov/media/20240212102406/2023-non-residents-income-based-Wage-Tax-refund-form.pdf",
          "https://www.phila.gov/media/20201015094507/Earnings-Tax-return-2020.pdf",
          "https://www.phila.gov/media/20201202111441/Earnings-Tax-return-instructions-general-information-2020.pdf"
         ]
        ],
        [
         "What were the non-resident tax rates in Philadelphia for the year 2021?",
         "2021 non-resident tax rates in Philadelphia were:\n\nJanuary 1, 2021 to June 30, 2021 = 3.4480% (.034480)\nJuly 1, 2021 to December 31, 2021 = 3.4400% (.034400)\n\nHowever, you asked about the year 2021, but the context provided refers to the years 2022 and 2023. I provided the 2021 non-resident tax rates as a reference, as it is the closest year available in the provided context.",
         [
          "https://www.phila.gov/media/20240131144329/2023-Wage-Tax-refund-salaried-employees-form-and-instructions.pdf",
          "https://www.phila.gov/media/20230206102047/Non-residents-income-based-Wage-Tax-refund-form-2022.pdf",
          "https://www.phila.gov/media/20201105092132/Wage-Tax-non-resident-COVID-19-guidance-110520.pdf",
          "https://www.phila.gov/media/20231024112123/UPDATED-Wage-Tax-policy-guidance-for-non-resident-employees.pdf"
         ]
        ],
        [
         "When's the due date for the 10/13/24-10/19/24 weekly wage tax as per Philly's 2024 revenue schedule?",
         "10/24/24\n\nExplanation:\nThe table provided in the context shows the wage tax due dates for the period beginning on July 1st and ending on September 30th, 2024. The period end date for the given payroll period (10/13/24-10/19/24) falls in the 10th row of the table. The due date for this period is 4 days after the period end, which is 10/24/24.",
         [
          "https://www.phila.gov/media/20231211095744/2024-Wage-Tax-weekly-Q1-and-Q2-due-dates.pdf",
          "https://www.phila.gov/media/20231211095959/2024-Wage-Tax-weekly-Q3-and-Q4-due-dates.pdf",
          "https://www.phila.gov/media/20230118130428/2023-Wage-Tax-weekly-Q3-and-Q4-due-dates.pdf",
          "https://www.phila.gov/media/20230118130334/2023-Wage-Tax-weekly-Q1-andQ2-due-dates.pdf"
         ]
        ],
        [
         "How do Philly's 2021 WFH COVID-19 rules affect tax liabilities for non-resident employees receiving RSUs vs. cash bonuses, considering days worked in-city and office work policy?",
         "2021 WFH COVID-19 rules for Philadelphia state that non-resident employees working partly outside the city can exclude the percentage of time worked outside Philadelphia when the compensation is historically earned. This applies to both RSUs (Restricted Stock Units) and cash bonuses.\n\nFor RSUs, the taxability is based on the vesting date, not the grant date. If a non-resident employee vested RSUs while working remotely outside Philadelphia but historically worked in the city for a portion of the year, the taxable percentage would be based on the number of days worked in the city during the period when the RSUs vested.\n\nFor cash bonuses, the same rule applies. The taxable percentage of the bonus is based on the number of days worked in the city during the year, divided by the total number of workdays in the year. For example, if a non-resident employee worked in the Philadelphia office for 10% of their 2021 workdays, 10% of their bonus is subject to the Wage Tax.\n\nIt's important to note that the 2023 tax rates apply to the tax liability for the 2023 tax year, not the 2021 tax year. The tax rates for the 2021 tax year are not provided in the context.\n\nIn summary, the 2021 WFH COVID-19 rules for Philadelphia affect tax liabilities for non-resident employees receiving RSUs and cash bonuses by allowing them to exclude the percentage of time worked outside the city when the compensation is historically earned. The taxable percentage is based on the number of days worked in the city during the period when the RSUs vested or the cash bonuses were earned.",
         [
          "https://www.phila.gov/media/20201105092132/Wage-Tax-non-resident-COVID-19-guidance-110520.pdf",
          "https://www.phila.gov/media/20240131144329/2023-Wage-Tax-refund-salaried-employees-form-and-instructions.pdf",
          "https://www.phila.gov/media/20201015094507/Earnings-Tax-return-2020.pdf",
          "https://www.phila.gov/media/20230206102047/Non-residents-income-based-Wage-Tax-refund-form-2022.pdf"
         ]
        ],
        [
         "When's the due date for the 01/14-01/20/24 wage tax in the 2024 Philly Revenue Dept. schedule?",
         "01/30/24\n\nExplanation:\nBased on the context provided, the table for the \"City of Philadelphia Department of Revenue, 2024 WAGE SCHEDULE, Payment Frequency: Monthly, October 1st to December 31st\" is relevant. However, the table provided does not include the specific period of 01/14-01/20/24.\n\nInstead, I found the corresponding wage tax schedule for 2023 with the same payment frequency and wage schedule format. In the 2023 wage schedule for the period of October 1st to December 31st, the wage tax due date for the period ending on 01/21/23 is 01/30/23.\n\nAssuming the format and due dates remain consistent between 2023 and 2024, the due date for the 01/14-01/20/24 wage tax in the 2024 Philly Revenue Dept. schedule would be 01/30/24.",
         [
          "https://www.phila.gov/media/20231211100247/Wage-Tax-2024-monthly-due-dates.pdf",
          "https://www.phila.gov/media/20231211095744/2024-Wage-Tax-weekly-Q1-and-Q2-due-dates.pdf",
          "https://www.phila.gov/media/20221230115025/Wage-Tax-2023-monthly-due-dates.pdf",
          "https://www.phila.gov/media/20230118130428/2023-Wage-Tax-weekly-Q3-and-Q4-due-dates.pdf"
         ]
        ],
        [
         "How do I know what wage tax payment frequency should be used?",
         "\nThe wage tax payment frequency to be used can depend on various factors, including the employer's preference, the number of employees, and the City of Philadelphia's requirements. The City of Philadelphia Department of Revenue provides wage schedules for different payment frequencies (semi-monthly, weekly, and monthly) and different time periods.\n\nFor instance, if you are looking for the wage schedule for the year 2023 and the payment frequency is semi-monthly, you can refer to the document titled \"City of Philadelphia Department of Revenue 2023 WAGE SCHEDULE, Payment Frequency: Semi Monthly\". The document provides a table with the period begin date, period end date, and due date for each semi-monthly payroll period in 2023.\n\nSimilarly, if you are looking for the wage schedule for the period July 1st to September 30th in the year 2024 and the payment frequency is weekly, you can refer to the document titled \"City of Philadelphia Department of Revenue, 2024 WAGE SCHEDULE, Payment Frequency: Weekly, July 1st to September 30th\". The document provides a table with the period begin date, period end date, and due date for each weekly payroll period during the specified time frame in 2024.\n\nIf the payment frequency is monthly, you can refer to the document titled \"City of Philadelphia Department of Revenue, 2024 WAGE SCHEDULE, Payment Frequency: Monthly, July 1st to September 30th, October 1st to December 31st\". The document provides a table with the period begin date, period end date, and due date for each monthly payroll period during the specified time frames in 2024.\n\nIt is important to note that the wage schedules may vary from year to year and payment frequency to payment frequency. Therefore, it is recommended to refer to the most recent wage schedule provided by the City of Philadelphia Department of Revenue. If you are unsure about which wage schedule to use, you can contact the City of Philadelphia Department of Revenue for assistance.",
         [
          "https://www.phila.gov/media/20221230114703/Wage-2023-semi-monthly-tax-due-dates.pdf",
          "https://www.phila.gov/media/20231211095959/2024-Wage-Tax-weekly-Q3-and-Q4-due-dates.pdf",
          "https://www.phila.gov/media/20231211100247/Wage-Tax-2024-monthly-due-dates.pdf",
          "https://www.phila.gov/media/20211008112848/Wage-Tax-due-dates-2022-1st-and-2nd-quarters-WEB.pdf"
         ]
        ],
        [
         "Which wages are exempt from wage tax withholding?",
         "1. Wages earned by non-residents of Philadelphia, outside of the city, are exempt from wage tax withholding.\n2. Graduate student stipends are exempt from wage tax withholding if the student does not render any services whatsoever to the university.\n3. Non-work days, such as weekends, vacation, holidays, sick or any type of leave time, are not subject to wage tax withholding.\n4. Terminal or severance pay is exempt from wage tax withholding if the employee has not historically worked in the City.\n\nPlease note that these exemptions are subject to specific conditions and the actual rules and regulations may have additional requirements. It is recommended to consult the City of Philadelphia Department of Revenue for the most accurate information.",
         [
          "https://www.phila.gov/media/20201105092132/Wage-Tax-non-resident-COVID-19-guidance-110520.pdf",
          "https://www.phila.gov/media/20191218101514/Wage-Tax-refund-petition-salaried-employees-2019.pdf",
          "https://www.phila.gov/media/20191016114251/University-stipends-Wage-Tax-memorandum-2019-August.pdf",
          "https://www.phila.gov/media/20230206102047/Non-residents-income-based-Wage-Tax-refund-form-2022.pdf"
         ]
        ],
        [
         "For PA's 2020 tax forgiveness program, what's the max eligibility income for a married person with 3 dependents seeking an income-based Wage Tax refund?",
         " Based on the provided context, the table titled \"Total eligibility income\" for the Income-based Wage Tax Refund Petition for the tax year 2023 shows the maximum eligibility income for a married person with 3 dependents is $43,750. However, the question asks about the tax forgiveness program for the tax year 2020, for which the context does not provide the required information. Therefore, I cannot provide an answer for the tax year 2020.",
         [
          "https://www.phila.gov/media/20230206102047/Non-residents-income-based-Wage-Tax-refund-form-2022.pdf",
          "https://www.phila.gov/media/20211109085717/Income-based-Wage-Tax-Flyer-November-2021.pdf",
          "https://www.phila.gov/media/20240212102406/2023-non-residents-income-based-Wage-Tax-refund-form.pdf",
          "https://www.phila.gov/media/20221026144622/2021-Non-residents-income-based-Wage-Tax-refund-form.pdf"
         ]
        ],
        [
         "What wage tax payment method options are available?",
         "1. Semi-Monthly Wage Tax Periods: Employers can choose to remit wage taxes on a semi-monthly basis, with due dates typically falling on the 15th and last day of each month. The specific dates for each period can be found in the provided tables for the years 2010, 2012, and 2013.\n\n2. Annual Reconciliation Period: Employers are required to file an annual reconciliation for the wage tax withheld for each employee for the calendar year. The due date for the annual reconciliation period is typically on February 28th or the next business day if it falls on a weekend.\n\nPlease note that the specific due dates may vary slightly from year to year, so it's essential to refer to the correct table for the relevant year. Also, the provided context does not mention any other wage tax payment methods. If there are any changes or updates to the wage tax payment methods, it's recommended to check the official Pennsylvania Department of Revenue website or consult with a tax professional.",
         [
          "https://www.phila.gov/media/20230814080302/2022-Wage-Tax-refund-salaried-employees-form-and-instructions-front-page-v2.pdf",
          "https://www.phila.gov/media/20161121153504/2010-Wage-Tax-Due-Dates.pdf",
          "https://www.phila.gov/media/20170214095342/2013wageduedates.pdf",
          "https://www.phila.gov/media/20161121153402/2012-Wage-Tax-Due-Dates.pdf"
         ]
        ],
        [
         "What is the non-resident tax rate for 2024?",
         "3.4400% (.034400)\n\nThe non-resident tax rate for 2024 is the same as the rate for the first half of 2023, which is 3.4400% (.034400). This information can be found in the provided context regarding the 2023 tax rates. The context does not provide information on any changes to the tax rates for 2024.",
         [
          "https://www.phila.gov/media/20240131144329/2023-Wage-Tax-refund-salaried-employees-form-and-instructions.pdf",
          "https://www.phila.gov/media/20230206102047/Non-residents-income-based-Wage-Tax-refund-form-2022.pdf",
          "https://www.phila.gov/media/20231211101658/Earnings-Tax-2024-due-dates.pdf",
          "https://www.phila.gov/media/20240212102406/2023-non-residents-income-based-Wage-Tax-refund-form.pdf"
         ]
        ],
        [
         "What are the steps to register a Disregarded Entity online on the Philadelphia Tax Center's website?",
         "I cannot answer questions that are not about Wages and taxes other than PA.",
         []
        ],
        [
         "What is the payment due date for the 02/22/24 check date for a quarterly depositor?",
         "05/02/24 is the due date for the 02/22/24 check date for a quarterly depositor, based on the provided document for the City of Philadelphia Department of Revenue, 2022 Wage Due Dates, Payment Frequency: Quarterly, January 1st to March 31st. However, please note that the year in the question is 2024, not 2022. Unfortunately, I don't have the wage due dates for 2024. I recommend checking the official City of Philadelphia Department of Revenue website or contacting them directly for accurate and up-to-date information.",
         [
          "https://www.phila.gov/media/20211008112848/Wage-Tax-due-dates-2022-1st-and-2nd-quarters-WEB.pdf",
          "https://www.phila.gov/media/20211008113517/Wage-Tax-due-dates-2022-3rd-and-4th-quarters-for-WEB.pdf",
          "https://www.phila.gov/media/20211008114619/2022-Wage-Tax-quarterly-due-dates.pdf",
          "https://www.phila.gov/media/20231211095959/2024-Wage-Tax-weekly-Q3-and-Q4-due-dates.pdf"
         ]
        ],
        [
         "Given the penalty rate alterations pre and post Jan 1, 2014, and the Tax Claim Principal Amount's accrual period, what's the annual interest rate?",
         "12% per year. The document does not provide separate annual interest rates for pre and post Jan 1, 2014. Therefore, I am assuming the annual interest rate to be the same, which is 12%.",
         [
          "https://www.phila.gov/media/20190808134623/Employee-Earnings-Tax-account-application-2019-August-update.pdf",
          "https://www.phila.gov/media/20201021085824/Earnings-Tax-due-dates-2021-schedule.pdf",
          "https://www.phila.gov/media/20201015094507/Earnings-Tax-return-2020.pdf",
          "https://www.phila.gov/media/20161121153402/2012-Wage-Tax-Due-Dates.pdf"
         ]
        ],
        [
         "What are the resident tax rates for the year 2019 according to the Wage Tax Refund Petition for Commission Employees?",
         "The context provided does not include the resident tax rates for the year 2019. It only includes the instructions and form for filing a Wage Tax Refund Petition for Commission Employees for various years, but it does not contain any information about the tax rates.",
         [
          "https://www.phila.gov/media/20230206101743/Residents-income-based-Wage-Tax-refund-2022.pdf",
          "https://www.phila.gov/media/20240212102153/2023-residents-income-based-Wage-Tax-refund.pdf",
          "https://www.phila.gov/media/20240131145157/2023-Wage-Tax-refund-commissioned-employees-form-instructions.pdf",
          "https://www.phila.gov/media/20220216113256/Wage-Tax-refund-commissioned-employees-form-2021-instructions.pdf"
         ]
        ],
        [
         "What tax returns must be filed for wage tax?",
         "Based on the provided context, it appears that if a salary or hourly employee believes their wage tax has been overwithheld in the state of Pennsylvania, they may need to file a Wage Tax Refund Petition. This petition requires the attachment of the applicable W-2 indicating Federal, Medicare, State and Local wages, and a separate petition must be filed for each W-2 issued by employers that may have overwithheld Wage Tax. If the overwithholding is a result of required remote work due to COVID-19, a letter from the employer on company letterhead with the dates or time period the employee was required to work remotely must also be attached.\n\nIt is important to note that the above information is based on the provided context and may not be applicable to all situations. It is always best to consult with a tax professional or the Pennsylvania Department of Revenue for specific guidance.\n\nRegarding the year, the provided context is for the tax year 2021 and 2023, so it is important to ensure that the correct year is being referenced in the question.\n\nIn summary, to file for a wage tax refund in Pennsylvania, a Wage Tax Refund Petition along with the applicable W-2 and other required documents must be filed. The specific requirements may vary depending on the situation and the tax year.",
         [
          "https://www.phila.gov/media/20220216111153/Wage-Tax-refund-Covid-EZ-form-2021-instructions.pdf",
          "https://www.phila.gov/media/20230814080302/2022-Wage-Tax-refund-salaried-employees-form-and-instructions-front-page-v2.pdf",
          "https://www.phila.gov/media/20240212102406/2023-non-residents-income-based-Wage-Tax-refund-form.pdf",
          "https://www.phila.gov/media/20221026144622/2021-Non-residents-income-based-Wage-Tax-refund-form.pdf"
         ]
        ],
        [
         "How do non-taxable stock options (Form W2 box 14 Code V) and gross compensation (Form W-2) factor into the adjusted gross compensation calculation for the '23 Wage Tax refund form?",
         "401k contributions and other pension plan contributions are subject to wage tax and are not deductible from gross compensation, as stated in the context. However, non-taxable stock options (Form W2 box 14 Code V) are not subject to wage tax and do not factor into the calculation of gross compensation. Therefore, when calculating adjusted gross compensation for the '23 Wage Tax refund form, non-taxable stock options should not be included in the gross compensation amount.",
         [
          "https://www.phila.gov/media/20230207141123/2021-Wage-Tax-refund-salaried-employees-form-instructions.pdf",
          "https://www.phila.gov/media/20190219090710/Wage-Tax-refund-petition-salaried-employees-2018.pdf",
          "https://www.phila.gov/media/20230206102820/2022-Wage-Tax-refund-commissioned-employees-form-instructions.pdf",
          "https://www.phila.gov/media/20191218101514/Wage-Tax-refund-petition-salaried-employees-2019.pdf"
         ]
        ],
        [
         "When's the wage tax due for Philly's weekly pay period of 01/09/22 - 01/15/22?",
         "01/20/22 is the due date for Philly's wage tax for the weekly pay period of 01/09/22 - 01/15/22.",
         [
          "https://www.phila.gov/media/20211008114619/2022-Wage-Tax-quarterly-due-dates.pdf",
          "https://www.phila.gov/media/20211008112848/Wage-Tax-due-dates-2022-1st-and-2nd-quarters-WEB.pdf",
          "https://www.phila.gov/media/20211008113935/2022-Wage-semi-monthly-tax-due-dates.pdf",
          "https://www.phila.gov/media/20221230115025/Wage-Tax-2023-monthly-due-dates.pdf"
         ]
        ]
       ],
       "datasetInfos": [],
       "dbfsResultPath": null,
       "isJsonSchema": true,
       "metadata": {},
       "overflow": false,
       "plotOptions": {
        "customPlotOptions": {},
        "displayType": "table",
        "pivotAggregation": null,
        "pivotColumns": null,
        "xColumns": null,
        "yColumns": null
       },
       "removedWidgets": [],
       "schema": [
        {
         "metadata": "{}",
         "name": "_1",
         "type": "\"string\""
        },
        {
         "metadata": "{}",
         "name": "_2",
         "type": "\"string\""
        },
        {
         "metadata": "{}",
         "name": "_3",
         "type": "{\"type\":\"array\",\"elementType\":\"string\",\"containsNull\":true}"
        }
       ],
       "type": "table"
      }
     },
     "output_type": "display_data"
    }
   ],
   "source": [
    "from time import sleep\n",
    "\n",
    "rows = df1.collect()\n",
    "eval = []\n",
    "for row in rows:\n",
    "  print(row['question'])\n",
    "  dialog = {\n",
    "    \"messages\": [\n",
    "        {\"role\": \"user\", \"content\": row['question']}\n",
    "    ]\n",
    "  }\n",
    "  response = full_chain.invoke(dialog)\n",
    "  print('Response -- ',response)\n",
    "  sleep(10)\n",
    "  eval.append((row['question'], response['result'], response['sources']))\n",
    "df2 = spark.createDataFrame(eval)\n",
    "display(df2)\n",
    "df2.write.mode(\"overwrite\").saveAsTable(\"prasanna.crawler_2.philly_docs_v1_eval_1\")\n"
   ]
  },
  {
   "cell_type": "code",
   "execution_count": 0,
   "metadata": {
    "application/vnd.databricks.v1+cell": {
     "cellMetadata": {},
     "inputWidgets": {},
     "nuid": "01157c86-1195-4596-a690-cd6be37bad85",
     "showTitle": false,
     "title": ""
    }
   },
   "outputs": [],
   "source": []
  }
 ],
 "metadata": {
  "application/vnd.databricks.v1+notebook": {
   "dashboards": [],
   "language": "python",
   "notebookMetadata": {
    "mostRecentlyExecutedCommandWithImplicitDF": {
     "commandId": 1313287315836290,
     "dataframes": [
      "_sqldf"
     ]
    },
    "pythonIndentUnit": 2
   },
   "notebookName": "PI-PoC-Chaining",
   "widgets": {}
  }
 },
 "nbformat": 4,
 "nbformat_minor": 0
}
